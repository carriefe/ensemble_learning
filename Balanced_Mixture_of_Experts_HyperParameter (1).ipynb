{
  "cells": [
    {
      "cell_type": "code",
      "execution_count": null,
      "metadata": {
        "id": "475e1682"
      },
      "outputs": [],
      "source": [
        "import torch\n",
        "from torch import nn, optim # Sets of preset layers and optimizers\n",
        "import torch.nn.functional as F # Sets of functions such as ReLU\n",
        "import torchvision as tv\n",
        "# Step 1: Let's import some libraries!\n",
        "import torch.nn as nn\n",
        "import torchvision\n",
        "import numpy as np\n",
        "import torch.nn.functional as F\n",
        "from torch.utils.data import Dataset, DataLoader, random_split, Subset\n",
        "from torchvision.datasets import ImageFolder\n",
        "import torchvision.transforms as tt\n",
        "from torchvision.utils import make_grid\n",
        "import matplotlib.pyplot as plt\n",
        "from matplotlib.image import imread\n",
        "import os\n",
        "import random\n",
        "from tqdm import tqdm\n",
        "from torchvision import datasets, transforms # Popular datasets, architectures and common image transformations for computer vision\n",
        "from sklearn.metrics import confusion_matrix\n",
        "import itertools\n",
        "\n",
        "\n"
      ],
      "id": "475e1682"
    },
    {
      "cell_type": "code",
      "execution_count": null,
      "metadata": {
        "id": "dd63463b"
      },
      "outputs": [],
      "source": [
        "def load_mnist(batch_size=32, train=True):\n",
        "\n",
        "    '''\n",
        "    Using the dataset and dataloader classes you should be able to make an MNIST set and loader\n",
        "    the loader should use the 'batch_size' argument and the dataset should use'train'\n",
        "\n",
        "    Also, the 'ToTensor' transform is given, you should set the transform of the dataset to just this\n",
        "    '''\n",
        "    to_tensor_transform = torchvision.transforms.ToTensor()\n",
        "    dataset = torchvision.datasets.MNIST(root = \"./data\", train = train,transform = to_tensor_transform,download = True )\n",
        "    dataloader = DataLoader(dataset,batch_size = batch_size, shuffle = True )\n",
        "\n",
        "    return dataset, dataloader"
      ],
      "id": "dd63463b"
    },
    {
      "cell_type": "code",
      "execution_count": null,
      "metadata": {
        "id": "7be28bc4"
      },
      "outputs": [],
      "source": [
        "\n",
        "def plot_image_and_label(image, raw_output_from_model):\n",
        "\n",
        "    '''\n",
        "    Takes in an image and label and shows them using matplotlib\n",
        "    this is used to visualize the data and also the outputs of our network\n",
        "    '''\n",
        "\n",
        "    plt.imshow(image)\n",
        "    if type(raw_output_from_model) is not int:\n",
        "        _,predicted = torch.max(raw_output_from_model,1)\n",
        "#         Takes 1 highest number from the output\n",
        "        plt.title(\"Best label = \" + str(predicted.item()) + \", with Score: \" + str(round(raw_output_from_model[0][predicted].item() * 100,2)))\n",
        "    else:\n",
        "        plt.title(\"Label = \" + str(raw_output_from_model))\n",
        "    plt.show()\n",
        "    return"
      ],
      "id": "7be28bc4"
    },
    {
      "cell_type": "code",
      "execution_count": null,
      "metadata": {
        "colab": {
          "base_uri": "https://localhost:8080/",
          "height": 698,
          "referenced_widgets": [
            "8110fcca620b47628aba6b710f1d7f84",
            "9e42c4a0496d4431b1a30d2351e3c4f5",
            "faccf26af8a541f39620e2b47637e8aa",
            "d51be7646fc84dc1b63cbf8994e61cf6",
            "9f4076b9d0f54f15b59c4b70239383ce",
            "f95b002bd4564641b22185d3d7dde91c",
            "5e799d54dae04a2db8d18ec4788486a4",
            "792ca8b479324111926a59ae70689861",
            "87f3beb2d27549cc873ed4f3436264be",
            "29e359929b104f4bae02bc8a0387baef",
            "60c8bcf057db4a1ebc0deb3e3077d81b",
            "6e04a1d16e6345f5bee8fc92e1f54b6e",
            "7baf88f0958843b2bf193c6da16ecf80",
            "6400022415d4497f86aed2b8d136d697",
            "e1fcab82306c42308b984086889dfcf0",
            "38a4d2806b9846a389b4a1f227b7a26f",
            "dc7ba1c43b29453aa42da745f7720680",
            "c795793d6963456994d2af25ca008a07",
            "54b1fcce844c47d78b606c71033ae89b",
            "8aa1969bbfd649c1aba90ad93aa6de74",
            "90269e4e452644c5b6305e5b20114531",
            "fecc0d0f59dd4949b49f677e02b2a04f",
            "15277ab742e7418082b9352dd3a41068",
            "d5dad1af575c486cb150d83dfbfd8743",
            "bd9dee77b28f401da82f582f80d7a3a7",
            "9cb48454c607470f8202a4ee304e6311",
            "fc3c1e4e9a474f28ad86a47428fb8035",
            "eb70fc26b9b7446d88773260364de8f4",
            "1d58d364b3f948eabb6ef4a2e5ed1f7c",
            "30bac7b9641b478dbedfd434fbf91ef9",
            "cf7ef6db974e42c1a7dbaee3144b172f",
            "7ab5f8d6e0d84bf8ad81cb4c98c1d5d2",
            "1e4e1db19a714105a7905042e0c5cf14",
            "f876847925e247fdbf296ec4bb6f003e",
            "41e7b266a3fe4957a82d81186a63befe",
            "093f354f36594803953c6f78aefcac96",
            "443d5635de8a4254b568e8efed9991a8",
            "bf4d9ac5412745b697e7ac271dfb9b61",
            "a9757f87bfd745848287d0d70d3abb17",
            "886e9e1f55974ec281cb56ca88a7bbbf",
            "ca7daded585447c6ae65b17645c6aa42",
            "c221d1bf3f4e482386da8218f07ff947",
            "e147b5e086d64a1194e6ead09a29b510",
            "a38610e9772f4af287233cc0d26b169d"
          ]
        },
        "id": "adcd23b7",
        "outputId": "bbcffc72-8049-4afb-b542-76cc47906d42"
      },
      "outputs": [
        {
          "output_type": "stream",
          "name": "stdout",
          "text": [
            "Downloading http://yann.lecun.com/exdb/mnist/train-images-idx3-ubyte.gz\n",
            "Downloading http://yann.lecun.com/exdb/mnist/train-images-idx3-ubyte.gz to ./data/MNIST/raw/train-images-idx3-ubyte.gz\n"
          ]
        },
        {
          "output_type": "display_data",
          "data": {
            "text/plain": [
              "  0%|          | 0/9912422 [00:00<?, ?it/s]"
            ],
            "application/vnd.jupyter.widget-view+json": {
              "version_major": 2,
              "version_minor": 0,
              "model_id": "8110fcca620b47628aba6b710f1d7f84"
            }
          },
          "metadata": {}
        },
        {
          "output_type": "stream",
          "name": "stdout",
          "text": [
            "Extracting ./data/MNIST/raw/train-images-idx3-ubyte.gz to ./data/MNIST/raw\n",
            "\n",
            "Downloading http://yann.lecun.com/exdb/mnist/train-labels-idx1-ubyte.gz\n",
            "Downloading http://yann.lecun.com/exdb/mnist/train-labels-idx1-ubyte.gz to ./data/MNIST/raw/train-labels-idx1-ubyte.gz\n"
          ]
        },
        {
          "output_type": "display_data",
          "data": {
            "text/plain": [
              "  0%|          | 0/28881 [00:00<?, ?it/s]"
            ],
            "application/vnd.jupyter.widget-view+json": {
              "version_major": 2,
              "version_minor": 0,
              "model_id": "6e04a1d16e6345f5bee8fc92e1f54b6e"
            }
          },
          "metadata": {}
        },
        {
          "output_type": "stream",
          "name": "stdout",
          "text": [
            "Extracting ./data/MNIST/raw/train-labels-idx1-ubyte.gz to ./data/MNIST/raw\n",
            "\n",
            "Downloading http://yann.lecun.com/exdb/mnist/t10k-images-idx3-ubyte.gz\n",
            "Downloading http://yann.lecun.com/exdb/mnist/t10k-images-idx3-ubyte.gz to ./data/MNIST/raw/t10k-images-idx3-ubyte.gz\n"
          ]
        },
        {
          "output_type": "display_data",
          "data": {
            "text/plain": [
              "  0%|          | 0/1648877 [00:00<?, ?it/s]"
            ],
            "application/vnd.jupyter.widget-view+json": {
              "version_major": 2,
              "version_minor": 0,
              "model_id": "15277ab742e7418082b9352dd3a41068"
            }
          },
          "metadata": {}
        },
        {
          "output_type": "stream",
          "name": "stdout",
          "text": [
            "Extracting ./data/MNIST/raw/t10k-images-idx3-ubyte.gz to ./data/MNIST/raw\n",
            "\n",
            "Downloading http://yann.lecun.com/exdb/mnist/t10k-labels-idx1-ubyte.gz\n",
            "Downloading http://yann.lecun.com/exdb/mnist/t10k-labels-idx1-ubyte.gz to ./data/MNIST/raw/t10k-labels-idx1-ubyte.gz\n"
          ]
        },
        {
          "output_type": "display_data",
          "data": {
            "text/plain": [
              "  0%|          | 0/4542 [00:00<?, ?it/s]"
            ],
            "application/vnd.jupyter.widget-view+json": {
              "version_major": 2,
              "version_minor": 0,
              "model_id": "f876847925e247fdbf296ec4bb6f003e"
            }
          },
          "metadata": {}
        },
        {
          "output_type": "stream",
          "name": "stdout",
          "text": [
            "Extracting ./data/MNIST/raw/t10k-labels-idx1-ubyte.gz to ./data/MNIST/raw\n",
            "\n",
            "torch.Size([1, 28, 28]) ex_image.shape\n"
          ]
        },
        {
          "output_type": "display_data",
          "data": {
            "text/plain": [
              "<Figure size 432x288 with 1 Axes>"
            ],
            "image/png": "[encoded data removed]"
          },
          "metadata": {
            "needs_background": "light"
          }
        }
      ],
      "source": [
        "# This will just test whether your dataset and loader work\n",
        "# They might still have issues, but if an example image shows here you're on the right track!\n",
        "train_data,train_dataloader = load_mnist(batch_size = 64, train = True)\n",
        "to_tensor_transform = torchvision.transforms.ToTensor()\n",
        "validate_data = datasets.MNIST(root= \"./data\", train=True,\n",
        "                download=True, transform= to_tensor_transform)\n",
        "ex_image, ex_label = train_data[random.randint(0,1000)]\n",
        "print(ex_image.shape,'ex_image.shape')\n",
        "plot_image_and_label(ex_image.reshape(28,28), ex_label)"
      ],
      "id": "adcd23b7"
    },
    {
      "cell_type": "code",
      "execution_count": null,
      "metadata": {
        "id": "b079fcda"
      },
      "outputs": [],
      "source": [
        "class MyMLP(nn.Module):\n",
        "    def __init__(self,input_size, output_size):\n",
        "        super().__init__()\n",
        "#         self.conv1 = nn.conv2d(in_channels = 1, out_channels = 3, stride = 1, padding =)\n",
        "        self.input_size = input_size\n",
        "        self.lin1 = nn.Linear(input_size,256)\n",
        "        self.lin2 = nn.Linear(256,128)\n",
        "        self.lin3 = nn.Linear(128,output_size)\n",
        "        self.relu = nn.ReLU()\n",
        "\n",
        "    def forward(self,x):\n",
        "        x = x.view(-1, self.input_size)\n",
        "        out = self.lin1(x)\n",
        "        out = self.relu(out)\n",
        "        out = self.lin2(out)\n",
        "        out = self.relu(out)\n",
        "        out = self.lin3(out)\n",
        "        out = self.relu(out)\n",
        "        return out"
      ],
      "id": "b079fcda"
    },
    {
      "cell_type": "code",
      "execution_count": null,
      "metadata": {
        "colab": {
          "base_uri": "https://localhost:8080/",
          "height": 298
        },
        "id": "240af524",
        "outputId": "acc11f44-0fb8-4320-85c4-42e18435c5eb"
      },
      "outputs": [
        {
          "output_type": "stream",
          "name": "stdout",
          "text": [
            "torch.Size([1, 28, 28]) eximage.shape\n"
          ]
        },
        {
          "output_type": "display_data",
          "data": {
            "text/plain": [
              "<Figure size 432x288 with 1 Axes>"
            ],
            "image/png": "[encoded data removed]"
          },
          "metadata": {
            "needs_background": "light"
          }
        }
      ],
      "source": [
        "# Shows the prediction of the model without training\n",
        "# Not very good huh? (though theres a small chance it is lol)\n",
        "\n",
        "test_model = MyMLP(784, 2)\n",
        "test_output = test_model(ex_image.flatten()) # Notice how we flatten the 2d image into 1d to use the MLP\n",
        "print(ex_image.shape,\"eximage.shape\")\n",
        "plot_image_and_label(ex_image.reshape(28,28), test_output)"
      ],
      "id": "240af524"
    },
    {
      "cell_type": "code",
      "execution_count": null,
      "metadata": {
        "id": "e510c774"
      },
      "outputs": [],
      "source": [
        "bits = []\n",
        "def generateAllBinaryStrings(n, arr, i,num):\n",
        "    if i == n:\n",
        "        key = ''.join([str(i) for i in arr])\n",
        "        bits.append(key)\n",
        "        num += 1\n",
        "        return\n",
        "\n",
        "    # First assign \"0\" at ith position\n",
        "    # and try for all other permutations\n",
        "    # for remaining positions\n",
        "    arr[i] = 0\n",
        "    generateAllBinaryStrings(n, arr, i + 1,num+1)\n",
        "\n",
        "    # And then assign \"1\" at ith position\n",
        "    # and try for all other permutations\n",
        "    # for remaining positions\n",
        "    arr[i] = 1\n",
        "    generateAllBinaryStrings(n, arr, i + 1,num+1)\n",
        "num = 0\n",
        "generateAllBinaryStrings(4,[0]*4 , 0,num)\n"
      ],
      "id": "e510c774"
    },
    {
      "cell_type": "code",
      "execution_count": null,
      "metadata": {
        "colab": {
          "base_uri": "https://localhost:8080/"
        },
        "id": "4502a269",
        "outputId": "ff7c9386-8207-4f46-bf70-82b15ad6fe33"
      },
      "outputs": [
        {
          "output_type": "stream",
          "name": "stdout",
          "text": [
            "['0000', '0001', '0010', '0011', '0100', '0101', '0110', '0111', '1000', '1001', '1010', '1011', '1100', '1101', '1110', '1111']\n",
            "{0: '0000', 1: '0001', 2: '0010', 3: '0011', 4: '0100', 5: '0101', 6: '0110', 7: '0111', 8: '1000', 9: '1001', 10: '1010', 11: '1011', 12: '1100', 13: '1101', 14: '1110', 15: '1111'}\n"
          ]
        }
      ],
      "source": [
        "print(bits)\n",
        "mapping = {}\n",
        "curr_index = 0\n",
        "invMapping = {}\n",
        "for index,bit in enumerate(bits):\n",
        "    mapping[index] = bit\n",
        "    invMapping[bit] = index\n",
        "print(mapping)\n",
        "# Unbalanced : ['0000', '0001', '0010', '0011', '0100', '0101', '0110', '0111', '1000', '1001', '1010', '1011', '1100', '1101', '1110', '1111']\n",
        "# {0: '1111', 1: '0001', 2: '0010', 3: '0011', 4: '0100', 5: '0101', 6: '0110', 7: '0111', 8: '1000', 9: '1001'}\n",
        "# Balanced :"
      ],
      "id": "4502a269"
    },
    {
      "cell_type": "code",
      "execution_count": null,
      "metadata": {
        "id": "d208d01d"
      },
      "outputs": [],
      "source": [
        "#  Group similar numbers together and test it out\n",
        "balancedMap = {0: '0000',1 :'0001',2 : '0011', 3:'0101', 4:'0111',5:'1000',6:'1010',7:'1100',8:'1110', 9:'1111'}\n",
        "invBalancedMap = {'0000' : 0,'0001': 1,'0011' : 2, '0101' : 3, '0111': 4, '1000' :5,'1010': 6,'1100' :7,'1110' : 8, '1111' :9,'0110':10,'0010':11, '0100':12,'1001':13, '1101':14,'1011':15  }"
      ],
      "id": "d208d01d"
    },
    {
      "cell_type": "code",
      "source": [
        "\"\"\"def balanced_training(modelname,model, loss_function, optimizer, train_dataloader, n_epochs, update_interval):\n",
        "\n",
        "    '''\n",
        "    Updates the parameters of the given model using the optimizer of choice to\n",
        "    reduce the given loss_function\n",
        "\n",
        "    This will iterate over the dataloader 'n_epochs' times training on each batch of images\n",
        "\n",
        "    To get the gradient (which is stored internally in the model) use .backward() from the loss tensor\n",
        "    and to apply it use .step() on the optimizer\n",
        "\n",
        "    In between steps you need to zero the gradient so it can be recalculated -- use .zero_grad for this\n",
        "    '''\n",
        "\n",
        "    losses = []\n",
        "    part_loss = []\n",
        "    for n in range(n_epochs):\n",
        "        for i, (image, label) in enumerate(tqdm(iter(train_dataloader))):\n",
        "\n",
        "            # TODO Complete the training loop using the instructions above\n",
        "            # Hint: the above code essentially does one training step\n",
        "\n",
        "            ##############################################################\n",
        "            optimizer.zero_grad()\n",
        "            my_output = model(image)\n",
        "            if modelname == 'model1':\n",
        "                new_label = torch.Tensor([int(balancedMap[int(l)][0]) for l in label]).long()\n",
        "            elif modelname == 'model2':\n",
        "                new_label = torch.Tensor([int(balancedMap[int(l)][1]) for l in label]).long()\n",
        "            elif modelname == 'model3':\n",
        "                new_label = torch.Tensor([int(balancedMap[int(l)][2]) for l in label]).long()\n",
        "            elif modelname == 'model4':\n",
        "                new_label = torch.Tensor([int(balancedMap[int(l)][3]) for l in label]).long()\n",
        "            elif modelname == 'model':\n",
        "                new_label = label\n",
        "            loss = loss_function(my_output,new_label)\n",
        "            loss.backward()\n",
        "            optimizer.step()\n",
        "            part_loss.append(loss.item())\n",
        "            ##############################################################\n",
        "\n",
        "            if i % update_interval == 0:\n",
        "                losses.append(sum(part_loss)/len(part_loss)) # This will append your losses for plotting -- please use \"loss\" as the name for your loss\n",
        "#                 part_loss = []\n",
        "    return model, losses\n",
        "\"\"\""
      ],
      "metadata": {
        "id": "mck0oH9L8E5v",
        "colab": {
          "base_uri": "https://localhost:8080/",
          "height": 137
        },
        "outputId": "c57377a9-8b04-42fe-c826-ebd43d8febf9"
      },
      "id": "mck0oH9L8E5v",
      "execution_count": null,
      "outputs": [
        {
          "output_type": "execute_result",
          "data": {
            "text/plain": [
              "'def balanced_training(modelname,model, loss_function, optimizer, train_dataloader, n_epochs, update_interval):\\n    \\n    \\'\\'\\'\\n    Updates the parameters of the given model using the optimizer of choice to\\n    reduce the given loss_function\\n\\n    This will iterate over the dataloader \\'n_epochs\\' times training on each batch of images\\n    \\n    To get the gradient (which is stored internally in the model) use .backward() from the loss tensor\\n    and to apply it use .step() on the optimizer\\n\\n    In between steps you need to zero the gradient so it can be recalculated -- use .zero_grad for this\\n    \\'\\'\\'\\n    \\n    losses = []\\n    part_loss = []\\n    for n in range(n_epochs):\\n        for i, (image, label) in enumerate(tqdm(iter(train_dataloader))):\\n\\n            # TODO Complete the training loop using the instructions above\\n            # Hint: the above code essentially does one training step\\n\\n            ##############################################################\\n            optimizer.zero_grad()\\n            my_output = model(image)\\n            if modelname == \\'model1\\':\\n                new_label = torch.Tensor([int(balancedMap[int(l)][0]) for l in label]).long()\\n            elif modelname == \\'model2\\':\\n                new_label = torch.Tensor([int(balancedMap[int(l)][1]) for l in label]).long()\\n            elif modelname == \\'model3\\':\\n                new_label = torch.Tensor([int(balancedMap[int(l)][2]) for l in label]).long()\\n            elif modelname == \\'model4\\':\\n                new_label = torch.Tensor([int(balancedMap[int(l)][3]) for l in label]).long()\\n            elif modelname == \\'model\\':\\n                new_label = label\\n            loss = loss_function(my_output,new_label)\\n            loss.backward()\\n            optimizer.step()\\n            part_loss.append(loss.item())\\n            ##############################################################\\n        \\n            if i % update_interval == 0:\\n                losses.append(sum(part_loss)/len(part_loss)) # This will append your losses for plotting -- please use \"loss\" as the name for your loss\\n#                 part_loss = []\\n    return model, losses \\n'"
            ],
            "application/vnd.google.colaboratory.intrinsic+json": {
              "type": "string"
            }
          },
          "metadata": {},
          "execution_count": 10
        }
      ]
    },
    {
      "cell_type": "code",
      "source": [
        "def balanced_training(modelname,model, loss_function, optimizer, train_dataloader, n_epochs, update_interval):\n",
        "\n",
        "    '''\n",
        "    Updates the parameters of the given model using the optimizer of choice to\n",
        "    reduce the given loss_function\n",
        "\n",
        "    This will iterate over the dataloader 'n_epochs' times training on each batch of images\n",
        "\n",
        "    To get the gradient (which is stored internally in the model) use .backward() from the loss tensor\n",
        "    and to apply it use .step() on the optimizer\n",
        "\n",
        "    In between steps you need to zero the gradient so it can be recalculated -- use .zero_grad for this\n",
        "    '''\n",
        "\n",
        "    losses = []\n",
        "    part_loss = []\n",
        "    sum_loss = 0\n",
        "    n_correct = 0\n",
        "    total = 0\n",
        "    for n in range(n_epochs):\n",
        "        for i, (image, label) in enumerate(tqdm(iter(train_dataloader))):\n",
        "            optimizer.zero_grad()\n",
        "            pred = model(image)\n",
        "            if modelname == 'model1':\n",
        "                new_label = torch.Tensor([int(balancedMap[int(l)][0]) for l in label]).long()\n",
        "            elif modelname == 'model2':\n",
        "                new_label = torch.Tensor([int(balancedMap[int(l)][1]) for l in label]).long()\n",
        "            elif modelname == 'model3':\n",
        "                new_label = torch.Tensor([int(balancedMap[int(l)][2]) for l in label]).long()\n",
        "            elif modelname == 'model4':\n",
        "                new_label = torch.Tensor([int(balancedMap[int(l)][3]) for l in label]).long()\n",
        "            elif modelname == 'model':\n",
        "                new_label = label\n",
        "            loss = loss_function(pred,new_label)\n",
        "            loss.backward()\n",
        "            optimizer.step()\n",
        "            part_loss.append(loss.item())\n",
        "\n",
        "            if i % update_interval == 0:\n",
        "                losses.append(sum(part_loss)/len(part_loss)) # This will append your losses for plotting -- please use \"loss\" as the name for your loss\n",
        "\n",
        "    return model, losses\n",
        "# Training accuracy is found after testing on the train dataset."
      ],
      "metadata": {
        "id": "CPbFTaTtmksE"
      },
      "id": "CPbFTaTtmksE",
      "execution_count": null,
      "outputs": []
    },
    {
      "cell_type": "code",
      "source": [
        "\"\"\"def balanced_testing(modelname, model, loss_function, test_data):\n",
        "    sum_loss = 0\n",
        "    n_correct = 0\n",
        "    total = 0\n",
        "    for i, (image, label) in enumerate(tqdm(iter(test_data))):\n",
        "        pred = model(image)\n",
        "        if modelname == 'model1':\n",
        "            new_label =  torch.Tensor([int(balancedMap[int(l)][0]) for l in label]).long()\n",
        "        elif modelname == 'model2':\n",
        "            new_label = torch.Tensor([int(balancedMap[int(l)][1]) for l in label]).long()\n",
        "        elif modelname == 'model3':\n",
        "            new_label = torch.Tensor([int(balancedMap[int(l)][2]) for l in label]).long()\n",
        "        elif modelname == 'model4':\n",
        "            new_label = torch.Tensor([int(balancedMap[int(l)][3]) for l in label]).long()\n",
        "        elif modelname == 'model':\n",
        "            new_label = label\n",
        "        loss = loss_function(pred,new_label)\n",
        "        sum_loss += loss.item()\n",
        "        _, predicted = torch.max(pred,1)\n",
        "        n_correct += (predicted == new_label).sum()\n",
        "        total += new_label.size(0)\n",
        "\n",
        "    test_acc = round(((n_correct / total).item() * 100), 2)\n",
        "    avg_loss = round(sum_loss / len(test_data), 2)\n",
        "\n",
        "    print(\"test accuracy:\", test_acc)\n",
        "    print(\"test loss:\", avg_loss )\n",
        "\n",
        "    return test_acc, avg_loss\n",
        "\"\"\""
      ],
      "metadata": {
        "id": "dzlqFNJ58vWO",
        "colab": {
          "base_uri": "https://localhost:8080/",
          "height": 137
        },
        "outputId": "c5e75191-4c1a-4479-8795-121d5d35f3a7"
      },
      "id": "dzlqFNJ58vWO",
      "execution_count": null,
      "outputs": [
        {
          "output_type": "execute_result",
          "data": {
            "text/plain": [
              "'def balanced_testing(modelname, model, loss_function, test_data):\\n    sum_loss = 0\\n    n_correct = 0\\n    total = 0\\n    for i, (image, label) in enumerate(tqdm(iter(test_data))):\\n        pred = model(image)\\n        if modelname == \\'model1\\':\\n            new_label =  torch.Tensor([int(balancedMap[int(l)][0]) for l in label]).long()\\n        elif modelname == \\'model2\\':\\n            new_label = torch.Tensor([int(balancedMap[int(l)][1]) for l in label]).long()\\n        elif modelname == \\'model3\\':\\n            new_label = torch.Tensor([int(balancedMap[int(l)][2]) for l in label]).long()\\n        elif modelname == \\'model4\\':\\n            new_label = torch.Tensor([int(balancedMap[int(l)][3]) for l in label]).long()\\n        elif modelname == \\'model\\':\\n            new_label = label\\n        loss = loss_function(pred,new_label)\\n        sum_loss += loss.item()\\n        _, predicted = torch.max(pred,1)\\n        n_correct += (predicted == new_label).sum()\\n        total += new_label.size(0)\\n    \\n    test_acc = round(((n_correct / total).item() * 100), 2)\\n    avg_loss = round(sum_loss / len(test_data), 2)\\n\\n    print(\"test accuracy:\", test_acc)\\n    print(\"test loss:\", avg_loss )\\n\\n    return test_acc, avg_loss\\n'"
            ],
            "application/vnd.google.colaboratory.intrinsic+json": {
              "type": "string"
            }
          },
          "metadata": {},
          "execution_count": 12
        }
      ]
    },
    {
      "cell_type": "code",
      "source": [
        "def balanced_testing(modelname, model, loss_function, test_data):\n",
        "    sum_loss = 0\n",
        "    n_correct = 0\n",
        "    total = 0\n",
        "    for i, (image, label) in enumerate(tqdm(iter(test_data))):\n",
        "        pred = model(image)\n",
        "        if modelname == 'model1':\n",
        "            new_label =  torch.Tensor([int(balancedMap[int(l)][0]) for l in label]).long()\n",
        "        elif modelname == 'model2':\n",
        "            new_label = torch.Tensor([int(balancedMap[int(l)][1]) for l in label]).long()\n",
        "        elif modelname == 'model3':\n",
        "            new_label = torch.Tensor([int(balancedMap[int(l)][2]) for l in label]).long()\n",
        "        elif modelname == 'model4':\n",
        "            new_label = torch.Tensor([int(balancedMap[int(l)][3]) for l in label]).long()\n",
        "        elif modelname == 'model':\n",
        "            new_label = label\n",
        "        loss = loss_function(pred,new_label)\n",
        "        sum_loss += loss.item()\n",
        "        _, predicted = torch.max(pred,1)\n",
        "        n_correct += (predicted == new_label).sum()\n",
        "        total += new_label.size(0)\n",
        "\n",
        "    test_acc = round(((n_correct / total).item() * 100), 2)\n",
        "    avg_loss = round(sum_loss / len(test_data), 2)\n",
        "\n",
        "    print(\"test accuracy:\", test_acc)\n",
        "    print(\"test loss:\", avg_loss )\n",
        "\n",
        "    return test_acc, avg_loss"
      ],
      "metadata": {
        "id": "1sxKeVajnTlN"
      },
      "id": "1sxKeVajnTlN",
      "execution_count": null,
      "outputs": []
    },
    {
      "cell_type": "code",
      "source": [
        "# Plug in your model, loss function, and optimizer\n",
        "# Try out different hyperparameters and different models to see how they perform\n",
        "\n",
        "lr = 0.0009          # 0.0008/6/98.1%/0.06\n",
        "batch_size = 500        # The number of images being trained on at once\n",
        "update_interval = 100   # The number of batches trained on before recording loss\n",
        "n_epochs = 5         # The number of times we train through the entire dataset 5 10 15\n",
        "\n",
        "train_dataset, train_dataloader = load_mnist(batch_size=batch_size, train=True)\n",
        "balanced_model1 = MyMLP(784, 2)\n",
        "optimizer = torch.optim.Adam(balanced_model1.parameters(), lr=lr)\n",
        "loss_function = nn.CrossEntropyLoss()"
      ],
      "metadata": {
        "id": "J3F4m1CW7kcH"
      },
      "id": "J3F4m1CW7kcH",
      "execution_count": null,
      "outputs": []
    },
    {
      "cell_type": "code",
      "source": [
        "#  Training Balanced Model1\n",
        "balanced_trained_model1, balanced_losses1 = balanced_training('model1',balanced_model1, loss_function, optimizer, train_dataloader, n_epochs=n_epochs, update_interval=update_interval)\n",
        "plt.plot(np.arange(len(balanced_losses1)) * batch_size * update_interval, balanced_losses1)\n",
        "plt.title(\"Training:Balanced labels Model1,lr = {}, n_epochs = {} , update_interval = {} batch_size {}\".format(lr,n_epochs,update_interval,batch_size))\n",
        "plt.xlabel(\"number of images trained on\")\n",
        "plt.ylabel(\"loss\")\n",
        "plt.show()"
      ],
      "metadata": {
        "id": "yfYm7Rmq7kwn",
        "colab": {
          "base_uri": "https://localhost:8080/",
          "height": 380
        },
        "outputId": "6f82dc69-bed2-4a57-a326-92b7c7c9d571"
      },
      "id": "yfYm7Rmq7kwn",
      "execution_count": null,
      "outputs": [
        {
          "output_type": "stream",
          "name": "stderr",
          "text": [
            "100%|██████████| 120/120 [00:07<00:00, 16.35it/s]\n",
            "100%|██████████| 120/120 [00:07<00:00, 16.47it/s]\n",
            "100%|██████████| 120/120 [00:07<00:00, 16.32it/s]\n",
            "100%|██████████| 120/120 [00:07<00:00, 16.27it/s]\n",
            "100%|██████████| 120/120 [00:07<00:00, 16.49it/s]\n"
          ]
        },
        {
          "output_type": "display_data",
          "data": {
            "text/plain": [
              "<Figure size 432x288 with 1 Axes>"
            ],
            "image/png": "[encoded data removed]"
          },
          "metadata": {
            "needs_background": "light"
          }
        }
      ]
    },
    {
      "cell_type": "code",
      "source": [
        "# Testing Balanced Model1\n",
        "test_dataset, test_dataloader = load_mnist(batch_size=batch_size, train=False)\n",
        "test_acc,test_avg_loss = balanced_testing('model1', balanced_trained_model1, loss_function, test_dataloader)\n",
        "plt.savefig(\"Training, balanced labels Model1,test_acc = {},test_avg_loss = {}.png\".format(test_acc,test_avg_loss))"
      ],
      "metadata": {
        "id": "R2DWJIlY7otP",
        "colab": {
          "base_uri": "https://localhost:8080/",
          "height": 85
        },
        "outputId": "d8755a29-283f-48cc-da05-dec7a0126fac"
      },
      "id": "R2DWJIlY7otP",
      "execution_count": null,
      "outputs": [
        {
          "output_type": "stream",
          "name": "stderr",
          "text": [
            "100%|██████████| 20/20 [00:01<00:00, 18.85it/s]"
          ]
        },
        {
          "output_type": "stream",
          "name": "stdout",
          "text": [
            "test accuracy: 97.88\n",
            "test loss: 0.06\n"
          ]
        },
        {
          "output_type": "stream",
          "name": "stderr",
          "text": [
            "\n"
          ]
        },
        {
          "output_type": "display_data",
          "data": {
            "text/plain": [
              "<Figure size 432x288 with 0 Axes>"
            ]
          },
          "metadata": {}
        }
      ]
    },
    {
      "cell_type": "code",
      "source": [
        "#hyperparameter tuning model1\n",
        "import math\n",
        "def grid_search(model,input_shape,compression_size,test_data):\n",
        "    e = math.e\n",
        "    learning_rate = [0.0009,0.00095,0.001,0.0008,0.005]\n",
        "    n_epochs_lst = [3,5,6]\n",
        "    loss_function = nn.CrossEntropyLoss()\n",
        "    accuracy = float('-inf')\n",
        "    best_lr = 0\n",
        "    update_interval = 100\n",
        "    best_batch = 500\n",
        "    best_n_epochs = 0\n",
        "    for lr in learning_rate:\n",
        "        optimizer = torch.optim.Adam(model.parameters(), lr=lr)\n",
        "        for n_epochs in n_epochs_lst :\n",
        "            train_dataset, train_dataloader = load_mnist(batch_size=batch_size, train=True)\n",
        "            trained_model, losses = balanced_training('model1',model, loss_function, optimizer, train_dataloader, n_epochs=n_epochs, update_interval=update_interval)\n",
        "            print(lr)\n",
        "            print(n_epochs)\n",
        "            test_loss, test_accuracy = balanced_testing('model1', trained_model, loss_function, test_dataloader)\n",
        "            if test_accuracy >= accuracy:\n",
        "                best_lr = lr\n",
        "                best_n_epochs = n_epochs\n",
        "                accuracy = test_accuracy\n",
        "\n",
        "    return best_lr , best_n_epochs,test_accuracy\n",
        "\n",
        "best_lr,best_batch_size, best_n_epochs,best_acc = grid_search(balanced_model1, 784, 2, test_dataset)\n"
      ],
      "metadata": {
        "colab": {
          "base_uri": "https://localhost:8080/",
          "height": 868
        },
        "id": "0Fp30iZGarbR",
        "outputId": "b104b25c-ac2f-4270-de46-7e4fc5c7868e"
      },
      "id": "0Fp30iZGarbR",
      "execution_count": null,
      "outputs": [
        {
          "output_type": "stream",
          "name": "stderr",
          "text": [
            "100%|██████████| 120/120 [00:07<00:00, 15.70it/s]\n",
            "100%|██████████| 120/120 [00:07<00:00, 15.92it/s]\n",
            "100%|██████████| 120/120 [00:07<00:00, 16.00it/s]\n"
          ]
        },
        {
          "output_type": "stream",
          "name": "stdout",
          "text": [
            "0.0009\n",
            "3\n"
          ]
        },
        {
          "output_type": "stream",
          "name": "stderr",
          "text": [
            "100%|██████████| 20/20 [00:01<00:00, 19.20it/s]\n"
          ]
        },
        {
          "output_type": "stream",
          "name": "stdout",
          "text": [
            "test accuracy: 51.39\n",
            "test loss: 0.69\n"
          ]
        },
        {
          "output_type": "stream",
          "name": "stderr",
          "text": [
            "100%|██████████| 120/120 [00:07<00:00, 15.75it/s]\n",
            "100%|██████████| 120/120 [00:07<00:00, 15.89it/s]\n",
            "100%|██████████| 120/120 [00:07<00:00, 15.73it/s]\n",
            "100%|██████████| 120/120 [00:07<00:00, 15.59it/s]\n",
            "100%|██████████| 120/120 [00:07<00:00, 15.97it/s]\n"
          ]
        },
        {
          "output_type": "stream",
          "name": "stdout",
          "text": [
            "0.0009\n",
            "5\n"
          ]
        },
        {
          "output_type": "stream",
          "name": "stderr",
          "text": [
            "100%|██████████| 20/20 [00:01<00:00, 18.84it/s]\n"
          ]
        },
        {
          "output_type": "stream",
          "name": "stdout",
          "text": [
            "test accuracy: 51.39\n",
            "test loss: 0.69\n"
          ]
        },
        {
          "output_type": "stream",
          "name": "stderr",
          "text": [
            "100%|██████████| 120/120 [00:07<00:00, 16.15it/s]\n",
            "100%|██████████| 120/120 [00:07<00:00, 15.77it/s]\n",
            "100%|██████████| 120/120 [00:07<00:00, 15.86it/s]\n",
            "100%|██████████| 120/120 [00:07<00:00, 16.04it/s]\n",
            "100%|██████████| 120/120 [00:07<00:00, 15.73it/s]\n",
            "100%|██████████| 120/120 [00:07<00:00, 15.73it/s]\n"
          ]
        },
        {
          "output_type": "stream",
          "name": "stdout",
          "text": [
            "0.0009\n",
            "6\n"
          ]
        },
        {
          "output_type": "stream",
          "name": "stderr",
          "text": [
            "100%|██████████| 20/20 [00:01<00:00, 18.45it/s]\n"
          ]
        },
        {
          "output_type": "stream",
          "name": "stdout",
          "text": [
            "test accuracy: 51.39\n",
            "test loss: 0.69\n"
          ]
        },
        {
          "output_type": "stream",
          "name": "stderr",
          "text": [
            "100%|██████████| 120/120 [00:07<00:00, 15.76it/s]\n",
            " 22%|██▏       | 26/120 [00:01<00:06, 15.52it/s]\n"
          ]
        },
        {
          "output_type": "error",
          "ename": "KeyboardInterrupt",
          "evalue": "ignored",
          "traceback": [
            "\u001b[0;31m---------------------------------------------------------------------------\u001b[0m",
            "\u001b[0;31mKeyboardInterrupt\u001b[0m                         Traceback (most recent call last)",
            "\u001b[0;32m<ipython-input-17-82b2bcfa4964>\u001b[0m in \u001b[0;36m<module>\u001b[0;34m()\u001b[0m\n\u001b[1;32m     26\u001b[0m     \u001b[0;32mreturn\u001b[0m \u001b[0mbest_lr\u001b[0m \u001b[0;34m,\u001b[0m \u001b[0mbest_n_epochs\u001b[0m\u001b[0;34m,\u001b[0m\u001b[0mtest_accuracy\u001b[0m\u001b[0;34m\u001b[0m\u001b[0;34m\u001b[0m\u001b[0m\n\u001b[1;32m     27\u001b[0m \u001b[0;34m\u001b[0m\u001b[0m\n\u001b[0;32m---> 28\u001b[0;31m \u001b[0mbest_lr\u001b[0m\u001b[0;34m,\u001b[0m\u001b[0mbest_batch_size\u001b[0m\u001b[0;34m,\u001b[0m \u001b[0mbest_n_epochs\u001b[0m\u001b[0;34m,\u001b[0m\u001b[0mbest_acc\u001b[0m \u001b[0;34m=\u001b[0m \u001b[0mgrid_search\u001b[0m\u001b[0;34m(\u001b[0m\u001b[0mbalanced_model1\u001b[0m\u001b[0;34m,\u001b[0m \u001b[0;36m784\u001b[0m\u001b[0;34m,\u001b[0m \u001b[0;36m2\u001b[0m\u001b[0;34m,\u001b[0m \u001b[0mtest_dataset\u001b[0m\u001b[0;34m)\u001b[0m\u001b[0;34m\u001b[0m\u001b[0;34m\u001b[0m\u001b[0m\n\u001b[0m",
            "\u001b[0;32m<ipython-input-17-82b2bcfa4964>\u001b[0m in \u001b[0;36mgrid_search\u001b[0;34m(model, input_shape, compression_size, test_data)\u001b[0m\n\u001b[1;32m     15\u001b[0m         \u001b[0;32mfor\u001b[0m \u001b[0mn_epochs\u001b[0m \u001b[0;32min\u001b[0m \u001b[0mn_epochs_lst\u001b[0m \u001b[0;34m:\u001b[0m\u001b[0;34m\u001b[0m\u001b[0;34m\u001b[0m\u001b[0m\n\u001b[1;32m     16\u001b[0m             \u001b[0mtrain_dataset\u001b[0m\u001b[0;34m,\u001b[0m \u001b[0mtrain_dataloader\u001b[0m \u001b[0;34m=\u001b[0m \u001b[0mload_mnist\u001b[0m\u001b[0;34m(\u001b[0m\u001b[0mbatch_size\u001b[0m\u001b[0;34m=\u001b[0m\u001b[0mbatch_size\u001b[0m\u001b[0;34m,\u001b[0m \u001b[0mtrain\u001b[0m\u001b[0;34m=\u001b[0m\u001b[0;32mTrue\u001b[0m\u001b[0;34m)\u001b[0m\u001b[0;34m\u001b[0m\u001b[0;34m\u001b[0m\u001b[0m\n\u001b[0;32m---> 17\u001b[0;31m             \u001b[0mtrained_model\u001b[0m\u001b[0;34m,\u001b[0m \u001b[0mlosses\u001b[0m \u001b[0;34m=\u001b[0m \u001b[0mbalanced_training\u001b[0m\u001b[0;34m(\u001b[0m\u001b[0;34m'model1'\u001b[0m\u001b[0;34m,\u001b[0m\u001b[0mmodel\u001b[0m\u001b[0;34m,\u001b[0m \u001b[0mloss_function\u001b[0m\u001b[0;34m,\u001b[0m \u001b[0moptimizer\u001b[0m\u001b[0;34m,\u001b[0m \u001b[0mtrain_dataloader\u001b[0m\u001b[0;34m,\u001b[0m \u001b[0mn_epochs\u001b[0m\u001b[0;34m=\u001b[0m\u001b[0mn_epochs\u001b[0m\u001b[0;34m,\u001b[0m \u001b[0mupdate_interval\u001b[0m\u001b[0;34m=\u001b[0m\u001b[0mupdate_interval\u001b[0m\u001b[0;34m)\u001b[0m\u001b[0;34m\u001b[0m\u001b[0;34m\u001b[0m\u001b[0m\n\u001b[0m\u001b[1;32m     18\u001b[0m             \u001b[0mprint\u001b[0m\u001b[0;34m(\u001b[0m\u001b[0mlr\u001b[0m\u001b[0;34m)\u001b[0m\u001b[0;34m\u001b[0m\u001b[0;34m\u001b[0m\u001b[0m\n\u001b[1;32m     19\u001b[0m             \u001b[0mprint\u001b[0m\u001b[0;34m(\u001b[0m\u001b[0mn_epochs\u001b[0m\u001b[0;34m)\u001b[0m\u001b[0;34m\u001b[0m\u001b[0;34m\u001b[0m\u001b[0m\n",
            "\u001b[0;32m<ipython-input-11-17f12e28eeb7>\u001b[0m in \u001b[0;36mbalanced_training\u001b[0;34m(modelname, model, loss_function, optimizer, train_dataloader, n_epochs, update_interval)\u001b[0m\n\u001b[1;32m     19\u001b[0m     \u001b[0mtotal\u001b[0m \u001b[0;34m=\u001b[0m \u001b[0;36m0\u001b[0m\u001b[0;34m\u001b[0m\u001b[0;34m\u001b[0m\u001b[0m\n\u001b[1;32m     20\u001b[0m     \u001b[0;32mfor\u001b[0m \u001b[0mn\u001b[0m \u001b[0;32min\u001b[0m \u001b[0mrange\u001b[0m\u001b[0;34m(\u001b[0m\u001b[0mn_epochs\u001b[0m\u001b[0;34m)\u001b[0m\u001b[0;34m:\u001b[0m\u001b[0;34m\u001b[0m\u001b[0;34m\u001b[0m\u001b[0m\n\u001b[0;32m---> 21\u001b[0;31m         \u001b[0;32mfor\u001b[0m \u001b[0mi\u001b[0m\u001b[0;34m,\u001b[0m \u001b[0;34m(\u001b[0m\u001b[0mimage\u001b[0m\u001b[0;34m,\u001b[0m \u001b[0mlabel\u001b[0m\u001b[0;34m)\u001b[0m \u001b[0;32min\u001b[0m \u001b[0menumerate\u001b[0m\u001b[0;34m(\u001b[0m\u001b[0mtqdm\u001b[0m\u001b[0;34m(\u001b[0m\u001b[0miter\u001b[0m\u001b[0;34m(\u001b[0m\u001b[0mtrain_dataloader\u001b[0m\u001b[0;34m)\u001b[0m\u001b[0;34m)\u001b[0m\u001b[0;34m)\u001b[0m\u001b[0;34m:\u001b[0m\u001b[0;34m\u001b[0m\u001b[0;34m\u001b[0m\u001b[0m\n\u001b[0m\u001b[1;32m     22\u001b[0m             \u001b[0moptimizer\u001b[0m\u001b[0;34m.\u001b[0m\u001b[0mzero_grad\u001b[0m\u001b[0;34m(\u001b[0m\u001b[0;34m)\u001b[0m\u001b[0;34m\u001b[0m\u001b[0;34m\u001b[0m\u001b[0m\n\u001b[1;32m     23\u001b[0m             \u001b[0mpred\u001b[0m \u001b[0;34m=\u001b[0m \u001b[0mmodel\u001b[0m\u001b[0;34m(\u001b[0m\u001b[0mimage\u001b[0m\u001b[0;34m)\u001b[0m\u001b[0;34m\u001b[0m\u001b[0;34m\u001b[0m\u001b[0m\n",
            "\u001b[0;32m/usr/local/lib/python3.7/dist-packages/tqdm/std.py\u001b[0m in \u001b[0;36m__iter__\u001b[0;34m(self)\u001b[0m\n\u001b[1;32m   1193\u001b[0m \u001b[0;34m\u001b[0m\u001b[0m\n\u001b[1;32m   1194\u001b[0m         \u001b[0;32mtry\u001b[0m\u001b[0;34m:\u001b[0m\u001b[0;34m\u001b[0m\u001b[0;34m\u001b[0m\u001b[0m\n\u001b[0;32m-> 1195\u001b[0;31m             \u001b[0;32mfor\u001b[0m \u001b[0mobj\u001b[0m \u001b[0;32min\u001b[0m \u001b[0miterable\u001b[0m\u001b[0;34m:\u001b[0m\u001b[0;34m\u001b[0m\u001b[0;34m\u001b[0m\u001b[0m\n\u001b[0m\u001b[1;32m   1196\u001b[0m                 \u001b[0;32myield\u001b[0m \u001b[0mobj\u001b[0m\u001b[0;34m\u001b[0m\u001b[0;34m\u001b[0m\u001b[0m\n\u001b[1;32m   1197\u001b[0m                 \u001b[0;31m# Update and possibly print the progressbar.\u001b[0m\u001b[0;34m\u001b[0m\u001b[0;34m\u001b[0m\u001b[0;34m\u001b[0m\u001b[0m\n",
            "\u001b[0;32m/usr/local/lib/python3.7/dist-packages/torch/utils/data/dataloader.py\u001b[0m in \u001b[0;36m__next__\u001b[0;34m(self)\u001b[0m\n\u001b[1;32m    528\u001b[0m             \u001b[0;32mif\u001b[0m \u001b[0mself\u001b[0m\u001b[0;34m.\u001b[0m\u001b[0m_sampler_iter\u001b[0m \u001b[0;32mis\u001b[0m \u001b[0;32mNone\u001b[0m\u001b[0;34m:\u001b[0m\u001b[0;34m\u001b[0m\u001b[0;34m\u001b[0m\u001b[0m\n\u001b[1;32m    529\u001b[0m                 \u001b[0mself\u001b[0m\u001b[0;34m.\u001b[0m\u001b[0m_reset\u001b[0m\u001b[0;34m(\u001b[0m\u001b[0;34m)\u001b[0m\u001b[0;34m\u001b[0m\u001b[0;34m\u001b[0m\u001b[0m\n\u001b[0;32m--> 530\u001b[0;31m             \u001b[0mdata\u001b[0m \u001b[0;34m=\u001b[0m \u001b[0mself\u001b[0m\u001b[0;34m.\u001b[0m\u001b[0m_next_data\u001b[0m\u001b[0;34m(\u001b[0m\u001b[0;34m)\u001b[0m\u001b[0;34m\u001b[0m\u001b[0;34m\u001b[0m\u001b[0m\n\u001b[0m\u001b[1;32m    531\u001b[0m             \u001b[0mself\u001b[0m\u001b[0;34m.\u001b[0m\u001b[0m_num_yielded\u001b[0m \u001b[0;34m+=\u001b[0m \u001b[0;36m1\u001b[0m\u001b[0;34m\u001b[0m\u001b[0;34m\u001b[0m\u001b[0m\n\u001b[1;32m    532\u001b[0m             \u001b[0;32mif\u001b[0m \u001b[0mself\u001b[0m\u001b[0;34m.\u001b[0m\u001b[0m_dataset_kind\u001b[0m \u001b[0;34m==\u001b[0m \u001b[0m_DatasetKind\u001b[0m\u001b[0;34m.\u001b[0m\u001b[0mIterable\u001b[0m \u001b[0;32mand\u001b[0m\u001b[0;31m \u001b[0m\u001b[0;31m\\\u001b[0m\u001b[0;34m\u001b[0m\u001b[0;34m\u001b[0m\u001b[0m\n",
            "\u001b[0;32m/usr/local/lib/python3.7/dist-packages/torch/utils/data/dataloader.py\u001b[0m in \u001b[0;36m_next_data\u001b[0;34m(self)\u001b[0m\n\u001b[1;32m    568\u001b[0m     \u001b[0;32mdef\u001b[0m \u001b[0m_next_data\u001b[0m\u001b[0;34m(\u001b[0m\u001b[0mself\u001b[0m\u001b[0;34m)\u001b[0m\u001b[0;34m:\u001b[0m\u001b[0;34m\u001b[0m\u001b[0;34m\u001b[0m\u001b[0m\n\u001b[1;32m    569\u001b[0m         \u001b[0mindex\u001b[0m \u001b[0;34m=\u001b[0m \u001b[0mself\u001b[0m\u001b[0;34m.\u001b[0m\u001b[0m_next_index\u001b[0m\u001b[0;34m(\u001b[0m\u001b[0;34m)\u001b[0m  \u001b[0;31m# may raise StopIteration\u001b[0m\u001b[0;34m\u001b[0m\u001b[0;34m\u001b[0m\u001b[0m\n\u001b[0;32m--> 570\u001b[0;31m         \u001b[0mdata\u001b[0m \u001b[0;34m=\u001b[0m \u001b[0mself\u001b[0m\u001b[0;34m.\u001b[0m\u001b[0m_dataset_fetcher\u001b[0m\u001b[0;34m.\u001b[0m\u001b[0mfetch\u001b[0m\u001b[0;34m(\u001b[0m\u001b[0mindex\u001b[0m\u001b[0;34m)\u001b[0m  \u001b[0;31m# may raise StopIteration\u001b[0m\u001b[0;34m\u001b[0m\u001b[0;34m\u001b[0m\u001b[0m\n\u001b[0m\u001b[1;32m    571\u001b[0m         \u001b[0;32mif\u001b[0m \u001b[0mself\u001b[0m\u001b[0;34m.\u001b[0m\u001b[0m_pin_memory\u001b[0m\u001b[0;34m:\u001b[0m\u001b[0;34m\u001b[0m\u001b[0;34m\u001b[0m\u001b[0m\n\u001b[1;32m    572\u001b[0m             \u001b[0mdata\u001b[0m \u001b[0;34m=\u001b[0m \u001b[0m_utils\u001b[0m\u001b[0;34m.\u001b[0m\u001b[0mpin_memory\u001b[0m\u001b[0;34m.\u001b[0m\u001b[0mpin_memory\u001b[0m\u001b[0;34m(\u001b[0m\u001b[0mdata\u001b[0m\u001b[0;34m)\u001b[0m\u001b[0;34m\u001b[0m\u001b[0;34m\u001b[0m\u001b[0m\n",
            "\u001b[0;32m/usr/local/lib/python3.7/dist-packages/torch/utils/data/_utils/fetch.py\u001b[0m in \u001b[0;36mfetch\u001b[0;34m(self, possibly_batched_index)\u001b[0m\n\u001b[1;32m     47\u001b[0m     \u001b[0;32mdef\u001b[0m \u001b[0mfetch\u001b[0m\u001b[0;34m(\u001b[0m\u001b[0mself\u001b[0m\u001b[0;34m,\u001b[0m \u001b[0mpossibly_batched_index\u001b[0m\u001b[0;34m)\u001b[0m\u001b[0;34m:\u001b[0m\u001b[0;34m\u001b[0m\u001b[0;34m\u001b[0m\u001b[0m\n\u001b[1;32m     48\u001b[0m         \u001b[0;32mif\u001b[0m \u001b[0mself\u001b[0m\u001b[0;34m.\u001b[0m\u001b[0mauto_collation\u001b[0m\u001b[0;34m:\u001b[0m\u001b[0;34m\u001b[0m\u001b[0;34m\u001b[0m\u001b[0m\n\u001b[0;32m---> 49\u001b[0;31m             \u001b[0mdata\u001b[0m \u001b[0;34m=\u001b[0m \u001b[0;34m[\u001b[0m\u001b[0mself\u001b[0m\u001b[0;34m.\u001b[0m\u001b[0mdataset\u001b[0m\u001b[0;34m[\u001b[0m\u001b[0midx\u001b[0m\u001b[0;34m]\u001b[0m \u001b[0;32mfor\u001b[0m \u001b[0midx\u001b[0m \u001b[0;32min\u001b[0m \u001b[0mpossibly_batched_index\u001b[0m\u001b[0;34m]\u001b[0m\u001b[0;34m\u001b[0m\u001b[0;34m\u001b[0m\u001b[0m\n\u001b[0m\u001b[1;32m     50\u001b[0m         \u001b[0;32melse\u001b[0m\u001b[0;34m:\u001b[0m\u001b[0;34m\u001b[0m\u001b[0;34m\u001b[0m\u001b[0m\n\u001b[1;32m     51\u001b[0m             \u001b[0mdata\u001b[0m \u001b[0;34m=\u001b[0m \u001b[0mself\u001b[0m\u001b[0;34m.\u001b[0m\u001b[0mdataset\u001b[0m\u001b[0;34m[\u001b[0m\u001b[0mpossibly_batched_index\u001b[0m\u001b[0;34m]\u001b[0m\u001b[0;34m\u001b[0m\u001b[0;34m\u001b[0m\u001b[0m\n",
            "\u001b[0;32m/usr/local/lib/python3.7/dist-packages/torch/utils/data/_utils/fetch.py\u001b[0m in \u001b[0;36m<listcomp>\u001b[0;34m(.0)\u001b[0m\n\u001b[1;32m     47\u001b[0m     \u001b[0;32mdef\u001b[0m \u001b[0mfetch\u001b[0m\u001b[0;34m(\u001b[0m\u001b[0mself\u001b[0m\u001b[0;34m,\u001b[0m \u001b[0mpossibly_batched_index\u001b[0m\u001b[0;34m)\u001b[0m\u001b[0;34m:\u001b[0m\u001b[0;34m\u001b[0m\u001b[0;34m\u001b[0m\u001b[0m\n\u001b[1;32m     48\u001b[0m         \u001b[0;32mif\u001b[0m \u001b[0mself\u001b[0m\u001b[0;34m.\u001b[0m\u001b[0mauto_collation\u001b[0m\u001b[0;34m:\u001b[0m\u001b[0;34m\u001b[0m\u001b[0;34m\u001b[0m\u001b[0m\n\u001b[0;32m---> 49\u001b[0;31m             \u001b[0mdata\u001b[0m \u001b[0;34m=\u001b[0m \u001b[0;34m[\u001b[0m\u001b[0mself\u001b[0m\u001b[0;34m.\u001b[0m\u001b[0mdataset\u001b[0m\u001b[0;34m[\u001b[0m\u001b[0midx\u001b[0m\u001b[0;34m]\u001b[0m \u001b[0;32mfor\u001b[0m \u001b[0midx\u001b[0m \u001b[0;32min\u001b[0m \u001b[0mpossibly_batched_index\u001b[0m\u001b[0;34m]\u001b[0m\u001b[0;34m\u001b[0m\u001b[0;34m\u001b[0m\u001b[0m\n\u001b[0m\u001b[1;32m     50\u001b[0m         \u001b[0;32melse\u001b[0m\u001b[0;34m:\u001b[0m\u001b[0;34m\u001b[0m\u001b[0;34m\u001b[0m\u001b[0m\n\u001b[1;32m     51\u001b[0m             \u001b[0mdata\u001b[0m \u001b[0;34m=\u001b[0m \u001b[0mself\u001b[0m\u001b[0;34m.\u001b[0m\u001b[0mdataset\u001b[0m\u001b[0;34m[\u001b[0m\u001b[0mpossibly_batched_index\u001b[0m\u001b[0;34m]\u001b[0m\u001b[0;34m\u001b[0m\u001b[0;34m\u001b[0m\u001b[0m\n",
            "\u001b[0;32m/usr/local/lib/python3.7/dist-packages/torchvision/datasets/mnist.py\u001b[0m in \u001b[0;36m__getitem__\u001b[0;34m(self, index)\u001b[0m\n\u001b[1;32m    140\u001b[0m         \u001b[0;31m# doing this so that it is consistent with all other datasets\u001b[0m\u001b[0;34m\u001b[0m\u001b[0;34m\u001b[0m\u001b[0;34m\u001b[0m\u001b[0m\n\u001b[1;32m    141\u001b[0m         \u001b[0;31m# to return a PIL Image\u001b[0m\u001b[0;34m\u001b[0m\u001b[0;34m\u001b[0m\u001b[0;34m\u001b[0m\u001b[0m\n\u001b[0;32m--> 142\u001b[0;31m         \u001b[0mimg\u001b[0m \u001b[0;34m=\u001b[0m \u001b[0mImage\u001b[0m\u001b[0;34m.\u001b[0m\u001b[0mfromarray\u001b[0m\u001b[0;34m(\u001b[0m\u001b[0mimg\u001b[0m\u001b[0;34m.\u001b[0m\u001b[0mnumpy\u001b[0m\u001b[0;34m(\u001b[0m\u001b[0;34m)\u001b[0m\u001b[0;34m,\u001b[0m \u001b[0mmode\u001b[0m\u001b[0;34m=\u001b[0m\u001b[0;34m\"L\"\u001b[0m\u001b[0;34m)\u001b[0m\u001b[0;34m\u001b[0m\u001b[0;34m\u001b[0m\u001b[0m\n\u001b[0m\u001b[1;32m    143\u001b[0m \u001b[0;34m\u001b[0m\u001b[0m\n\u001b[1;32m    144\u001b[0m         \u001b[0;32mif\u001b[0m \u001b[0mself\u001b[0m\u001b[0;34m.\u001b[0m\u001b[0mtransform\u001b[0m \u001b[0;32mis\u001b[0m \u001b[0;32mnot\u001b[0m \u001b[0;32mNone\u001b[0m\u001b[0;34m:\u001b[0m\u001b[0;34m\u001b[0m\u001b[0;34m\u001b[0m\u001b[0m\n",
            "\u001b[0;32m/usr/local/lib/python3.7/dist-packages/PIL/Image.py\u001b[0m in \u001b[0;36mfromarray\u001b[0;34m(obj, mode)\u001b[0m\n\u001b[1;32m   2733\u001b[0m             \u001b[0mobj\u001b[0m \u001b[0;34m=\u001b[0m \u001b[0mobj\u001b[0m\u001b[0;34m.\u001b[0m\u001b[0mtostring\u001b[0m\u001b[0;34m(\u001b[0m\u001b[0;34m)\u001b[0m\u001b[0;34m\u001b[0m\u001b[0;34m\u001b[0m\u001b[0m\n\u001b[1;32m   2734\u001b[0m \u001b[0;34m\u001b[0m\u001b[0m\n\u001b[0;32m-> 2735\u001b[0;31m     \u001b[0;32mreturn\u001b[0m \u001b[0mfrombuffer\u001b[0m\u001b[0;34m(\u001b[0m\u001b[0mmode\u001b[0m\u001b[0;34m,\u001b[0m \u001b[0msize\u001b[0m\u001b[0;34m,\u001b[0m \u001b[0mobj\u001b[0m\u001b[0;34m,\u001b[0m \u001b[0;34m\"raw\"\u001b[0m\u001b[0;34m,\u001b[0m \u001b[0mrawmode\u001b[0m\u001b[0;34m,\u001b[0m \u001b[0;36m0\u001b[0m\u001b[0;34m,\u001b[0m \u001b[0;36m1\u001b[0m\u001b[0;34m)\u001b[0m\u001b[0;34m\u001b[0m\u001b[0;34m\u001b[0m\u001b[0m\n\u001b[0m\u001b[1;32m   2736\u001b[0m \u001b[0;34m\u001b[0m\u001b[0m\n\u001b[1;32m   2737\u001b[0m \u001b[0;34m\u001b[0m\u001b[0m\n",
            "\u001b[0;32m/usr/local/lib/python3.7/dist-packages/PIL/Image.py\u001b[0m in \u001b[0;36mfrombuffer\u001b[0;34m(mode, size, data, decoder_name, *args)\u001b[0m\n\u001b[1;32m   2668\u001b[0m             \u001b[0margs\u001b[0m \u001b[0;34m=\u001b[0m \u001b[0mmode\u001b[0m\u001b[0;34m,\u001b[0m \u001b[0;36m0\u001b[0m\u001b[0;34m,\u001b[0m \u001b[0;36m1\u001b[0m\u001b[0;34m\u001b[0m\u001b[0;34m\u001b[0m\u001b[0m\n\u001b[1;32m   2669\u001b[0m         \u001b[0;32mif\u001b[0m \u001b[0margs\u001b[0m\u001b[0;34m[\u001b[0m\u001b[0;36m0\u001b[0m\u001b[0;34m]\u001b[0m \u001b[0;32min\u001b[0m \u001b[0m_MAPMODES\u001b[0m\u001b[0;34m:\u001b[0m\u001b[0;34m\u001b[0m\u001b[0;34m\u001b[0m\u001b[0m\n\u001b[0;32m-> 2670\u001b[0;31m             \u001b[0mim\u001b[0m \u001b[0;34m=\u001b[0m \u001b[0mnew\u001b[0m\u001b[0;34m(\u001b[0m\u001b[0mmode\u001b[0m\u001b[0;34m,\u001b[0m \u001b[0;34m(\u001b[0m\u001b[0;36m1\u001b[0m\u001b[0;34m,\u001b[0m \u001b[0;36m1\u001b[0m\u001b[0;34m)\u001b[0m\u001b[0;34m)\u001b[0m\u001b[0;34m\u001b[0m\u001b[0;34m\u001b[0m\u001b[0m\n\u001b[0m\u001b[1;32m   2671\u001b[0m             \u001b[0mim\u001b[0m \u001b[0;34m=\u001b[0m \u001b[0mim\u001b[0m\u001b[0;34m.\u001b[0m\u001b[0m_new\u001b[0m\u001b[0;34m(\u001b[0m\u001b[0mcore\u001b[0m\u001b[0;34m.\u001b[0m\u001b[0mmap_buffer\u001b[0m\u001b[0;34m(\u001b[0m\u001b[0mdata\u001b[0m\u001b[0;34m,\u001b[0m \u001b[0msize\u001b[0m\u001b[0;34m,\u001b[0m \u001b[0mdecoder_name\u001b[0m\u001b[0;34m,\u001b[0m \u001b[0;36m0\u001b[0m\u001b[0;34m,\u001b[0m \u001b[0margs\u001b[0m\u001b[0;34m)\u001b[0m\u001b[0;34m)\u001b[0m\u001b[0;34m\u001b[0m\u001b[0;34m\u001b[0m\u001b[0m\n\u001b[1;32m   2672\u001b[0m             \u001b[0mim\u001b[0m\u001b[0;34m.\u001b[0m\u001b[0mreadonly\u001b[0m \u001b[0;34m=\u001b[0m \u001b[0;36m1\u001b[0m\u001b[0;34m\u001b[0m\u001b[0;34m\u001b[0m\u001b[0m\n",
            "\u001b[0;32m/usr/local/lib/python3.7/dist-packages/PIL/Image.py\u001b[0m in \u001b[0;36mnew\u001b[0;34m(mode, size, color)\u001b[0m\n\u001b[1;32m   2562\u001b[0m         \u001b[0;32mreturn\u001b[0m \u001b[0mImage\u001b[0m\u001b[0;34m(\u001b[0m\u001b[0;34m)\u001b[0m\u001b[0;34m.\u001b[0m\u001b[0m_new\u001b[0m\u001b[0;34m(\u001b[0m\u001b[0mcore\u001b[0m\u001b[0;34m.\u001b[0m\u001b[0mnew\u001b[0m\u001b[0;34m(\u001b[0m\u001b[0mmode\u001b[0m\u001b[0;34m,\u001b[0m \u001b[0msize\u001b[0m\u001b[0;34m)\u001b[0m\u001b[0;34m)\u001b[0m\u001b[0;34m\u001b[0m\u001b[0;34m\u001b[0m\u001b[0m\n\u001b[1;32m   2563\u001b[0m \u001b[0;34m\u001b[0m\u001b[0m\n\u001b[0;32m-> 2564\u001b[0;31m     \u001b[0;32mif\u001b[0m \u001b[0misinstance\u001b[0m\u001b[0;34m(\u001b[0m\u001b[0mcolor\u001b[0m\u001b[0;34m,\u001b[0m \u001b[0mstr\u001b[0m\u001b[0;34m)\u001b[0m\u001b[0;34m:\u001b[0m\u001b[0;34m\u001b[0m\u001b[0;34m\u001b[0m\u001b[0m\n\u001b[0m\u001b[1;32m   2565\u001b[0m         \u001b[0;31m# css3-style specifier\u001b[0m\u001b[0;34m\u001b[0m\u001b[0;34m\u001b[0m\u001b[0;34m\u001b[0m\u001b[0m\n\u001b[1;32m   2566\u001b[0m \u001b[0;34m\u001b[0m\u001b[0m\n",
            "\u001b[0;31mKeyboardInterrupt\u001b[0m: "
          ]
        }
      ]
    },
    {
      "cell_type": "code",
      "source": [
        "lr = 0.00095          # The size of the step taken when doing gradient descent 0.01 0.001 0.0001\n",
        "batch_size = 500        # The number of images being trained on at once\n",
        "update_interval = 100   # The number of batches trained on before recording loss\n",
        "n_epochs = 3           # The number of times we train through the entire dataset 5 10 15\n",
        "\n",
        "train_dataset, train_dataloader = load_mnist(batch_size=batch_size, train=True)\n",
        "balanced_model2 = MyMLP(784, 2)\n",
        "optimizer = torch.optim.Adam(balanced_model2.parameters(), lr=lr)\n",
        "loss_function = nn.CrossEntropyLoss()"
      ],
      "metadata": {
        "id": "cEZJUerE8_R_"
      },
      "id": "cEZJUerE8_R_",
      "execution_count": null,
      "outputs": []
    },
    {
      "cell_type": "code",
      "source": [
        "#  Training Balanced Model2\n",
        "balanced_trained_model2, balanced_losses2 = balanced_training('model2',balanced_model2, loss_function, optimizer, train_dataloader, n_epochs=n_epochs, update_interval=update_interval)\n",
        "plt.plot(np.arange(len(balanced_losses2)) * batch_size * update_interval, balanced_losses2)\n",
        "plt.title(\"training curve balanced Labels Model2,lr = {}, n_epochs = {} , update_interval = {} batch_size {}\".format(lr,n_epochs,update_interval,batch_size))\n",
        "plt.xlabel(\"number of images trained on\")\n",
        "plt.ylabel(\"loss\")\n",
        "plt.show()"
      ],
      "metadata": {
        "id": "frSn48MF9DiO",
        "colab": {
          "base_uri": "https://localhost:8080/",
          "height": 346
        },
        "outputId": "39910325-fd5a-4c9b-e1f9-aa629af92e59"
      },
      "id": "frSn48MF9DiO",
      "execution_count": null,
      "outputs": [
        {
          "output_type": "stream",
          "name": "stderr",
          "text": [
            "100%|██████████| 120/120 [00:07<00:00, 16.17it/s]\n",
            "100%|██████████| 120/120 [00:07<00:00, 16.51it/s]\n",
            "100%|██████████| 120/120 [00:07<00:00, 16.43it/s]\n"
          ]
        },
        {
          "output_type": "display_data",
          "data": {
            "text/plain": [
              "<Figure size 432x288 with 1 Axes>"
            ],
            "image/png": "[encoded data removed]"
          },
          "metadata": {
            "needs_background": "light"
          }
        }
      ]
    },
    {
      "cell_type": "code",
      "source": [
        "# Testing Balanced Model2\n",
        "test_dataset, test_dataloader = load_mnist(batch_size=batch_size, train=False)\n",
        "test_acc,test_loss = balanced_testing('model2', balanced_trained_model2, loss_function, test_dataloader)\n",
        "plt.savefig(\"Balanced Model2 Training Curve test_acc {},test_loss {}.png\".format(test_acc, test_loss))"
      ],
      "metadata": {
        "id": "PJ5fmlGu95OO",
        "colab": {
          "base_uri": "https://localhost:8080/",
          "height": 85
        },
        "outputId": "4ff14a24-9ee8-4de6-d362-0ece2dafc67c"
      },
      "id": "PJ5fmlGu95OO",
      "execution_count": null,
      "outputs": [
        {
          "output_type": "stream",
          "name": "stderr",
          "text": [
            "100%|██████████| 20/20 [00:01<00:00, 19.04it/s]"
          ]
        },
        {
          "output_type": "stream",
          "name": "stdout",
          "text": [
            "test accuracy: 98.1\n",
            "test loss: 0.06\n"
          ]
        },
        {
          "output_type": "stream",
          "name": "stderr",
          "text": [
            "\n"
          ]
        },
        {
          "output_type": "display_data",
          "data": {
            "text/plain": [
              "<Figure size 432x288 with 0 Axes>"
            ]
          },
          "metadata": {}
        }
      ]
    },
    {
      "cell_type": "code",
      "source": [
        "#hyperparameter tuning model2\n",
        "import math\n",
        "def grid_search(model,input_shape,compression_size,test_data):\n",
        "    e = math.e\n",
        "    learning_rate = [0.0008,0.0007,0.0009,0.00095,0.001,0.00085,0.00075,0.0012,0.00092]\n",
        "    n_epochs_lst = [3,5,6]\n",
        "    loss_function = nn.CrossEntropyLoss()\n",
        "    accuracy = float('-inf')\n",
        "    best_lr = 0\n",
        "    update_interval = 100\n",
        "    best_batch = 500\n",
        "    best_n_epochs = 0\n",
        "    for lr in learning_rate:\n",
        "        optimizer = torch.optim.Adam(model.parameters(), lr=lr)\n",
        "        for n_epochs in n_epochs_lst :\n",
        "            train_dataset, train_dataloader = load_mnist(batch_size=batch_size, train=True)\n",
        "            trained_model, losses = balanced_training('model2',model, loss_function, optimizer, train_dataloader, n_epochs=n_epochs, update_interval=update_interval)\n",
        "            print(lr)\n",
        "            print(n_epochs)\n",
        "            test_loss, test_accuracy = balanced_testing('model2', trained_model, loss_function, test_dataloader)\n",
        "            if test_accuracy >= accuracy:\n",
        "                best_lr = lr\n",
        "                best_n_epochs = n_epochs\n",
        "                accuracy = test_accuracy\n",
        "\n",
        "    return best_lr , best_n_epochs,test_accuracy\n",
        "\n",
        "best_lr,best_batch_size, best_n_epochs,best_acc = grid_search(balanced_model2, 784, 2, test_dataset)\n"
      ],
      "metadata": {
        "id": "sgrwKwDQcDOu"
      },
      "id": "sgrwKwDQcDOu",
      "execution_count": null,
      "outputs": []
    },
    {
      "cell_type": "code",
      "source": [
        "lr = 0.001          # The size of the step taken when doing gradient descent 0.01 0.001 0.0001\n",
        "batch_size = 500        # The number of images being trained on at once\n",
        "update_interval = 100   # The number of batches trained on before recording loss\n",
        "n_epochs = 5          # The number of times we train through the entire dataset 5 10 15\n",
        "\n",
        "train_dataset, train_dataloader = load_mnist(batch_size=batch_size, train=True)\n",
        "balanced_model3 = MyMLP(784, 2)\n",
        "optimizer = torch.optim.Adam(balanced_model3.parameters(), lr=lr)\n",
        "loss_function = nn.CrossEntropyLoss()\n"
      ],
      "metadata": {
        "id": "6UAFvH7G-Dys"
      },
      "id": "6UAFvH7G-Dys",
      "execution_count": null,
      "outputs": []
    },
    {
      "cell_type": "code",
      "source": [
        "#  Training Balanced Model3\n",
        "balanced_trained_model3, balanced_losses3 = balanced_training('model3',balanced_model3, loss_function, optimizer, train_dataloader, n_epochs=n_epochs, update_interval=update_interval)\n",
        "plt.plot(np.arange(len(balanced_losses3)) * batch_size * update_interval, balanced_losses3)\n",
        "plt.title(\"training curve balanced Labels Model3,lr = {}, n_epochs = {} , update_interval = {} batch_size = {}\".format(lr,n_epochs,update_interval,batch_size))\n",
        "plt.xlabel(\"number of images trained on\")\n",
        "plt.ylabel(\"loss\")\n",
        "plt.show()\n"
      ],
      "metadata": {
        "id": "B7LR-LxQ-H0G",
        "colab": {
          "base_uri": "https://localhost:8080/",
          "height": 380
        },
        "outputId": "22fad820-a88d-4c4e-aac5-0f134d34c6b1"
      },
      "id": "B7LR-LxQ-H0G",
      "execution_count": null,
      "outputs": [
        {
          "output_type": "stream",
          "name": "stderr",
          "text": [
            "100%|██████████| 120/120 [00:07<00:00, 16.38it/s]\n",
            "100%|██████████| 120/120 [00:07<00:00, 16.18it/s]\n",
            "100%|██████████| 120/120 [00:07<00:00, 16.56it/s]\n",
            "100%|██████████| 120/120 [00:07<00:00, 16.52it/s]\n",
            "100%|██████████| 120/120 [00:07<00:00, 16.44it/s]\n"
          ]
        },
        {
          "output_type": "display_data",
          "data": {
            "text/plain": [
              "<Figure size 432x288 with 1 Axes>"
            ],
            "image/png": "[encoded data removed]"
          },
          "metadata": {
            "needs_background": "light"
          }
        }
      ]
    },
    {
      "cell_type": "code",
      "source": [
        "# Testing Balanced Model3\n",
        "test_loss,test_acc = balanced_testing('model3', balanced_trained_model3, loss_function, test_dataloader)\n",
        "plt.savefig(\"Balanced Model3 Training Curve test_acc {} test_loss = {}.png\".format(test_loss, test_acc))\n"
      ],
      "metadata": {
        "id": "S73OrAEQ-fYn",
        "colab": {
          "base_uri": "https://localhost:8080/",
          "height": 85
        },
        "outputId": "3db23b17-2ff7-4b73-a034-a06636344d9a"
      },
      "id": "S73OrAEQ-fYn",
      "execution_count": null,
      "outputs": [
        {
          "output_type": "stream",
          "name": "stderr",
          "text": [
            "100%|██████████| 20/20 [00:01<00:00, 18.12it/s]"
          ]
        },
        {
          "output_type": "stream",
          "name": "stdout",
          "text": [
            "test accuracy: 98.48\n",
            "test loss: 0.04\n"
          ]
        },
        {
          "output_type": "stream",
          "name": "stderr",
          "text": [
            "\n"
          ]
        },
        {
          "output_type": "display_data",
          "data": {
            "text/plain": [
              "<Figure size 432x288 with 0 Axes>"
            ]
          },
          "metadata": {}
        }
      ]
    },
    {
      "cell_type": "code",
      "source": [
        "#hyperparameter tuning model3\n",
        "import math\n",
        "def grid_search(model,input_shape,compression_size,test_data):\n",
        "    e = math.e\n",
        "    learning_rate = [0.0008,0.0007,0.0009,0.00095,0.001,0.00085,0.00075,0.00092]\n",
        "    n_epochs_lst = [3,5,6]\n",
        "    loss_function = nn.CrossEntropyLoss()\n",
        "    accuracy = float('-inf')\n",
        "    best_lr = 0\n",
        "    update_interval = 100\n",
        "    best_batch = 500\n",
        "    best_n_epochs = 0\n",
        "    for lr in learning_rate:\n",
        "        optimizer = torch.optim.Adam(model.parameters(), lr=lr)\n",
        "        for n_epochs in n_epochs_lst :\n",
        "            train_dataset, train_dataloader = load_mnist(batch_size=batch_size, train=True)\n",
        "            trained_model, losses = balanced_training('model3',model, loss_function, optimizer, train_dataloader, n_epochs=n_epochs, update_interval=update_interval)\n",
        "            print(lr)\n",
        "            print(n_epochs)\n",
        "            test_loss, test_accuracy = balanced_testing('model3', trained_model, loss_function, test_dataloader)\n",
        "            if test_accuracy >= accuracy:\n",
        "                best_lr = lr\n",
        "                best_n_epochs = n_epochs\n",
        "                accuracy = test_accuracy\n",
        "\n",
        "    return best_lr , best_n_epochs,test_accuracy\n",
        "\n",
        "best_lr,best_batch_size, best_n_epochs,best_acc = grid_search(balanced_model3, 784, 2, test_dataset)\n"
      ],
      "metadata": {
        "id": "haxhcrEQ3GdW"
      },
      "id": "haxhcrEQ3GdW",
      "execution_count": null,
      "outputs": []
    },
    {
      "cell_type": "code",
      "source": [
        "lr = 0.0009          # The size of the step taken when doing gradient descent 0.01 0.001 0.0001\n",
        "batch_size = 500        # The number of images being trained on at once\n",
        "update_interval = 100   # The number of batches trained on before recording loss\n",
        "n_epochs = 6           # The number of times we train through the entire dataset 5 10 15\n",
        "\n",
        "train_dataset, train_dataloader = load_mnist(batch_size=batch_size, train=True)\n",
        "balanced_model4 = MyMLP(784, 2)\n",
        "optimizer = torch.optim.Adam(balanced_model4.parameters(), lr=lr)\n",
        "loss_function = nn.CrossEntropyLoss()"
      ],
      "metadata": {
        "id": "i50ph35b-tGO"
      },
      "id": "i50ph35b-tGO",
      "execution_count": null,
      "outputs": []
    },
    {
      "cell_type": "code",
      "source": [
        "#  Training Balanced Model4\n",
        "balanced_trained_model4, balanced_losses4 = balanced_training('model4',balanced_model4, loss_function, optimizer, train_dataloader, n_epochs=n_epochs, update_interval=update_interval)\n",
        "plt.plot(np.arange(len(balanced_losses4)) * batch_size * update_interval, balanced_losses4)\n",
        "plt.title(\"training curve balanced Labels Model4,lr = {}, n_epochs = {} , update_interval = {} batch_size = {}\".format(lr,n_epochs,update_interval,batch_size))\n",
        "plt.xlabel(\"number of images trained on\")\n",
        "plt.ylabel(\"loss\")\n",
        "plt.show()"
      ],
      "metadata": {
        "id": "II6CqLtq-uTe",
        "colab": {
          "base_uri": "https://localhost:8080/",
          "height": 397
        },
        "outputId": "6a1abd77-7a66-4ef6-da10-360b5df9694a"
      },
      "id": "II6CqLtq-uTe",
      "execution_count": null,
      "outputs": [
        {
          "output_type": "stream",
          "name": "stderr",
          "text": [
            "100%|██████████| 120/120 [00:07<00:00, 16.17it/s]\n",
            "100%|██████████| 120/120 [00:07<00:00, 16.67it/s]\n",
            "100%|██████████| 120/120 [00:07<00:00, 16.60it/s]\n",
            "100%|██████████| 120/120 [00:07<00:00, 16.48it/s]\n",
            "100%|██████████| 120/120 [00:07<00:00, 16.45it/s]\n",
            "100%|██████████| 120/120 [00:07<00:00, 16.45it/s]\n"
          ]
        },
        {
          "output_type": "display_data",
          "data": {
            "text/plain": [
              "<Figure size 432x288 with 1 Axes>"
            ],
            "image/png": "[encoded data removed]"
          },
          "metadata": {
            "needs_background": "light"
          }
        }
      ]
    },
    {
      "cell_type": "code",
      "source": [
        "# Testing Balanced Model4\n",
        "test_acc, test_loss= balanced_testing('model4', balanced_trained_model4, loss_function, test_dataloader)\n",
        "plt.savefig(\"Balanced Model4 Training Curve test_acc = {}, test_loss = {}.png\".format(test_acc, test_loss))"
      ],
      "metadata": {
        "id": "-B29aWu-_Ate",
        "colab": {
          "base_uri": "https://localhost:8080/",
          "height": 85
        },
        "outputId": "59f4e08a-e6b3-4ffb-a975-434ac17b25e9"
      },
      "id": "-B29aWu-_Ate",
      "execution_count": null,
      "outputs": [
        {
          "output_type": "stream",
          "name": "stderr",
          "text": [
            "100%|██████████| 20/20 [00:01<00:00, 19.04it/s]"
          ]
        },
        {
          "output_type": "stream",
          "name": "stdout",
          "text": [
            "test accuracy: 98.29\n",
            "test loss: 0.05\n"
          ]
        },
        {
          "output_type": "stream",
          "name": "stderr",
          "text": [
            "\n"
          ]
        },
        {
          "output_type": "display_data",
          "data": {
            "text/plain": [
              "<Figure size 432x288 with 0 Axes>"
            ]
          },
          "metadata": {}
        }
      ]
    },
    {
      "cell_type": "code",
      "source": [
        "#hyperparameter tuning model4\n",
        "import math\n",
        "def grid_search(model,input_shape,compression_size,test_data):\n",
        "    e = math.e\n",
        "    learning_rate = [0.0008,0.0007,0.0009,0.00095,0.001,0.00085,0.00075,0.0015,0.00092]\n",
        "    n_epochs_lst = [3,5,6]\n",
        "    loss_function = nn.CrossEntropyLoss()\n",
        "    accuracy = float('-inf')\n",
        "    best_lr = 0\n",
        "    update_interval = 100\n",
        "    best_batch = 500\n",
        "    best_n_epochs = 0\n",
        "    for lr in learning_rate:\n",
        "        optimizer = torch.optim.Adam(model.parameters(), lr=lr)\n",
        "        for n_epochs in n_epochs_lst :\n",
        "            train_dataset, train_dataloader = load_mnist(batch_size=batch_size, train=True)\n",
        "            trained_model, losses = balanced_training('model2',model, loss_function, optimizer, train_dataloader, n_epochs=n_epochs, update_interval=update_interval)\n",
        "            print(lr)\n",
        "            print(n_epochs)\n",
        "            test_loss, test_accuracy = balanced_testing('model2', trained_model, loss_function, test_dataloader)\n",
        "            if test_accuracy >= accuracy:\n",
        "                best_lr = lr\n",
        "                best_n_epochs = n_epochs\n",
        "                accuracy = test_accuracy\n",
        "\n",
        "    return best_lr , best_n_epochs,test_accuracy\n",
        "\n",
        "best_lr,best_batch_size, best_n_epochs,best_acc = grid_search(balanced_model4, 784, 2, test_dataset)\n"
      ],
      "metadata": {
        "id": "Ny5Iml4f3Mvi"
      },
      "id": "Ny5Iml4f3Mvi",
      "execution_count": null,
      "outputs": []
    },
    {
      "cell_type": "code",
      "source": [
        "\"\"\"def balanced_final_testing(train_dataloader, n_epochs, update_interval):\n",
        "    acc = []\n",
        "    part_loss = []\n",
        "    num_correct = 0\n",
        "    for n in range(n_epochs):\n",
        "        for i, (image, label) in enumerate(tqdm(iter(train_dataloader))):\n",
        "            # Hint: the above code essentially does one training step\n",
        "            ##############################################################\n",
        "            out1 = balanced_trained_model1(image)\n",
        "            out2 = balanced_trained_model2(image)\n",
        "            out3 = balanced_trained_model3(image)\n",
        "            out4 = balanced_trained_model4(image)\n",
        "            res = []\n",
        "            for i in range(len(out1)):\n",
        "                a = str(torch.argmax(out1[i]).numpy()) + str(torch.argmax(out2[i]).numpy()) + str(torch.argmax(out3[i]).numpy()) + str(torch.argmax(out4[i]).numpy())\n",
        "                res.append(int(a))\n",
        "            my_output = res\n",
        "            new_label = torch.Tensor([int(mapping[int(l)]) for l in label]).long()\n",
        "            num_correct = 0\n",
        "            for index in range(len(new_label)):\n",
        "                if my_output[index] == new_label[index] :\n",
        "                    num_correct = num_correct + 1\n",
        "            acc.append(num_correct/len(new_label))\n",
        "            ##############################################################\n",
        "    return acc\"\"\"\n"
      ],
      "metadata": {
        "id": "tzLRgKv0A1rR"
      },
      "id": "tzLRgKv0A1rR",
      "execution_count": null,
      "outputs": []
    },
    {
      "cell_type": "code",
      "source": [
        "def Combined_testing(train_dataloader, n_epochs, update_interval,Map,invMap):\n",
        "    acc = []\n",
        "    part_loss = []\n",
        "    num_correct = 0\n",
        "    y_test = []\n",
        "    y_pred = []\n",
        "    for n in range(n_epochs):\n",
        "        for i, (image, label) in enumerate(tqdm(iter(train_dataloader))):\n",
        "            # Hint: the above code essentially does one training step\n",
        "            ##############################################################\n",
        "            out1 = balanced_trained_model1(image)\n",
        "            out2 = balanced_trained_model2(image)\n",
        "            out3 = balanced_trained_model3(image)\n",
        "            out4 = balanced_trained_model4(image)\n",
        "            res = []\n",
        "            a = \"\"\n",
        "            for i in range(len(out1)):\n",
        "                a = str(torch.argmax(out1[i]).numpy()) + str(torch.argmax(out2[i]).numpy()) + str(torch.argmax(out3[i]).numpy()) + str(torch.argmax(out4[i]).numpy())\n",
        "                if a in invMap:\n",
        "                    y_pred.append(invMap[a])\n",
        "\n",
        "                else:\n",
        "                    y_pred.append(-1)\n",
        "                res.append(int(a))\n",
        "\n",
        "            my_output = res\n",
        "            for l in label:\n",
        "                y_test.append(l.item())\n",
        "            new_label = torch.Tensor([int(Map[int(l)]) for l in label]).long()\n",
        "            num_correct = 0\n",
        "            for index in range(len(new_label)):\n",
        "                if my_output[index] == new_label[index] :\n",
        "                    num_correct = num_correct + 1\n",
        "            acc.append(num_correct/len(new_label))\n",
        "\n",
        "    return acc,y_test,y_pred"
      ],
      "metadata": {
        "id": "7eAZdk47AC1M"
      },
      "id": "7eAZdk47AC1M",
      "execution_count": null,
      "outputs": []
    },
    {
      "cell_type": "code",
      "source": [
        "_, train_dataloader = load_mnist(batch_size=batch_size, train=True)\n",
        "acc,y_test, y_pred = Combined_testing(train_dataloader, 1, 300,Map = balancedMap,invMap=  invBalancedMap)\n",
        "plt.plot(acc)\n",
        "plt.title(\"Combined Labels of 4 Models Plot of Accuracy\")\n",
        "plt.xlabel(\"number of images trained on\")\n",
        "plt.ylabel(\"Accuracy\")\n",
        "plt.show()\n",
        "plt.savefig(\"Train Combined Model Accuracy Plot Balanced Labels.png\")"
      ],
      "metadata": {
        "id": "M_XdobCTAtQD",
        "colab": {
          "base_uri": "https://localhost:8080/",
          "height": 329
        },
        "outputId": "2cc3bb66-1518-44a1-8788-ed2c573024ff"
      },
      "id": "M_XdobCTAtQD",
      "execution_count": null,
      "outputs": [
        {
          "output_type": "stream",
          "name": "stderr",
          "text": [
            "100%|██████████| 120/120 [00:11<00:00, 10.52it/s]\n"
          ]
        },
        {
          "output_type": "display_data",
          "data": {
            "text/plain": [
              "<Figure size 432x288 with 1 Axes>"
            ],
            "image/png": "[encoded data removed]"
          },
          "metadata": {
            "needs_background": "light"
          }
        },
        {
          "output_type": "display_data",
          "data": {
            "text/plain": [
              "<Figure size 432x288 with 0 Axes>"
            ]
          },
          "metadata": {}
        }
      ]
    },
    {
      "cell_type": "code",
      "source": [
        "torch_acc = torch.tensor(acc)\n",
        "print(torch_acc.mean())\n",
        "# Final Accuracy of Combined Modules on Train Dataset"
      ],
      "metadata": {
        "id": "2lBfBReuBQNQ",
        "colab": {
          "base_uri": "https://localhost:8080/"
        },
        "outputId": "cea6b80e-23d0-4cca-c72d-6d6c303bdfa2"
      },
      "id": "2lBfBReuBQNQ",
      "execution_count": null,
      "outputs": [
        {
          "output_type": "stream",
          "name": "stdout",
          "text": [
            "tensor(0.9717)\n"
          ]
        }
      ]
    },
    {
      "cell_type": "code",
      "source": [
        "_, test_dataloader = load_mnist(batch_size=batch_size, train=False)\n",
        "acc2,y_test2, y_pred2 = Combined_testing(test_dataloader, 1, 300,Map = balancedMap,invMap=  invBalancedMap)\n",
        "plt.plot(acc2)\n",
        "plt.title(\"Combined Labels of 4 Models Plot of Accuracy\")\n",
        "plt.xlabel(\"number of images trained on\")\n",
        "plt.ylabel(\"Accuracy\")\n",
        "plt.show()\n",
        "plt.savefig(\"CNN Train Combined Model Accuracy Plot Balanced Labels.png\")"
      ],
      "metadata": {
        "id": "MFn29QWPoSNv",
        "colab": {
          "base_uri": "https://localhost:8080/",
          "height": 329
        },
        "outputId": "7e854e37-7bcb-41db-8fa5-2214692db170"
      },
      "id": "MFn29QWPoSNv",
      "execution_count": null,
      "outputs": [
        {
          "output_type": "stream",
          "name": "stderr",
          "text": [
            "100%|██████████| 20/20 [00:01<00:00, 10.53it/s]\n"
          ]
        },
        {
          "output_type": "display_data",
          "data": {
            "text/plain": [
              "<Figure size 432x288 with 1 Axes>"
            ],
            "image/png": "[encoded data removed]"
          },
          "metadata": {
            "needs_background": "light"
          }
        },
        {
          "output_type": "display_data",
          "data": {
            "text/plain": [
              "<Figure size 432x288 with 0 Axes>"
            ]
          },
          "metadata": {}
        }
      ]
    },
    {
      "cell_type": "code",
      "source": [
        "torch_acc = torch.tensor(acc2)\n",
        "print(torch_acc.mean())"
      ],
      "metadata": {
        "colab": {
          "base_uri": "https://localhost:8080/"
        },
        "id": "bdk56phQBCaO",
        "outputId": "9cba5b56-ae7c-4230-da95-75abba3b90dd"
      },
      "id": "bdk56phQBCaO",
      "execution_count": null,
      "outputs": [
        {
          "output_type": "stream",
          "name": "stdout",
          "text": [
            "tensor(0.9487)\n"
          ]
        }
      ]
    },
    {
      "cell_type": "code",
      "source": [
        "# Plot Combined Training of all 4 Balanced models\n",
        "# plot lines\n",
        "# plt.sub\n",
        "plt.plot(np.arange(len(balanced_losses1)) * batch_size * update_interval, balanced_losses1, label = 'BalancedModel1')\n",
        "plt.plot(np.arange(len(balanced_losses2)) * batch_size * update_interval, balanced_losses2,label ='BalancedModel2')\n",
        "plt.plot(np.arange(len(balanced_losses3)) * batch_size * update_interval, balanced_losses3,label = 'BalancedModel3')\n",
        "plt.plot(np.arange(len(balanced_losses4)) * batch_size * update_interval, balanced_losses4,label = 'BalancedModel4')\n",
        "plt.xlabel(\"number of images trained on\")\n",
        "plt.ylabel(\"Loss\")\n",
        "plt.legend()\n",
        "plt.show()\n"
      ],
      "metadata": {
        "colab": {
          "base_uri": "https://localhost:8080/",
          "height": 279
        },
        "id": "rBGB-zjyBCOV",
        "outputId": "e27d72ab-cc9a-4ba6-a61f-76879a101542"
      },
      "id": "rBGB-zjyBCOV",
      "execution_count": null,
      "outputs": [
        {
          "output_type": "display_data",
          "data": {
            "text/plain": [
              "<Figure size 432x288 with 1 Axes>"
            ],
            "image/png": "[encoded data removed]"
          },
          "metadata": {
            "needs_background": "light"
          }
        }
      ]
    },
    {
      "cell_type": "code",
      "source": [
        "print(len(y_test))\n",
        "from sklearn.metrics import confusion_matrix\n",
        "import seaborn as sn\n",
        "import pandas as pd\n",
        "classes = [0,1,2,3,4,5,6,7,8,9,10,11,12,13,14,15]\n",
        "# conf_mat = confusion_matrix(y_test, y_pred)\n",
        "cf_matrix = confusion_matrix(y_test, y_pred)\n",
        "# sn.heatmap(conf_mat, square=True, annot=True, cmap='Blues', fmt=\"d\", cbar=False)\n",
        "df_cm = pd.DataFrame(cf_matrix/np.sum(cf_matrix) *10, index = [i for i in classes],\n",
        "                     columns = [i for i in classes])\n",
        "plt.figure(figsize = (12,7))\n",
        "sn.heatmap(df_cm, annot=True)\n",
        "plt.show()\n",
        "plt.savefig(\"Confusion Matrix on Balanced Dataset.jpg\")"
      ],
      "metadata": {
        "id": "o4p7S3BTpB3q",
        "colab": {
          "base_uri": "https://localhost:8080/",
          "height": 462
        },
        "outputId": "e610e075-0d75-40e3-9420-1b6fcba3c800"
      },
      "id": "o4p7S3BTpB3q",
      "execution_count": null,
      "outputs": [
        {
          "output_type": "stream",
          "name": "stdout",
          "text": [
            "60000\n"
          ]
        },
        {
          "output_type": "display_data",
          "data": {
            "text/plain": [
              "<Figure size 864x504 with 2 Axes>"
            ],
            "image/png": "[encoded data removed]"
          },
          "metadata": {
            "needs_background": "light"
          }
        },
        {
          "output_type": "display_data",
          "data": {
            "text/plain": [
              "<Figure size 432x288 with 0 Axes>"
            ]
          },
          "metadata": {}
        }
      ]
    }
  ],
  "metadata": {
    "colab": {
      "provenance": []
    },
    "kernelspec": {
      "display_name": "Python 3",
      "language": "python",
      "name": "python3"
    },
    "language_info": {
      "codemirror_mode": {
        "name": "ipython",
        "version": 3
      },
      "file_extension": ".py",
      "mimetype": "text/x-python",
      "name": "python",
      "nbconvert_exporter": "python",
      "pygments_lexer": "ipython3",
      "version": "3.8.8"
    },
    "widgets": {
      "application/vnd.jupyter.widget-state+json": {
        "8110fcca620b47628aba6b710f1d7f84": {
          "model_module": "@jupyter-widgets/controls",
          "model_name": "HBoxModel",
          "model_module_version": "1.5.0",
          "state": {
            "_dom_classes": [],
            "_model_module": "@jupyter-widgets/controls",
            "_model_module_version": "1.5.0",
            "_model_name": "HBoxModel",
            "_view_count": null,
            "_view_module": "@jupyter-widgets/controls",
            "_view_module_version": "1.5.0",
            "_view_name": "HBoxView",
            "box_style": "",
            "children": [
              "IPY_MODEL_9e42c4a0496d4431b1a30d2351e3c4f5",
              "IPY_MODEL_faccf26af8a541f39620e2b47637e8aa",
              "IPY_MODEL_d51be7646fc84dc1b63cbf8994e61cf6"
            ],
            "layout": "IPY_MODEL_9f4076b9d0f54f15b59c4b70239383ce"
          }
        },
        "9e42c4a0496d4431b1a30d2351e3c4f5": {
          "model_module": "@jupyter-widgets/controls",
          "model_name": "HTMLModel",
          "model_module_version": "1.5.0",
          "state": {
            "_dom_classes": [],
            "_model_module": "@jupyter-widgets/controls",
            "_model_module_version": "1.5.0",
            "_model_name": "HTMLModel",
            "_view_count": null,
            "_view_module": "@jupyter-widgets/controls",
            "_view_module_version": "1.5.0",
            "_view_name": "HTMLView",
            "description": "",
            "description_tooltip": null,
            "layout": "IPY_MODEL_f95b002bd4564641b22185d3d7dde91c",
            "placeholder": "​",
            "style": "IPY_MODEL_5e799d54dae04a2db8d18ec4788486a4",
            "value": ""
          }
        },
        "faccf26af8a541f39620e2b47637e8aa": {
          "model_module": "@jupyter-widgets/controls",
          "model_name": "FloatProgressModel",
          "model_module_version": "1.5.0",
          "state": {
            "_dom_classes": [],
            "_model_module": "@jupyter-widgets/controls",
            "_model_module_version": "1.5.0",
            "_model_name": "FloatProgressModel",
            "_view_count": null,
            "_view_module": "@jupyter-widgets/controls",
            "_view_module_version": "1.5.0",
            "_view_name": "ProgressView",
            "bar_style": "success",
            "description": "",
            "description_tooltip": null,
            "layout": "IPY_MODEL_792ca8b479324111926a59ae70689861",
            "max": 9912422,
            "min": 0,
            "orientation": "horizontal",
            "style": "IPY_MODEL_87f3beb2d27549cc873ed4f3436264be",
            "value": 9912422
          }
        },
        "d51be7646fc84dc1b63cbf8994e61cf6": {
          "model_module": "@jupyter-widgets/controls",
          "model_name": "HTMLModel",
          "model_module_version": "1.5.0",
          "state": {
            "_dom_classes": [],
            "_model_module": "@jupyter-widgets/controls",
            "_model_module_version": "1.5.0",
            "_model_name": "HTMLModel",
            "_view_count": null,
            "_view_module": "@jupyter-widgets/controls",
            "_view_module_version": "1.5.0",
            "_view_name": "HTMLView",
            "description": "",
            "description_tooltip": null,
            "layout": "IPY_MODEL_29e359929b104f4bae02bc8a0387baef",
            "placeholder": "​",
            "style": "IPY_MODEL_60c8bcf057db4a1ebc0deb3e3077d81b",
            "value": " 9913344/? [00:00&lt;00:00, 21862219.88it/s]"
          }
        },
        "9f4076b9d0f54f15b59c4b70239383ce": {
          "model_module": "@jupyter-widgets/base",
          "model_name": "LayoutModel",
          "model_module_version": "1.2.0",
          "state": {
            "_model_module": "@jupyter-widgets/base",
            "_model_module_version": "1.2.0",
            "_model_name": "LayoutModel",
            "_view_count": null,
            "_view_module": "@jupyter-widgets/base",
            "_view_module_version": "1.2.0",
            "_view_name": "LayoutView",
            "align_content": null,
            "align_items": null,
            "align_self": null,
            "border": null,
            "bottom": null,
            "display": null,
            "flex": null,
            "flex_flow": null,
            "grid_area": null,
            "grid_auto_columns": null,
            "grid_auto_flow": null,
            "grid_auto_rows": null,
            "grid_column": null,
            "grid_gap": null,
            "grid_row": null,
            "grid_template_areas": null,
            "grid_template_columns": null,
            "grid_template_rows": null,
            "height": null,
            "justify_content": null,
            "justify_items": null,
            "left": null,
            "margin": null,
            "max_height": null,
            "max_width": null,
            "min_height": null,
            "min_width": null,
            "object_fit": null,
            "object_position": null,
            "order": null,
            "overflow": null,
            "overflow_x": null,
            "overflow_y": null,
            "padding": null,
            "right": null,
            "top": null,
            "visibility": null,
            "width": null
          }
        },
        "f95b002bd4564641b22185d3d7dde91c": {
          "model_module": "@jupyter-widgets/base",
          "model_name": "LayoutModel",
          "model_module_version": "1.2.0",
          "state": {
            "_model_module": "@jupyter-widgets/base",
            "_model_module_version": "1.2.0",
            "_model_name": "LayoutModel",
            "_view_count": null,
            "_view_module": "@jupyter-widgets/base",
            "_view_module_version": "1.2.0",
            "_view_name": "LayoutView",
            "align_content": null,
            "align_items": null,
            "align_self": null,
            "border": null,
            "bottom": null,
            "display": null,
            "flex": null,
            "flex_flow": null,
            "grid_area": null,
            "grid_auto_columns": null,
            "grid_auto_flow": null,
            "grid_auto_rows": null,
            "grid_column": null,
            "grid_gap": null,
            "grid_row": null,
            "grid_template_areas": null,
            "grid_template_columns": null,
            "grid_template_rows": null,
            "height": null,
            "justify_content": null,
            "justify_items": null,
            "left": null,
            "margin": null,
            "max_height": null,
            "max_width": null,
            "min_height": null,
            "min_width": null,
            "object_fit": null,
            "object_position": null,
            "order": null,
            "overflow": null,
            "overflow_x": null,
            "overflow_y": null,
            "padding": null,
            "right": null,
            "top": null,
            "visibility": null,
            "width": null
          }
        },
        "5e799d54dae04a2db8d18ec4788486a4": {
          "model_module": "@jupyter-widgets/controls",
          "model_name": "DescriptionStyleModel",
          "model_module_version": "1.5.0",
          "state": {
            "_model_module": "@jupyter-widgets/controls",
            "_model_module_version": "1.5.0",
            "_model_name": "DescriptionStyleModel",
            "_view_count": null,
            "_view_module": "@jupyter-widgets/base",
            "_view_module_version": "1.2.0",
            "_view_name": "StyleView",
            "description_width": ""
          }
        },
        "792ca8b479324111926a59ae70689861": {
          "model_module": "@jupyter-widgets/base",
          "model_name": "LayoutModel",
          "model_module_version": "1.2.0",
          "state": {
            "_model_module": "@jupyter-widgets/base",
            "_model_module_version": "1.2.0",
            "_model_name": "LayoutModel",
            "_view_count": null,
            "_view_module": "@jupyter-widgets/base",
            "_view_module_version": "1.2.0",
            "_view_name": "LayoutView",
            "align_content": null,
            "align_items": null,
            "align_self": null,
            "border": null,
            "bottom": null,
            "display": null,
            "flex": null,
            "flex_flow": null,
            "grid_area": null,
            "grid_auto_columns": null,
            "grid_auto_flow": null,
            "grid_auto_rows": null,
            "grid_column": null,
            "grid_gap": null,
            "grid_row": null,
            "grid_template_areas": null,
            "grid_template_columns": null,
            "grid_template_rows": null,
            "height": null,
            "justify_content": null,
            "justify_items": null,
            "left": null,
            "margin": null,
            "max_height": null,
            "max_width": null,
            "min_height": null,
            "min_width": null,
            "object_fit": null,
            "object_position": null,
            "order": null,
            "overflow": null,
            "overflow_x": null,
            "overflow_y": null,
            "padding": null,
            "right": null,
            "top": null,
            "visibility": null,
            "width": null
          }
        },
        "87f3beb2d27549cc873ed4f3436264be": {
          "model_module": "@jupyter-widgets/controls",
          "model_name": "ProgressStyleModel",
          "model_module_version": "1.5.0",
          "state": {
            "_model_module": "@jupyter-widgets/controls",
            "_model_module_version": "1.5.0",
            "_model_name": "ProgressStyleModel",
            "_view_count": null,
            "_view_module": "@jupyter-widgets/base",
            "_view_module_version": "1.2.0",
            "_view_name": "StyleView",
            "bar_color": null,
            "description_width": ""
          }
        },
        "29e359929b104f4bae02bc8a0387baef": {
          "model_module": "@jupyter-widgets/base",
          "model_name": "LayoutModel",
          "model_module_version": "1.2.0",
          "state": {
            "_model_module": "@jupyter-widgets/base",
            "_model_module_version": "1.2.0",
            "_model_name": "LayoutModel",
            "_view_count": null,
            "_view_module": "@jupyter-widgets/base",
            "_view_module_version": "1.2.0",
            "_view_name": "LayoutView",
            "align_content": null,
            "align_items": null,
            "align_self": null,
            "border": null,
            "bottom": null,
            "display": null,
            "flex": null,
            "flex_flow": null,
            "grid_area": null,
            "grid_auto_columns": null,
            "grid_auto_flow": null,
            "grid_auto_rows": null,
            "grid_column": null,
            "grid_gap": null,
            "grid_row": null,
            "grid_template_areas": null,
            "grid_template_columns": null,
            "grid_template_rows": null,
            "height": null,
            "justify_content": null,
            "justify_items": null,
            "left": null,
            "margin": null,
            "max_height": null,
            "max_width": null,
            "min_height": null,
            "min_width": null,
            "object_fit": null,
            "object_position": null,
            "order": null,
            "overflow": null,
            "overflow_x": null,
            "overflow_y": null,
            "padding": null,
            "right": null,
            "top": null,
            "visibility": null,
            "width": null
          }
        },
        "60c8bcf057db4a1ebc0deb3e3077d81b": {
          "model_module": "@jupyter-widgets/controls",
          "model_name": "DescriptionStyleModel",
          "model_module_version": "1.5.0",
          "state": {
            "_model_module": "@jupyter-widgets/controls",
            "_model_module_version": "1.5.0",
            "_model_name": "DescriptionStyleModel",
            "_view_count": null,
            "_view_module": "@jupyter-widgets/base",
            "_view_module_version": "1.2.0",
            "_view_name": "StyleView",
            "description_width": ""
          }
        },
        "6e04a1d16e6345f5bee8fc92e1f54b6e": {
          "model_module": "@jupyter-widgets/controls",
          "model_name": "HBoxModel",
          "model_module_version": "1.5.0",
          "state": {
            "_dom_classes": [],
            "_model_module": "@jupyter-widgets/controls",
            "_model_module_version": "1.5.0",
            "_model_name": "HBoxModel",
            "_view_count": null,
            "_view_module": "@jupyter-widgets/controls",
            "_view_module_version": "1.5.0",
            "_view_name": "HBoxView",
            "box_style": "",
            "children": [
              "IPY_MODEL_7baf88f0958843b2bf193c6da16ecf80",
              "IPY_MODEL_6400022415d4497f86aed2b8d136d697",
              "IPY_MODEL_e1fcab82306c42308b984086889dfcf0"
            ],
            "layout": "IPY_MODEL_38a4d2806b9846a389b4a1f227b7a26f"
          }
        },
        "7baf88f0958843b2bf193c6da16ecf80": {
          "model_module": "@jupyter-widgets/controls",
          "model_name": "HTMLModel",
          "model_module_version": "1.5.0",
          "state": {
            "_dom_classes": [],
            "_model_module": "@jupyter-widgets/controls",
            "_model_module_version": "1.5.0",
            "_model_name": "HTMLModel",
            "_view_count": null,
            "_view_module": "@jupyter-widgets/controls",
            "_view_module_version": "1.5.0",
            "_view_name": "HTMLView",
            "description": "",
            "description_tooltip": null,
            "layout": "IPY_MODEL_dc7ba1c43b29453aa42da745f7720680",
            "placeholder": "​",
            "style": "IPY_MODEL_c795793d6963456994d2af25ca008a07",
            "value": ""
          }
        },
        "6400022415d4497f86aed2b8d136d697": {
          "model_module": "@jupyter-widgets/controls",
          "model_name": "FloatProgressModel",
          "model_module_version": "1.5.0",
          "state": {
            "_dom_classes": [],
            "_model_module": "@jupyter-widgets/controls",
            "_model_module_version": "1.5.0",
            "_model_name": "FloatProgressModel",
            "_view_count": null,
            "_view_module": "@jupyter-widgets/controls",
            "_view_module_version": "1.5.0",
            "_view_name": "ProgressView",
            "bar_style": "success",
            "description": "",
            "description_tooltip": null,
            "layout": "IPY_MODEL_54b1fcce844c47d78b606c71033ae89b",
            "max": 28881,
            "min": 0,
            "orientation": "horizontal",
            "style": "IPY_MODEL_8aa1969bbfd649c1aba90ad93aa6de74",
            "value": 28881
          }
        },
        "e1fcab82306c42308b984086889dfcf0": {
          "model_module": "@jupyter-widgets/controls",
          "model_name": "HTMLModel",
          "model_module_version": "1.5.0",
          "state": {
            "_dom_classes": [],
            "_model_module": "@jupyter-widgets/controls",
            "_model_module_version": "1.5.0",
            "_model_name": "HTMLModel",
            "_view_count": null,
            "_view_module": "@jupyter-widgets/controls",
            "_view_module_version": "1.5.0",
            "_view_name": "HTMLView",
            "description": "",
            "description_tooltip": null,
            "layout": "IPY_MODEL_90269e4e452644c5b6305e5b20114531",
            "placeholder": "​",
            "style": "IPY_MODEL_fecc0d0f59dd4949b49f677e02b2a04f",
            "value": " 29696/? [00:00&lt;00:00, 837045.55it/s]"
          }
        },
        "38a4d2806b9846a389b4a1f227b7a26f": {
          "model_module": "@jupyter-widgets/base",
          "model_name": "LayoutModel",
          "model_module_version": "1.2.0",
          "state": {
            "_model_module": "@jupyter-widgets/base",
            "_model_module_version": "1.2.0",
            "_model_name": "LayoutModel",
            "_view_count": null,
            "_view_module": "@jupyter-widgets/base",
            "_view_module_version": "1.2.0",
            "_view_name": "LayoutView",
            "align_content": null,
            "align_items": null,
            "align_self": null,
            "border": null,
            "bottom": null,
            "display": null,
            "flex": null,
            "flex_flow": null,
            "grid_area": null,
            "grid_auto_columns": null,
            "grid_auto_flow": null,
            "grid_auto_rows": null,
            "grid_column": null,
            "grid_gap": null,
            "grid_row": null,
            "grid_template_areas": null,
            "grid_template_columns": null,
            "grid_template_rows": null,
            "height": null,
            "justify_content": null,
            "justify_items": null,
            "left": null,
            "margin": null,
            "max_height": null,
            "max_width": null,
            "min_height": null,
            "min_width": null,
            "object_fit": null,
            "object_position": null,
            "order": null,
            "overflow": null,
            "overflow_x": null,
            "overflow_y": null,
            "padding": null,
            "right": null,
            "top": null,
            "visibility": null,
            "width": null
          }
        },
        "dc7ba1c43b29453aa42da745f7720680": {
          "model_module": "@jupyter-widgets/base",
          "model_name": "LayoutModel",
          "model_module_version": "1.2.0",
          "state": {
            "_model_module": "@jupyter-widgets/base",
            "_model_module_version": "1.2.0",
            "_model_name": "LayoutModel",
            "_view_count": null,
            "_view_module": "@jupyter-widgets/base",
            "_view_module_version": "1.2.0",
            "_view_name": "LayoutView",
            "align_content": null,
            "align_items": null,
            "align_self": null,
            "border": null,
            "bottom": null,
            "display": null,
            "flex": null,
            "flex_flow": null,
            "grid_area": null,
            "grid_auto_columns": null,
            "grid_auto_flow": null,
            "grid_auto_rows": null,
            "grid_column": null,
            "grid_gap": null,
            "grid_row": null,
            "grid_template_areas": null,
            "grid_template_columns": null,
            "grid_template_rows": null,
            "height": null,
            "justify_content": null,
            "justify_items": null,
            "left": null,
            "margin": null,
            "max_height": null,
            "max_width": null,
            "min_height": null,
            "min_width": null,
            "object_fit": null,
            "object_position": null,
            "order": null,
            "overflow": null,
            "overflow_x": null,
            "overflow_y": null,
            "padding": null,
            "right": null,
            "top": null,
            "visibility": null,
            "width": null
          }
        },
        "c795793d6963456994d2af25ca008a07": {
          "model_module": "@jupyter-widgets/controls",
          "model_name": "DescriptionStyleModel",
          "model_module_version": "1.5.0",
          "state": {
            "_model_module": "@jupyter-widgets/controls",
            "_model_module_version": "1.5.0",
            "_model_name": "DescriptionStyleModel",
            "_view_count": null,
            "_view_module": "@jupyter-widgets/base",
            "_view_module_version": "1.2.0",
            "_view_name": "StyleView",
            "description_width": ""
          }
        },
        "54b1fcce844c47d78b606c71033ae89b": {
          "model_module": "@jupyter-widgets/base",
          "model_name": "LayoutModel",
          "model_module_version": "1.2.0",
          "state": {
            "_model_module": "@jupyter-widgets/base",
            "_model_module_version": "1.2.0",
            "_model_name": "LayoutModel",
            "_view_count": null,
            "_view_module": "@jupyter-widgets/base",
            "_view_module_version": "1.2.0",
            "_view_name": "LayoutView",
            "align_content": null,
            "align_items": null,
            "align_self": null,
            "border": null,
            "bottom": null,
            "display": null,
            "flex": null,
            "flex_flow": null,
            "grid_area": null,
            "grid_auto_columns": null,
            "grid_auto_flow": null,
            "grid_auto_rows": null,
            "grid_column": null,
            "grid_gap": null,
            "grid_row": null,
            "grid_template_areas": null,
            "grid_template_columns": null,
            "grid_template_rows": null,
            "height": null,
            "justify_content": null,
            "justify_items": null,
            "left": null,
            "margin": null,
            "max_height": null,
            "max_width": null,
            "min_height": null,
            "min_width": null,
            "object_fit": null,
            "object_position": null,
            "order": null,
            "overflow": null,
            "overflow_x": null,
            "overflow_y": null,
            "padding": null,
            "right": null,
            "top": null,
            "visibility": null,
            "width": null
          }
        },
        "8aa1969bbfd649c1aba90ad93aa6de74": {
          "model_module": "@jupyter-widgets/controls",
          "model_name": "ProgressStyleModel",
          "model_module_version": "1.5.0",
          "state": {
            "_model_module": "@jupyter-widgets/controls",
            "_model_module_version": "1.5.0",
            "_model_name": "ProgressStyleModel",
            "_view_count": null,
            "_view_module": "@jupyter-widgets/base",
            "_view_module_version": "1.2.0",
            "_view_name": "StyleView",
            "bar_color": null,
            "description_width": ""
          }
        },
        "90269e4e452644c5b6305e5b20114531": {
          "model_module": "@jupyter-widgets/base",
          "model_name": "LayoutModel",
          "model_module_version": "1.2.0",
          "state": {
            "_model_module": "@jupyter-widgets/base",
            "_model_module_version": "1.2.0",
            "_model_name": "LayoutModel",
            "_view_count": null,
            "_view_module": "@jupyter-widgets/base",
            "_view_module_version": "1.2.0",
            "_view_name": "LayoutView",
            "align_content": null,
            "align_items": null,
            "align_self": null,
            "border": null,
            "bottom": null,
            "display": null,
            "flex": null,
            "flex_flow": null,
            "grid_area": null,
            "grid_auto_columns": null,
            "grid_auto_flow": null,
            "grid_auto_rows": null,
            "grid_column": null,
            "grid_gap": null,
            "grid_row": null,
            "grid_template_areas": null,
            "grid_template_columns": null,
            "grid_template_rows": null,
            "height": null,
            "justify_content": null,
            "justify_items": null,
            "left": null,
            "margin": null,
            "max_height": null,
            "max_width": null,
            "min_height": null,
            "min_width": null,
            "object_fit": null,
            "object_position": null,
            "order": null,
            "overflow": null,
            "overflow_x": null,
            "overflow_y": null,
            "padding": null,
            "right": null,
            "top": null,
            "visibility": null,
            "width": null
          }
        },
        "fecc0d0f59dd4949b49f677e02b2a04f": {
          "model_module": "@jupyter-widgets/controls",
          "model_name": "DescriptionStyleModel",
          "model_module_version": "1.5.0",
          "state": {
            "_model_module": "@jupyter-widgets/controls",
            "_model_module_version": "1.5.0",
            "_model_name": "DescriptionStyleModel",
            "_view_count": null,
            "_view_module": "@jupyter-widgets/base",
            "_view_module_version": "1.2.0",
            "_view_name": "StyleView",
            "description_width": ""
          }
        },
        "15277ab742e7418082b9352dd3a41068": {
          "model_module": "@jupyter-widgets/controls",
          "model_name": "HBoxModel",
          "model_module_version": "1.5.0",
          "state": {
            "_dom_classes": [],
            "_model_module": "@jupyter-widgets/controls",
            "_model_module_version": "1.5.0",
            "_model_name": "HBoxModel",
            "_view_count": null,
            "_view_module": "@jupyter-widgets/controls",
            "_view_module_version": "1.5.0",
            "_view_name": "HBoxView",
            "box_style": "",
            "children": [
              "IPY_MODEL_d5dad1af575c486cb150d83dfbfd8743",
              "IPY_MODEL_bd9dee77b28f401da82f582f80d7a3a7",
              "IPY_MODEL_9cb48454c607470f8202a4ee304e6311"
            ],
            "layout": "IPY_MODEL_fc3c1e4e9a474f28ad86a47428fb8035"
          }
        },
        "d5dad1af575c486cb150d83dfbfd8743": {
          "model_module": "@jupyter-widgets/controls",
          "model_name": "HTMLModel",
          "model_module_version": "1.5.0",
          "state": {
            "_dom_classes": [],
            "_model_module": "@jupyter-widgets/controls",
            "_model_module_version": "1.5.0",
            "_model_name": "HTMLModel",
            "_view_count": null,
            "_view_module": "@jupyter-widgets/controls",
            "_view_module_version": "1.5.0",
            "_view_name": "HTMLView",
            "description": "",
            "description_tooltip": null,
            "layout": "IPY_MODEL_eb70fc26b9b7446d88773260364de8f4",
            "placeholder": "​",
            "style": "IPY_MODEL_1d58d364b3f948eabb6ef4a2e5ed1f7c",
            "value": ""
          }
        },
        "bd9dee77b28f401da82f582f80d7a3a7": {
          "model_module": "@jupyter-widgets/controls",
          "model_name": "FloatProgressModel",
          "model_module_version": "1.5.0",
          "state": {
            "_dom_classes": [],
            "_model_module": "@jupyter-widgets/controls",
            "_model_module_version": "1.5.0",
            "_model_name": "FloatProgressModel",
            "_view_count": null,
            "_view_module": "@jupyter-widgets/controls",
            "_view_module_version": "1.5.0",
            "_view_name": "ProgressView",
            "bar_style": "success",
            "description": "",
            "description_tooltip": null,
            "layout": "IPY_MODEL_30bac7b9641b478dbedfd434fbf91ef9",
            "max": 1648877,
            "min": 0,
            "orientation": "horizontal",
            "style": "IPY_MODEL_cf7ef6db974e42c1a7dbaee3144b172f",
            "value": 1648877
          }
        },
        "9cb48454c607470f8202a4ee304e6311": {
          "model_module": "@jupyter-widgets/controls",
          "model_name": "HTMLModel",
          "model_module_version": "1.5.0",
          "state": {
            "_dom_classes": [],
            "_model_module": "@jupyter-widgets/controls",
            "_model_module_version": "1.5.0",
            "_model_name": "HTMLModel",
            "_view_count": null,
            "_view_module": "@jupyter-widgets/controls",
            "_view_module_version": "1.5.0",
            "_view_name": "HTMLView",
            "description": "",
            "description_tooltip": null,
            "layout": "IPY_MODEL_7ab5f8d6e0d84bf8ad81cb4c98c1d5d2",
            "placeholder": "​",
            "style": "IPY_MODEL_1e4e1db19a714105a7905042e0c5cf14",
            "value": " 1649664/? [00:00&lt;00:00, 1829051.78it/s]"
          }
        },
        "fc3c1e4e9a474f28ad86a47428fb8035": {
          "model_module": "@jupyter-widgets/base",
          "model_name": "LayoutModel",
          "model_module_version": "1.2.0",
          "state": {
            "_model_module": "@jupyter-widgets/base",
            "_model_module_version": "1.2.0",
            "_model_name": "LayoutModel",
            "_view_count": null,
            "_view_module": "@jupyter-widgets/base",
            "_view_module_version": "1.2.0",
            "_view_name": "LayoutView",
            "align_content": null,
            "align_items": null,
            "align_self": null,
            "border": null,
            "bottom": null,
            "display": null,
            "flex": null,
            "flex_flow": null,
            "grid_area": null,
            "grid_auto_columns": null,
            "grid_auto_flow": null,
            "grid_auto_rows": null,
            "grid_column": null,
            "grid_gap": null,
            "grid_row": null,
            "grid_template_areas": null,
            "grid_template_columns": null,
            "grid_template_rows": null,
            "height": null,
            "justify_content": null,
            "justify_items": null,
            "left": null,
            "margin": null,
            "max_height": null,
            "max_width": null,
            "min_height": null,
            "min_width": null,
            "object_fit": null,
            "object_position": null,
            "order": null,
            "overflow": null,
            "overflow_x": null,
            "overflow_y": null,
            "padding": null,
            "right": null,
            "top": null,
            "visibility": null,
            "width": null
          }
        },
        "eb70fc26b9b7446d88773260364de8f4": {
          "model_module": "@jupyter-widgets/base",
          "model_name": "LayoutModel",
          "model_module_version": "1.2.0",
          "state": {
            "_model_module": "@jupyter-widgets/base",
            "_model_module_version": "1.2.0",
            "_model_name": "LayoutModel",
            "_view_count": null,
            "_view_module": "@jupyter-widgets/base",
            "_view_module_version": "1.2.0",
            "_view_name": "LayoutView",
            "align_content": null,
            "align_items": null,
            "align_self": null,
            "border": null,
            "bottom": null,
            "display": null,
            "flex": null,
            "flex_flow": null,
            "grid_area": null,
            "grid_auto_columns": null,
            "grid_auto_flow": null,
            "grid_auto_rows": null,
            "grid_column": null,
            "grid_gap": null,
            "grid_row": null,
            "grid_template_areas": null,
            "grid_template_columns": null,
            "grid_template_rows": null,
            "height": null,
            "justify_content": null,
            "justify_items": null,
            "left": null,
            "margin": null,
            "max_height": null,
            "max_width": null,
            "min_height": null,
            "min_width": null,
            "object_fit": null,
            "object_position": null,
            "order": null,
            "overflow": null,
            "overflow_x": null,
            "overflow_y": null,
            "padding": null,
            "right": null,
            "top": null,
            "visibility": null,
            "width": null
          }
        },
        "1d58d364b3f948eabb6ef4a2e5ed1f7c": {
          "model_module": "@jupyter-widgets/controls",
          "model_name": "DescriptionStyleModel",
          "model_module_version": "1.5.0",
          "state": {
            "_model_module": "@jupyter-widgets/controls",
            "_model_module_version": "1.5.0",
            "_model_name": "DescriptionStyleModel",
            "_view_count": null,
            "_view_module": "@jupyter-widgets/base",
            "_view_module_version": "1.2.0",
            "_view_name": "StyleView",
            "description_width": ""
          }
        },
        "30bac7b9641b478dbedfd434fbf91ef9": {
          "model_module": "@jupyter-widgets/base",
          "model_name": "LayoutModel",
          "model_module_version": "1.2.0",
          "state": {
            "_model_module": "@jupyter-widgets/base",
            "_model_module_version": "1.2.0",
            "_model_name": "LayoutModel",
            "_view_count": null,
            "_view_module": "@jupyter-widgets/base",
            "_view_module_version": "1.2.0",
            "_view_name": "LayoutView",
            "align_content": null,
            "align_items": null,
            "align_self": null,
            "border": null,
            "bottom": null,
            "display": null,
            "flex": null,
            "flex_flow": null,
            "grid_area": null,
            "grid_auto_columns": null,
            "grid_auto_flow": null,
            "grid_auto_rows": null,
            "grid_column": null,
            "grid_gap": null,
            "grid_row": null,
            "grid_template_areas": null,
            "grid_template_columns": null,
            "grid_template_rows": null,
            "height": null,
            "justify_content": null,
            "justify_items": null,
            "left": null,
            "margin": null,
            "max_height": null,
            "max_width": null,
            "min_height": null,
            "min_width": null,
            "object_fit": null,
            "object_position": null,
            "order": null,
            "overflow": null,
            "overflow_x": null,
            "overflow_y": null,
            "padding": null,
            "right": null,
            "top": null,
            "visibility": null,
            "width": null
          }
        },
        "cf7ef6db974e42c1a7dbaee3144b172f": {
          "model_module": "@jupyter-widgets/controls",
          "model_name": "ProgressStyleModel",
          "model_module_version": "1.5.0",
          "state": {
            "_model_module": "@jupyter-widgets/controls",
            "_model_module_version": "1.5.0",
            "_model_name": "ProgressStyleModel",
            "_view_count": null,
            "_view_module": "@jupyter-widgets/base",
            "_view_module_version": "1.2.0",
            "_view_name": "StyleView",
            "bar_color": null,
            "description_width": ""
          }
        },
        "7ab5f8d6e0d84bf8ad81cb4c98c1d5d2": {
          "model_module": "@jupyter-widgets/base",
          "model_name": "LayoutModel",
          "model_module_version": "1.2.0",
          "state": {
            "_model_module": "@jupyter-widgets/base",
            "_model_module_version": "1.2.0",
            "_model_name": "LayoutModel",
            "_view_count": null,
            "_view_module": "@jupyter-widgets/base",
            "_view_module_version": "1.2.0",
            "_view_name": "LayoutView",
            "align_content": null,
            "align_items": null,
            "align_self": null,
            "border": null,
            "bottom": null,
            "display": null,
            "flex": null,
            "flex_flow": null,
            "grid_area": null,
            "grid_auto_columns": null,
            "grid_auto_flow": null,
            "grid_auto_rows": null,
            "grid_column": null,
            "grid_gap": null,
            "grid_row": null,
            "grid_template_areas": null,
            "grid_template_columns": null,
            "grid_template_rows": null,
            "height": null,
            "justify_content": null,
            "justify_items": null,
            "left": null,
            "margin": null,
            "max_height": null,
            "max_width": null,
            "min_height": null,
            "min_width": null,
            "object_fit": null,
            "object_position": null,
            "order": null,
            "overflow": null,
            "overflow_x": null,
            "overflow_y": null,
            "padding": null,
            "right": null,
            "top": null,
            "visibility": null,
            "width": null
          }
        },
        "1e4e1db19a714105a7905042e0c5cf14": {
          "model_module": "@jupyter-widgets/controls",
          "model_name": "DescriptionStyleModel",
          "model_module_version": "1.5.0",
          "state": {
            "_model_module": "@jupyter-widgets/controls",
            "_model_module_version": "1.5.0",
            "_model_name": "DescriptionStyleModel",
            "_view_count": null,
            "_view_module": "@jupyter-widgets/base",
            "_view_module_version": "1.2.0",
            "_view_name": "StyleView",
            "description_width": ""
          }
        },
        "f876847925e247fdbf296ec4bb6f003e": {
          "model_module": "@jupyter-widgets/controls",
          "model_name": "HBoxModel",
          "model_module_version": "1.5.0",
          "state": {
            "_dom_classes": [],
            "_model_module": "@jupyter-widgets/controls",
            "_model_module_version": "1.5.0",
            "_model_name": "HBoxModel",
            "_view_count": null,
            "_view_module": "@jupyter-widgets/controls",
            "_view_module_version": "1.5.0",
            "_view_name": "HBoxView",
            "box_style": "",
            "children": [
              "IPY_MODEL_41e7b266a3fe4957a82d81186a63befe",
              "IPY_MODEL_093f354f36594803953c6f78aefcac96",
              "IPY_MODEL_443d5635de8a4254b568e8efed9991a8"
            ],
            "layout": "IPY_MODEL_bf4d9ac5412745b697e7ac271dfb9b61"
          }
        },
        "41e7b266a3fe4957a82d81186a63befe": {
          "model_module": "@jupyter-widgets/controls",
          "model_name": "HTMLModel",
          "model_module_version": "1.5.0",
          "state": {
            "_dom_classes": [],
            "_model_module": "@jupyter-widgets/controls",
            "_model_module_version": "1.5.0",
            "_model_name": "HTMLModel",
            "_view_count": null,
            "_view_module": "@jupyter-widgets/controls",
            "_view_module_version": "1.5.0",
            "_view_name": "HTMLView",
            "description": "",
            "description_tooltip": null,
            "layout": "IPY_MODEL_a9757f87bfd745848287d0d70d3abb17",
            "placeholder": "​",
            "style": "IPY_MODEL_886e9e1f55974ec281cb56ca88a7bbbf",
            "value": ""
          }
        },
        "093f354f36594803953c6f78aefcac96": {
          "model_module": "@jupyter-widgets/controls",
          "model_name": "FloatProgressModel",
          "model_module_version": "1.5.0",
          "state": {
            "_dom_classes": [],
            "_model_module": "@jupyter-widgets/controls",
            "_model_module_version": "1.5.0",
            "_model_name": "FloatProgressModel",
            "_view_count": null,
            "_view_module": "@jupyter-widgets/controls",
            "_view_module_version": "1.5.0",
            "_view_name": "ProgressView",
            "bar_style": "success",
            "description": "",
            "description_tooltip": null,
            "layout": "IPY_MODEL_ca7daded585447c6ae65b17645c6aa42",
            "max": 4542,
            "min": 0,
            "orientation": "horizontal",
            "style": "IPY_MODEL_c221d1bf3f4e482386da8218f07ff947",
            "value": 4542
          }
        },
        "443d5635de8a4254b568e8efed9991a8": {
          "model_module": "@jupyter-widgets/controls",
          "model_name": "HTMLModel",
          "model_module_version": "1.5.0",
          "state": {
            "_dom_classes": [],
            "_model_module": "@jupyter-widgets/controls",
            "_model_module_version": "1.5.0",
            "_model_name": "HTMLModel",
            "_view_count": null,
            "_view_module": "@jupyter-widgets/controls",
            "_view_module_version": "1.5.0",
            "_view_name": "HTMLView",
            "description": "",
            "description_tooltip": null,
            "layout": "IPY_MODEL_e147b5e086d64a1194e6ead09a29b510",
            "placeholder": "​",
            "style": "IPY_MODEL_a38610e9772f4af287233cc0d26b169d",
            "value": " 5120/? [00:00&lt;00:00, 136666.62it/s]"
          }
        },
        "bf4d9ac5412745b697e7ac271dfb9b61": {
          "model_module": "@jupyter-widgets/base",
          "model_name": "LayoutModel",
          "model_module_version": "1.2.0",
          "state": {
            "_model_module": "@jupyter-widgets/base",
            "_model_module_version": "1.2.0",
            "_model_name": "LayoutModel",
            "_view_count": null,
            "_view_module": "@jupyter-widgets/base",
            "_view_module_version": "1.2.0",
            "_view_name": "LayoutView",
            "align_content": null,
            "align_items": null,
            "align_self": null,
            "border": null,
            "bottom": null,
            "display": null,
            "flex": null,
            "flex_flow": null,
            "grid_area": null,
            "grid_auto_columns": null,
            "grid_auto_flow": null,
            "grid_auto_rows": null,
            "grid_column": null,
            "grid_gap": null,
            "grid_row": null,
            "grid_template_areas": null,
            "grid_template_columns": null,
            "grid_template_rows": null,
            "height": null,
            "justify_content": null,
            "justify_items": null,
            "left": null,
            "margin": null,
            "max_height": null,
            "max_width": null,
            "min_height": null,
            "min_width": null,
            "object_fit": null,
            "object_position": null,
            "order": null,
            "overflow": null,
            "overflow_x": null,
            "overflow_y": null,
            "padding": null,
            "right": null,
            "top": null,
            "visibility": null,
            "width": null
          }
        },
        "a9757f87bfd745848287d0d70d3abb17": {
          "model_module": "@jupyter-widgets/base",
          "model_name": "LayoutModel",
          "model_module_version": "1.2.0",
          "state": {
            "_model_module": "@jupyter-widgets/base",
            "_model_module_version": "1.2.0",
            "_model_name": "LayoutModel",
            "_view_count": null,
            "_view_module": "@jupyter-widgets/base",
            "_view_module_version": "1.2.0",
            "_view_name": "LayoutView",
            "align_content": null,
            "align_items": null,
            "align_self": null,
            "border": null,
            "bottom": null,
            "display": null,
            "flex": null,
            "flex_flow": null,
            "grid_area": null,
            "grid_auto_columns": null,
            "grid_auto_flow": null,
            "grid_auto_rows": null,
            "grid_column": null,
            "grid_gap": null,
            "grid_row": null,
            "grid_template_areas": null,
            "grid_template_columns": null,
            "grid_template_rows": null,
            "height": null,
            "justify_content": null,
            "justify_items": null,
            "left": null,
            "margin": null,
            "max_height": null,
            "max_width": null,
            "min_height": null,
            "min_width": null,
            "object_fit": null,
            "object_position": null,
            "order": null,
            "overflow": null,
            "overflow_x": null,
            "overflow_y": null,
            "padding": null,
            "right": null,
            "top": null,
            "visibility": null,
            "width": null
          }
        },
        "886e9e1f55974ec281cb56ca88a7bbbf": {
          "model_module": "@jupyter-widgets/controls",
          "model_name": "DescriptionStyleModel",
          "model_module_version": "1.5.0",
          "state": {
            "_model_module": "@jupyter-widgets/controls",
            "_model_module_version": "1.5.0",
            "_model_name": "DescriptionStyleModel",
            "_view_count": null,
            "_view_module": "@jupyter-widgets/base",
            "_view_module_version": "1.2.0",
            "_view_name": "StyleView",
            "description_width": ""
          }
        },
        "ca7daded585447c6ae65b17645c6aa42": {
          "model_module": "@jupyter-widgets/base",
          "model_name": "LayoutModel",
          "model_module_version": "1.2.0",
          "state": {
            "_model_module": "@jupyter-widgets/base",
            "_model_module_version": "1.2.0",
            "_model_name": "LayoutModel",
            "_view_count": null,
            "_view_module": "@jupyter-widgets/base",
            "_view_module_version": "1.2.0",
            "_view_name": "LayoutView",
            "align_content": null,
            "align_items": null,
            "align_self": null,
            "border": null,
            "bottom": null,
            "display": null,
            "flex": null,
            "flex_flow": null,
            "grid_area": null,
            "grid_auto_columns": null,
            "grid_auto_flow": null,
            "grid_auto_rows": null,
            "grid_column": null,
            "grid_gap": null,
            "grid_row": null,
            "grid_template_areas": null,
            "grid_template_columns": null,
            "grid_template_rows": null,
            "height": null,
            "justify_content": null,
            "justify_items": null,
            "left": null,
            "margin": null,
            "max_height": null,
            "max_width": null,
            "min_height": null,
            "min_width": null,
            "object_fit": null,
            "object_position": null,
            "order": null,
            "overflow": null,
            "overflow_x": null,
            "overflow_y": null,
            "padding": null,
            "right": null,
            "top": null,
            "visibility": null,
            "width": null
          }
        },
        "c221d1bf3f4e482386da8218f07ff947": {
          "model_module": "@jupyter-widgets/controls",
          "model_name": "ProgressStyleModel",
          "model_module_version": "1.5.0",
          "state": {
            "_model_module": "@jupyter-widgets/controls",
            "_model_module_version": "1.5.0",
            "_model_name": "ProgressStyleModel",
            "_view_count": null,
            "_view_module": "@jupyter-widgets/base",
            "_view_module_version": "1.2.0",
            "_view_name": "StyleView",
            "bar_color": null,
            "description_width": ""
          }
        },
        "e147b5e086d64a1194e6ead09a29b510": {
          "model_module": "@jupyter-widgets/base",
          "model_name": "LayoutModel",
          "model_module_version": "1.2.0",
          "state": {
            "_model_module": "@jupyter-widgets/base",
            "_model_module_version": "1.2.0",
            "_model_name": "LayoutModel",
            "_view_count": null,
            "_view_module": "@jupyter-widgets/base",
            "_view_module_version": "1.2.0",
            "_view_name": "LayoutView",
            "align_content": null,
            "align_items": null,
            "align_self": null,
            "border": null,
            "bottom": null,
            "display": null,
            "flex": null,
            "flex_flow": null,
            "grid_area": null,
            "grid_auto_columns": null,
            "grid_auto_flow": null,
            "grid_auto_rows": null,
            "grid_column": null,
            "grid_gap": null,
            "grid_row": null,
            "grid_template_areas": null,
            "grid_template_columns": null,
            "grid_template_rows": null,
            "height": null,
            "justify_content": null,
            "justify_items": null,
            "left": null,
            "margin": null,
            "max_height": null,
            "max_width": null,
            "min_height": null,
            "min_width": null,
            "object_fit": null,
            "object_position": null,
            "order": null,
            "overflow": null,
            "overflow_x": null,
            "overflow_y": null,
            "padding": null,
            "right": null,
            "top": null,
            "visibility": null,
            "width": null
          }
        },
        "a38610e9772f4af287233cc0d26b169d": {
          "model_module": "@jupyter-widgets/controls",
          "model_name": "DescriptionStyleModel",
          "model_module_version": "1.5.0",
          "state": {
            "_model_module": "@jupyter-widgets/controls",
            "_model_module_version": "1.5.0",
            "_model_name": "DescriptionStyleModel",
            "_view_count": null,
            "_view_module": "@jupyter-widgets/base",
            "_view_module_version": "1.2.0",
            "_view_name": "StyleView",
            "description_width": ""
          }
        }
      }
    }
  },
  "nbformat": 4,
  "nbformat_minor": 5
}