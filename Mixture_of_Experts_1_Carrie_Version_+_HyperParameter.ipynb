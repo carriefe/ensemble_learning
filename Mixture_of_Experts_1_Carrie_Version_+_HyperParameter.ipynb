{
  "cells": [
    {
      "cell_type": "code",
      "execution_count": null,
      "metadata": {
        "id": "475e1682"
      },
      "outputs": [],
      "source": [
        "import torch\n",
        "from torch import nn, optim # Sets of preset layers and optimizers\n",
        "import torch.nn.functional as F # Sets of functions such as ReLU\n",
        "import torchvision as tv\n",
        "# Step 1: Let's import some libraries!\n",
        "import torch.nn as nn\n",
        "import torchvision\n",
        "import numpy as np\n",
        "import torch.nn.functional as F\n",
        "from torch.utils.data import Dataset, DataLoader, random_split, Subset\n",
        "from torchvision.datasets import ImageFolder\n",
        "import torchvision.transforms as tt\n",
        "from torchvision.utils import make_grid\n",
        "import matplotlib.pyplot as plt\n",
        "from matplotlib.image import imread\n",
        "import os\n",
        "import random\n",
        "from tqdm import tqdm\n",
        "from torchvision import datasets, transforms # Popular datasets, architectures and common image transformations for computer vision"
      ],
      "id": "475e1682"
    },
    {
      "cell_type": "code",
      "execution_count": null,
      "metadata": {
        "id": "dd63463b"
      },
      "outputs": [],
      "source": [
        "def load_mnist(batch_size=32, train=True):\n",
        "\n",
        "    '''\n",
        "    Using the dataset and dataloader classes you should be able to make an MNIST set and loader\n",
        "    the loader should use the 'batch_size' argument and the dataset should use'train'\n",
        "\n",
        "    Also, the 'ToTensor' transform is given, you should set the transform of the dataset to just this\n",
        "    '''\n",
        "    to_tensor_transform = torchvision.transforms.ToTensor()\n",
        "    dataset = torchvision.datasets.MNIST(root = \"./data\", train = train,transform = to_tensor_transform,download = True )\n",
        "    dataloader = DataLoader(dataset,batch_size = batch_size, shuffle = True )\n",
        "\n",
        "    return dataset, dataloader"
      ],
      "id": "dd63463b"
    },
    {
      "cell_type": "code",
      "execution_count": null,
      "metadata": {
        "id": "7be28bc4"
      },
      "outputs": [],
      "source": [
        "def plot_image_and_label(image, raw_output_from_model):\n",
        "\n",
        "    '''\n",
        "    Takes in an image and label and shows them using matplotlib\n",
        "    this is used to visualize the data and also the outputs of our network\n",
        "    '''\n",
        "\n",
        "    plt.imshow(image)\n",
        "    if type(raw_output_from_model) is not int:\n",
        "        _,predicted = torch.max(raw_output_from_model,1)\n",
        "#         Takes 1 highest number from the output\n",
        "        plt.title(\"Best label = \" + str(predicted.item()) + \", with Score: \" + str(round(raw_output_from_model[0][predicted].item() * 100,2)))\n",
        "    else:\n",
        "        plt.title(\"Label = \" + str(raw_output_from_model))\n",
        "    plt.show()\n",
        "    return"
      ],
      "id": "7be28bc4"
    },
    {
      "cell_type": "code",
      "execution_count": null,
      "metadata": {
        "colab": {
          "base_uri": "https://localhost:8080/",
          "height": 299
        },
        "id": "adcd23b7",
        "outputId": "9953a5d1-ffe0-4ec3-b433-dd22011e5fa0"
      },
      "outputs": [
        {
          "output_type": "stream",
          "name": "stdout",
          "text": [
            "torch.Size([1, 28, 28]) ex_image.shape\n"
          ]
        },
        {
          "output_type": "display_data",
          "data": {
            "text/plain": [
              "<Figure size 432x288 with 1 Axes>"
            ],
            "image/png": "[encoded data removed]"
          },
          "metadata": {
            "needs_background": "light"
          }
        }
      ],
      "source": [
        "# This will just test whether your dataset and loader work\n",
        "# They might still have issues, but if an example image shows here you're on the right track!\n",
        "train_data,train_dataloader = load_mnist(batch_size = 64, train = True)\n",
        "ex_image, ex_label = train_data[random.randint(0,1000)]\n",
        "print(ex_image.shape,'ex_image.shape')\n",
        "plot_image_and_label(ex_image.reshape(28,28), ex_label)"
      ],
      "id": "adcd23b7"
    },
    {
      "cell_type": "code",
      "execution_count": null,
      "metadata": {
        "id": "b079fcda"
      },
      "outputs": [],
      "source": [
        "class MyMLP(nn.Module):\n",
        "    def __init__(self,input_size, output_size):\n",
        "        super().__init__()\n",
        "#         self.conv1 = nn.conv2d(in_channels = 1, out_channels = 3, stride = 1, padding =)\n",
        "        self.input_size = input_size\n",
        "        self.lin1 = nn.Linear(input_size,256)\n",
        "        self.lin2 = nn.Linear(256,128)\n",
        "        self.lin3 = nn.Linear(128,output_size)\n",
        "        self.relu = nn.ReLU()\n",
        "\n",
        "    def forward(self,x):\n",
        "        x = x.view(-1, self.input_size)\n",
        "        out = self.lin1(x)\n",
        "        out = self.relu(out)\n",
        "        out = self.lin2(out)\n",
        "        out = self.relu(out)\n",
        "        out = self.lin3(out)\n",
        "        out = self.relu(out)\n",
        "        return out"
      ],
      "id": "b079fcda"
    },
    {
      "cell_type": "code",
      "execution_count": null,
      "metadata": {
        "colab": {
          "base_uri": "https://localhost:8080/",
          "height": 299
        },
        "id": "240af524",
        "outputId": "7df91678-2e97-4daa-a21e-b767857826fc"
      },
      "outputs": [
        {
          "output_type": "stream",
          "name": "stdout",
          "text": [
            "torch.Size([1, 28, 28]) eximage.shape\n"
          ]
        },
        {
          "output_type": "display_data",
          "data": {
            "text/plain": [
              "<Figure size 432x288 with 1 Axes>"
            ],
            "image/png": "[encoded data removed]"
          },
          "metadata": {
            "needs_background": "light"
          }
        }
      ],
      "source": [
        "# Shows the prediction of the model without training\n",
        "# Not very good huh? (though theres a small chance it is lol)\n",
        "\n",
        "test_model = MyMLP(784, 2)\n",
        "test_output = test_model(ex_image.flatten()) # Notice how we flatten the 2d image into 1d to use the MLP\n",
        "print(ex_image.shape,\"eximage.shape\")\n",
        "plot_image_and_label(ex_image.reshape(28,28), test_output)"
      ],
      "id": "240af524"
    },
    {
      "cell_type": "code",
      "execution_count": null,
      "metadata": {
        "id": "e510c774"
      },
      "outputs": [],
      "source": [
        "bits = []\n",
        "def generateAllBinaryStrings(n, arr, i,num):\n",
        "    if i == n:\n",
        "        key = ''.join([str(i) for i in arr])\n",
        "        bits.append(key)\n",
        "        num += 1\n",
        "        return\n",
        "\n",
        "    # First assign \"0\" at ith position\n",
        "    # and try for all other permutations\n",
        "    # for remaining positions\n",
        "    arr[i] = 0\n",
        "    generateAllBinaryStrings(n, arr, i + 1,num+1)\n",
        "\n",
        "    # And then assign \"1\" at ith position\n",
        "    # and try for all other permutations\n",
        "    # for remaining positions\n",
        "    arr[i] = 1\n",
        "    generateAllBinaryStrings(n, arr, i + 1,num+1)\n",
        "num = 0\n",
        "generateAllBinaryStrings(4,[0]*4 , 0,num)\n"
      ],
      "id": "e510c774"
    },
    {
      "cell_type": "code",
      "execution_count": null,
      "metadata": {
        "colab": {
          "base_uri": "https://localhost:8080/"
        },
        "id": "4502a269",
        "outputId": "706cbad4-3ace-4d2f-f914-be6dd60e6e30"
      },
      "outputs": [
        {
          "output_type": "stream",
          "name": "stdout",
          "text": [
            "['0000', '0001', '0010', '0011', '0100', '0101', '0110', '0111', '1000', '1001', '1010', '1011', '1100', '1101', '1110', '1111']\n",
            "{0: '0000', 1: '0001', 2: '0010', 3: '0011', 4: '0100', 5: '0101', 6: '0110', 7: '0111', 8: '1000', 9: '1001', 10: '1010', 11: '1011', 12: '1100', 13: '1101', 14: '1110', 15: '1111'}\n"
          ]
        }
      ],
      "source": [
        "print(bits)\n",
        "mapping = {}\n",
        "curr_index = 0\n",
        "invMapping = {}\n",
        "for index,bit in enumerate(bits):\n",
        "    mapping[index] = bit\n",
        "    invMapping[bit] = index\n",
        "print(mapping)\n",
        "# Unbalanced : ['0000', '0001', '0010', '0011', '0100', '0101', '0110', '0111', '1000', '1001', '1010', '1011', '1100', '1101', '1110', '1111']\n",
        "# {0: '1111', 1: '0001', 2: '0010', 3: '0011', 4: '0100', 5: '0101', 6: '0110', 7: '0111', 8: '1000', 9: '1001'}\n",
        "# Balanced :"
      ],
      "id": "4502a269"
    },
    {
      "cell_type": "code",
      "execution_count": null,
      "metadata": {
        "id": "c32440bd"
      },
      "outputs": [],
      "source": [
        "def training(modelname,model, loss_function, optimizer, train_dataloader, n_epochs, update_interval):\n",
        "\n",
        "    '''\n",
        "    Updates the parameters of the given model using the optimizer of choice to\n",
        "    reduce the given loss_function\n",
        "\n",
        "    This will iterate over the dataloader 'n_epochs' times training on each batch of images\n",
        "\n",
        "    To get the gradient (which is stored internally in the model) use .backward() from the loss tensor\n",
        "    and to apply it use .step() on the optimizer\n",
        "\n",
        "    In between steps you need to zero the gradient so it can be recalculated -- use .zero_grad for this\n",
        "    '''\n",
        "\n",
        "    losses = []\n",
        "    part_loss = []\n",
        "    for n in range(n_epochs):\n",
        "        for i, (image, label) in enumerate(tqdm(iter(train_dataloader))):\n",
        "\n",
        "            # TODO Complete the training loop using the instructions above\n",
        "            # Hint: the above code essentially does one training step\n",
        "\n",
        "            ##############################################################\n",
        "            optimizer.zero_grad()\n",
        "            my_output = model(image)\n",
        "            if modelname == 'model1':\n",
        "                new_label = torch.Tensor([int(mapping[int(l)][0]) for l in label]).long()\n",
        "            elif modelname == 'model2':\n",
        "                new_label = torch.Tensor([int(mapping[int(l)][1]) for l in label]).long()\n",
        "            elif modelname == 'model3':\n",
        "                new_label = torch.Tensor([int(mapping[int(l)][2]) for l in label]).long()\n",
        "            elif modelname == 'model4':\n",
        "                new_label = torch.Tensor([int(mapping[int(l)][3]) for l in label]).long()\n",
        "            elif modelname == 'model':\n",
        "                new_label = label\n",
        "            loss = loss_function(my_output,new_label)\n",
        "            loss.backward()\n",
        "            optimizer.step()\n",
        "            part_loss.append(loss.item())\n",
        "            ##############################################################\n",
        "\n",
        "            if i % update_interval == 0:\n",
        "                losses.append(sum(part_loss)/len(part_loss)) # This will append your losses for plotting -- please use \"loss\" as the name for your loss\n",
        "#                 part_loss = []\n",
        "    return model, losses"
      ],
      "id": "c32440bd"
    },
    {
      "cell_type": "code",
      "execution_count": null,
      "metadata": {
        "colab": {
          "base_uri": "https://localhost:8080/"
        },
        "id": "vTBrJRHTiH-A",
        "outputId": "c6bcd268-a834-419a-851e-793170fca301"
      },
      "outputs": [
        {
          "output_type": "stream",
          "name": "stdout",
          "text": [
            "testing the previously trained model on test dataset of MNIST\n"
          ]
        }
      ],
      "source": [
        "print(\"testing the previously trained model on test dataset of MNIST\")\n",
        "test_dataset, test_dataloader = load_mnist(batch_size=10000, train=False)"
      ],
      "id": "vTBrJRHTiH-A"
    },
    {
      "cell_type": "code",
      "execution_count": null,
      "metadata": {
        "id": "WUxGkM22hv_8"
      },
      "outputs": [],
      "source": [
        "def testing(modelname, model, loss_function, test_data):\n",
        "    sum_loss = 0\n",
        "    n_correct = 0\n",
        "    total = 0\n",
        "    for i, (image, label) in enumerate(tqdm(iter(test_data))):\n",
        "        pred = model(image)\n",
        "        if modelname == 'model1':\n",
        "            new_label =  torch.Tensor([int(mapping[int(l)][0]) for l in label]).long()\n",
        "        elif modelname == 'model2':\n",
        "            new_label = torch.Tensor([int(mapping[int(l)][0]) for l in label]).long()\n",
        "        elif modelname == 'model3':\n",
        "            new_label = torch.Tensor([int(mapping[int(l)][0]) for l in label]).long()\n",
        "        elif modelname == 'model4':\n",
        "            new_label = torch.Tensor([int(mapping[int(l)][0]) for l in label]).long()\n",
        "        elif modelname == 'model':\n",
        "            new_label = label\n",
        "        loss = loss_function(pred,new_label)\n",
        "        sum_loss += loss.item()\n",
        "        _, predicted = torch.max(pred,1)\n",
        "        n_correct += (predicted == new_label).sum()\n",
        "        total += new_label.size(0)\n",
        "\n",
        "    test_acc = round(((n_correct / total).item() * 100), 2)\n",
        "    avg_loss = round(sum_loss / len(test_data), 2)\n",
        "\n",
        "    print(\"test accuracy:\", test_acc)\n",
        "    print(\"test loss:\", avg_loss )\n",
        "\n",
        "    return test_acc, avg_loss\n"
      ],
      "id": "WUxGkM22hv_8"
    },
    {
      "cell_type": "code",
      "execution_count": null,
      "metadata": {
        "id": "c2a16afd"
      },
      "outputs": [],
      "source": [
        "# Plug in your model, loss function, and optimizer\n",
        "# Try out different hyperparameters and different models to see how they perform\n",
        "\n",
        "lr = 0.0009          # The size of the step taken when doing gradient descent 0.01 0.001 0.0001\n",
        "batch_size = 400        # The number of images being trained on at once\n",
        "update_interval = 100   # The number of batches trained on before recording loss\n",
        "n_epochs = 3           # The number of times we train through the entire dataset 5 10 15\n",
        "\n",
        "train_dataset, train_dataloader = load_mnist(batch_size=batch_size, train=True)\n",
        "\n",
        "model = MyMLP(784, 2)\n",
        "loss_function = nn.CrossEntropyLoss()\n",
        "optimizer = torch.optim.Adam(model.parameters(), lr=lr)\n"
      ],
      "id": "c2a16afd"
    },
    {
      "cell_type": "code",
      "execution_count": null,
      "metadata": {
        "colab": {
          "base_uri": "https://localhost:8080/",
          "height": 347
        },
        "id": "f579218b",
        "outputId": "7d1f9283-c374-416c-849a-a2d455cfa3ff"
      },
      "outputs": [
        {
          "output_type": "stream",
          "name": "stderr",
          "text": [
            "100%|██████████| 150/150 [00:06<00:00, 21.97it/s]\n",
            "100%|██████████| 150/150 [00:08<00:00, 17.64it/s]\n",
            "100%|██████████| 150/150 [00:06<00:00, 21.86it/s]\n"
          ]
        },
        {
          "output_type": "display_data",
          "data": {
            "text/plain": [
              "<Figure size 432x288 with 1 Axes>"
            ],
            "image/png": "[encoded data removed]"
          },
          "metadata": {
            "needs_background": "light"
          }
        }
      ],
      "source": [
        "# Training Model 1\n",
        "model1 = MyMLP(784, 2)\n",
        "trained_model1, losses1 = training('model1',model1, loss_function, optimizer, train_dataloader, n_epochs=n_epochs, update_interval=update_interval)\n",
        "\n",
        "plt.plot(np.arange(len(losses1)) * batch_size * update_interval, losses1)\n",
        "plt.title(\"training curve1\")\n",
        "plt.xlabel(\"number of images trained on\")\n",
        "plt.ylabel(\"loss\")\n",
        "plt.show()\n"
      ],
      "id": "f579218b"
    },
    {
      "cell_type": "code",
      "execution_count": null,
      "metadata": {
        "colab": {
          "base_uri": "https://localhost:8080/"
        },
        "id": "Py95HPXyhsjr",
        "outputId": "4a082ce3-acea-40c7-b14d-1820c03c360e"
      },
      "outputs": [
        {
          "output_type": "stream",
          "name": "stderr",
          "text": [
            "100%|██████████| 1/1 [00:01<00:00,  1.04s/it]"
          ]
        },
        {
          "output_type": "stream",
          "name": "stdout",
          "text": [
            "test accuracy: 80.16\n",
            "test loss: 0.67\n"
          ]
        },
        {
          "output_type": "stream",
          "name": "stderr",
          "text": [
            "\n"
          ]
        }
      ],
      "source": [
        "# Testing Model1\n",
        "_,_ = testing('model1', trained_model1, loss_function, test_dataloader)\n"
      ],
      "id": "Py95HPXyhsjr"
    },
    {
      "cell_type": "code",
      "execution_count": null,
      "metadata": {
        "id": "Fs6ynyp7kmaH"
      },
      "outputs": [],
      "source": [
        "# from sklearn.model_selection import GridSearchCV\n",
        "# from sklearn.svm import SVC\n",
        "# clf = GridSearchCV(SVC(kernel='linear', C=1,gamma=1),{\n",
        "#     'lr':[0.01,0.001,0.0001,0.00001],\n",
        "#     'n_epochs':[5,10,15]\n",
        "# },cv=5, return_train_score=False)\n",
        "\n",
        "# trained_model1, losses1 = training('model1',model1, loss_function, optimizer, train_dataloader, n_epochs=n_epochs, update_interval=update_interval)\n",
        "# clf.cv_results_\n",
        "# 0.008\n"
      ],
      "id": "Fs6ynyp7kmaH"
    },
    {
      "cell_type": "code",
      "execution_count": null,
      "metadata": {
        "colab": {
          "base_uri": "https://localhost:8080/",
          "height": 381
        },
        "id": "T6eTuCwRpPb1",
        "outputId": "66188330-8481-4154-fda0-e9a34616204d"
      },
      "outputs": [
        {
          "output_type": "stream",
          "name": "stderr",
          "text": [
            " 89%|████████▊ | 133/150 [00:06<00:00, 19.58it/s]\n"
          ]
        },
        {
          "output_type": "error",
          "ename": "KeyboardInterrupt",
          "evalue": "ignored",
          "traceback": [
            "\u001b[0;31m---------------------------------------------------------------------------\u001b[0m",
            "\u001b[0;31mKeyboardInterrupt\u001b[0m                         Traceback (most recent call last)",
            "\u001b[0;32m<ipython-input-38-31009cfc69a7>\u001b[0m in \u001b[0;36m<module>\u001b[0;34m()\u001b[0m\n\u001b[1;32m     35\u001b[0m     \u001b[0;32mreturn\u001b[0m \u001b[0mbest_lr\u001b[0m \u001b[0;34m,\u001b[0m \u001b[0mbest_batch\u001b[0m\u001b[0;34m,\u001b[0m \u001b[0mbest_n_epochs\u001b[0m\u001b[0;34m,\u001b[0m\u001b[0mtest_accuracy\u001b[0m\u001b[0;34m\u001b[0m\u001b[0;34m\u001b[0m\u001b[0m\n\u001b[1;32m     36\u001b[0m \u001b[0;34m\u001b[0m\u001b[0m\n\u001b[0;32m---> 37\u001b[0;31m \u001b[0mbest_lr\u001b[0m\u001b[0;34m,\u001b[0m\u001b[0mbest_batch_size\u001b[0m\u001b[0;34m,\u001b[0m \u001b[0mbest_n_epochs\u001b[0m\u001b[0;34m,\u001b[0m\u001b[0mbest_acc\u001b[0m \u001b[0;34m=\u001b[0m \u001b[0mgrid_search\u001b[0m\u001b[0;34m(\u001b[0m\u001b[0mtrained_model1\u001b[0m\u001b[0;34m,\u001b[0m \u001b[0;36m784\u001b[0m\u001b[0;34m,\u001b[0m \u001b[0;36m2\u001b[0m\u001b[0;34m,\u001b[0m \u001b[0mtest_dataset\u001b[0m\u001b[0;34m)\u001b[0m\u001b[0;34m\u001b[0m\u001b[0;34m\u001b[0m\u001b[0m\n\u001b[0m\u001b[1;32m     38\u001b[0m \u001b[0mprint\u001b[0m\u001b[0;34m(\u001b[0m\u001b[0mbest_lr\u001b[0m\u001b[0;34m,\u001b[0m\u001b[0mbest_batch_size\u001b[0m\u001b[0;34m,\u001b[0m \u001b[0mbest_n_epochs\u001b[0m\u001b[0;34m,\u001b[0m \u001b[0mbest_acc\u001b[0m\u001b[0;34m)\u001b[0m\u001b[0;34m\u001b[0m\u001b[0;34m\u001b[0m\u001b[0m\n",
            "\u001b[0;32m<ipython-input-38-31009cfc69a7>\u001b[0m in \u001b[0;36mgrid_search\u001b[0;34m(model, input_shape, compression_size, test_data)\u001b[0m\n\u001b[1;32m     21\u001b[0m         \u001b[0moptimizer\u001b[0m \u001b[0;34m=\u001b[0m \u001b[0mtorch\u001b[0m\u001b[0;34m.\u001b[0m\u001b[0moptim\u001b[0m\u001b[0;34m.\u001b[0m\u001b[0mAdam\u001b[0m\u001b[0;34m(\u001b[0m\u001b[0mmodel\u001b[0m\u001b[0;34m.\u001b[0m\u001b[0mparameters\u001b[0m\u001b[0;34m(\u001b[0m\u001b[0;34m)\u001b[0m\u001b[0;34m,\u001b[0m \u001b[0mlr\u001b[0m\u001b[0;34m=\u001b[0m\u001b[0mlr\u001b[0m\u001b[0;34m)\u001b[0m\u001b[0;34m\u001b[0m\u001b[0;34m\u001b[0m\u001b[0m\n\u001b[1;32m     22\u001b[0m         \u001b[0;32mfor\u001b[0m \u001b[0mn_epochs\u001b[0m \u001b[0;32min\u001b[0m \u001b[0mn_epochs_lst\u001b[0m \u001b[0;34m:\u001b[0m\u001b[0;34m\u001b[0m\u001b[0;34m\u001b[0m\u001b[0m\n\u001b[0;32m---> 23\u001b[0;31m             \u001b[0mtrained_model\u001b[0m\u001b[0;34m,\u001b[0m \u001b[0mlosses\u001b[0m \u001b[0;34m=\u001b[0m \u001b[0mtraining\u001b[0m\u001b[0;34m(\u001b[0m\u001b[0;34m'model1'\u001b[0m\u001b[0;34m,\u001b[0m\u001b[0mmodel\u001b[0m\u001b[0;34m,\u001b[0m \u001b[0mloss_function\u001b[0m\u001b[0;34m,\u001b[0m \u001b[0moptimizer\u001b[0m\u001b[0;34m,\u001b[0m \u001b[0mtrain_dataloader\u001b[0m\u001b[0;34m,\u001b[0m \u001b[0mn_epochs\u001b[0m\u001b[0;34m,\u001b[0m \u001b[0mupdate_interval\u001b[0m\u001b[0;34m)\u001b[0m\u001b[0;34m\u001b[0m\u001b[0;34m\u001b[0m\u001b[0m\n\u001b[0m\u001b[1;32m     24\u001b[0m             \u001b[0;32mfor\u001b[0m \u001b[0mbatch_size\u001b[0m \u001b[0;32min\u001b[0m \u001b[0mbatch_size_lst\u001b[0m\u001b[0;34m:\u001b[0m\u001b[0;34m\u001b[0m\u001b[0;34m\u001b[0m\u001b[0m\n\u001b[1;32m     25\u001b[0m                 \u001b[0mprint\u001b[0m\u001b[0;34m(\u001b[0m\u001b[0mbatch_size\u001b[0m\u001b[0;34m)\u001b[0m\u001b[0;34m\u001b[0m\u001b[0;34m\u001b[0m\u001b[0m\n",
            "\u001b[0;32m<ipython-input-31-315111d5e79d>\u001b[0m in \u001b[0;36mtraining\u001b[0;34m(modelname, model, loss_function, optimizer, train_dataloader, n_epochs, update_interval)\u001b[0m\n\u001b[1;32m     16\u001b[0m     \u001b[0mpart_loss\u001b[0m \u001b[0;34m=\u001b[0m \u001b[0;34m[\u001b[0m\u001b[0;34m]\u001b[0m\u001b[0;34m\u001b[0m\u001b[0;34m\u001b[0m\u001b[0m\n\u001b[1;32m     17\u001b[0m     \u001b[0;32mfor\u001b[0m \u001b[0mn\u001b[0m \u001b[0;32min\u001b[0m \u001b[0mrange\u001b[0m\u001b[0;34m(\u001b[0m\u001b[0mn_epochs\u001b[0m\u001b[0;34m)\u001b[0m\u001b[0;34m:\u001b[0m\u001b[0;34m\u001b[0m\u001b[0;34m\u001b[0m\u001b[0m\n\u001b[0;32m---> 18\u001b[0;31m         \u001b[0;32mfor\u001b[0m \u001b[0mi\u001b[0m\u001b[0;34m,\u001b[0m \u001b[0;34m(\u001b[0m\u001b[0mimage\u001b[0m\u001b[0;34m,\u001b[0m \u001b[0mlabel\u001b[0m\u001b[0;34m)\u001b[0m \u001b[0;32min\u001b[0m \u001b[0menumerate\u001b[0m\u001b[0;34m(\u001b[0m\u001b[0mtqdm\u001b[0m\u001b[0;34m(\u001b[0m\u001b[0miter\u001b[0m\u001b[0;34m(\u001b[0m\u001b[0mtrain_dataloader\u001b[0m\u001b[0;34m)\u001b[0m\u001b[0;34m)\u001b[0m\u001b[0;34m)\u001b[0m\u001b[0;34m:\u001b[0m\u001b[0;34m\u001b[0m\u001b[0;34m\u001b[0m\u001b[0m\n\u001b[0m\u001b[1;32m     19\u001b[0m \u001b[0;34m\u001b[0m\u001b[0m\n\u001b[1;32m     20\u001b[0m             \u001b[0;31m# TODO Complete the training loop using the instructions above\u001b[0m\u001b[0;34m\u001b[0m\u001b[0;34m\u001b[0m\u001b[0;34m\u001b[0m\u001b[0m\n",
            "\u001b[0;32m/usr/local/lib/python3.7/dist-packages/tqdm/std.py\u001b[0m in \u001b[0;36m__iter__\u001b[0;34m(self)\u001b[0m\n\u001b[1;32m   1193\u001b[0m \u001b[0;34m\u001b[0m\u001b[0m\n\u001b[1;32m   1194\u001b[0m         \u001b[0;32mtry\u001b[0m\u001b[0;34m:\u001b[0m\u001b[0;34m\u001b[0m\u001b[0;34m\u001b[0m\u001b[0m\n\u001b[0;32m-> 1195\u001b[0;31m             \u001b[0;32mfor\u001b[0m \u001b[0mobj\u001b[0m \u001b[0;32min\u001b[0m \u001b[0miterable\u001b[0m\u001b[0;34m:\u001b[0m\u001b[0;34m\u001b[0m\u001b[0;34m\u001b[0m\u001b[0m\n\u001b[0m\u001b[1;32m   1196\u001b[0m                 \u001b[0;32myield\u001b[0m \u001b[0mobj\u001b[0m\u001b[0;34m\u001b[0m\u001b[0;34m\u001b[0m\u001b[0m\n\u001b[1;32m   1197\u001b[0m                 \u001b[0;31m# Update and possibly print the progressbar.\u001b[0m\u001b[0;34m\u001b[0m\u001b[0;34m\u001b[0m\u001b[0;34m\u001b[0m\u001b[0m\n",
            "\u001b[0;32m/usr/local/lib/python3.7/dist-packages/torch/utils/data/dataloader.py\u001b[0m in \u001b[0;36m__next__\u001b[0;34m(self)\u001b[0m\n\u001b[1;32m    519\u001b[0m             \u001b[0;32mif\u001b[0m \u001b[0mself\u001b[0m\u001b[0;34m.\u001b[0m\u001b[0m_sampler_iter\u001b[0m \u001b[0;32mis\u001b[0m \u001b[0;32mNone\u001b[0m\u001b[0;34m:\u001b[0m\u001b[0;34m\u001b[0m\u001b[0;34m\u001b[0m\u001b[0m\n\u001b[1;32m    520\u001b[0m                 \u001b[0mself\u001b[0m\u001b[0;34m.\u001b[0m\u001b[0m_reset\u001b[0m\u001b[0;34m(\u001b[0m\u001b[0;34m)\u001b[0m\u001b[0;34m\u001b[0m\u001b[0;34m\u001b[0m\u001b[0m\n\u001b[0;32m--> 521\u001b[0;31m             \u001b[0mdata\u001b[0m \u001b[0;34m=\u001b[0m \u001b[0mself\u001b[0m\u001b[0;34m.\u001b[0m\u001b[0m_next_data\u001b[0m\u001b[0;34m(\u001b[0m\u001b[0;34m)\u001b[0m\u001b[0;34m\u001b[0m\u001b[0;34m\u001b[0m\u001b[0m\n\u001b[0m\u001b[1;32m    522\u001b[0m             \u001b[0mself\u001b[0m\u001b[0;34m.\u001b[0m\u001b[0m_num_yielded\u001b[0m \u001b[0;34m+=\u001b[0m \u001b[0;36m1\u001b[0m\u001b[0;34m\u001b[0m\u001b[0;34m\u001b[0m\u001b[0m\n\u001b[1;32m    523\u001b[0m             \u001b[0;32mif\u001b[0m \u001b[0mself\u001b[0m\u001b[0;34m.\u001b[0m\u001b[0m_dataset_kind\u001b[0m \u001b[0;34m==\u001b[0m \u001b[0m_DatasetKind\u001b[0m\u001b[0;34m.\u001b[0m\u001b[0mIterable\u001b[0m \u001b[0;32mand\u001b[0m\u001b[0;31m \u001b[0m\u001b[0;31m\\\u001b[0m\u001b[0;34m\u001b[0m\u001b[0;34m\u001b[0m\u001b[0m\n",
            "\u001b[0;32m/usr/local/lib/python3.7/dist-packages/torch/utils/data/dataloader.py\u001b[0m in \u001b[0;36m_next_data\u001b[0;34m(self)\u001b[0m\n\u001b[1;32m    559\u001b[0m     \u001b[0;32mdef\u001b[0m \u001b[0m_next_data\u001b[0m\u001b[0;34m(\u001b[0m\u001b[0mself\u001b[0m\u001b[0;34m)\u001b[0m\u001b[0;34m:\u001b[0m\u001b[0;34m\u001b[0m\u001b[0;34m\u001b[0m\u001b[0m\n\u001b[1;32m    560\u001b[0m         \u001b[0mindex\u001b[0m \u001b[0;34m=\u001b[0m \u001b[0mself\u001b[0m\u001b[0;34m.\u001b[0m\u001b[0m_next_index\u001b[0m\u001b[0;34m(\u001b[0m\u001b[0;34m)\u001b[0m  \u001b[0;31m# may raise StopIteration\u001b[0m\u001b[0;34m\u001b[0m\u001b[0;34m\u001b[0m\u001b[0m\n\u001b[0;32m--> 561\u001b[0;31m         \u001b[0mdata\u001b[0m \u001b[0;34m=\u001b[0m \u001b[0mself\u001b[0m\u001b[0;34m.\u001b[0m\u001b[0m_dataset_fetcher\u001b[0m\u001b[0;34m.\u001b[0m\u001b[0mfetch\u001b[0m\u001b[0;34m(\u001b[0m\u001b[0mindex\u001b[0m\u001b[0;34m)\u001b[0m  \u001b[0;31m# may raise StopIteration\u001b[0m\u001b[0;34m\u001b[0m\u001b[0;34m\u001b[0m\u001b[0m\n\u001b[0m\u001b[1;32m    562\u001b[0m         \u001b[0;32mif\u001b[0m \u001b[0mself\u001b[0m\u001b[0;34m.\u001b[0m\u001b[0m_pin_memory\u001b[0m\u001b[0;34m:\u001b[0m\u001b[0;34m\u001b[0m\u001b[0;34m\u001b[0m\u001b[0m\n\u001b[1;32m    563\u001b[0m             \u001b[0mdata\u001b[0m \u001b[0;34m=\u001b[0m \u001b[0m_utils\u001b[0m\u001b[0;34m.\u001b[0m\u001b[0mpin_memory\u001b[0m\u001b[0;34m.\u001b[0m\u001b[0mpin_memory\u001b[0m\u001b[0;34m(\u001b[0m\u001b[0mdata\u001b[0m\u001b[0;34m)\u001b[0m\u001b[0;34m\u001b[0m\u001b[0;34m\u001b[0m\u001b[0m\n",
            "\u001b[0;32m/usr/local/lib/python3.7/dist-packages/torch/utils/data/_utils/fetch.py\u001b[0m in \u001b[0;36mfetch\u001b[0;34m(self, possibly_batched_index)\u001b[0m\n\u001b[1;32m     47\u001b[0m     \u001b[0;32mdef\u001b[0m \u001b[0mfetch\u001b[0m\u001b[0;34m(\u001b[0m\u001b[0mself\u001b[0m\u001b[0;34m,\u001b[0m \u001b[0mpossibly_batched_index\u001b[0m\u001b[0;34m)\u001b[0m\u001b[0;34m:\u001b[0m\u001b[0;34m\u001b[0m\u001b[0;34m\u001b[0m\u001b[0m\n\u001b[1;32m     48\u001b[0m         \u001b[0;32mif\u001b[0m \u001b[0mself\u001b[0m\u001b[0;34m.\u001b[0m\u001b[0mauto_collation\u001b[0m\u001b[0;34m:\u001b[0m\u001b[0;34m\u001b[0m\u001b[0;34m\u001b[0m\u001b[0m\n\u001b[0;32m---> 49\u001b[0;31m             \u001b[0mdata\u001b[0m \u001b[0;34m=\u001b[0m \u001b[0;34m[\u001b[0m\u001b[0mself\u001b[0m\u001b[0;34m.\u001b[0m\u001b[0mdataset\u001b[0m\u001b[0;34m[\u001b[0m\u001b[0midx\u001b[0m\u001b[0;34m]\u001b[0m \u001b[0;32mfor\u001b[0m \u001b[0midx\u001b[0m \u001b[0;32min\u001b[0m \u001b[0mpossibly_batched_index\u001b[0m\u001b[0;34m]\u001b[0m\u001b[0;34m\u001b[0m\u001b[0;34m\u001b[0m\u001b[0m\n\u001b[0m\u001b[1;32m     50\u001b[0m         \u001b[0;32melse\u001b[0m\u001b[0;34m:\u001b[0m\u001b[0;34m\u001b[0m\u001b[0;34m\u001b[0m\u001b[0m\n\u001b[1;32m     51\u001b[0m             \u001b[0mdata\u001b[0m \u001b[0;34m=\u001b[0m \u001b[0mself\u001b[0m\u001b[0;34m.\u001b[0m\u001b[0mdataset\u001b[0m\u001b[0;34m[\u001b[0m\u001b[0mpossibly_batched_index\u001b[0m\u001b[0;34m]\u001b[0m\u001b[0;34m\u001b[0m\u001b[0;34m\u001b[0m\u001b[0m\n",
            "\u001b[0;32m/usr/local/lib/python3.7/dist-packages/torch/utils/data/_utils/fetch.py\u001b[0m in \u001b[0;36m<listcomp>\u001b[0;34m(.0)\u001b[0m\n\u001b[1;32m     47\u001b[0m     \u001b[0;32mdef\u001b[0m \u001b[0mfetch\u001b[0m\u001b[0;34m(\u001b[0m\u001b[0mself\u001b[0m\u001b[0;34m,\u001b[0m \u001b[0mpossibly_batched_index\u001b[0m\u001b[0;34m)\u001b[0m\u001b[0;34m:\u001b[0m\u001b[0;34m\u001b[0m\u001b[0;34m\u001b[0m\u001b[0m\n\u001b[1;32m     48\u001b[0m         \u001b[0;32mif\u001b[0m \u001b[0mself\u001b[0m\u001b[0;34m.\u001b[0m\u001b[0mauto_collation\u001b[0m\u001b[0;34m:\u001b[0m\u001b[0;34m\u001b[0m\u001b[0;34m\u001b[0m\u001b[0m\n\u001b[0;32m---> 49\u001b[0;31m             \u001b[0mdata\u001b[0m \u001b[0;34m=\u001b[0m \u001b[0;34m[\u001b[0m\u001b[0mself\u001b[0m\u001b[0;34m.\u001b[0m\u001b[0mdataset\u001b[0m\u001b[0;34m[\u001b[0m\u001b[0midx\u001b[0m\u001b[0;34m]\u001b[0m \u001b[0;32mfor\u001b[0m \u001b[0midx\u001b[0m \u001b[0;32min\u001b[0m \u001b[0mpossibly_batched_index\u001b[0m\u001b[0;34m]\u001b[0m\u001b[0;34m\u001b[0m\u001b[0;34m\u001b[0m\u001b[0m\n\u001b[0m\u001b[1;32m     50\u001b[0m         \u001b[0;32melse\u001b[0m\u001b[0;34m:\u001b[0m\u001b[0;34m\u001b[0m\u001b[0;34m\u001b[0m\u001b[0m\n\u001b[1;32m     51\u001b[0m             \u001b[0mdata\u001b[0m \u001b[0;34m=\u001b[0m \u001b[0mself\u001b[0m\u001b[0;34m.\u001b[0m\u001b[0mdataset\u001b[0m\u001b[0;34m[\u001b[0m\u001b[0mpossibly_batched_index\u001b[0m\u001b[0;34m]\u001b[0m\u001b[0;34m\u001b[0m\u001b[0;34m\u001b[0m\u001b[0m\n",
            "\u001b[0;32m/usr/local/lib/python3.7/dist-packages/torchvision/datasets/mnist.py\u001b[0m in \u001b[0;36m__getitem__\u001b[0;34m(self, index)\u001b[0m\n\u001b[1;32m    132\u001b[0m \u001b[0;34m\u001b[0m\u001b[0m\n\u001b[1;32m    133\u001b[0m         \u001b[0;32mif\u001b[0m \u001b[0mself\u001b[0m\u001b[0;34m.\u001b[0m\u001b[0mtransform\u001b[0m \u001b[0;32mis\u001b[0m \u001b[0;32mnot\u001b[0m \u001b[0;32mNone\u001b[0m\u001b[0;34m:\u001b[0m\u001b[0;34m\u001b[0m\u001b[0;34m\u001b[0m\u001b[0m\n\u001b[0;32m--> 134\u001b[0;31m             \u001b[0mimg\u001b[0m \u001b[0;34m=\u001b[0m \u001b[0mself\u001b[0m\u001b[0;34m.\u001b[0m\u001b[0mtransform\u001b[0m\u001b[0;34m(\u001b[0m\u001b[0mimg\u001b[0m\u001b[0;34m)\u001b[0m\u001b[0;34m\u001b[0m\u001b[0;34m\u001b[0m\u001b[0m\n\u001b[0m\u001b[1;32m    135\u001b[0m \u001b[0;34m\u001b[0m\u001b[0m\n\u001b[1;32m    136\u001b[0m         \u001b[0;32mif\u001b[0m \u001b[0mself\u001b[0m\u001b[0;34m.\u001b[0m\u001b[0mtarget_transform\u001b[0m \u001b[0;32mis\u001b[0m \u001b[0;32mnot\u001b[0m \u001b[0;32mNone\u001b[0m\u001b[0;34m:\u001b[0m\u001b[0;34m\u001b[0m\u001b[0;34m\u001b[0m\u001b[0m\n",
            "\u001b[0;32m/usr/local/lib/python3.7/dist-packages/torchvision/transforms/transforms.py\u001b[0m in \u001b[0;36m__call__\u001b[0;34m(self, pic)\u001b[0m\n\u001b[1;32m     96\u001b[0m             \u001b[0mTensor\u001b[0m\u001b[0;34m:\u001b[0m \u001b[0mConverted\u001b[0m \u001b[0mimage\u001b[0m\u001b[0;34m.\u001b[0m\u001b[0;34m\u001b[0m\u001b[0;34m\u001b[0m\u001b[0m\n\u001b[1;32m     97\u001b[0m         \"\"\"\n\u001b[0;32m---> 98\u001b[0;31m         \u001b[0;32mreturn\u001b[0m \u001b[0mF\u001b[0m\u001b[0;34m.\u001b[0m\u001b[0mto_tensor\u001b[0m\u001b[0;34m(\u001b[0m\u001b[0mpic\u001b[0m\u001b[0;34m)\u001b[0m\u001b[0;34m\u001b[0m\u001b[0;34m\u001b[0m\u001b[0m\n\u001b[0m\u001b[1;32m     99\u001b[0m \u001b[0;34m\u001b[0m\u001b[0m\n\u001b[1;32m    100\u001b[0m     \u001b[0;32mdef\u001b[0m \u001b[0m__repr__\u001b[0m\u001b[0;34m(\u001b[0m\u001b[0mself\u001b[0m\u001b[0;34m)\u001b[0m\u001b[0;34m:\u001b[0m\u001b[0;34m\u001b[0m\u001b[0;34m\u001b[0m\u001b[0m\n",
            "\u001b[0;32m/usr/local/lib/python3.7/dist-packages/torchvision/transforms/functional.py\u001b[0m in \u001b[0;36mto_tensor\u001b[0;34m(pic)\u001b[0m\n\u001b[1;32m    148\u001b[0m     \u001b[0mimg\u001b[0m \u001b[0;34m=\u001b[0m \u001b[0mimg\u001b[0m\u001b[0;34m.\u001b[0m\u001b[0mpermute\u001b[0m\u001b[0;34m(\u001b[0m\u001b[0;34m(\u001b[0m\u001b[0;36m2\u001b[0m\u001b[0;34m,\u001b[0m \u001b[0;36m0\u001b[0m\u001b[0;34m,\u001b[0m \u001b[0;36m1\u001b[0m\u001b[0;34m)\u001b[0m\u001b[0;34m)\u001b[0m\u001b[0;34m.\u001b[0m\u001b[0mcontiguous\u001b[0m\u001b[0;34m(\u001b[0m\u001b[0;34m)\u001b[0m\u001b[0;34m\u001b[0m\u001b[0;34m\u001b[0m\u001b[0m\n\u001b[1;32m    149\u001b[0m     \u001b[0;32mif\u001b[0m \u001b[0misinstance\u001b[0m\u001b[0;34m(\u001b[0m\u001b[0mimg\u001b[0m\u001b[0;34m,\u001b[0m \u001b[0mtorch\u001b[0m\u001b[0;34m.\u001b[0m\u001b[0mByteTensor\u001b[0m\u001b[0;34m)\u001b[0m\u001b[0;34m:\u001b[0m\u001b[0;34m\u001b[0m\u001b[0;34m\u001b[0m\u001b[0m\n\u001b[0;32m--> 150\u001b[0;31m         \u001b[0;32mreturn\u001b[0m \u001b[0mimg\u001b[0m\u001b[0;34m.\u001b[0m\u001b[0mto\u001b[0m\u001b[0;34m(\u001b[0m\u001b[0mdtype\u001b[0m\u001b[0;34m=\u001b[0m\u001b[0mdefault_float_dtype\u001b[0m\u001b[0;34m)\u001b[0m\u001b[0;34m.\u001b[0m\u001b[0mdiv\u001b[0m\u001b[0;34m(\u001b[0m\u001b[0;36m255\u001b[0m\u001b[0;34m)\u001b[0m\u001b[0;34m\u001b[0m\u001b[0;34m\u001b[0m\u001b[0m\n\u001b[0m\u001b[1;32m    151\u001b[0m     \u001b[0;32melse\u001b[0m\u001b[0;34m:\u001b[0m\u001b[0;34m\u001b[0m\u001b[0;34m\u001b[0m\u001b[0m\n\u001b[1;32m    152\u001b[0m         \u001b[0;32mreturn\u001b[0m \u001b[0mimg\u001b[0m\u001b[0;34m\u001b[0m\u001b[0;34m\u001b[0m\u001b[0m\n",
            "\u001b[0;31mKeyboardInterrupt\u001b[0m: "
          ]
        }
      ],
      "source": [
        "#hyperparameter tuning model1\n",
        "import math\n",
        "def grid_search(model,input_shape,compression_size,test_data):\n",
        "    \"\"\"\n",
        "    model : Trained model\n",
        "    test_data : test data = dataset[30000//batch_size:]\n",
        "    input_shape :input size of images\n",
        "    compression_size :  size of bottleneck\n",
        "    \"\"\"\n",
        "    e = math.e\n",
        "    learning_rate = [0.1,0.001,0.01,0.0001,0.00001]\n",
        "    n_epochs_lst = [5,10,15]\n",
        "    batch_size_lst = [120,500]\n",
        "    loss_function = nn.CrossEntropyLoss()\n",
        "    accuracy = float('-inf')\n",
        "    best_lr = 0\n",
        "    update_interval = 100\n",
        "    best_batch = 0\n",
        "    best_n_epochs = 0\n",
        "    for lr in learning_rate:\n",
        "        optimizer = torch.optim.Adam(model.parameters(), lr=lr)\n",
        "        for n_epochs in n_epochs_lst :\n",
        "            trained_model, losses = training('model1',model, loss_function, optimizer, train_dataloader, n_epochs, update_interval)\n",
        "            for batch_size in batch_size_lst:\n",
        "                print(batch_size)\n",
        "                print(lr)\n",
        "                print(n_epochs)\n",
        "                test_loss, test_accuracy = testing('model1', model, loss_function, test_dataloader)\n",
        "                if test_accuracy >= accuracy:\n",
        "                    best_lr = lr\n",
        "                    best_batch = batch_size\n",
        "                    best_n_epochs = n_epochs\n",
        "                    accuracy = test_accuracy\n",
        "\n",
        "    return best_lr , best_batch, best_n_epochs,test_accuracy\n",
        "\n",
        "best_lr,best_batch_size, best_n_epochs,best_acc = grid_search(trained_model1, 784, 2, test_dataset)\n",
        "print(best_lr,best_batch_size, best_n_epochs, best_acc)"
      ],
      "id": "T6eTuCwRpPb1"
    },
    {
      "cell_type": "code",
      "execution_count": null,
      "metadata": {
        "id": "e9pWUz0R4JVQ"
      },
      "outputs": [],
      "source": [
        "# lr = 0.0008      # The size of the step taken when doing gradient descent\n",
        "# batch_size =500      # The number of images being trained on at once\n",
        "# update_interval = 100   # The number of batches trained on before recording loss\n",
        "# n_epochs = 10\n",
        "# test_accuracy, test_loss = testing('model1', model, loss_function, test_dataloader)\n",
        "# print(test_loss, test_accuracy)\n",
        "# print(best_lr,loss,test_accuracy)"
      ],
      "id": "e9pWUz0R4JVQ"
    },
    {
      "cell_type": "code",
      "execution_count": null,
      "metadata": {
        "id": "481b1ad5"
      },
      "outputs": [],
      "source": [
        "lr = 0.0009       # The size of the step taken when doing gradient descent\n",
        "batch_size = 1000  # The number of images being trained on at once\n",
        "update_interval = 100   # The number of batches trained on before recording loss\n",
        "n_epochs = 10         # The number of times we train through the entire dataset\n",
        "\n",
        "train_dataset, train_dataloader = load_mnist(batch_size=batch_size, train=True)\n",
        "\n",
        "model = MyMLP(784, 2)\n",
        "loss_function = nn.CrossEntropyLoss()\n"
      ],
      "id": "481b1ad5"
    },
    {
      "cell_type": "code",
      "execution_count": null,
      "metadata": {
        "id": "6ca882a2"
      },
      "outputs": [],
      "source": [
        "# Training Model 2\n",
        "model2 = MyMLP(784, 2)\n",
        "optimizer = torch.optim.Adam(model2.parameters(), lr=lr)\n",
        "trained_model2, losses2 = training('model2',model2, loss_function, optimizer, train_dataloader, n_epochs=n_epochs, update_interval=update_interval)\n",
        "\n",
        "plt.plot(np.arange(len(losses2)) * batch_size * update_interval, losses2)\n",
        "plt.title(\"training curve2\")\n",
        "plt.xlabel(\"number of images trained on\")\n",
        "plt.ylabel(\"loss\")\n",
        "plt.show()\n"
      ],
      "id": "6ca882a2"
    },
    {
      "cell_type": "code",
      "execution_count": null,
      "metadata": {
        "id": "Xa-8-zbpiAW1"
      },
      "outputs": [],
      "source": [
        "# Testing Model2\n",
        "_,_ = testing('model2', trained_model2, loss_function, test_dataloader)\n"
      ],
      "id": "Xa-8-zbpiAW1"
    },
    {
      "cell_type": "code",
      "execution_count": null,
      "metadata": {
        "id": "YSK4vLGhybZS"
      },
      "outputs": [],
      "source": [
        "# Model2 Hyperparameter Tuning\n",
        "def grid_search(model,input_shape,compression_size,test_data):\n",
        "    \"\"\"\n",
        "    model : Trained model\n",
        "    test_data : test data = dataset[30000//batch_size:]\n",
        "    input_shape :input size of images\n",
        "    compression_size :  size of bottleneck\n",
        "    \"\"\"\n",
        "    e = math.e\n",
        "    learning_rate = [0.0008,0.0009,0.009,0.00001,0.001]\n",
        "    n_epochs_lst = [5,10,8,3]\n",
        "    batch_size_lst = [120,300,500,800,1000]\n",
        "    loss_function = nn.CrossEntropyLoss()\n",
        "    loss = float('inf')\n",
        "    best_lr = 0\n",
        "    update_interval = 100\n",
        "    best_batch = 0\n",
        "    best_n_epochs = 0\n",
        "    for lr in learning_rate:\n",
        "        optimizer = torch.optim.Adam(model.parameters(), lr=lr)\n",
        "        for n_epochs in n_epochs_lst :\n",
        "            trained_model, losses = training('model2',model, loss_function, optimizer, train_dataloader, n_epochs, update_interval)\n",
        "            for batch_size in batch_size_lst:\n",
        "                print(batch_size)\n",
        "                print(lr)\n",
        "                print(n_epochs)\n",
        "                test_loss, test_accuracy = testing('model2', model, loss_function, test_dataloader)\n",
        "                if test_loss <= loss:\n",
        "                    best_lr = lr\n",
        "                    best_batch = batch_size\n",
        "                    best_n_epochs = n_epochs\n",
        "                    loss = test_loss\n",
        "\n",
        "    return best_lr , best_batch, best_n_epochs,loss\n",
        "\n",
        "best_lr,best_batch_size, best_n_epochs,loss = grid_search(trained_model2, 784, 2, test_dataset)\n",
        "print(best_lr,best_batch_size, best_n_epochs, loss)"
      ],
      "id": "YSK4vLGhybZS"
    },
    {
      "cell_type": "code",
      "execution_count": null,
      "metadata": {
        "id": "562f58aa"
      },
      "outputs": [],
      "source": [
        "lr = 0.0008            # The size of the step taken when doing gradient descent\n",
        "batch_size = 128        # The number of images being trained on at once\n",
        "update_interval = 100   # The number of batches trained on before recording loss\n",
        "n_epochs = 3            # The number of times we train through the entire dataset\n",
        "\n",
        "train_dataset, train_dataloader = load_mnist(batch_size=batch_size, train=True)\n",
        "\n",
        "model = MyMLP(784, 2)\n",
        "loss_function = nn.CrossEntropyLoss()\n"
      ],
      "id": "562f58aa"
    },
    {
      "cell_type": "code",
      "execution_count": null,
      "metadata": {
        "id": "ecea8daf"
      },
      "outputs": [],
      "source": [
        "# Training Model 3\n",
        "model3 = MyMLP(784, 2)\n",
        "optimizer = torch.optim.Adam(model3.parameters(), lr=lr)\n",
        "trained_model3, losses3 = training('model3',model3, loss_function, optimizer, train_dataloader, n_epochs=n_epochs, update_interval=update_interval)\n",
        "\n",
        "plt.plot(np.arange(len(losses3)) * batch_size * update_interval, losses3)\n",
        "plt.title(\"training curve3\")\n",
        "plt.xlabel(\"number of images trained on\")\n",
        "plt.ylabel(\"loss\")\n",
        "plt.show()\n"
      ],
      "id": "ecea8daf"
    },
    {
      "cell_type": "code",
      "execution_count": null,
      "metadata": {
        "id": "ZjGVOkqNiDWI"
      },
      "outputs": [],
      "source": [
        "# Testing Model3\n",
        "_,_ = testing('model3' ,trained_model3, loss_function, test_dataloader)"
      ],
      "id": "ZjGVOkqNiDWI"
    },
    {
      "cell_type": "code",
      "execution_count": null,
      "metadata": {
        "id": "RQajExZw2Pnq"
      },
      "outputs": [],
      "source": [
        "# Model3 Hyperparameter Tuning\n",
        "def grid_search(model,input_shape,compression_size,test_data):\n",
        "    \"\"\"\n",
        "    model : Trained model\n",
        "    test_data : test data = dataset[30000//batch_size:]\n",
        "    input_shape :input size of images\n",
        "    compression_size :  size of bottleneck\n",
        "    \"\"\"\n",
        "    e = math.e\n",
        "    learning_rate = [0.0008,0.0009,0.00095,0.0001]\n",
        "    n_epochs_lst = [5,10,15]\n",
        "    batch_size_lst = [500,800,1000,1300,1500]\n",
        "    loss_function = nn.CrossEntropyLoss()\n",
        "    loss = float('inf')\n",
        "    best_lr = 0\n",
        "    update_interval = 100\n",
        "    best_batch = 0\n",
        "    best_n_epochs = 0\n",
        "    for lr in learning_rate:\n",
        "        optimizer = torch.optim.Adam(model.parameters(), lr=lr)\n",
        "        for n_epochs in n_epochs_lst :\n",
        "            trained_model, losses = training('model3',model, loss_function, optimizer, train_dataloader, n_epochs, update_interval)\n",
        "            for batch_size in batch_size_lst:\n",
        "                print(batch_size)\n",
        "                print(lr)\n",
        "                print(n_epochs)\n",
        "                test_loss, test_accuracy = testing('model3', model, loss_function, test_dataloader)\n",
        "                if test_loss <= loss:\n",
        "                    best_lr = lr\n",
        "                    best_batch = batch_size\n",
        "                    best_n_epochs = n_epochs\n",
        "                    loss = test_loss\n",
        "\n",
        "    return best_lr , best_batch, best_n_epochs,loss\n",
        "\n",
        "best_lr,best_batch_size, best_n_epochs,loss = grid_search(trained_model3, 784, 2, test_dataset)\n",
        "print(best_lr,best_batch_size, best_n_epochs, loss)"
      ],
      "id": "RQajExZw2Pnq"
    },
    {
      "cell_type": "code",
      "execution_count": null,
      "metadata": {
        "id": "f0906925"
      },
      "outputs": [],
      "source": [
        "lr = 0.0008            # The size of the step taken when doing gradient descent\n",
        "batch_size = 128        # The number of images being trained on at once\n",
        "update_interval = 100   # The number of batches trained on before recording loss\n",
        "n_epochs = 3            # The number of times we train through the entire dataset\n",
        "\n",
        "train_dataset, train_dataloader = load_mnist(batch_size=batch_size, train=True)\n",
        "\n",
        "model4 = MyMLP(784, 2)\n",
        "loss_function = nn.CrossEntropyLoss()\n",
        "optimizer = torch.optim.Adam(model4.parameters(), lr=lr)"
      ],
      "id": "f0906925"
    },
    {
      "cell_type": "code",
      "execution_count": null,
      "metadata": {
        "id": "c621ddd3"
      },
      "outputs": [],
      "source": [
        "#  Training Model 4\n",
        "trained_model4, losses4 = training('model4',model4, loss_function, optimizer, train_dataloader, n_epochs=n_epochs, update_interval=update_interval)\n",
        "plt.plot(np.arange(len(losses4)) * batch_size * update_interval, losses4)\n",
        "plt.title(\"training curve4\")\n",
        "plt.xlabel(\"number of images trained on\")\n",
        "plt.ylabel(\"loss\")\n",
        "plt.show()\n"
      ],
      "id": "c621ddd3"
    },
    {
      "cell_type": "code",
      "execution_count": null,
      "metadata": {
        "id": "ffcfa9ab"
      },
      "outputs": [],
      "source": [
        "# Testing Model4\n",
        "_,_ = testing('model4', trained_model4, loss_function, test_dataloader)"
      ],
      "id": "ffcfa9ab"
    },
    {
      "cell_type": "code",
      "execution_count": null,
      "metadata": {
        "id": "ac53287e"
      },
      "outputs": [],
      "source": [
        "# Model4 Hyperparameter Tuning\n",
        "def grid_search(model,input_shape,compression_size,test_data):\n",
        "    \"\"\"\n",
        "    model : Trained model\n",
        "    test_data : test data = dataset[30000//batch_size:]\n",
        "    input_shape :input size of images\n",
        "    compression_size :  size of bottleneck\n",
        "    \"\"\"\n",
        "    e = math.e\n",
        "    learning_rate = [0.0008,0.0009,0.00095,0.0001]\n",
        "    n_epochs_lst = [3,5]\n",
        "    batch_size_lst = [500,800,1000,1300,1500]\n",
        "    loss_function = nn.CrossEntropyLoss()\n",
        "    loss = float('inf')\n",
        "    best_lr = 0\n",
        "    update_interval = 100\n",
        "    best_batch = 0\n",
        "    best_n_epochs = 0\n",
        "    for lr in learning_rate:\n",
        "        optimizer = torch.optim.Adam(model.parameters(), lr=lr)\n",
        "        for n_epochs in n_epochs_lst :\n",
        "            trained_model, losses = training('model3',model, loss_function, optimizer, train_dataloader, n_epochs, update_interval)\n",
        "            for batch_size in batch_size_lst:\n",
        "                print(batch_size)\n",
        "                print(lr)\n",
        "                print(n_epochs)\n",
        "                test_loss, test_accuracy = testing('model3', model, loss_function, test_dataloader)\n",
        "                if test_loss <= loss:\n",
        "                    best_lr = lr\n",
        "                    best_batch = batch_size\n",
        "                    best_n_epochs = n_epochs\n",
        "                    loss = test_loss\n",
        "\n",
        "    return best_lr , best_batch, best_n_epochs,loss\n",
        "\n",
        "best_lr,best_batch_size, best_n_epochs,loss = grid_search(trained_model4, 784, 2, test_dataset)\n",
        "print(best_lr,best_batch_size, best_n_epochs, loss)"
      ],
      "id": "ac53287e"
    },
    {
      "cell_type": "code",
      "execution_count": null,
      "metadata": {
        "id": "66d53d58"
      },
      "outputs": [],
      "source": [
        "def train_and_test(modelname,model, loss_function, optimizer, batch_size, update_interval, n_epochs):\n",
        "\n",
        "    '''\n",
        "    This will use your/my methods to create a dataloader, train a gven model, and then test its performance\n",
        "\n",
        "    Again, since I gave this to you for free you have to promise to look at it and try to understand it\n",
        "    '''\n",
        "\n",
        "    _, train_dataloader = load_mnist(batch_size=batch_size, train=True)\n",
        "    trained_model, losses = training(modelname,model, loss_function, optimizer, train_dataloader, n_epochs=n_epochs, update_interval=update_interval)\n",
        "\n",
        "    # Specify a path\n",
        "    PATH = \"state_dict_{}.pt\".format(modelname)\n",
        "\n",
        "    # Save\n",
        "    torch.save(trained_model.state_dict(), PATH)\n",
        "    _, test_dataloader = load_mnist(batch_size=10000, train=False)\n",
        "    test_acc, test_loss = testing(modelname, trained_model, loss_function, test_dataloader)\n",
        "\n",
        "    plt.plot(np.arange(len(losses)) * batch_size * update_interval, losses, color=\"b\", label=\"train loss\")\n",
        "    plt.hlines(test_loss, 0, len(losses) * batch_size * update_interval, color='r', label=\"test loss\")\n",
        "    plt.legend()\n",
        "    plt.title(\"training curve\")\n",
        "    plt.xlabel(\"number of images trained on\")\n",
        "    plt.ylabel(\"loss\")\n",
        "    plt.savefig('lr{} Single Model test_acc{} test_loss{}.png'.format(0.08,test_acc,test_loss))\n",
        "    plt.show()\n",
        "\n",
        "    return trained_model, test_loss\n",
        "\n",
        ""
      ],
      "id": "66d53d58"
    },
    {
      "cell_type": "code",
      "execution_count": null,
      "metadata": {
        "id": "693d50c6"
      },
      "outputs": [],
      "source": [
        "# Getting Train and Test for the BASELINE Model\n",
        "lr = 0.06               # The size of the step taken when doing gradient descent\n",
        "batch_size = 100      # The number of images being trained on at once\n",
        "update_interval = 400      # The number of times we train through the entire dataset\n",
        "model = MyMLP(784, 10)\n",
        "n_epochs = 10\n",
        "loss_function = nn.CrossEntropyLoss()\n",
        "optimizer = torch.optim.SGD(model.parameters(), lr=lr)\n",
        "\n",
        "_, _ = train_and_test('model',model, loss_function, optimizer, batch_size=batch_size, update_interval=update_interval, n_epochs=n_epochs)"
      ],
      "id": "693d50c6"
    },
    {
      "cell_type": "code",
      "execution_count": null,
      "metadata": {
        "id": "4b52f18f"
      },
      "outputs": [],
      "source": [
        "# # https://stackoverflow.com/questions/63975130/how-to-get-only-specific-classes-from-pytorchs-fashionmnist-dataset\n",
        "# dataset_full = train_dataset\n",
        "# #Selecting classes 7, 2, 5 and 6\n",
        "# idx = (dataset_full.targets==7) | (dataset_full.targets==2) | (dataset_full.targets==5) | (dataset_full.targets==6)\n",
        "# dataset_full.targets = dataset_full.targets[idx]\n",
        "# dataset_full.data = dataset_full.data[idx]"
      ],
      "id": "4b52f18f"
    },
    {
      "cell_type": "code",
      "execution_count": null,
      "metadata": {
        "id": "561d152b"
      },
      "outputs": [],
      "source": [
        "#  EXPERIMENT 1 :\n",
        "def experiment_1(model):\n",
        "    \"\"\"\n",
        "    Train 4 similar models on different parts of the MNIST dataset and combine the output\n",
        "    Same HyperParameters for every model\n",
        "    \"\"\"\n",
        "    lr = 0.08               # The size of the step taken when doing gradient descent\n",
        "    batch_size = 100       # The number of images being trained on at once\n",
        "    update_interval = 100   # The number of batches trained on before recording loss\n",
        "    n_epochs = 30  # The number of times we train through the entire dataset\n",
        "#     Train and Test 4 different models\n",
        "    model1 = MyMLP(784, 1)\n",
        "    model2 = MyMLP(784, 1)\n",
        "    model3 = MyMLP(784, 1)\n",
        "    model4 = MyMLP(784, 1)\n",
        "\n",
        "experiment_1(MyMLP)"
      ],
      "id": "561d152b"
    },
    {
      "cell_type": "code",
      "execution_count": null,
      "metadata": {
        "id": "66d8effb"
      },
      "outputs": [],
      "source": [
        "# Experiment 2:\n",
        "def experiment_1(self, model):\n",
        "    \"\"\"\n",
        "    Train 4 similar models on different parts of the MNIST dataset and combine the output\n",
        "    Same HyperParameters for every model\n",
        "    \"\"\"\n",
        "    lr = 0.08               # The size of the step taken when doing gradient descent\n",
        "    batch_size = 100       # The number of images being trained on at once\n",
        "    update_interval = 100   # The number of batches trained on before recording loss\n",
        "    n_epochs = 30  # The number of times we train through the entire dataset\n",
        "#     Train and Test 4 different models\n",
        "    model1 = MyMLP(784, 2)\n",
        "    model2 = MyMLP(784, 2)\n",
        "    model3 = MyMLP(784, 2)\n",
        "    model4 = MyMLP(784, 2)\n",
        "\n",
        "    loss_function = nn.BCELoss()\n",
        "#     Binary Cross Entropy loss\n",
        "    optimizer = torch.optim.SGD(model.parameters(), lr=lr)\n",
        "\n",
        "    _, _ = train_and_test(model1, loss_function, optimizer, batch_size=batch_size, update_interval=update_interval, n_epochs=n_epochs)\n",
        ""
      ],
      "id": "66d8effb"
    },
    {
      "cell_type": "code",
      "execution_count": null,
      "metadata": {
        "id": "0cca02c0"
      },
      "outputs": [],
      "source": [
        "#  Change the labels\n",
        "# Have 4 modules : if module 1 : change the label to 0 if it is in say group [2,3,4,5,6] , if not make it output a 1\n",
        "# Create 4 modules like this\n",
        "# And Map each output 0 and 1 for each module to a unique number\n",
        "# {9 : 1111}"
      ],
      "id": "0cca02c0"
    },
    {
      "cell_type": "code",
      "execution_count": null,
      "metadata": {
        "id": "bd866fda"
      },
      "outputs": [],
      "source": [
        "# Train 1 model to predict 4 different ways\n",
        "# Recurrent Predictions into Groups :\n",
        "# Group 1 : [0 -5][5-9]\n",
        "# Say the model selects [5-9]\n",
        "# Now make the model predict [5-7] and [8-9] as groups\n",
        "#  keep splitting things until you get 1 prediciton  == label"
      ],
      "id": "bd866fda"
    },
    {
      "cell_type": "code",
      "execution_count": null,
      "metadata": {
        "id": "fb01b2b5"
      },
      "outputs": [],
      "source": [
        "# def training():\n",
        "# \"Final String \" 0111 :  9\n",
        "# input(0,1,1,1)\n",
        "# new_label = 9 .convert(binary)\n",
        "# class MyEnsemble(nn.Module):\n",
        "#     def __init__(self, outA, outB, outC, outD,input_shape):\n",
        "#         super(MyEnsemble, self).__init__()\n",
        "#         self.lin1 = nn.Linear(inpt_shape,1)\n",
        "#     def forward(self, x):\n",
        "#         return self.lin1(x)\n",
        "\n",
        "# modelA = MyModelA()\n",
        "# modelB = MyModelB()\n",
        "# # Load state dicts\n",
        "# modelA.load_state_dict(torch.load(PATH))\n",
        "# modelB.load_state_dict(torch.load(PATH))\n",
        "\n",
        "# model = MyEnsemble(modelA, modelB)\n",
        "# x1, x2 = torch.randn(1, 10), torch.randn(1, 20)\n",
        "# output = model(x1, x2)"
      ],
      "id": "fb01b2b5"
    },
    {
      "cell_type": "code",
      "execution_count": null,
      "metadata": {
        "id": "f3fb92e5"
      },
      "outputs": [],
      "source": [
        "lr = 0.008            # The size of the step taken when doing gradient descent\n",
        "batch_size = 1        # The number of images being trained on at once\n",
        "update_interval = 300   # The number of batches trained on before recording loss\n",
        "n_epochs = 3            # The number of times we train through the entire dataset\n",
        "\n",
        "train_dataset, train_dataloader = load_mnist(batch_size=batch_size, train=True)\n",
        "\n",
        "model = MyMLP(784, 2)\n",
        "loss_function = nn.CrossEntropyLoss()\n",
        "optimizer = torch.optim.Adam(model.parameters(), lr=lr)"
      ],
      "id": "f3fb92e5"
    },
    {
      "cell_type": "code",
      "execution_count": null,
      "metadata": {
        "id": "af982605"
      },
      "outputs": [],
      "source": [
        "def new_training(train_dataloader, n_epochs, update_interval):\n",
        "    acc = []\n",
        "    part_loss = []\n",
        "    num_correct = 0\n",
        "    for n in range(n_epochs):\n",
        "        for i, (image, label) in enumerate(tqdm(iter(train_dataloader))):\n",
        "\n",
        "            # TODO Complete the training loop using the instructions above\n",
        "            # Hint: the above code essentially does one training step\n",
        "            ##############################################################\n",
        "            out1 = trained_model1(image)\n",
        "            out2 = trained_model2(image)\n",
        "            out3 = trained_model3(image)\n",
        "            out4 = trained_model4(image)\n",
        "            res = []\n",
        "            for i in range(len(out1)):\n",
        "              a = str(torch.argmax(out1[i]).numpy()) + str(torch.argmax(out2[i]).numpy()) + str(torch.argmax(out3[i]).numpy()) + str(torch.argmax(out4[i]).numpy())\n",
        "              res.append(int(a))\n",
        "            # print(res)\n",
        "            my_output = res\n",
        "            new_label = torch.Tensor([int(mapping[int(l)]) for l in label]).long()\n",
        "            num_correct = 0\n",
        "            # print(new_label)\n",
        "            for index in range(len(new_label)):\n",
        "              if my_output[index] == new_label[index] :\n",
        "                num_correct = num_correct + 1\n",
        "\n",
        "            acc.append(num_correct/len(new_label))\n",
        "            ##############################################################\n",
        "    return acc"
      ],
      "id": "af982605"
    },
    {
      "cell_type": "code",
      "execution_count": null,
      "metadata": {
        "id": "59f8d53f"
      },
      "outputs": [],
      "source": [],
      "id": "59f8d53f"
    },
    {
      "cell_type": "code",
      "source": [
        "#Testing Performance on Test Set\n",
        "_, test_dataloader = load_mnist(batch_size=batch_size, train=False)\n",
        "acc = new_training(test_dataloader, 3, 300)\n",
        "plt.plot(acc)\n",
        "plt.title(\"Combined Labels of 4 Models Plot of Accuracy with Test Dataset\")\n",
        "plt.xlabel(\"number of images trained on\")\n",
        "plt.ylabel(\" Test Accuracy\")\n",
        "final_accuracy = acc[-1]\n",
        "print(\"final accuracy\" ,final_accuracy)"
      ],
      "metadata": {
        "id": "xXm-vnVjK64N"
      },
      "id": "xXm-vnVjK64N",
      "execution_count": null,
      "outputs": []
    },
    {
      "cell_type": "code",
      "execution_count": null,
      "metadata": {
        "id": "782f6e46"
      },
      "outputs": [],
      "source": [
        "#   Balanced Data (Li and etc) vs Our Binary mapping right now\n",
        "#   no of epochs should be less\n",
        "#  Testing Accuracy , Learning Curve\n",
        "#  Also how will the model perform if given 1000  Exampls, vs 6000 Examples etc .\n",
        "# Compare this to the baseline model\n",
        "\n",
        "# Train 4 models indvidually\n",
        "# Just test the model with combination of outputs of 4 models(no training required, just combine the outputs)"
      ],
      "id": "782f6e46"
    },
    {
      "cell_type": "code",
      "execution_count": null,
      "metadata": {
        "id": "_l1l3LAwdy1R"
      },
      "outputs": [],
      "source": [
        "# The model Capability may not be enough : Try the Same with ResNets"
      ],
      "id": "_l1l3LAwdy1R"
    },
    {
      "cell_type": "code",
      "execution_count": null,
      "metadata": {
        "id": "d208d01d"
      },
      "outputs": [],
      "source": [
        "#  Group similar numbers together and test it out"
      ],
      "id": "d208d01d"
    }
  ],
  "metadata": {
    "colab": {
      "provenance": []
    },
    "kernelspec": {
      "display_name": "Python 3",
      "language": "python",
      "name": "python3"
    },
    "language_info": {
      "codemirror_mode": {
        "name": "ipython",
        "version": 3
      },
      "file_extension": ".py",
      "mimetype": "text/x-python",
      "name": "python",
      "nbconvert_exporter": "python",
      "pygments_lexer": "ipython3",
      "version": "3.8.8"
    }
  },
  "nbformat": 4,
  "nbformat_minor": 5
}