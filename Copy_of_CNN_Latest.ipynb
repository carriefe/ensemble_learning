{
  "cells": [
    {
      "cell_type": "code",
      "execution_count": null,
      "id": "475e1682",
      "metadata": {
        "id": "475e1682"
      },
      "outputs": [],
      "source": [
        "import torch\n",
        "from torch import nn, optim # Sets of preset layers and optimizers\n",
        "import torch.nn.functional as F # Sets of functions such as ReLU\n",
        "import torchvision as tv\n",
        "# Step 1: Let's import some libraries!\n",
        "import torch.nn as nn\n",
        "import torchvision\n",
        "import numpy as np\n",
        "import torch.nn.functional as F\n",
        "from torch.utils.data import Dataset, DataLoader, random_split, Subset\n",
        "from torchvision.datasets import ImageFolder\n",
        "import torchvision.transforms as tt\n",
        "from torchvision.utils import make_grid\n",
        "import matplotlib.pyplot as plt\n",
        "from matplotlib.image import imread\n",
        "import os\n",
        "import random\n",
        "from tqdm import tqdm\n",
        "from torchvision import datasets, transforms # Popular datasets, architectures and common image transformations for computer vision"
      ]
    },
    {
      "cell_type": "code",
      "execution_count": null,
      "id": "dd63463b",
      "metadata": {
        "id": "dd63463b"
      },
      "outputs": [],
      "source": [
        "def load_mnist(batch_size=32, train=True):\n",
        "\n",
        "    '''\n",
        "    Using the dataset and dataloader classes you should be able to make an MNIST set and loader\n",
        "    the loader should use the 'batch_size' argument and the dataset should use'train'\n",
        "\n",
        "    Also, the 'ToTensor' transform is given, you should set the transform of the dataset to just this\n",
        "    '''\n",
        "    to_tensor_transform = torchvision.transforms.ToTensor()\n",
        "    dataset = torchvision.datasets.MNIST(root = \"./data\", train = train,transform = to_tensor_transform,download = True )\n",
        "    dataloader = DataLoader(dataset,batch_size = batch_size, shuffle = True)\n",
        "\n",
        "    return dataset, dataloader"
      ]
    },
    {
      "cell_type": "code",
      "execution_count": null,
      "id": "7be28bc4",
      "metadata": {
        "id": "7be28bc4"
      },
      "outputs": [],
      "source": [
        "def plot_image_and_label(image, raw_output_from_model):\n",
        "\n",
        "    '''\n",
        "    Takes in an image and label and shows them using matplotlib\n",
        "    this is used to visualize the data and also the outputs of our network\n",
        "    '''\n",
        "\n",
        "    plt.imshow(image)\n",
        "    if type(raw_output_from_model) is not int:\n",
        "        _,predicted = torch.max(raw_output_from_model,1)\n",
        "#         Takes 1 highest number from the output\n",
        "        plt.title(\"Best label = \" + str(predicted.item()) + \", with Score: \" + str(round(raw_output_from_model[0][predicted].item() * 100,2)))\n",
        "    else:\n",
        "        plt.title(\"Label = \" + str(raw_output_from_model))\n",
        "    plt.show()\n",
        "    return"
      ]
    },
    {
      "cell_type": "code",
      "execution_count": null,
      "id": "adcd23b7",
      "metadata": {
        "colab": {
          "base_uri": "https://localhost:8080/",
          "height": 698,
          "referenced_widgets": [
            "9f379e95f2474b5e81ad6d6e3ffa2e5c",
            "c55899aff13a4e87912ea11d1c8ff9e3",
            "a1552c545df740c580b77fd64ee4a39c",
            "36473bc88041414abb448bf5b0d4b440",
            "d83812fe1cf24e9e9c35fcd8932042ee",
            "b78d5a78a12246a5abac45ef0f5f585e",
            "0260fd852f624ee199687e69975a36b0",
            "f0857adc19f14d4a9d9d79489b7c6f33",
            "18568cd3466a4e1b800b174a3c27311d",
            "a8d9b7c6016b442fbf6220ae0f8c7435",
            "bc5aed2685d44d10b0d75abcab1724b1",
            "55644cea7f3a4b508ffdb647fc09768d",
            "d2602f42db264dd489cc9c9c93eae3b6",
            "6e557ffdd254442a985112428b69d204",
            "bb83b122be7746b2904f9719c3a63257",
            "2b968f8915194f3cb9fec293aacf5e92",
            "be698d7fb98a42b0a0dceb2e4aca52ad",
            "ca0865225bb244b8bfd4832824d3ab80",
            "6345e0051fd24dbeb7dfd2da91cb2d22",
            "5e1595ce47f94e8eac3b8f52fe5939b9",
            "21f9df15bb544737b05c9e65a65e4d7d",
            "cf351913b5c44de3b867d107973ce0f6",
            "fb29471a8a804eae8faa4c0e0c6deea8",
            "cdfb49d6da184919bb1106c608e8fcba",
            "06ffe12ec03b4135ae7b0f6a07c00e80",
            "2984c80eecd2498eae12cb690524f84d",
            "7550a288608e486a91eef67d199a6de8",
            "71737a6fe62f42e9b72c4eee8680c575",
            "24b0e1d41fc047b294ca8570b1df397c",
            "6cca93733b42478284cca3dbfc55a537",
            "c65edaeb1dbb4a469f704c9524cec0f5",
            "a6afa23087ca4866a960f1562dbbca6b",
            "2a0db2763b174942a1ce10799719ed92",
            "5beb4f89c872426793d399953a9deb2c",
            "df2695421fba40b1a2db55ebb15ed807",
            "9f643837c5d14baa9cb85b0fdfe817e6",
            "b95e813f17644793b8c936c2f60e96eb",
            "ce301a10526945d686fd03ce6f2d8ce2",
            "fa76b75489ae47058081cc2673ab3680",
            "5ebaba2fde4c43a8acf054662d1904f1",
            "7d9526f120244c968e86c9eae1a11dd3",
            "39f543190d5849bf9559086b2cd9c4a2",
            "b34053aafcb44055ae1c185776922712",
            "698766d93d524eaf9541d91bd5be9925"
          ]
        },
        "id": "adcd23b7",
        "outputId": "8173730b-9b18-49cf-acc5-5928cddcac24"
      },
      "outputs": [
        {
          "output_type": "stream",
          "name": "stdout",
          "text": [
            "Downloading http://yann.lecun.com/exdb/mnist/train-images-idx3-ubyte.gz\n",
            "Downloading http://yann.lecun.com/exdb/mnist/train-images-idx3-ubyte.gz to ./data/MNIST/raw/train-images-idx3-ubyte.gz\n"
          ]
        },
        {
          "output_type": "display_data",
          "data": {
            "text/plain": [
              "  0%|          | 0/9912422 [00:00<?, ?it/s]"
            ],
            "application/vnd.jupyter.widget-view+json": {
              "version_major": 2,
              "version_minor": 0,
              "model_id": "9f379e95f2474b5e81ad6d6e3ffa2e5c"
            }
          },
          "metadata": {}
        },
        {
          "output_type": "stream",
          "name": "stdout",
          "text": [
            "Extracting ./data/MNIST/raw/train-images-idx3-ubyte.gz to ./data/MNIST/raw\n",
            "\n",
            "Downloading http://yann.lecun.com/exdb/mnist/train-labels-idx1-ubyte.gz\n",
            "Downloading http://yann.lecun.com/exdb/mnist/train-labels-idx1-ubyte.gz to ./data/MNIST/raw/train-labels-idx1-ubyte.gz\n"
          ]
        },
        {
          "output_type": "display_data",
          "data": {
            "text/plain": [
              "  0%|          | 0/28881 [00:00<?, ?it/s]"
            ],
            "application/vnd.jupyter.widget-view+json": {
              "version_major": 2,
              "version_minor": 0,
              "model_id": "55644cea7f3a4b508ffdb647fc09768d"
            }
          },
          "metadata": {}
        },
        {
          "output_type": "stream",
          "name": "stdout",
          "text": [
            "Extracting ./data/MNIST/raw/train-labels-idx1-ubyte.gz to ./data/MNIST/raw\n",
            "\n",
            "Downloading http://yann.lecun.com/exdb/mnist/t10k-images-idx3-ubyte.gz\n",
            "Downloading http://yann.lecun.com/exdb/mnist/t10k-images-idx3-ubyte.gz to ./data/MNIST/raw/t10k-images-idx3-ubyte.gz\n"
          ]
        },
        {
          "output_type": "display_data",
          "data": {
            "text/plain": [
              "  0%|          | 0/1648877 [00:00<?, ?it/s]"
            ],
            "application/vnd.jupyter.widget-view+json": {
              "version_major": 2,
              "version_minor": 0,
              "model_id": "fb29471a8a804eae8faa4c0e0c6deea8"
            }
          },
          "metadata": {}
        },
        {
          "output_type": "stream",
          "name": "stdout",
          "text": [
            "Extracting ./data/MNIST/raw/t10k-images-idx3-ubyte.gz to ./data/MNIST/raw\n",
            "\n",
            "Downloading http://yann.lecun.com/exdb/mnist/t10k-labels-idx1-ubyte.gz\n",
            "Downloading http://yann.lecun.com/exdb/mnist/t10k-labels-idx1-ubyte.gz to ./data/MNIST/raw/t10k-labels-idx1-ubyte.gz\n"
          ]
        },
        {
          "output_type": "display_data",
          "data": {
            "text/plain": [
              "  0%|          | 0/4542 [00:00<?, ?it/s]"
            ],
            "application/vnd.jupyter.widget-view+json": {
              "version_major": 2,
              "version_minor": 0,
              "model_id": "5beb4f89c872426793d399953a9deb2c"
            }
          },
          "metadata": {}
        },
        {
          "output_type": "stream",
          "name": "stdout",
          "text": [
            "Extracting ./data/MNIST/raw/t10k-labels-idx1-ubyte.gz to ./data/MNIST/raw\n",
            "\n",
            "torch.Size([1, 28, 28]) ex_image.shape\n"
          ]
        },
        {
          "output_type": "display_data",
          "data": {
            "text/plain": [
              "<Figure size 432x288 with 1 Axes>"
            ],
            "image/png": "[encoded data removed]"
          },
          "metadata": {
            "needs_background": "light"
          }
        }
      ],
      "source": [
        "# This will just test whether your dataset and loader work\n",
        "# They might still have issues, but if an example image shows here you're on the right track!\n",
        "train_data,train_dataloader = load_mnist(batch_size = 64, train = True)\n",
        "to_tensor_transform = torchvision.transforms.ToTensor()\n",
        "validate_data = datasets.MNIST(root= \"./data\", train=True,\n",
        "                download=True, transform= to_tensor_transform)\n",
        "ex_image, ex_label = train_data[random.randint(0,1000)]\n",
        "print(ex_image.shape,'ex_image.shape')\n",
        "plot_image_and_label(ex_image.reshape(28,28), ex_label)\n",
        "# random.shuffle(train_data)\n"
      ]
    },
    {
      "cell_type": "code",
      "execution_count": null,
      "id": "b079fcda",
      "metadata": {
        "id": "b079fcda"
      },
      "outputs": [],
      "source": [
        "class MyMLP(nn.Module):\n",
        "    def __init__(self,input_size, output_size):\n",
        "        super().__init__()\n",
        "        self.input_size = input_size # making the input size accessible\n",
        "        # Output Size = ((ModelSize - kernel_size + 2* padding) / stride)  + 1\n",
        "#         Input given to the model  : (1, 28, 28) and  output : (40,28,28)\n",
        "        self.conv1 = nn.Conv2d(in_channels = 1, out_channels = 4 ,kernel_size = 6,stride = 2,padding = 1)\n",
        "        # Output_size after self.conv1:  ((28 - 6 + 2)/ 2 ) + 1 = 13\n",
        "#       Pooling layer will affect the size of an image\n",
        "        # 784 * 40 with kernel size = 6, stride = 1 => output of image :\n",
        "        self.conv2 = nn.Conv2d(in_channels = 4, out_channels = 2,kernel_size = 5,stride = 2,padding = 4 )\n",
        "        # Model Size:   40 ,13, 13\n",
        "        # Expected Output Size after self.conv2 :  (13-5+8)/2 + 1 = 9\n",
        "        self.relu = nn.ReLU()       # you only need to define one relu, you can use this one\n",
        "        # cnn_out_size = 2 * 9 * 9\n",
        "        cnn_out_size =  162\n",
        "\n",
        "        self.lin1 = nn.Linear(cnn_out_size,100)\n",
        "        self.lin2 = nn.Linear(100,50)\n",
        "        self.lin3 = nn.Linear(50,25)\n",
        "        self.lin4 = nn.Linear(25,10)\n",
        "        self.lin5 = nn.Linear(10,output_size)\n",
        "        self.relu = nn.ReLU()\n",
        "\n",
        "    def forward(self,x):\n",
        "        x = x.view(-1,1,28,28)\n",
        "\n",
        "        out = self.conv1(x)\n",
        "        out = self.relu(out)\n",
        "        out = self.conv2(out)\n",
        "        out = self.relu(out)\n",
        "\n",
        "        self.filtered = out  ## Saving the output from the convolutions so that we can see them\n",
        "        out = out.flatten(start_dim = 1) # This is the flattening that we keep talking about (note that it will still be a batch on outputs)\n",
        "\n",
        "        out = self.lin1(out)\n",
        "        out = self.relu(out)\n",
        "        out = self.lin2(out)\n",
        "        out = self.relu(out)\n",
        "        out = self.lin3(out)\n",
        "        out = self.relu(out)\n",
        "        out = self.lin4(out)\n",
        "        out = self.relu(out)\n",
        "        out = self.lin5(out)\n",
        "\n",
        "\n",
        "        return out"
      ]
    },
    {
      "cell_type": "code",
      "execution_count": null,
      "id": "240af524",
      "metadata": {
        "id": "240af524"
      },
      "outputs": [],
      "source": [
        "# # Shows the prediction of the model without training\n",
        "# # Not very good huh? (though theres a small chance it is lol)\n",
        "\n",
        "# test_model = MyMLP(784, 2)\n",
        "# test_output = test_model(ex_image.flatten()) # Notice how we flatten the 2d image into 1d to use the MLP\n",
        "# print(ex_image.shape,\"eximage.shape\")\n",
        "# plot_image_and_label(ex_image.reshape(28,28), test_output)"
      ]
    },
    {
      "cell_type": "code",
      "execution_count": null,
      "id": "e510c774",
      "metadata": {
        "id": "e510c774"
      },
      "outputs": [],
      "source": [
        "bits = []\n",
        "def generateAllBinaryStrings(n, arr, i,num):\n",
        "    if i == n:\n",
        "        key = ''.join([str(i) for i in arr])\n",
        "        bits.append(key)\n",
        "        num += 1\n",
        "        return\n",
        "\n",
        "    # First assign \"0\" at ith position\n",
        "    # and try for all other permutations\n",
        "    # for remaining positions\n",
        "    arr[i] = 0\n",
        "    generateAllBinaryStrings(n, arr, i + 1,num+1)\n",
        "\n",
        "    # And then assign \"1\" at ith position\n",
        "    # and try for all other permutations\n",
        "    # for remaining positions\n",
        "    arr[i] = 1\n",
        "    generateAllBinaryStrings(n, arr, i + 1,num+1)\n",
        "num = 0\n",
        "generateAllBinaryStrings(4,[0]*4 , 0,num)\n"
      ]
    },
    {
      "cell_type": "code",
      "execution_count": null,
      "id": "4502a269",
      "metadata": {
        "colab": {
          "base_uri": "https://localhost:8080/"
        },
        "id": "4502a269",
        "outputId": "ff828c47-fdf6-4de1-9220-e1b0b24d437e"
      },
      "outputs": [
        {
          "output_type": "stream",
          "name": "stdout",
          "text": [
            "['0000', '0001', '0010', '0011', '0100', '0101', '0110', '0111', '1000', '1001', '1010', '1011', '1100', '1101', '1110', '1111']\n",
            "{0: '0000', 1: '0001', 2: '0010', 3: '0011', 4: '0100', 5: '0101', 6: '0110', 7: '0111', 8: '1000', 9: '1001', 10: '1010', 11: '1011', 12: '1100', 13: '1101', 14: '1110', 15: '1111'}\n"
          ]
        }
      ],
      "source": [
        "print(bits)\n",
        "mapping = {}\n",
        "curr_index = 0\n",
        "invMapping = {}\n",
        "for index,bit in enumerate(bits):\n",
        "    mapping[index] = bit\n",
        "    invMapping[bit] = index\n",
        "print(mapping)\n",
        "# Unbalanced : ['0000', '0001', '0010', '0011', '0100', '0101', '0110', '0111', '1000', '1001', '1010', '1011', '1100', '1101', '1110', '1111']\n",
        "# {0: '1111', 1: '0001', 2: '0010', 3: '0011', 4: '0100', 5: '0101', 6: '0110', 7: '0111', 8: '1000', 9: '1001'}\n",
        "# Balanced :"
      ]
    },
    {
      "cell_type": "code",
      "execution_count": null,
      "id": "c32440bd",
      "metadata": {
        "id": "c32440bd"
      },
      "outputs": [],
      "source": [
        "def training(modelname,model, loss_function, optimizer, train_dataloader, n_epochs, update_interval):\n",
        "\n",
        "    '''\n",
        "    Updates the parameters of the given model using the optimizer of choice to\n",
        "    reduce the given loss_function\n",
        "\n",
        "    This will iterate over the dataloader 'n_epochs' times training on each batch of images\n",
        "\n",
        "    To get the gradient (which is stored internally in the model) use .backward() from the loss tensor\n",
        "    and to apply it use .step() on the optimizer\n",
        "\n",
        "    In between steps you need to zero the gradient so it can be recalculated -- use .zero_grad for this\n",
        "    '''\n",
        "\n",
        "    losses = []\n",
        "    part_loss = []\n",
        "    for n in range(n_epochs):\n",
        "        for i, (image, label) in enumerate(tqdm(iter(train_dataloader))):\n",
        "\n",
        "            # TODO Complete the training loop using the instructions above\n",
        "            # Hint: the above code essentially does one training step\n",
        "\n",
        "            ##############################################################\n",
        "            optimizer.zero_grad()\n",
        "            my_output = model(image)\n",
        "            if modelname == 'model1':\n",
        "                new_label = torch.Tensor([int(mapping[int(l)][0]) for l in label]).long()\n",
        "            elif modelname == 'model2':\n",
        "                new_label = torch.Tensor([int(mapping[int(l)][1]) for l in label]).long()\n",
        "            elif modelname == 'model3':\n",
        "                new_label = torch.Tensor([int(mapping[int(l)][2]) for l in label]).long()\n",
        "            elif modelname == 'model4':\n",
        "                new_label = torch.Tensor([int(mapping[int(l)][3]) for l in label]).long()\n",
        "            elif modelname == 'model':\n",
        "                new_label = label\n",
        "            loss = loss_function(my_output,new_label)\n",
        "            loss.backward()\n",
        "            optimizer.step()\n",
        "            part_loss.append(loss.item())\n",
        "            ##############################################################\n",
        "\n",
        "            if i % update_interval == 0:\n",
        "                losses.append(sum(part_loss)/len(part_loss)) # This will append your losses for plotting -- please use \"loss\" as the name for your loss\n",
        "#                 part_loss = []\n",
        "    return model, losses\n"
      ]
    },
    {
      "cell_type": "code",
      "execution_count": null,
      "id": "vTBrJRHTiH-A",
      "metadata": {
        "colab": {
          "base_uri": "https://localhost:8080/"
        },
        "id": "vTBrJRHTiH-A",
        "outputId": "71c34742-4914-4a18-f119-61e7f796cc36"
      },
      "outputs": [
        {
          "output_type": "stream",
          "name": "stdout",
          "text": [
            "testing the previously trained model on test dataset of MNIST\n"
          ]
        }
      ],
      "source": [
        "print(\"testing the previously trained model on test dataset of MNIST\")\n",
        "test_dataset, test_dataloader = load_mnist(batch_size=10000, train=False)\n"
      ]
    },
    {
      "cell_type": "code",
      "execution_count": null,
      "id": "WUxGkM22hv_8",
      "metadata": {
        "id": "WUxGkM22hv_8"
      },
      "outputs": [],
      "source": [
        "def testing(modelname, model, loss_function, test_data):\n",
        "    sum_loss = 0\n",
        "    n_correct = 0\n",
        "    total = 0\n",
        "    for i, (image, label) in enumerate(tqdm(iter(test_data))):\n",
        "        pred = model(image)\n",
        "        if modelname == 'model1':\n",
        "            new_label =  torch.Tensor([int(mapping[int(l)][0]) for l in label]).long()\n",
        "        elif modelname == 'model2':\n",
        "            new_label = torch.Tensor([int(mapping[int(l)][1]) for l in label]).long()\n",
        "        elif modelname == 'model3':\n",
        "            new_label = torch.Tensor([int(mapping[int(l)][2]) for l in label]).long()\n",
        "        elif modelname == 'model4':\n",
        "            new_label = torch.Tensor([int(mapping[int(l)][3]) for l in label]).long()\n",
        "        elif modelname == 'model':\n",
        "            new_label = label\n",
        "        loss = loss_function(pred,new_label)\n",
        "        sum_loss += loss.item()\n",
        "        _, predicted = torch.max(pred,1)\n",
        "        n_correct += (predicted == new_label).sum()\n",
        "        total += new_label.size(0)\n",
        "\n",
        "    test_acc = round(((n_correct / total).item() * 100), 2)\n",
        "    avg_loss = round(sum_loss / len(test_data), 2)\n",
        "\n",
        "    print(\"test accuracy:\", test_acc)\n",
        "    print(\"test loss:\", avg_loss )\n",
        "\n",
        "    return test_acc, avg_loss\n"
      ]
    },
    {
      "cell_type": "code",
      "execution_count": null,
      "id": "c2a16afd",
      "metadata": {
        "id": "c2a16afd"
      },
      "outputs": [],
      "source": [
        "# Plug in your model, loss function, and optimizer\n",
        "# Try out different hyperparameters and different models to see how they perform\n",
        "\n",
        "lr = 0.001         # The size of the step taken when doing gradient descent 0.01 0.001 0.0001\n",
        "batch_size = 400        # The number of images being trained on at once\n",
        "update_interval = 100   # The number of batches trained on before recording loss\n",
        "n_epochs = 3           # The number of times we train through the entire dataset 5 10 15\n",
        "model1 = MyMLP(784, 2)\n",
        "optimizer = torch.optim.Adam(model1.parameters(), lr=lr)\n",
        "loss_function = nn.CrossEntropyLoss()"
      ]
    },
    {
      "cell_type": "code",
      "execution_count": null,
      "id": "f579218b",
      "metadata": {
        "colab": {
          "base_uri": "https://localhost:8080/",
          "height": 346
        },
        "id": "f579218b",
        "outputId": "2618f1ae-e38f-4182-98f3-315af6a2dda6"
      },
      "outputs": [
        {
          "output_type": "stream",
          "name": "stderr",
          "text": [
            "100%|██████████| 938/938 [00:17<00:00, 52.17it/s]\n",
            "100%|██████████| 938/938 [00:11<00:00, 79.33it/s]\n",
            "100%|██████████| 938/938 [00:11<00:00, 81.89it/s]\n"
          ]
        },
        {
          "output_type": "display_data",
          "data": {
            "text/plain": [
              "<Figure size 432x288 with 1 Axes>"
            ],
            "image/png": "[encoded data removed]"
          },
          "metadata": {
            "needs_background": "light"
          }
        }
      ],
      "source": [
        "# Training Model 1\n",
        "\n",
        "trained_model1, losses1 = training('model1',model1, loss_function, optimizer, train_dataloader, n_epochs=n_epochs, update_interval=update_interval)\n",
        "\n",
        "plt.plot(np.arange(len(losses1)) * batch_size * update_interval, losses1)\n",
        "plt.title(\"training curve1 lr {} batch_size {} update_interval {} n_epochs {}\".format(lr,batch_size,update_interval,n_epochs))\n",
        "plt.xlabel(\"number of images trained on\")\n",
        "plt.ylabel(\"loss\")\n",
        "plt.show()\n"
      ]
    },
    {
      "cell_type": "code",
      "execution_count": null,
      "id": "Py95HPXyhsjr",
      "metadata": {
        "colab": {
          "base_uri": "https://localhost:8080/",
          "height": 85
        },
        "id": "Py95HPXyhsjr",
        "outputId": "1ba09230-4a93-4c6d-99d1-34d073709d22"
      },
      "outputs": [
        {
          "output_type": "stream",
          "name": "stderr",
          "text": [
            "100%|██████████| 1/1 [00:01<00:00,  1.09s/it]"
          ]
        },
        {
          "output_type": "stream",
          "name": "stdout",
          "text": [
            "test accuracy: 98.29\n",
            "test loss: 0.05\n"
          ]
        },
        {
          "output_type": "stream",
          "name": "stderr",
          "text": [
            "\n"
          ]
        },
        {
          "output_type": "display_data",
          "data": {
            "text/plain": [
              "<Figure size 432x288 with 0 Axes>"
            ]
          },
          "metadata": {}
        }
      ],
      "source": [
        "# Testing Model1\n",
        "test_acc,test_loss = testing('model1', trained_model1, loss_function, test_dataloader)\n",
        "plt.savefig(\"CNN Model1 Imbalanced lables test_acc {} test_loss ={}.png\".format(test_acc,test_loss))"
      ]
    },
    {
      "cell_type": "code",
      "execution_count": null,
      "id": "481b1ad5",
      "metadata": {
        "id": "481b1ad5"
      },
      "outputs": [],
      "source": [
        "# lr = 0.001      # The size of the step taken when doing gradient descent\n",
        "# batch_size = 400 # The number of images being trained on at once\n",
        "# update_interval = 400   # The number of batches trained on before recording loss\n",
        "# n_epochs = 3         # The number of times we train through the entire dataset\n",
        "# test accuracy: 97.54\n",
        "# test loss: 0.07\n",
        "lr = 0.001           # The size of the step taken when doing gradient descent\n",
        "batch_size = 400       # The number of images being trained on at once\n",
        "update_interval = 400   # The number of batches trained on before recording loss\n",
        "n_epochs = 3        # The number of times we train through the entire dataset\n",
        "\n",
        "train_dataset, train_dataloader = load_mnist(batch_size=batch_size, train=True)\n",
        "loss_function = nn.CrossEntropyLoss()\n",
        "model2 = MyMLP(784, 2)\n",
        "optimizer = torch.optim.Adam(model2.parameters(), lr=lr)\n"
      ]
    },
    {
      "cell_type": "code",
      "execution_count": null,
      "id": "6ca882a2",
      "metadata": {
        "colab": {
          "base_uri": "https://localhost:8080/",
          "height": 346
        },
        "id": "6ca882a2",
        "outputId": "d8404847-1224-44c7-e192-e917a411ce1b"
      },
      "outputs": [
        {
          "output_type": "stream",
          "name": "stderr",
          "text": [
            "100%|██████████| 150/150 [00:09<00:00, 15.81it/s]\n",
            "100%|██████████| 150/150 [00:09<00:00, 15.68it/s]\n",
            "100%|██████████| 150/150 [00:09<00:00, 15.69it/s]\n"
          ]
        },
        {
          "output_type": "display_data",
          "data": {
            "text/plain": [
              "<Figure size 432x288 with 1 Axes>"
            ],
            "image/png": "[encoded data removed]"
          },
          "metadata": {
            "needs_background": "light"
          }
        }
      ],
      "source": [
        "# # Training Model 2\n",
        "\n",
        "trained_model2, losses2 = training('model2',model2, loss_function, optimizer, train_dataloader, n_epochs=n_epochs, update_interval=update_interval)\n",
        "\n",
        "plt.plot(np.arange(len(losses2)) * batch_size * update_interval, losses2)\n",
        "plt.title(\"training curve2 lr {} batch_size {} update_interval {} n_epochs {}\".format(lr,batch_size,update_interval,n_epochs))\n",
        "plt.xlabel(\"number of images trained on\")\n",
        "plt.ylabel(\"loss\")\n",
        "plt.show()\n"
      ]
    },
    {
      "cell_type": "code",
      "execution_count": null,
      "id": "Xa-8-zbpiAW1",
      "metadata": {
        "colab": {
          "base_uri": "https://localhost:8080/",
          "height": 85
        },
        "id": "Xa-8-zbpiAW1",
        "outputId": "5370315a-94d5-4950-e652-d78e85d6bb9e"
      },
      "outputs": [
        {
          "output_type": "stream",
          "name": "stderr",
          "text": [
            "100%|██████████| 1/1 [00:01<00:00,  1.16s/it]"
          ]
        },
        {
          "output_type": "stream",
          "name": "stdout",
          "text": [
            "test accuracy: 95.99\n",
            "test loss: 0.11\n"
          ]
        },
        {
          "output_type": "stream",
          "name": "stderr",
          "text": [
            "\n"
          ]
        },
        {
          "output_type": "display_data",
          "data": {
            "text/plain": [
              "<Figure size 432x288 with 0 Axes>"
            ]
          },
          "metadata": {}
        }
      ],
      "source": [
        "# Testing Model2\n",
        "test_acc,test_loss = testing('model2', trained_model2, loss_function, test_dataloader)\n",
        "plt.savefig(\"CNN Model2 Imbalanced lables test_acc {} test_loss ={}.png\".format(test_acc,test_loss))"
      ]
    },
    {
      "cell_type": "code",
      "execution_count": null,
      "id": "rSFOlW9SEGCn",
      "metadata": {
        "id": "rSFOlW9SEGCn"
      },
      "outputs": [],
      "source": [
        "# best_lr,best_batch_size, best_n_epochs,loss, best_model2 = grid_search(model2, 784, 2, test_dataset)\n",
        "# print(best_lr,best_batch_size, best_n_epochs, loss)"
      ]
    },
    {
      "cell_type": "code",
      "execution_count": null,
      "id": "562f58aa",
      "metadata": {
        "id": "562f58aa"
      },
      "outputs": [],
      "source": [
        "lr = 0.001    # The size of the step taken when doing gradient descent\n",
        "batch_size = 500 # The number of images being trained on at once\n",
        "update_interval = 100   # The number of batches trained on before recording loss\n",
        "n_epochs = 3       # The number of times we train through the entire dataset\n",
        "# test accuracy: 97.95\n",
        "# test loss: 0.06\n",
        "\n",
        "# lr = 0.00129           # The size of the step taken when doing gradient descent\n",
        "# batch_size = 800       # The number of images being trained on at once\n",
        "# update_interval = 100   # The number of batches trained on before recording loss\n",
        "# n_epochs = 3        # The number of times we train through the entire dataset\n",
        "# test accuracy: 59.72\n",
        "# test loss: 0.33\n",
        "train_dataset, train_dataloader = load_mnist(batch_size=batch_size, train=True)\n",
        "test_dataset, test_dataloader = load_mnist(batch_size = batch_size, train = False)\n",
        "loss_function = nn.CrossEntropyLoss()\n",
        "model3 = MyMLP(784, 2)\n",
        "optimizer = torch.optim.Adam(model3.parameters(), lr = lr)\n"
      ]
    },
    {
      "cell_type": "code",
      "execution_count": null,
      "id": "ecea8daf",
      "metadata": {
        "colab": {
          "base_uri": "https://localhost:8080/",
          "height": 346
        },
        "id": "ecea8daf",
        "outputId": "de8d3edc-751b-4fa1-f8ea-4be6f7617375"
      },
      "outputs": [
        {
          "output_type": "stream",
          "name": "stderr",
          "text": [
            "100%|██████████| 120/120 [00:10<00:00, 10.96it/s]\n",
            "100%|██████████| 120/120 [00:09<00:00, 12.80it/s]\n",
            "100%|██████████| 120/120 [00:10<00:00, 11.33it/s]\n"
          ]
        },
        {
          "output_type": "display_data",
          "data": {
            "text/plain": [
              "<Figure size 432x288 with 1 Axes>"
            ],
            "image/png": "[encoded data removed]"
          },
          "metadata": {
            "needs_background": "light"
          }
        }
      ],
      "source": [
        "# Training Model 3\n",
        "trained_model3, losses3 = training('model3',model3, loss_function, optimizer, train_dataloader, n_epochs=n_epochs, update_interval=update_interval)\n",
        "\n",
        "plt.plot(np.arange(len(losses3)) * batch_size * update_interval, losses3)\n",
        "plt.title(\"training curve3 lr {} batch_size {} update_interval {} n_epochs {}\".format(lr,batch_size,update_interval,n_epochs))\n",
        "plt.xlabel(\"number of images trained on\")\n",
        "plt.ylabel(\"loss\")\n",
        "plt.show()"
      ]
    },
    {
      "cell_type": "code",
      "execution_count": null,
      "id": "ZjGVOkqNiDWI",
      "metadata": {
        "colab": {
          "base_uri": "https://localhost:8080/",
          "height": 85
        },
        "id": "ZjGVOkqNiDWI",
        "outputId": "36990af9-7293-4bb0-a5ce-943ce4b9e774"
      },
      "outputs": [
        {
          "output_type": "stream",
          "name": "stderr",
          "text": [
            "100%|██████████| 20/20 [00:01<00:00, 17.59it/s]"
          ]
        },
        {
          "output_type": "stream",
          "name": "stdout",
          "text": [
            "test accuracy: 94.5\n",
            "test loss: 0.15\n"
          ]
        },
        {
          "output_type": "stream",
          "name": "stderr",
          "text": [
            "\n"
          ]
        },
        {
          "output_type": "display_data",
          "data": {
            "text/plain": [
              "<Figure size 432x288 with 0 Axes>"
            ]
          },
          "metadata": {}
        }
      ],
      "source": [
        "# Testing Model3\n",
        "test_acc,test_loss = testing('model3', trained_model3, loss_function, test_dataloader)\n",
        "plt.savefig(\"CNN Model3 Imbalanced lables test_acc {} test_loss ={}.png\".format(test_acc,test_loss))"
      ]
    },
    {
      "cell_type": "code",
      "execution_count": null,
      "id": "f0906925",
      "metadata": {
        "id": "f0906925"
      },
      "outputs": [],
      "source": [
        "lr = 0.00129           # The size of the step taken when doing gradient descent\n",
        "batch_size = 800       # The number of images being trained on at once\n",
        "update_interval = 100   # The number of batches trained on before recording loss\n",
        "n_epochs = 3        # The number of times we train through the entire dataset\n",
        "train_dataset, train_dataloader = load_mnist(batch_size=batch_size, train=True)\n",
        "model4 = MyMLP(784, 2)\n",
        "loss_function = nn.CrossEntropyLoss()\n",
        "optimizer = torch.optim.Adam(model4.parameters(), lr=lr)"
      ]
    },
    {
      "cell_type": "code",
      "execution_count": null,
      "id": "c621ddd3",
      "metadata": {
        "colab": {
          "base_uri": "https://localhost:8080/",
          "height": 346
        },
        "id": "c621ddd3",
        "outputId": "b3e920ec-3b26-4a08-bf9c-4044bcb7bd5c"
      },
      "outputs": [
        {
          "output_type": "stream",
          "name": "stderr",
          "text": [
            "100%|██████████| 75/75 [00:09<00:00,  8.03it/s]\n",
            "100%|██████████| 75/75 [00:11<00:00,  6.36it/s]\n",
            "100%|██████████| 75/75 [00:09<00:00,  7.95it/s]\n"
          ]
        },
        {
          "output_type": "display_data",
          "data": {
            "text/plain": [
              "<Figure size 432x288 with 1 Axes>"
            ],
            "image/png": "[encoded data removed]"
          },
          "metadata": {
            "needs_background": "light"
          }
        }
      ],
      "source": [
        "#  Training Model 4\n",
        "trained_model4, losses4 = training('model4',model4, loss_function, optimizer, train_dataloader, n_epochs=n_epochs, update_interval=update_interval)\n",
        "plt.plot(np.arange(len(losses4)) * batch_size * update_interval, losses4)\n",
        "plt.title(\"training curve4 lr {} batch_size {} update_interval {} n_epochs {}\".format(lr,batch_size,update_interval,n_epochs))\n",
        "plt.xlabel(\"number of images trained on\")\n",
        "plt.ylabel(\"loss\")\n",
        "plt.show()\n"
      ]
    },
    {
      "cell_type": "code",
      "execution_count": null,
      "id": "ffcfa9ab",
      "metadata": {
        "colab": {
          "base_uri": "https://localhost:8080/",
          "height": 85
        },
        "id": "ffcfa9ab",
        "outputId": "9bbe4bc6-98c2-4c59-9529-b2896c167980"
      },
      "outputs": [
        {
          "output_type": "stream",
          "name": "stderr",
          "text": [
            "100%|██████████| 20/20 [00:01<00:00, 17.75it/s]"
          ]
        },
        {
          "output_type": "stream",
          "name": "stdout",
          "text": [
            "test accuracy: 94.81\n",
            "test loss: 0.14\n"
          ]
        },
        {
          "output_type": "stream",
          "name": "stderr",
          "text": [
            "\n"
          ]
        },
        {
          "output_type": "display_data",
          "data": {
            "text/plain": [
              "<Figure size 432x288 with 0 Axes>"
            ]
          },
          "metadata": {}
        }
      ],
      "source": [
        "# Testing Model4\n",
        "test_acc,test_loss = testing('model4', trained_model4, loss_function, test_dataloader)\n",
        "plt.savefig(\"CNN Model4 Imbalanced lables test_acc {} test_loss ={}.png\".format(test_acc,test_loss))"
      ]
    },
    {
      "cell_type": "code",
      "execution_count": null,
      "id": "66d53d58",
      "metadata": {
        "id": "66d53d58"
      },
      "outputs": [],
      "source": [
        "def train_and_test(modelname,model, loss_function, optimizer, batch_size, update_interval, n_epochs):\n",
        "\n",
        "    '''\n",
        "    This will use your/my methods to create a dataloader, train a gven model, and then test its performance\n",
        "\n",
        "    Again, since I gave this to you for free you have to promise to look at it and try to understand it\n",
        "    '''\n",
        "\n",
        "    _, train_dataloader = load_mnist(batch_size=batch_size, train=True)\n",
        "    trained_model, losses = training(modelname,model, loss_function, optimizer, train_dataloader, n_epochs=n_epochs, update_interval=update_interval)\n",
        "\n",
        "    # Specify a path\n",
        "    PATH = \"state_dict_{}.pt\".format(modelname)\n",
        "\n",
        "    # Save\n",
        "    torch.save(trained_model.state_dict(), PATH)\n",
        "    _, test_dataloader = load_mnist(batch_size=10000, train=False)\n",
        "    test_acc, test_loss = testing(modelname, trained_model, loss_function, test_dataloader)\n",
        "\n",
        "    plt.plot(np.arange(len(losses)) * batch_size * update_interval, losses, color=\"b\", label=\"train loss\")\n",
        "    plt.hlines(test_loss, 0, len(losses) * batch_size * update_interval, color='r', label=\"test loss\")\n",
        "    plt.legend()\n",
        "    plt.title(\"training curve\")\n",
        "    plt.xlabel(\"number of images trained on\")\n",
        "    plt.ylabel(\"loss\")\n",
        "    plt.savefig('lr{} Single Model test_acc{} test_loss{}.png'.format(0.08,test_acc,test_loss))\n",
        "    plt.show()\n",
        "\n",
        "    return trained_model, test_loss\n",
        "\n",
        ""
      ]
    },
    {
      "cell_type": "code",
      "execution_count": null,
      "id": "693d50c6",
      "metadata": {
        "id": "693d50c6",
        "colab": {
          "base_uri": "https://localhost:8080/",
          "height": 414
        },
        "outputId": "b63a7e1f-2cde-4896-a2db-5b95bce759a5"
      },
      "outputs": [
        {
          "output_type": "stream",
          "name": "stderr",
          "text": [
            "100%|██████████| 120/120 [00:09<00:00, 12.96it/s]\n",
            "100%|██████████| 120/120 [00:15<00:00,  7.67it/s]\n",
            "100%|██████████| 120/120 [00:12<00:00,  9.86it/s]\n",
            "100%|██████████| 120/120 [00:12<00:00,  9.26it/s]\n",
            "100%|██████████| 1/1 [00:01<00:00,  1.93s/it]\n"
          ]
        },
        {
          "output_type": "stream",
          "name": "stdout",
          "text": [
            "test accuracy: 96.9\n",
            "test loss: 0.1\n"
          ]
        },
        {
          "output_type": "display_data",
          "data": {
            "text/plain": [
              "<Figure size 432x288 with 1 Axes>"
            ],
            "image/png": "[encoded data removed]"
          },
          "metadata": {
            "needs_background": "light"
          }
        }
      ],
      "source": [
        "# Getting Train and Test for the BASELINE Model\n",
        "lr = 0.01               # The size of the step taken when doing gradient descent\n",
        "batch_size = 500     # The number of images being trained on at once\n",
        "update_interval = 100      # The number of times we train through the entire dataset\n",
        "model = MyMLP(784, 10)\n",
        "n_epochs = 4\n",
        "loss_function = nn.CrossEntropyLoss()\n",
        "optimizer = torch.optim.Adam(model.parameters(), lr=lr)\n",
        "\n",
        "_, _ = train_and_test('model',model, loss_function, optimizer, batch_size=batch_size, update_interval=update_interval, n_epochs=n_epochs)"
      ]
    },
    {
      "cell_type": "code",
      "execution_count": null,
      "id": "0cca02c0",
      "metadata": {
        "id": "0cca02c0"
      },
      "outputs": [],
      "source": [
        "#  Change the labels\n",
        "# Have 4 modules : if module 1 : change the label to 0 if it is in say group [2,3,4,5,6] , if not make it output a 1\n",
        "# Create 4 modules like this\n",
        "# And Map each output 0 and 1 for each module to a unique number\n",
        "# {9 : 1111}"
      ]
    },
    {
      "cell_type": "code",
      "execution_count": null,
      "id": "bd866fda",
      "metadata": {
        "id": "bd866fda"
      },
      "outputs": [],
      "source": [
        "# Train 1 model to predict 4 different ways\n",
        "# Recurrent Predictions into Groups :\n",
        "# Group 1 : [0 -5][5-9]\n",
        "# Say the model selects [5-9]\n",
        "# Now make the model predict [5-7] and [8-9] as groups\n",
        "#  keep splitting things until you get 1 prediciton  == label"
      ]
    },
    {
      "cell_type": "code",
      "execution_count": null,
      "id": "af982605",
      "metadata": {
        "id": "af982605"
      },
      "outputs": [],
      "source": [
        "def final_testing(train_dataloader, n_epochs, update_interval):\n",
        "    acc = []\n",
        "    part_loss = []\n",
        "    num_correct = 0\n",
        "    for n in range(n_epochs):\n",
        "        for i, (image, label) in enumerate(tqdm(iter(train_dataloader))):\n",
        "            out1 = trained_model1(image)\n",
        "            out2 = trained_model2(image)\n",
        "            out3 = trained_model3(image)\n",
        "            out4 = trained_model4(image)\n",
        "            res = []\n",
        "            for i in range(len(out1)):\n",
        "                a = str(torch.argmax(out1[i]).numpy()) + str(torch.argmax(out2[i]).numpy()) + str(torch.argmax(out3[i]).numpy()) + str(torch.argmax(out4[i]).numpy())\n",
        "                res.append(int(a))\n",
        "            my_output = res\n",
        "            new_label = torch.Tensor([int(mapping[int(l)]) for l in label]).long()\n",
        "            num_correct = 0\n",
        "            # print(new_label)\n",
        "            for index in range(len(new_label)):\n",
        "                if my_output[index] == new_label[index] :\n",
        "                    num_correct = num_correct + 1\n",
        "\n",
        "            acc.append(num_correct/len(new_label))\n",
        "            ##############################################################\n",
        "    return acc"
      ]
    },
    {
      "cell_type": "code",
      "execution_count": null,
      "id": "59f8d53f",
      "metadata": {
        "colab": {
          "base_uri": "https://localhost:8080/",
          "height": 329
        },
        "id": "59f8d53f",
        "outputId": "88e44bb5-eb1d-4e4a-cb2d-cb4b3fc6836b"
      },
      "outputs": [
        {
          "output_type": "stream",
          "name": "stderr",
          "text": [
            "100%|██████████| 120/120 [00:19<00:00,  6.06it/s]\n"
          ]
        },
        {
          "output_type": "stream",
          "name": "stdout",
          "text": [
            "final accuracy tensor(0.8718)\n"
          ]
        },
        {
          "output_type": "display_data",
          "data": {
            "text/plain": [
              "<Figure size 432x288 with 1 Axes>"
            ],
            "image/png": "[encoded data removed]"
          },
          "metadata": {
            "needs_background": "light"
          }
        }
      ],
      "source": [
        "_, train_dataloader = load_mnist(batch_size=batch_size, train=True)\n",
        "acc = final_testing(train_dataloader, 1, 300)\n",
        "plt.plot(acc)\n",
        "plt.title(\"Combined Labels of 4 Models Plot of Accuracy with Train Dataset\")\n",
        "plt.xlabel(\"number of images trained on\")\n",
        "plt.ylabel(\" Test Accuracy\")\n",
        "final_accuracy = torch.tensor(acc).mean()\n",
        "print(\"final accuracy\" ,final_accuracy)\n",
        "plt.savefig(\"CNN Training Data Combined Model Accuracy Plot Imbalanced Labelling Final Accuracy {}.png\".format(final_accuracy))"
      ]
    },
    {
      "cell_type": "code",
      "execution_count": null,
      "id": "ojkXDoTe5o6x",
      "metadata": {
        "colab": {
          "base_uri": "https://localhost:8080/",
          "height": 329
        },
        "id": "ojkXDoTe5o6x",
        "outputId": "297936f2-921e-48c8-d971-9556e98e8b58"
      },
      "outputs": [
        {
          "output_type": "stream",
          "name": "stderr",
          "text": [
            "100%|██████████| 20/20 [00:04<00:00,  4.48it/s]\n"
          ]
        },
        {
          "output_type": "stream",
          "name": "stdout",
          "text": [
            "final accuracy tensor(0.8681)\n"
          ]
        },
        {
          "output_type": "display_data",
          "data": {
            "text/plain": [
              "<Figure size 432x288 with 1 Axes>"
            ],
            "image/png": "[encoded data removed]"
          },
          "metadata": {
            "needs_background": "light"
          }
        }
      ],
      "source": [
        "# Testing on Test Dataset\n",
        "_, test_dataloader = load_mnist(batch_size=batch_size, train=False)\n",
        "acc = final_testing(test_dataloader, 1, 300)\n",
        "plt.plot(acc)\n",
        "plt.title(\"Combined Labels of 4 Models Plot of Accuracy with Test Dataset\")\n",
        "plt.xlabel(\"number of images trained on\")\n",
        "plt.ylabel(\" Test Accuracy\")\n",
        "final_accuracy = torch.tensor(acc).sum()/len(acc)\n",
        "print(\"final accuracy\" ,final_accuracy)\n",
        "plt.savefig(\"CNN Testing Data Combined Model Accuracy Plot Imbalanced Labelling Final Accuracy {}.png\".format(final_accuracy))\n"
      ]
    },
    {
      "cell_type": "code",
      "execution_count": null,
      "id": "782f6e46",
      "metadata": {
        "id": "782f6e46"
      },
      "outputs": [],
      "source": [
        "#   Balanced Data (Li and etc) vs Our Binary mapping right now\n",
        "#   no of epochs should be less\n",
        "#  Testing Accuracy , Learning Curve\n",
        "#  Also how will the model perform if given 1000  Exampls, vs 6000 Examples etc .\n",
        "# Compare this to the baseline model\n",
        "\n",
        "# Train 4 models indvidually\n",
        "# Just test the model with combination of outputs of 4 models(no training required, just combine the outputs)"
      ]
    },
    {
      "cell_type": "code",
      "execution_count": null,
      "id": "_l1l3LAwdy1R",
      "metadata": {
        "id": "_l1l3LAwdy1R",
        "colab": {
          "base_uri": "https://localhost:8080/"
        },
        "outputId": "617672d2-4977-48ae-9878-15e00fc1f596"
      },
      "outputs": [
        {
          "output_type": "stream",
          "name": "stdout",
          "text": [
            "testing the previously trained model on test dataset of MNIST\n"
          ]
        }
      ],
      "source": [
        "# The model Capability may not be enough : Try the Same with ResNets\n",
        "print(\"testing the previously trained model on test dataset of MNIST\")\n",
        "test_dataset, test_dataloader = load_mnist(batch_size=10000, train=False)\n"
      ]
    },
    {
      "cell_type": "code",
      "execution_count": null,
      "id": "d208d01d",
      "metadata": {
        "id": "d208d01d"
      },
      "outputs": [],
      "source": [
        "#  Group similar numbers together and test it out\n",
        "balancedMap = {0: '0000',1 :'0001',2 : '0011', 3:'0101', 4:'0111',5:'1000',6:'1010',7:'1100',8:'1110', 9:'1111'}\n",
        "invBalancedMap = {'0000' : 0,'0001': 1,'0011' : 2, '0101' : 3, '0111': 4, '1000' :5,'1010': 6,'1100' :7,'1110' : 8, '1111' :9,'0110':10,'0010':11, '0100':12,'1001':13, '1101':14,'1011':15  }\n",
        "lessOverlapMap = {0: '0010', 1: '0011', 2: '0100', 3: '0101', 4:'0110', 5:'1001', 6:'1010', 7:'1011', 8:'1100', 9:'1101'}"
      ]
    },
    {
      "cell_type": "code",
      "execution_count": null,
      "id": "mck0oH9L8E5v",
      "metadata": {
        "id": "mck0oH9L8E5v"
      },
      "outputs": [],
      "source": [
        "def balanced_training(modelname,model, loss_function, optimizer, train_dataloader, n_epochs, update_interval,Map):\n",
        "\n",
        "    '''\n",
        "    Updates the parameters of the given model using the optimizer of choice to\n",
        "    reduce the given loss_function\n",
        "\n",
        "    This will iterate over the dataloader 'n_epochs' times training on each batch of images\n",
        "\n",
        "    To get the gradient (which is stored internally in the model) use .backward() from the loss tensor\n",
        "    and to apply it use .step() on the optimizer\n",
        "\n",
        "    In between steps you need to zero the gradient so it can be recalculated -- use .zero_grad for this\n",
        "    '''\n",
        "\n",
        "    losses = []\n",
        "    part_loss = []\n",
        "    sum_loss = 0\n",
        "    n_correct = 0\n",
        "    total = 0\n",
        "    for n in range(n_epochs):\n",
        "        for i, (image, label) in enumerate(tqdm(iter(train_dataloader))):\n",
        "            optimizer.zero_grad()\n",
        "            pred = model(image)\n",
        "            if modelname == 'model1':\n",
        "                new_label = torch.Tensor([int(Map[int(l)][0]) for l in label]).long()\n",
        "            elif modelname == 'model2':\n",
        "                new_label = torch.Tensor([int(Map[int(l)][1]) for l in label]).long()\n",
        "            elif modelname == 'model3':\n",
        "                new_label = torch.Tensor([int(Map[int(l)][2]) for l in label]).long()\n",
        "            elif modelname == 'model4':\n",
        "                new_label = torch.Tensor([int(Map[int(l)][3]) for l in label]).long()\n",
        "            elif modelname == 'model':\n",
        "                new_label = label\n",
        "            loss = loss_function(pred,new_label)\n",
        "            loss.backward()\n",
        "            optimizer.step()\n",
        "            part_loss.append(loss.item())\n",
        "\n",
        "            if i % update_interval == 0:\n",
        "                losses.append(sum(part_loss)/len(part_loss)) # This will append your losses for plotting -- please use \"loss\" as the name for your loss\n",
        "            sum_loss += loss.item()\n",
        "            _, predicted = torch.max(pred,1)\n",
        "            n_correct += (predicted == new_label).sum()\n",
        "            total += new_label.size(0)\n",
        "\n",
        "            test_acc = round(((n_correct / total).item() * 100), 2)\n",
        "            avg_loss = round(sum_loss / len(train_dataloader), 2)\n",
        "\n",
        "    print(\"train accuracy:\", test_acc)\n",
        "    print(\"train loss:\", avg_loss )\n",
        "\n",
        "    return model, losses\n",
        "# Training accuracy is found after testing on the train dataset."
      ]
    },
    {
      "cell_type": "code",
      "execution_count": null,
      "id": "dzlqFNJ58vWO",
      "metadata": {
        "id": "dzlqFNJ58vWO"
      },
      "outputs": [],
      "source": [
        "def balanced_testing(modelname, model, loss_function, test_data,Map):\n",
        "    sum_loss = 0\n",
        "    n_correct = 0\n",
        "    total = 0\n",
        "    for i, (image, label) in enumerate(tqdm(iter(test_data))):\n",
        "        pred = model(image)\n",
        "        if modelname == 'model1':\n",
        "            new_label =  torch.Tensor([int(Map[int(l)][0]) for l in label]).long()\n",
        "        elif modelname == 'model2':\n",
        "            new_label = torch.Tensor([int(Map[int(l)][1]) for l in label]).long()\n",
        "        elif modelname == 'model3':\n",
        "            new_label = torch.Tensor([int(Map[int(l)][2]) for l in label]).long()\n",
        "        elif modelname == 'model4':\n",
        "            new_label = torch.Tensor([int(Map[int(l)][3]) for l in label]).long()\n",
        "        elif modelname == 'model':\n",
        "            new_label = label\n",
        "        loss = loss_function(pred,new_label)\n",
        "        sum_loss += loss.item()\n",
        "        _, predicted = torch.max(pred,1)\n",
        "        n_correct += (predicted == new_label).sum()\n",
        "        total += new_label.size(0)\n",
        "\n",
        "    test_acc = round(((n_correct / total).item() * 100), 2)\n",
        "    avg_loss = round(sum_loss / len(test_data), 2)\n",
        "\n",
        "    print(\"test accuracy:\", test_acc)\n",
        "    print(\"test loss:\", avg_loss )\n",
        "\n",
        "    return test_acc, avg_loss"
      ]
    },
    {
      "cell_type": "code",
      "execution_count": null,
      "id": "J3F4m1CW7kcH",
      "metadata": {
        "id": "J3F4m1CW7kcH"
      },
      "outputs": [],
      "source": [
        "# Plug in your model, loss function, and optimizer\n",
        "# Try out different hyperparameters and different models to see how they perform\n",
        "\n",
        "lr = 0.005         # The size of the step taken when doing gradient descent 0.01 0.001 0.0001\n",
        "batch_size = 500        # The number of images being trained on at once\n",
        "update_interval = 100   # The number of batches trained on before recording loss\n",
        "n_epochs = 2        # The number of times we train through the entire dataset 5 10 15\n",
        "\n",
        "train_dataset, train_dataloader = load_mnist(batch_size=batch_size, train=True)\n",
        "balanced_model1 = MyMLP(784, 2)\n",
        "optimizer = torch.optim.Adam(balanced_model1.parameters(), lr=lr)\n",
        "loss_function = nn.CrossEntropyLoss()"
      ]
    },
    {
      "cell_type": "code",
      "execution_count": null,
      "id": "yfYm7Rmq7kwn",
      "metadata": {
        "colab": {
          "base_uri": "https://localhost:8080/",
          "height": 363
        },
        "id": "yfYm7Rmq7kwn",
        "outputId": "37efe8ec-0ff9-447e-9b27-ce008d93a648"
      },
      "outputs": [
        {
          "output_type": "stream",
          "name": "stderr",
          "text": [
            "100%|██████████| 120/120 [00:11<00:00, 10.50it/s]\n",
            "100%|██████████| 120/120 [00:14<00:00,  8.18it/s]\n"
          ]
        },
        {
          "output_type": "stream",
          "name": "stdout",
          "text": [
            "train accuracy: 91.16\n",
            "train loss: 0.43\n"
          ]
        },
        {
          "output_type": "display_data",
          "data": {
            "text/plain": [
              "<Figure size 432x288 with 1 Axes>"
            ],
            "image/png": "[encoded data removed]"
          },
          "metadata": {
            "needs_background": "light"
          }
        }
      ],
      "source": [
        "#  Training Balanced Model1\n",
        "balanced_trained_model1, balanced_losses1 = balanced_training('model1',balanced_model1, loss_function, optimizer, train_dataloader, n_epochs=n_epochs,update_interval = update_interval,Map = balancedMap)\n",
        "plt.plot(np.arange(len(balanced_losses1)) * batch_size * update_interval, balanced_losses1)\n",
        "plt.title(\"CNN Balanced labels Model1,lr = {}, n_epochs = {} , update_interval = {} batch_size {}\".format(lr,n_epochs,update_interval,batch_size))\n",
        "plt.xlabel(\"number of images trained on\")\n",
        "plt.ylabel(\"loss\")\n",
        "plt.show()"
      ]
    },
    {
      "cell_type": "code",
      "execution_count": null,
      "id": "R2DWJIlY7otP",
      "metadata": {
        "colab": {
          "base_uri": "https://localhost:8080/",
          "height": 85
        },
        "id": "R2DWJIlY7otP",
        "outputId": "dd02fcf7-ce43-490f-8871-ec6542ff8b18"
      },
      "outputs": [
        {
          "output_type": "stream",
          "name": "stderr",
          "text": [
            "100%|██████████| 1/1 [00:02<00:00,  2.01s/it]"
          ]
        },
        {
          "output_type": "stream",
          "name": "stdout",
          "text": [
            "test accuracy: 96.86\n",
            "test loss: 0.09\n"
          ]
        },
        {
          "output_type": "stream",
          "name": "stderr",
          "text": [
            "\n"
          ]
        },
        {
          "output_type": "display_data",
          "data": {
            "text/plain": [
              "<Figure size 432x288 with 0 Axes>"
            ]
          },
          "metadata": {}
        }
      ],
      "source": [
        "# Testing Balanced Model1\n",
        "balanced_test_acc_1,balanced_test_loss_1 = balanced_testing('model1', balanced_trained_model1, loss_function, test_dataloader,balancedMap)\n",
        "plt.savefig(\"CNN balanced labels Model1,test_acc = {},test_avg_loss = {}.png\".format(balanced_test_acc_1,balanced_test_loss_1))"
      ]
    },
    {
      "cell_type": "code",
      "execution_count": null,
      "id": "cEZJUerE8_R_",
      "metadata": {
        "id": "cEZJUerE8_R_"
      },
      "outputs": [],
      "source": [
        "lr = 0.008         # The size of the step taken when doing gradient descent 0.01 0.001 0.0001\n",
        "batch_size = 500        # The number of images being trained on at once\n",
        "update_interval = 100   # The number of batches trained on before recording loss\n",
        "n_epochs = 1       # The number of times we train through the entire dataset 5 10 15\n",
        "\n",
        "train_dataset, train_dataloader = load_mnist(batch_size=batch_size, train=True)\n",
        "balanced_model2 = MyMLP(784, 2)\n",
        "optimizer = torch.optim.RMSprop(balanced_model2.parameters(), lr=lr)\n",
        "loss_function = nn.CrossEntropyLoss()\n",
        "# Try MSE Loss\n"
      ]
    },
    {
      "cell_type": "code",
      "execution_count": null,
      "id": "frSn48MF9DiO",
      "metadata": {
        "colab": {
          "base_uri": "https://localhost:8080/",
          "height": 346
        },
        "id": "frSn48MF9DiO",
        "outputId": "558be5c9-4460-4b8e-ad2b-100acc70b61d"
      },
      "outputs": [
        {
          "output_type": "stream",
          "name": "stderr",
          "text": [
            "100%|██████████| 120/120 [00:11<00:00, 10.09it/s]"
          ]
        },
        {
          "output_type": "stream",
          "name": "stdout",
          "text": [
            "train accuracy: 50.02\n",
            "train loss: 0.7\n"
          ]
        },
        {
          "output_type": "stream",
          "name": "stderr",
          "text": [
            "\n"
          ]
        },
        {
          "output_type": "display_data",
          "data": {
            "text/plain": [
              "<Figure size 432x288 with 1 Axes>"
            ],
            "image/png": "[encoded data removed]"
          },
          "metadata": {
            "needs_background": "light"
          }
        }
      ],
      "source": [
        "#  Training Balanced Model2\n",
        "balanced_trained_model2, balanced_losses2 = balanced_training('model2',balanced_model2, loss_function, optimizer, train_dataloader, n_epochs=n_epochs, update_interval=update_interval,Map = balancedMap)\n",
        "plt.plot(np.arange(len(balanced_losses2)) * batch_size * update_interval, balanced_losses2)\n",
        "plt.title(\"training curve balanced Labels Model2,lr = {}, n_epochs = {} , update_interval = {} batch_size {}\".format(lr,n_epochs,update_interval,batch_size))\n",
        "plt.xlabel(\"number of images trained on\")\n",
        "plt.ylabel(\"loss\")\n",
        "plt.show()\n"
      ]
    },
    {
      "cell_type": "code",
      "execution_count": null,
      "id": "PJ5fmlGu95OO",
      "metadata": {
        "colab": {
          "base_uri": "https://localhost:8080/",
          "height": 85
        },
        "id": "PJ5fmlGu95OO",
        "outputId": "29c5deaf-ebac-43dc-9760-e8205aad7d14"
      },
      "outputs": [
        {
          "output_type": "stream",
          "name": "stderr",
          "text": [
            "100%|██████████| 1/1 [00:01<00:00,  1.85s/it]"
          ]
        },
        {
          "output_type": "stream",
          "name": "stdout",
          "text": [
            "test accuracy: 49.97\n",
            "test loss: 0.69\n"
          ]
        },
        {
          "output_type": "stream",
          "name": "stderr",
          "text": [
            "\n"
          ]
        },
        {
          "output_type": "display_data",
          "data": {
            "text/plain": [
              "<Figure size 432x288 with 0 Axes>"
            ]
          },
          "metadata": {}
        }
      ],
      "source": [
        "balanced_test_acc_2,balanced_test_loss_2 = balanced_testing('model2', balanced_trained_model2, loss_function, test_dataloader,balancedMap)\n",
        "plt.savefig(\"CNN Balanced Model2 Training Curve test_acc {},test_loss {}.png\".format(balanced_test_acc_2, balanced_test_loss_2))"
      ]
    },
    {
      "cell_type": "code",
      "execution_count": null,
      "id": "6UAFvH7G-Dys",
      "metadata": {
        "id": "6UAFvH7G-Dys"
      },
      "outputs": [],
      "source": [
        "lr = 0.006          # The size of the step taken when doing gradient descent 0.01 0.001 0.0001\n",
        "batch_size = 600        # The number of images being trained on at once\n",
        "update_interval = 100   # The number of batches trained on before recording loss\n",
        "n_epochs = 3          # The number of times we train through the entire dataset 5 10 15\n",
        "train_dataset, train_dataloader = load_mnist(batch_size=batch_size, train=True)\n",
        "balanced_model3 = MyMLP(784, 2)\n",
        "optimizer = torch.optim.Adam(balanced_model3.parameters(), lr=lr)\n",
        "loss_function = nn.CrossEntropyLoss()"
      ]
    },
    {
      "cell_type": "code",
      "execution_count": null,
      "id": "B7LR-LxQ-H0G",
      "metadata": {
        "id": "B7LR-LxQ-H0G",
        "colab": {
          "base_uri": "https://localhost:8080/",
          "height": 380
        },
        "outputId": "f9bfd170-8650-49fe-eb6f-b2229097930a"
      },
      "outputs": [
        {
          "output_type": "stream",
          "name": "stderr",
          "text": [
            "100%|██████████| 100/100 [00:11<00:00,  8.40it/s]\n",
            "100%|██████████| 100/100 [00:09<00:00, 10.87it/s]\n",
            "100%|██████████| 100/100 [00:09<00:00, 10.75it/s]\n"
          ]
        },
        {
          "output_type": "stream",
          "name": "stdout",
          "text": [
            "train accuracy: 92.49\n",
            "train loss: 0.57\n"
          ]
        },
        {
          "output_type": "display_data",
          "data": {
            "text/plain": [
              "<Figure size 432x288 with 1 Axes>"
            ],
            "image/png": "[encoded data removed]"
          },
          "metadata": {
            "needs_background": "light"
          }
        }
      ],
      "source": [
        "#  Training Balanced Model3\n",
        "balanced_trained_model3, balanced_losses3 = balanced_training('model3',balanced_model3, loss_function, optimizer, train_dataloader, n_epochs=n_epochs, update_interval=update_interval,Map = balancedMap)\n",
        "plt.plot(np.arange(len(balanced_losses3)) * batch_size * update_interval, balanced_losses3)\n",
        "plt.title(\"training curve balanced Labels Model3,lr = {}, n_epochs = {} , update_interval = {} batch_size = {}\".format(lr,n_epochs,update_interval,batch_size))\n",
        "plt.xlabel(\"number of images trained on\")\n",
        "plt.ylabel(\"loss\")\n",
        "plt.show()\n"
      ]
    },
    {
      "cell_type": "code",
      "execution_count": null,
      "id": "S73OrAEQ-fYn",
      "metadata": {
        "id": "S73OrAEQ-fYn",
        "colab": {
          "base_uri": "https://localhost:8080/",
          "height": 85
        },
        "outputId": "ed4bb087-0379-4d87-838b-7105fc173cdd"
      },
      "outputs": [
        {
          "output_type": "stream",
          "name": "stderr",
          "text": [
            "100%|██████████| 1/1 [00:01<00:00,  1.15s/it]"
          ]
        },
        {
          "output_type": "stream",
          "name": "stdout",
          "text": [
            "test accuracy: 97.37\n",
            "test loss: 0.07\n"
          ]
        },
        {
          "output_type": "stream",
          "name": "stderr",
          "text": [
            "\n"
          ]
        },
        {
          "output_type": "display_data",
          "data": {
            "text/plain": [
              "<Figure size 432x288 with 0 Axes>"
            ]
          },
          "metadata": {}
        }
      ],
      "source": [
        "# Testing Balanced Model3\n",
        "balanced_test_acc_3,balanced_test_loss_3 = balanced_testing('model3', balanced_trained_model3, loss_function, test_dataloader,balancedMap)\n",
        "plt.savefig(\"CNN Balanced Model3 Training Curve test_acc {} test_loss = {}.png\".format(balanced_test_loss_3, balanced_test_acc_3))"
      ]
    },
    {
      "cell_type": "code",
      "execution_count": null,
      "id": "i50ph35b-tGO",
      "metadata": {
        "id": "i50ph35b-tGO"
      },
      "outputs": [],
      "source": [
        "lr = 0.005          # The size of the step taken when doing gradient descent 0.01 0.001 0.0001\n",
        "batch_size = 600        # The number of images being trained on at once\n",
        "update_interval = 100   # The number of batches trained on before recording loss\n",
        "n_epochs = 5          # The number of times we train through the entire dataset 5 10 15\n",
        "\n",
        "train_dataset, train_dataloader = load_mnist(batch_size=batch_size, train=True)\n",
        "balanced_model4 = MyMLP(784, 2)\n",
        "optimizer = torch.optim.Adam(balanced_model4.parameters(), lr=lr)\n",
        "loss_function = nn.CrossEntropyLoss()"
      ]
    },
    {
      "cell_type": "code",
      "execution_count": null,
      "id": "II6CqLtq-uTe",
      "metadata": {
        "id": "II6CqLtq-uTe",
        "colab": {
          "base_uri": "https://localhost:8080/",
          "height": 414
        },
        "outputId": "7cb68925-735d-4c5c-9ed1-2237aa75833a"
      },
      "outputs": [
        {
          "output_type": "stream",
          "name": "stderr",
          "text": [
            "100%|██████████| 100/100 [00:09<00:00, 10.11it/s]\n",
            "100%|██████████| 100/100 [00:11<00:00,  8.62it/s]\n",
            "100%|██████████| 100/100 [00:10<00:00,  9.54it/s]\n",
            "100%|██████████| 100/100 [00:09<00:00, 10.76it/s]\n",
            "100%|██████████| 100/100 [00:09<00:00, 10.81it/s]\n"
          ]
        },
        {
          "output_type": "stream",
          "name": "stdout",
          "text": [
            "train accuracy: 93.46\n",
            "train loss: 0.75\n"
          ]
        },
        {
          "output_type": "display_data",
          "data": {
            "text/plain": [
              "<Figure size 432x288 with 1 Axes>"
            ],
            "image/png": "[encoded data removed]"
          },
          "metadata": {
            "needs_background": "light"
          }
        }
      ],
      "source": [
        "#  Training Balanced Model4\n",
        "balanced_trained_model4, balanced_losses4 = balanced_training('model4',balanced_model4, loss_function, optimizer, train_dataloader, n_epochs=n_epochs, update_interval=update_interval,Map = balancedMap)\n",
        "plt.plot(np.arange(len(balanced_losses4)) * batch_size * update_interval, balanced_losses4)\n",
        "plt.title(\"training curve balanced Labels Model4,lr = {}, n_epochs = {} , update_interval = {} batch_size = {}\".format(lr,n_epochs,update_interval,batch_size))\n",
        "plt.xlabel(\"number of images trained on\")\n",
        "plt.ylabel(\"loss\")\n",
        "plt.show()\n"
      ]
    },
    {
      "cell_type": "code",
      "execution_count": null,
      "id": "-B29aWu-_Ate",
      "metadata": {
        "id": "-B29aWu-_Ate",
        "colab": {
          "base_uri": "https://localhost:8080/",
          "height": 85
        },
        "outputId": "05291a4f-df3e-42ed-a7c1-87e6117aa43a"
      },
      "outputs": [
        {
          "output_type": "stream",
          "name": "stderr",
          "text": [
            "100%|██████████| 1/1 [00:01<00:00,  1.12s/it]"
          ]
        },
        {
          "output_type": "stream",
          "name": "stdout",
          "text": [
            "test accuracy: 97.78\n",
            "test loss: 0.06\n"
          ]
        },
        {
          "output_type": "stream",
          "name": "stderr",
          "text": [
            "\n"
          ]
        },
        {
          "output_type": "display_data",
          "data": {
            "text/plain": [
              "<Figure size 432x288 with 0 Axes>"
            ]
          },
          "metadata": {}
        }
      ],
      "source": [
        "# Testing Balanced Model4\n",
        "balanced_test_acc_4, balanced_test_loss_4= balanced_testing('model4', balanced_trained_model4, loss_function, test_dataloader,balancedMap)\n",
        "plt.savefig(\"CNN Balanced Model4 Training Curve test_acc = {}, test_loss = {}.png\".format(balanced_test_acc_4, balanced_test_loss_4))"
      ]
    },
    {
      "cell_type": "code",
      "execution_count": null,
      "id": "tzLRgKv0A1rR",
      "metadata": {
        "id": "tzLRgKv0A1rR"
      },
      "outputs": [],
      "source": [
        "def balanced_final_testing(train_dataloader, n_epochs, update_interval):\n",
        "    acc = []\n",
        "    part_loss = []\n",
        "    num_correct = 0\n",
        "    y_test = []\n",
        "    y_pred = []\n",
        "    for n in range(n_epochs):\n",
        "        for i, (image, label) in enumerate(tqdm(iter(train_dataloader))):\n",
        "            # Hint: the above code essentially does one training step\n",
        "            ##############################################################\n",
        "            out1 = balanced_trained_model1(image)\n",
        "            out2 = balanced_trained_model2(image)\n",
        "            out3 = balanced_trained_model3(image)\n",
        "            out4 = balanced_trained_model4(image)\n",
        "            res = []\n",
        "            a = \"\"\n",
        "            for i in range(len(out1)):\n",
        "                a = str(torch.argmax(out1[i]).numpy()) + str(torch.argmax(out2[i]).numpy()) + str(torch.argmax(out3[i]).numpy()) + str(torch.argmax(out4[i]).numpy())\n",
        "                if a in invBalancedMap:\n",
        "                    y_pred.append(invBalancedMap[a])\n",
        "\n",
        "                else:\n",
        "                    y_pred.append(-1)\n",
        "                res.append(int(a))\n",
        "\n",
        "            my_output = res\n",
        "            for l in label:\n",
        "                y_test.append(l.item())\n",
        "            new_label = torch.Tensor([int(balancedMap[int(l)]) for l in label]).long()\n",
        "            num_correct = 0\n",
        "            for index in range(len(new_label)):\n",
        "                if my_output[index] == new_label[index] :\n",
        "                    num_correct = num_correct + 1\n",
        "            acc.append(num_correct/len(new_label))\n",
        "\n",
        "    return acc,y_test,y_pred"
      ]
    },
    {
      "cell_type": "code",
      "execution_count": null,
      "id": "M_XdobCTAtQD",
      "metadata": {
        "id": "M_XdobCTAtQD"
      },
      "outputs": [],
      "source": [
        "# Split Classes based on Similar numbers\n"
      ]
    },
    {
      "cell_type": "code",
      "execution_count": null,
      "id": "2lBfBReuBQNQ",
      "metadata": {
        "id": "2lBfBReuBQNQ",
        "scrolled": true,
        "colab": {
          "base_uri": "https://localhost:8080/",
          "height": 329
        },
        "outputId": "fa5726cb-450c-4e4b-cd31-47045eeed2ad"
      },
      "outputs": [
        {
          "output_type": "stream",
          "name": "stderr",
          "text": [
            "100%|██████████| 100/100 [00:16<00:00,  6.15it/s]\n"
          ]
        },
        {
          "output_type": "display_data",
          "data": {
            "text/plain": [
              "<Figure size 432x288 with 1 Axes>"
            ],
            "image/png": "[encoded data removed]"
          },
          "metadata": {
            "needs_background": "light"
          }
        },
        {
          "output_type": "display_data",
          "data": {
            "text/plain": [
              "<Figure size 432x288 with 0 Axes>"
            ]
          },
          "metadata": {}
        }
      ],
      "source": [
        "_, train_dataloader = load_mnist(batch_size=batch_size, train=True)\n",
        "acc,y_test, y_pred = balanced_final_testing(train_dataloader, 1, 300)\n",
        "plt.plot(acc)\n",
        "plt.title(\"Combined Labels of 4 Models Plot of Accuracy\")\n",
        "plt.xlabel(\"number of images trained on\")\n",
        "plt.ylabel(\"Accuracy\")\n",
        "plt.show()\n",
        "plt.savefig(\"CNN Train Combined Model Accuracy Plot Balanced Labels.png\")\n"
      ]
    },
    {
      "cell_type": "code",
      "execution_count": null,
      "id": "3236fc9b",
      "metadata": {
        "id": "3236fc9b",
        "colab": {
          "base_uri": "https://localhost:8080/"
        },
        "outputId": "979fb997-89a0-40ec-fd90-6cc50c9e7690"
      },
      "outputs": [
        {
          "output_type": "stream",
          "name": "stdout",
          "text": [
            "60000\n"
          ]
        }
      ],
      "source": [
        "# print(y_test,\"y_test\")\n",
        "print(len(y_test))\n"
      ]
    },
    {
      "cell_type": "code",
      "execution_count": null,
      "id": "4b1563c4",
      "metadata": {
        "id": "4b1563c4",
        "colab": {
          "base_uri": "https://localhost:8080/"
        },
        "outputId": "85c49702-546c-41ef-98b9-22cda7df18f6"
      },
      "outputs": [
        {
          "output_type": "stream",
          "name": "stdout",
          "text": [
            "60000\n"
          ]
        }
      ],
      "source": [
        "# print(y_pred,\"y_pred\")\n",
        "print(len(y_pred))"
      ]
    },
    {
      "cell_type": "code",
      "execution_count": null,
      "id": "1fd7b143",
      "metadata": {
        "id": "1fd7b143",
        "colab": {
          "base_uri": "https://localhost:8080/"
        },
        "outputId": "cb2829c6-5a14-4418-ac36-90613678af37"
      },
      "outputs": [
        {
          "output_type": "stream",
          "name": "stdout",
          "text": [
            "tensor(0.4788)\n"
          ]
        }
      ],
      "source": [
        "torch_acc = torch.tensor(acc)\n",
        "print(torch_acc.mean())\n"
      ]
    },
    {
      "cell_type": "code",
      "execution_count": null,
      "id": "e1652f0c",
      "metadata": {
        "id": "e1652f0c",
        "colab": {
          "base_uri": "https://localhost:8080/",
          "height": 329
        },
        "outputId": "cd4b89b4-5742-4840-80d6-e4b0b4bb12e6"
      },
      "outputs": [
        {
          "output_type": "stream",
          "name": "stderr",
          "text": [
            "100%|██████████| 1/1 [00:02<00:00,  2.38s/it]\n"
          ]
        },
        {
          "output_type": "display_data",
          "data": {
            "text/plain": [
              "<Figure size 432x288 with 1 Axes>"
            ],
            "image/png": "[encoded data removed]"
          },
          "metadata": {
            "needs_background": "light"
          }
        },
        {
          "output_type": "display_data",
          "data": {
            "text/plain": [
              "<Figure size 432x288 with 0 Axes>"
            ]
          },
          "metadata": {}
        }
      ],
      "source": [
        "acc,y_test, y_pred  = balanced_final_testing(test_dataloader, 1, 300)\n",
        "plt.plot(acc)\n",
        "plt.title(\"Combined Labels of 4 Models Plot of Accuracy\")\n",
        "plt.xlabel(\"number of images trained on\")\n",
        "plt.ylabel(\"Accuracy\")\n",
        "plt.show()\n",
        "plt.savefig(\"CNN Test Combined Model Accuracy Plot Balanced Labels.png\")\n"
      ]
    },
    {
      "cell_type": "code",
      "execution_count": null,
      "id": "273b0fbb",
      "metadata": {
        "id": "273b0fbb",
        "colab": {
          "base_uri": "https://localhost:8080/"
        },
        "outputId": "65c72d26-aede-4de9-aaa3-c2775420ec1a"
      },
      "outputs": [
        {
          "output_type": "stream",
          "name": "stdout",
          "text": [
            "tensor(0.4758)\n"
          ]
        }
      ],
      "source": [
        "torch_acc = torch.tensor(acc)\n",
        "print(torch_acc.mean())\n"
      ]
    },
    {
      "cell_type": "code",
      "execution_count": null,
      "id": "00240825",
      "metadata": {
        "id": "00240825",
        "colab": {
          "base_uri": "https://localhost:8080/",
          "height": 279
        },
        "outputId": "a4a14fdd-87b5-492d-ddd9-885088bd01bf"
      },
      "outputs": [
        {
          "output_type": "display_data",
          "data": {
            "text/plain": [
              "<Figure size 432x288 with 1 Axes>"
            ],
            "image/png": "[encoded data removed]"
          },
          "metadata": {
            "needs_background": "light"
          }
        }
      ],
      "source": [
        "# Plot Combined Training of all 4 Balanced models\n",
        "# plot lines\n",
        "# plt.sub\n",
        "plt.plot(np.arange(len(balanced_losses1)) * batch_size * update_interval, balanced_losses1, label = 'BalancedModel1')\n",
        "plt.plot(np.arange(len(balanced_losses2)) * batch_size * update_interval, balanced_losses2,label ='BalancedModel2')\n",
        "plt.plot(np.arange(len(balanced_losses3)) * batch_size * update_interval, balanced_losses3,label = 'BalancedModel3')\n",
        "plt.plot(np.arange(len(balanced_losses4)) * batch_size * update_interval, balanced_losses4,label = 'BalancedModel4')\n",
        "plt.xlabel(\"number of images trained on\")\n",
        "plt.ylabel(\"Accuracy\")\n",
        "plt.legend()\n",
        "plt.show()\n"
      ]
    },
    {
      "cell_type": "code",
      "execution_count": null,
      "id": "08a6bef3",
      "metadata": {
        "id": "08a6bef3"
      },
      "outputs": [],
      "source": [
        "# Plot Combined Training of all 4 unbalanced models\n"
      ]
    },
    {
      "cell_type": "code",
      "execution_count": null,
      "id": "964036a5",
      "metadata": {
        "id": "964036a5",
        "colab": {
          "base_uri": "https://localhost:8080/",
          "height": 392
        },
        "outputId": "b086be04-6f19-44d0-f31b-792191d7de19"
      },
      "outputs": [
        {
          "output_type": "stream",
          "name": "stdout",
          "text": [
            "10000\n"
          ]
        },
        {
          "output_type": "error",
          "ename": "ValueError",
          "evalue": "ignored",
          "traceback": [
            "\u001b[0;31m---------------------------------------------------------------------------\u001b[0m",
            "\u001b[0;31mValueError\u001b[0m                                Traceback (most recent call last)",
            "\u001b[0;32m<ipython-input-59-51cf64b23219>\u001b[0m in \u001b[0;36m<module>\u001b[0;34m()\u001b[0m\n\u001b[1;32m     11\u001b[0m \u001b[0;31m# sn.heatmap(conf_mat, square=True, annot=True, cmap='Blues', fmt=\"d\", cbar=False)\u001b[0m\u001b[0;34m\u001b[0m\u001b[0;34m\u001b[0m\u001b[0;34m\u001b[0m\u001b[0m\n\u001b[1;32m     12\u001b[0m df_cm = pd.DataFrame(cf_matrix/np.sum(cf_matrix) *10, index = [i for i in classes],\n\u001b[0;32m---> 13\u001b[0;31m                      columns = [i for i in classes])\n\u001b[0m\u001b[1;32m     14\u001b[0m \u001b[0mplt\u001b[0m\u001b[0;34m.\u001b[0m\u001b[0mfigure\u001b[0m\u001b[0;34m(\u001b[0m\u001b[0mfigsize\u001b[0m \u001b[0;34m=\u001b[0m \u001b[0;34m(\u001b[0m\u001b[0;36m12\u001b[0m\u001b[0;34m,\u001b[0m\u001b[0;36m7\u001b[0m\u001b[0;34m)\u001b[0m\u001b[0;34m)\u001b[0m\u001b[0;34m\u001b[0m\u001b[0;34m\u001b[0m\u001b[0m\n\u001b[1;32m     15\u001b[0m \u001b[0msn\u001b[0m\u001b[0;34m.\u001b[0m\u001b[0mheatmap\u001b[0m\u001b[0;34m(\u001b[0m\u001b[0mdf_cm\u001b[0m\u001b[0;34m,\u001b[0m \u001b[0mannot\u001b[0m\u001b[0;34m=\u001b[0m\u001b[0;32mTrue\u001b[0m\u001b[0;34m)\u001b[0m\u001b[0;34m\u001b[0m\u001b[0;34m\u001b[0m\u001b[0m\n",
            "\u001b[0;32m/usr/local/lib/python3.7/dist-packages/pandas/core/frame.py\u001b[0m in \u001b[0;36m__init__\u001b[0;34m(self, data, index, columns, dtype, copy)\u001b[0m\n\u001b[1;32m    676\u001b[0m                     \u001b[0mdtype\u001b[0m\u001b[0;34m=\u001b[0m\u001b[0mdtype\u001b[0m\u001b[0;34m,\u001b[0m\u001b[0;34m\u001b[0m\u001b[0;34m\u001b[0m\u001b[0m\n\u001b[1;32m    677\u001b[0m                     \u001b[0mcopy\u001b[0m\u001b[0;34m=\u001b[0m\u001b[0mcopy\u001b[0m\u001b[0;34m,\u001b[0m\u001b[0;34m\u001b[0m\u001b[0;34m\u001b[0m\u001b[0m\n\u001b[0;32m--> 678\u001b[0;31m                     \u001b[0mtyp\u001b[0m\u001b[0;34m=\u001b[0m\u001b[0mmanager\u001b[0m\u001b[0;34m,\u001b[0m\u001b[0;34m\u001b[0m\u001b[0;34m\u001b[0m\u001b[0m\n\u001b[0m\u001b[1;32m    679\u001b[0m                 )\n\u001b[1;32m    680\u001b[0m \u001b[0;34m\u001b[0m\u001b[0m\n",
            "\u001b[0;32m/usr/local/lib/python3.7/dist-packages/pandas/core/internals/construction.py\u001b[0m in \u001b[0;36mndarray_to_mgr\u001b[0;34m(values, index, columns, dtype, copy, typ)\u001b[0m\n\u001b[1;32m    322\u001b[0m     )\n\u001b[1;32m    323\u001b[0m \u001b[0;34m\u001b[0m\u001b[0m\n\u001b[0;32m--> 324\u001b[0;31m     \u001b[0m_check_values_indices_shape_match\u001b[0m\u001b[0;34m(\u001b[0m\u001b[0mvalues\u001b[0m\u001b[0;34m,\u001b[0m \u001b[0mindex\u001b[0m\u001b[0;34m,\u001b[0m \u001b[0mcolumns\u001b[0m\u001b[0;34m)\u001b[0m\u001b[0;34m\u001b[0m\u001b[0;34m\u001b[0m\u001b[0m\n\u001b[0m\u001b[1;32m    325\u001b[0m \u001b[0;34m\u001b[0m\u001b[0m\n\u001b[1;32m    326\u001b[0m     \u001b[0;32mif\u001b[0m \u001b[0mtyp\u001b[0m \u001b[0;34m==\u001b[0m \u001b[0;34m\"array\"\u001b[0m\u001b[0;34m:\u001b[0m\u001b[0;34m\u001b[0m\u001b[0;34m\u001b[0m\u001b[0m\n",
            "\u001b[0;32m/usr/local/lib/python3.7/dist-packages/pandas/core/internals/construction.py\u001b[0m in \u001b[0;36m_check_values_indices_shape_match\u001b[0;34m(values, index, columns)\u001b[0m\n\u001b[1;32m    391\u001b[0m         \u001b[0mpassed\u001b[0m \u001b[0;34m=\u001b[0m \u001b[0mvalues\u001b[0m\u001b[0;34m.\u001b[0m\u001b[0mshape\u001b[0m\u001b[0;34m\u001b[0m\u001b[0;34m\u001b[0m\u001b[0m\n\u001b[1;32m    392\u001b[0m         \u001b[0mimplied\u001b[0m \u001b[0;34m=\u001b[0m \u001b[0;34m(\u001b[0m\u001b[0mlen\u001b[0m\u001b[0;34m(\u001b[0m\u001b[0mindex\u001b[0m\u001b[0;34m)\u001b[0m\u001b[0;34m,\u001b[0m \u001b[0mlen\u001b[0m\u001b[0;34m(\u001b[0m\u001b[0mcolumns\u001b[0m\u001b[0;34m)\u001b[0m\u001b[0;34m)\u001b[0m\u001b[0;34m\u001b[0m\u001b[0;34m\u001b[0m\u001b[0m\n\u001b[0;32m--> 393\u001b[0;31m         \u001b[0;32mraise\u001b[0m \u001b[0mValueError\u001b[0m\u001b[0;34m(\u001b[0m\u001b[0;34mf\"Shape of passed values is {passed}, indices imply {implied}\"\u001b[0m\u001b[0;34m)\u001b[0m\u001b[0;34m\u001b[0m\u001b[0;34m\u001b[0m\u001b[0m\n\u001b[0m\u001b[1;32m    394\u001b[0m \u001b[0;34m\u001b[0m\u001b[0m\n\u001b[1;32m    395\u001b[0m \u001b[0;34m\u001b[0m\u001b[0m\n",
            "\u001b[0;31mValueError\u001b[0m: Shape of passed values is (13, 13), indices imply (16, 16)"
          ]
        }
      ],
      "source": [
        "# Average over mutlitple runs and find the loss ; show the task for each and test permutations of tasks (different subtasks)\n",
        "# Find the confusion matrix for the matrix inference : y : real label, x : predicted output, diagnals are the right answers.\n",
        "#\n",
        "print(len(y_test))\n",
        "from sklearn.metrics import confusion_matrix\n",
        "import seaborn as sn\n",
        "import pandas as pd\n",
        "classes = [0,1,2,3,4,5,6,7,8,9,10,11,12,13,14,15]\n",
        "# conf_mat = confusion_matrix(y_test, y_pred)\n",
        "cf_matrix = confusion_matrix(y_test, y_pred)\n",
        "# sn.heatmap(conf_mat, square=True, annot=True, cmap='Blues', fmt=\"d\", cbar=False)\n",
        "df_cm = pd.DataFrame(cf_matrix/np.sum(cf_matrix) *10, index = [i for i in classes],\n",
        "                     columns = [i for i in classes])\n",
        "plt.figure(figsize = (12,7))\n",
        "sn.heatmap(df_cm, annot=True)\n",
        "plt.show()\n",
        "plt.savefig(\"Confusion Matrix on Balanced Dataset.jpg\")"
      ]
    },
    {
      "cell_type": "code",
      "execution_count": null,
      "id": "7094e629",
      "metadata": {
        "id": "7094e629"
      },
      "outputs": [],
      "source": [
        "conf_mat = confusion_matrix(y_test, y_pred)\n",
        "sn.heatmap(conf_mat, square=True, annot=True, cmap='Blues', fmt=\"d\", cbar=False)"
      ]
    },
    {
      "cell_type": "code",
      "execution_count": null,
      "id": "0a76319e",
      "metadata": {
        "id": "0a76319e",
        "colab": {
          "base_uri": "https://localhost:8080/",
          "height": 414
        },
        "outputId": "0a7fd186-7f8f-4a45-b9c2-354a7763f7ed"
      },
      "outputs": [
        {
          "output_type": "stream",
          "name": "stderr",
          "text": [
            "100%|██████████| 100/100 [00:09<00:00, 10.40it/s]\n",
            "100%|██████████| 100/100 [00:09<00:00, 10.77it/s]\n",
            "100%|██████████| 100/100 [00:10<00:00,  9.55it/s]\n",
            "100%|██████████| 100/100 [00:11<00:00,  8.49it/s]\n",
            "100%|██████████| 100/100 [00:15<00:00,  6.54it/s]\n"
          ]
        },
        {
          "output_type": "stream",
          "name": "stdout",
          "text": [
            "train accuracy: 97.22\n",
            "train loss: 0.41\n"
          ]
        },
        {
          "output_type": "display_data",
          "data": {
            "text/plain": [
              "<Figure size 432x288 with 1 Axes>"
            ],
            "image/png": "[encoded data removed]"
          },
          "metadata": {
            "needs_background": "light"
          }
        }
      ],
      "source": [
        "#train less overlap model1\n",
        "#  Training Balanced Model1\n",
        "balanced_trained_model1, balanced_losses1 = balanced_training('model1',balanced_model1, loss_function, optimizer, train_dataloader, n_epochs=n_epochs,update_interval = update_interval,Map = lessOverlapMap)\n",
        "plt.plot(np.arange(len(balanced_losses1)) * batch_size * update_interval, balanced_losses1)\n",
        "plt.title(\"CNN Balanced labels Model1,lr = {}, n_epochs = {} , update_interval = {} batch_size {}\".format(lr,n_epochs,update_interval,batch_size))\n",
        "plt.xlabel(\"number of images trained on\")\n",
        "plt.ylabel(\"loss\")\n",
        "plt.show()"
      ]
    },
    {
      "cell_type": "code",
      "source": [
        "# Testing Balanced Model1\n",
        "balanced_test_acc_1,balanced_test_loss_1 = balanced_testing('model1', balanced_trained_model1, loss_function, test_dataloader,balancedMap)\n",
        "plt.savefig(\"CNN balanced labels Model1,test_acc = {},test_avg_loss = {}.png\".format(balanced_test_acc_1,balanced_test_loss_1))"
      ],
      "metadata": {
        "colab": {
          "base_uri": "https://localhost:8080/",
          "height": 85
        },
        "id": "9QkaV7FUnR6O",
        "outputId": "4db322c3-65e1-472f-ebbd-8da018fcdf1b"
      },
      "id": "9QkaV7FUnR6O",
      "execution_count": null,
      "outputs": [
        {
          "output_type": "stream",
          "name": "stderr",
          "text": [
            "100%|██████████| 1/1 [00:01<00:00,  1.52s/it]"
          ]
        },
        {
          "output_type": "stream",
          "name": "stdout",
          "text": [
            "test accuracy: 96.86\n",
            "test loss: 0.09\n"
          ]
        },
        {
          "output_type": "stream",
          "name": "stderr",
          "text": [
            "\n"
          ]
        },
        {
          "output_type": "display_data",
          "data": {
            "text/plain": [
              "<Figure size 432x288 with 0 Axes>"
            ]
          },
          "metadata": {}
        }
      ]
    }
  ],
  "metadata": {
    "colab": {
      "provenance": []
    },
    "kernelspec": {
      "display_name": "Python 3",
      "language": "python",
      "name": "python3"
    },
    "language_info": {
      "codemirror_mode": {
        "name": "ipython",
        "version": 3
      },
      "file_extension": ".py",
      "mimetype": "text/x-python",
      "name": "python",
      "nbconvert_exporter": "python",
      "pygments_lexer": "ipython3",
      "version": "3.8.8"
    },
    "widgets": {
      "application/vnd.jupyter.widget-state+json": {
        "9f379e95f2474b5e81ad6d6e3ffa2e5c": {
          "model_module": "@jupyter-widgets/controls",
          "model_name": "HBoxModel",
          "model_module_version": "1.5.0",
          "state": {
            "_dom_classes": [],
            "_model_module": "@jupyter-widgets/controls",
            "_model_module_version": "1.5.0",
            "_model_name": "HBoxModel",
            "_view_count": null,
            "_view_module": "@jupyter-widgets/controls",
            "_view_module_version": "1.5.0",
            "_view_name": "HBoxView",
            "box_style": "",
            "children": [
              "IPY_MODEL_c55899aff13a4e87912ea11d1c8ff9e3",
              "IPY_MODEL_a1552c545df740c580b77fd64ee4a39c",
              "IPY_MODEL_36473bc88041414abb448bf5b0d4b440"
            ],
            "layout": "IPY_MODEL_d83812fe1cf24e9e9c35fcd8932042ee"
          }
        },
        "c55899aff13a4e87912ea11d1c8ff9e3": {
          "model_module": "@jupyter-widgets/controls",
          "model_name": "HTMLModel",
          "model_module_version": "1.5.0",
          "state": {
            "_dom_classes": [],
            "_model_module": "@jupyter-widgets/controls",
            "_model_module_version": "1.5.0",
            "_model_name": "HTMLModel",
            "_view_count": null,
            "_view_module": "@jupyter-widgets/controls",
            "_view_module_version": "1.5.0",
            "_view_name": "HTMLView",
            "description": "",
            "description_tooltip": null,
            "layout": "IPY_MODEL_b78d5a78a12246a5abac45ef0f5f585e",
            "placeholder": "​",
            "style": "IPY_MODEL_0260fd852f624ee199687e69975a36b0",
            "value": ""
          }
        },
        "a1552c545df740c580b77fd64ee4a39c": {
          "model_module": "@jupyter-widgets/controls",
          "model_name": "FloatProgressModel",
          "model_module_version": "1.5.0",
          "state": {
            "_dom_classes": [],
            "_model_module": "@jupyter-widgets/controls",
            "_model_module_version": "1.5.0",
            "_model_name": "FloatProgressModel",
            "_view_count": null,
            "_view_module": "@jupyter-widgets/controls",
            "_view_module_version": "1.5.0",
            "_view_name": "ProgressView",
            "bar_style": "success",
            "description": "",
            "description_tooltip": null,
            "layout": "IPY_MODEL_f0857adc19f14d4a9d9d79489b7c6f33",
            "max": 9912422,
            "min": 0,
            "orientation": "horizontal",
            "style": "IPY_MODEL_18568cd3466a4e1b800b174a3c27311d",
            "value": 9912422
          }
        },
        "36473bc88041414abb448bf5b0d4b440": {
          "model_module": "@jupyter-widgets/controls",
          "model_name": "HTMLModel",
          "model_module_version": "1.5.0",
          "state": {
            "_dom_classes": [],
            "_model_module": "@jupyter-widgets/controls",
            "_model_module_version": "1.5.0",
            "_model_name": "HTMLModel",
            "_view_count": null,
            "_view_module": "@jupyter-widgets/controls",
            "_view_module_version": "1.5.0",
            "_view_name": "HTMLView",
            "description": "",
            "description_tooltip": null,
            "layout": "IPY_MODEL_a8d9b7c6016b442fbf6220ae0f8c7435",
            "placeholder": "​",
            "style": "IPY_MODEL_bc5aed2685d44d10b0d75abcab1724b1",
            "value": " 9913344/? [00:00&lt;00:00, 25029365.17it/s]"
          }
        },
        "d83812fe1cf24e9e9c35fcd8932042ee": {
          "model_module": "@jupyter-widgets/base",
          "model_name": "LayoutModel",
          "model_module_version": "1.2.0",
          "state": {
            "_model_module": "@jupyter-widgets/base",
            "_model_module_version": "1.2.0",
            "_model_name": "LayoutModel",
            "_view_count": null,
            "_view_module": "@jupyter-widgets/base",
            "_view_module_version": "1.2.0",
            "_view_name": "LayoutView",
            "align_content": null,
            "align_items": null,
            "align_self": null,
            "border": null,
            "bottom": null,
            "display": null,
            "flex": null,
            "flex_flow": null,
            "grid_area": null,
            "grid_auto_columns": null,
            "grid_auto_flow": null,
            "grid_auto_rows": null,
            "grid_column": null,
            "grid_gap": null,
            "grid_row": null,
            "grid_template_areas": null,
            "grid_template_columns": null,
            "grid_template_rows": null,
            "height": null,
            "justify_content": null,
            "justify_items": null,
            "left": null,
            "margin": null,
            "max_height": null,
            "max_width": null,
            "min_height": null,
            "min_width": null,
            "object_fit": null,
            "object_position": null,
            "order": null,
            "overflow": null,
            "overflow_x": null,
            "overflow_y": null,
            "padding": null,
            "right": null,
            "top": null,
            "visibility": null,
            "width": null
          }
        },
        "b78d5a78a12246a5abac45ef0f5f585e": {
          "model_module": "@jupyter-widgets/base",
          "model_name": "LayoutModel",
          "model_module_version": "1.2.0",
          "state": {
            "_model_module": "@jupyter-widgets/base",
            "_model_module_version": "1.2.0",
            "_model_name": "LayoutModel",
            "_view_count": null,
            "_view_module": "@jupyter-widgets/base",
            "_view_module_version": "1.2.0",
            "_view_name": "LayoutView",
            "align_content": null,
            "align_items": null,
            "align_self": null,
            "border": null,
            "bottom": null,
            "display": null,
            "flex": null,
            "flex_flow": null,
            "grid_area": null,
            "grid_auto_columns": null,
            "grid_auto_flow": null,
            "grid_auto_rows": null,
            "grid_column": null,
            "grid_gap": null,
            "grid_row": null,
            "grid_template_areas": null,
            "grid_template_columns": null,
            "grid_template_rows": null,
            "height": null,
            "justify_content": null,
            "justify_items": null,
            "left": null,
            "margin": null,
            "max_height": null,
            "max_width": null,
            "min_height": null,
            "min_width": null,
            "object_fit": null,
            "object_position": null,
            "order": null,
            "overflow": null,
            "overflow_x": null,
            "overflow_y": null,
            "padding": null,
            "right": null,
            "top": null,
            "visibility": null,
            "width": null
          }
        },
        "0260fd852f624ee199687e69975a36b0": {
          "model_module": "@jupyter-widgets/controls",
          "model_name": "DescriptionStyleModel",
          "model_module_version": "1.5.0",
          "state": {
            "_model_module": "@jupyter-widgets/controls",
            "_model_module_version": "1.5.0",
            "_model_name": "DescriptionStyleModel",
            "_view_count": null,
            "_view_module": "@jupyter-widgets/base",
            "_view_module_version": "1.2.0",
            "_view_name": "StyleView",
            "description_width": ""
          }
        },
        "f0857adc19f14d4a9d9d79489b7c6f33": {
          "model_module": "@jupyter-widgets/base",
          "model_name": "LayoutModel",
          "model_module_version": "1.2.0",
          "state": {
            "_model_module": "@jupyter-widgets/base",
            "_model_module_version": "1.2.0",
            "_model_name": "LayoutModel",
            "_view_count": null,
            "_view_module": "@jupyter-widgets/base",
            "_view_module_version": "1.2.0",
            "_view_name": "LayoutView",
            "align_content": null,
            "align_items": null,
            "align_self": null,
            "border": null,
            "bottom": null,
            "display": null,
            "flex": null,
            "flex_flow": null,
            "grid_area": null,
            "grid_auto_columns": null,
            "grid_auto_flow": null,
            "grid_auto_rows": null,
            "grid_column": null,
            "grid_gap": null,
            "grid_row": null,
            "grid_template_areas": null,
            "grid_template_columns": null,
            "grid_template_rows": null,
            "height": null,
            "justify_content": null,
            "justify_items": null,
            "left": null,
            "margin": null,
            "max_height": null,
            "max_width": null,
            "min_height": null,
            "min_width": null,
            "object_fit": null,
            "object_position": null,
            "order": null,
            "overflow": null,
            "overflow_x": null,
            "overflow_y": null,
            "padding": null,
            "right": null,
            "top": null,
            "visibility": null,
            "width": null
          }
        },
        "18568cd3466a4e1b800b174a3c27311d": {
          "model_module": "@jupyter-widgets/controls",
          "model_name": "ProgressStyleModel",
          "model_module_version": "1.5.0",
          "state": {
            "_model_module": "@jupyter-widgets/controls",
            "_model_module_version": "1.5.0",
            "_model_name": "ProgressStyleModel",
            "_view_count": null,
            "_view_module": "@jupyter-widgets/base",
            "_view_module_version": "1.2.0",
            "_view_name": "StyleView",
            "bar_color": null,
            "description_width": ""
          }
        },
        "a8d9b7c6016b442fbf6220ae0f8c7435": {
          "model_module": "@jupyter-widgets/base",
          "model_name": "LayoutModel",
          "model_module_version": "1.2.0",
          "state": {
            "_model_module": "@jupyter-widgets/base",
            "_model_module_version": "1.2.0",
            "_model_name": "LayoutModel",
            "_view_count": null,
            "_view_module": "@jupyter-widgets/base",
            "_view_module_version": "1.2.0",
            "_view_name": "LayoutView",
            "align_content": null,
            "align_items": null,
            "align_self": null,
            "border": null,
            "bottom": null,
            "display": null,
            "flex": null,
            "flex_flow": null,
            "grid_area": null,
            "grid_auto_columns": null,
            "grid_auto_flow": null,
            "grid_auto_rows": null,
            "grid_column": null,
            "grid_gap": null,
            "grid_row": null,
            "grid_template_areas": null,
            "grid_template_columns": null,
            "grid_template_rows": null,
            "height": null,
            "justify_content": null,
            "justify_items": null,
            "left": null,
            "margin": null,
            "max_height": null,
            "max_width": null,
            "min_height": null,
            "min_width": null,
            "object_fit": null,
            "object_position": null,
            "order": null,
            "overflow": null,
            "overflow_x": null,
            "overflow_y": null,
            "padding": null,
            "right": null,
            "top": null,
            "visibility": null,
            "width": null
          }
        },
        "bc5aed2685d44d10b0d75abcab1724b1": {
          "model_module": "@jupyter-widgets/controls",
          "model_name": "DescriptionStyleModel",
          "model_module_version": "1.5.0",
          "state": {
            "_model_module": "@jupyter-widgets/controls",
            "_model_module_version": "1.5.0",
            "_model_name": "DescriptionStyleModel",
            "_view_count": null,
            "_view_module": "@jupyter-widgets/base",
            "_view_module_version": "1.2.0",
            "_view_name": "StyleView",
            "description_width": ""
          }
        },
        "55644cea7f3a4b508ffdb647fc09768d": {
          "model_module": "@jupyter-widgets/controls",
          "model_name": "HBoxModel",
          "model_module_version": "1.5.0",
          "state": {
            "_dom_classes": [],
            "_model_module": "@jupyter-widgets/controls",
            "_model_module_version": "1.5.0",
            "_model_name": "HBoxModel",
            "_view_count": null,
            "_view_module": "@jupyter-widgets/controls",
            "_view_module_version": "1.5.0",
            "_view_name": "HBoxView",
            "box_style": "",
            "children": [
              "IPY_MODEL_d2602f42db264dd489cc9c9c93eae3b6",
              "IPY_MODEL_6e557ffdd254442a985112428b69d204",
              "IPY_MODEL_bb83b122be7746b2904f9719c3a63257"
            ],
            "layout": "IPY_MODEL_2b968f8915194f3cb9fec293aacf5e92"
          }
        },
        "d2602f42db264dd489cc9c9c93eae3b6": {
          "model_module": "@jupyter-widgets/controls",
          "model_name": "HTMLModel",
          "model_module_version": "1.5.0",
          "state": {
            "_dom_classes": [],
            "_model_module": "@jupyter-widgets/controls",
            "_model_module_version": "1.5.0",
            "_model_name": "HTMLModel",
            "_view_count": null,
            "_view_module": "@jupyter-widgets/controls",
            "_view_module_version": "1.5.0",
            "_view_name": "HTMLView",
            "description": "",
            "description_tooltip": null,
            "layout": "IPY_MODEL_be698d7fb98a42b0a0dceb2e4aca52ad",
            "placeholder": "​",
            "style": "IPY_MODEL_ca0865225bb244b8bfd4832824d3ab80",
            "value": ""
          }
        },
        "6e557ffdd254442a985112428b69d204": {
          "model_module": "@jupyter-widgets/controls",
          "model_name": "FloatProgressModel",
          "model_module_version": "1.5.0",
          "state": {
            "_dom_classes": [],
            "_model_module": "@jupyter-widgets/controls",
            "_model_module_version": "1.5.0",
            "_model_name": "FloatProgressModel",
            "_view_count": null,
            "_view_module": "@jupyter-widgets/controls",
            "_view_module_version": "1.5.0",
            "_view_name": "ProgressView",
            "bar_style": "success",
            "description": "",
            "description_tooltip": null,
            "layout": "IPY_MODEL_6345e0051fd24dbeb7dfd2da91cb2d22",
            "max": 28881,
            "min": 0,
            "orientation": "horizontal",
            "style": "IPY_MODEL_5e1595ce47f94e8eac3b8f52fe5939b9",
            "value": 28881
          }
        },
        "bb83b122be7746b2904f9719c3a63257": {
          "model_module": "@jupyter-widgets/controls",
          "model_name": "HTMLModel",
          "model_module_version": "1.5.0",
          "state": {
            "_dom_classes": [],
            "_model_module": "@jupyter-widgets/controls",
            "_model_module_version": "1.5.0",
            "_model_name": "HTMLModel",
            "_view_count": null,
            "_view_module": "@jupyter-widgets/controls",
            "_view_module_version": "1.5.0",
            "_view_name": "HTMLView",
            "description": "",
            "description_tooltip": null,
            "layout": "IPY_MODEL_21f9df15bb544737b05c9e65a65e4d7d",
            "placeholder": "​",
            "style": "IPY_MODEL_cf351913b5c44de3b867d107973ce0f6",
            "value": " 29696/? [00:00&lt;00:00, 388585.39it/s]"
          }
        },
        "2b968f8915194f3cb9fec293aacf5e92": {
          "model_module": "@jupyter-widgets/base",
          "model_name": "LayoutModel",
          "model_module_version": "1.2.0",
          "state": {
            "_model_module": "@jupyter-widgets/base",
            "_model_module_version": "1.2.0",
            "_model_name": "LayoutModel",
            "_view_count": null,
            "_view_module": "@jupyter-widgets/base",
            "_view_module_version": "1.2.0",
            "_view_name": "LayoutView",
            "align_content": null,
            "align_items": null,
            "align_self": null,
            "border": null,
            "bottom": null,
            "display": null,
            "flex": null,
            "flex_flow": null,
            "grid_area": null,
            "grid_auto_columns": null,
            "grid_auto_flow": null,
            "grid_auto_rows": null,
            "grid_column": null,
            "grid_gap": null,
            "grid_row": null,
            "grid_template_areas": null,
            "grid_template_columns": null,
            "grid_template_rows": null,
            "height": null,
            "justify_content": null,
            "justify_items": null,
            "left": null,
            "margin": null,
            "max_height": null,
            "max_width": null,
            "min_height": null,
            "min_width": null,
            "object_fit": null,
            "object_position": null,
            "order": null,
            "overflow": null,
            "overflow_x": null,
            "overflow_y": null,
            "padding": null,
            "right": null,
            "top": null,
            "visibility": null,
            "width": null
          }
        },
        "be698d7fb98a42b0a0dceb2e4aca52ad": {
          "model_module": "@jupyter-widgets/base",
          "model_name": "LayoutModel",
          "model_module_version": "1.2.0",
          "state": {
            "_model_module": "@jupyter-widgets/base",
            "_model_module_version": "1.2.0",
            "_model_name": "LayoutModel",
            "_view_count": null,
            "_view_module": "@jupyter-widgets/base",
            "_view_module_version": "1.2.0",
            "_view_name": "LayoutView",
            "align_content": null,
            "align_items": null,
            "align_self": null,
            "border": null,
            "bottom": null,
            "display": null,
            "flex": null,
            "flex_flow": null,
            "grid_area": null,
            "grid_auto_columns": null,
            "grid_auto_flow": null,
            "grid_auto_rows": null,
            "grid_column": null,
            "grid_gap": null,
            "grid_row": null,
            "grid_template_areas": null,
            "grid_template_columns": null,
            "grid_template_rows": null,
            "height": null,
            "justify_content": null,
            "justify_items": null,
            "left": null,
            "margin": null,
            "max_height": null,
            "max_width": null,
            "min_height": null,
            "min_width": null,
            "object_fit": null,
            "object_position": null,
            "order": null,
            "overflow": null,
            "overflow_x": null,
            "overflow_y": null,
            "padding": null,
            "right": null,
            "top": null,
            "visibility": null,
            "width": null
          }
        },
        "ca0865225bb244b8bfd4832824d3ab80": {
          "model_module": "@jupyter-widgets/controls",
          "model_name": "DescriptionStyleModel",
          "model_module_version": "1.5.0",
          "state": {
            "_model_module": "@jupyter-widgets/controls",
            "_model_module_version": "1.5.0",
            "_model_name": "DescriptionStyleModel",
            "_view_count": null,
            "_view_module": "@jupyter-widgets/base",
            "_view_module_version": "1.2.0",
            "_view_name": "StyleView",
            "description_width": ""
          }
        },
        "6345e0051fd24dbeb7dfd2da91cb2d22": {
          "model_module": "@jupyter-widgets/base",
          "model_name": "LayoutModel",
          "model_module_version": "1.2.0",
          "state": {
            "_model_module": "@jupyter-widgets/base",
            "_model_module_version": "1.2.0",
            "_model_name": "LayoutModel",
            "_view_count": null,
            "_view_module": "@jupyter-widgets/base",
            "_view_module_version": "1.2.0",
            "_view_name": "LayoutView",
            "align_content": null,
            "align_items": null,
            "align_self": null,
            "border": null,
            "bottom": null,
            "display": null,
            "flex": null,
            "flex_flow": null,
            "grid_area": null,
            "grid_auto_columns": null,
            "grid_auto_flow": null,
            "grid_auto_rows": null,
            "grid_column": null,
            "grid_gap": null,
            "grid_row": null,
            "grid_template_areas": null,
            "grid_template_columns": null,
            "grid_template_rows": null,
            "height": null,
            "justify_content": null,
            "justify_items": null,
            "left": null,
            "margin": null,
            "max_height": null,
            "max_width": null,
            "min_height": null,
            "min_width": null,
            "object_fit": null,
            "object_position": null,
            "order": null,
            "overflow": null,
            "overflow_x": null,
            "overflow_y": null,
            "padding": null,
            "right": null,
            "top": null,
            "visibility": null,
            "width": null
          }
        },
        "5e1595ce47f94e8eac3b8f52fe5939b9": {
          "model_module": "@jupyter-widgets/controls",
          "model_name": "ProgressStyleModel",
          "model_module_version": "1.5.0",
          "state": {
            "_model_module": "@jupyter-widgets/controls",
            "_model_module_version": "1.5.0",
            "_model_name": "ProgressStyleModel",
            "_view_count": null,
            "_view_module": "@jupyter-widgets/base",
            "_view_module_version": "1.2.0",
            "_view_name": "StyleView",
            "bar_color": null,
            "description_width": ""
          }
        },
        "21f9df15bb544737b05c9e65a65e4d7d": {
          "model_module": "@jupyter-widgets/base",
          "model_name": "LayoutModel",
          "model_module_version": "1.2.0",
          "state": {
            "_model_module": "@jupyter-widgets/base",
            "_model_module_version": "1.2.0",
            "_model_name": "LayoutModel",
            "_view_count": null,
            "_view_module": "@jupyter-widgets/base",
            "_view_module_version": "1.2.0",
            "_view_name": "LayoutView",
            "align_content": null,
            "align_items": null,
            "align_self": null,
            "border": null,
            "bottom": null,
            "display": null,
            "flex": null,
            "flex_flow": null,
            "grid_area": null,
            "grid_auto_columns": null,
            "grid_auto_flow": null,
            "grid_auto_rows": null,
            "grid_column": null,
            "grid_gap": null,
            "grid_row": null,
            "grid_template_areas": null,
            "grid_template_columns": null,
            "grid_template_rows": null,
            "height": null,
            "justify_content": null,
            "justify_items": null,
            "left": null,
            "margin": null,
            "max_height": null,
            "max_width": null,
            "min_height": null,
            "min_width": null,
            "object_fit": null,
            "object_position": null,
            "order": null,
            "overflow": null,
            "overflow_x": null,
            "overflow_y": null,
            "padding": null,
            "right": null,
            "top": null,
            "visibility": null,
            "width": null
          }
        },
        "cf351913b5c44de3b867d107973ce0f6": {
          "model_module": "@jupyter-widgets/controls",
          "model_name": "DescriptionStyleModel",
          "model_module_version": "1.5.0",
          "state": {
            "_model_module": "@jupyter-widgets/controls",
            "_model_module_version": "1.5.0",
            "_model_name": "DescriptionStyleModel",
            "_view_count": null,
            "_view_module": "@jupyter-widgets/base",
            "_view_module_version": "1.2.0",
            "_view_name": "StyleView",
            "description_width": ""
          }
        },
        "fb29471a8a804eae8faa4c0e0c6deea8": {
          "model_module": "@jupyter-widgets/controls",
          "model_name": "HBoxModel",
          "model_module_version": "1.5.0",
          "state": {
            "_dom_classes": [],
            "_model_module": "@jupyter-widgets/controls",
            "_model_module_version": "1.5.0",
            "_model_name": "HBoxModel",
            "_view_count": null,
            "_view_module": "@jupyter-widgets/controls",
            "_view_module_version": "1.5.0",
            "_view_name": "HBoxView",
            "box_style": "",
            "children": [
              "IPY_MODEL_cdfb49d6da184919bb1106c608e8fcba",
              "IPY_MODEL_06ffe12ec03b4135ae7b0f6a07c00e80",
              "IPY_MODEL_2984c80eecd2498eae12cb690524f84d"
            ],
            "layout": "IPY_MODEL_7550a288608e486a91eef67d199a6de8"
          }
        },
        "cdfb49d6da184919bb1106c608e8fcba": {
          "model_module": "@jupyter-widgets/controls",
          "model_name": "HTMLModel",
          "model_module_version": "1.5.0",
          "state": {
            "_dom_classes": [],
            "_model_module": "@jupyter-widgets/controls",
            "_model_module_version": "1.5.0",
            "_model_name": "HTMLModel",
            "_view_count": null,
            "_view_module": "@jupyter-widgets/controls",
            "_view_module_version": "1.5.0",
            "_view_name": "HTMLView",
            "description": "",
            "description_tooltip": null,
            "layout": "IPY_MODEL_71737a6fe62f42e9b72c4eee8680c575",
            "placeholder": "​",
            "style": "IPY_MODEL_24b0e1d41fc047b294ca8570b1df397c",
            "value": ""
          }
        },
        "06ffe12ec03b4135ae7b0f6a07c00e80": {
          "model_module": "@jupyter-widgets/controls",
          "model_name": "FloatProgressModel",
          "model_module_version": "1.5.0",
          "state": {
            "_dom_classes": [],
            "_model_module": "@jupyter-widgets/controls",
            "_model_module_version": "1.5.0",
            "_model_name": "FloatProgressModel",
            "_view_count": null,
            "_view_module": "@jupyter-widgets/controls",
            "_view_module_version": "1.5.0",
            "_view_name": "ProgressView",
            "bar_style": "success",
            "description": "",
            "description_tooltip": null,
            "layout": "IPY_MODEL_6cca93733b42478284cca3dbfc55a537",
            "max": 1648877,
            "min": 0,
            "orientation": "horizontal",
            "style": "IPY_MODEL_c65edaeb1dbb4a469f704c9524cec0f5",
            "value": 1648877
          }
        },
        "2984c80eecd2498eae12cb690524f84d": {
          "model_module": "@jupyter-widgets/controls",
          "model_name": "HTMLModel",
          "model_module_version": "1.5.0",
          "state": {
            "_dom_classes": [],
            "_model_module": "@jupyter-widgets/controls",
            "_model_module_version": "1.5.0",
            "_model_name": "HTMLModel",
            "_view_count": null,
            "_view_module": "@jupyter-widgets/controls",
            "_view_module_version": "1.5.0",
            "_view_name": "HTMLView",
            "description": "",
            "description_tooltip": null,
            "layout": "IPY_MODEL_a6afa23087ca4866a960f1562dbbca6b",
            "placeholder": "​",
            "style": "IPY_MODEL_2a0db2763b174942a1ce10799719ed92",
            "value": " 1649664/? [00:00&lt;00:00, 505587.67it/s]"
          }
        },
        "7550a288608e486a91eef67d199a6de8": {
          "model_module": "@jupyter-widgets/base",
          "model_name": "LayoutModel",
          "model_module_version": "1.2.0",
          "state": {
            "_model_module": "@jupyter-widgets/base",
            "_model_module_version": "1.2.0",
            "_model_name": "LayoutModel",
            "_view_count": null,
            "_view_module": "@jupyter-widgets/base",
            "_view_module_version": "1.2.0",
            "_view_name": "LayoutView",
            "align_content": null,
            "align_items": null,
            "align_self": null,
            "border": null,
            "bottom": null,
            "display": null,
            "flex": null,
            "flex_flow": null,
            "grid_area": null,
            "grid_auto_columns": null,
            "grid_auto_flow": null,
            "grid_auto_rows": null,
            "grid_column": null,
            "grid_gap": null,
            "grid_row": null,
            "grid_template_areas": null,
            "grid_template_columns": null,
            "grid_template_rows": null,
            "height": null,
            "justify_content": null,
            "justify_items": null,
            "left": null,
            "margin": null,
            "max_height": null,
            "max_width": null,
            "min_height": null,
            "min_width": null,
            "object_fit": null,
            "object_position": null,
            "order": null,
            "overflow": null,
            "overflow_x": null,
            "overflow_y": null,
            "padding": null,
            "right": null,
            "top": null,
            "visibility": null,
            "width": null
          }
        },
        "71737a6fe62f42e9b72c4eee8680c575": {
          "model_module": "@jupyter-widgets/base",
          "model_name": "LayoutModel",
          "model_module_version": "1.2.0",
          "state": {
            "_model_module": "@jupyter-widgets/base",
            "_model_module_version": "1.2.0",
            "_model_name": "LayoutModel",
            "_view_count": null,
            "_view_module": "@jupyter-widgets/base",
            "_view_module_version": "1.2.0",
            "_view_name": "LayoutView",
            "align_content": null,
            "align_items": null,
            "align_self": null,
            "border": null,
            "bottom": null,
            "display": null,
            "flex": null,
            "flex_flow": null,
            "grid_area": null,
            "grid_auto_columns": null,
            "grid_auto_flow": null,
            "grid_auto_rows": null,
            "grid_column": null,
            "grid_gap": null,
            "grid_row": null,
            "grid_template_areas": null,
            "grid_template_columns": null,
            "grid_template_rows": null,
            "height": null,
            "justify_content": null,
            "justify_items": null,
            "left": null,
            "margin": null,
            "max_height": null,
            "max_width": null,
            "min_height": null,
            "min_width": null,
            "object_fit": null,
            "object_position": null,
            "order": null,
            "overflow": null,
            "overflow_x": null,
            "overflow_y": null,
            "padding": null,
            "right": null,
            "top": null,
            "visibility": null,
            "width": null
          }
        },
        "24b0e1d41fc047b294ca8570b1df397c": {
          "model_module": "@jupyter-widgets/controls",
          "model_name": "DescriptionStyleModel",
          "model_module_version": "1.5.0",
          "state": {
            "_model_module": "@jupyter-widgets/controls",
            "_model_module_version": "1.5.0",
            "_model_name": "DescriptionStyleModel",
            "_view_count": null,
            "_view_module": "@jupyter-widgets/base",
            "_view_module_version": "1.2.0",
            "_view_name": "StyleView",
            "description_width": ""
          }
        },
        "6cca93733b42478284cca3dbfc55a537": {
          "model_module": "@jupyter-widgets/base",
          "model_name": "LayoutModel",
          "model_module_version": "1.2.0",
          "state": {
            "_model_module": "@jupyter-widgets/base",
            "_model_module_version": "1.2.0",
            "_model_name": "LayoutModel",
            "_view_count": null,
            "_view_module": "@jupyter-widgets/base",
            "_view_module_version": "1.2.0",
            "_view_name": "LayoutView",
            "align_content": null,
            "align_items": null,
            "align_self": null,
            "border": null,
            "bottom": null,
            "display": null,
            "flex": null,
            "flex_flow": null,
            "grid_area": null,
            "grid_auto_columns": null,
            "grid_auto_flow": null,
            "grid_auto_rows": null,
            "grid_column": null,
            "grid_gap": null,
            "grid_row": null,
            "grid_template_areas": null,
            "grid_template_columns": null,
            "grid_template_rows": null,
            "height": null,
            "justify_content": null,
            "justify_items": null,
            "left": null,
            "margin": null,
            "max_height": null,
            "max_width": null,
            "min_height": null,
            "min_width": null,
            "object_fit": null,
            "object_position": null,
            "order": null,
            "overflow": null,
            "overflow_x": null,
            "overflow_y": null,
            "padding": null,
            "right": null,
            "top": null,
            "visibility": null,
            "width": null
          }
        },
        "c65edaeb1dbb4a469f704c9524cec0f5": {
          "model_module": "@jupyter-widgets/controls",
          "model_name": "ProgressStyleModel",
          "model_module_version": "1.5.0",
          "state": {
            "_model_module": "@jupyter-widgets/controls",
            "_model_module_version": "1.5.0",
            "_model_name": "ProgressStyleModel",
            "_view_count": null,
            "_view_module": "@jupyter-widgets/base",
            "_view_module_version": "1.2.0",
            "_view_name": "StyleView",
            "bar_color": null,
            "description_width": ""
          }
        },
        "a6afa23087ca4866a960f1562dbbca6b": {
          "model_module": "@jupyter-widgets/base",
          "model_name": "LayoutModel",
          "model_module_version": "1.2.0",
          "state": {
            "_model_module": "@jupyter-widgets/base",
            "_model_module_version": "1.2.0",
            "_model_name": "LayoutModel",
            "_view_count": null,
            "_view_module": "@jupyter-widgets/base",
            "_view_module_version": "1.2.0",
            "_view_name": "LayoutView",
            "align_content": null,
            "align_items": null,
            "align_self": null,
            "border": null,
            "bottom": null,
            "display": null,
            "flex": null,
            "flex_flow": null,
            "grid_area": null,
            "grid_auto_columns": null,
            "grid_auto_flow": null,
            "grid_auto_rows": null,
            "grid_column": null,
            "grid_gap": null,
            "grid_row": null,
            "grid_template_areas": null,
            "grid_template_columns": null,
            "grid_template_rows": null,
            "height": null,
            "justify_content": null,
            "justify_items": null,
            "left": null,
            "margin": null,
            "max_height": null,
            "max_width": null,
            "min_height": null,
            "min_width": null,
            "object_fit": null,
            "object_position": null,
            "order": null,
            "overflow": null,
            "overflow_x": null,
            "overflow_y": null,
            "padding": null,
            "right": null,
            "top": null,
            "visibility": null,
            "width": null
          }
        },
        "2a0db2763b174942a1ce10799719ed92": {
          "model_module": "@jupyter-widgets/controls",
          "model_name": "DescriptionStyleModel",
          "model_module_version": "1.5.0",
          "state": {
            "_model_module": "@jupyter-widgets/controls",
            "_model_module_version": "1.5.0",
            "_model_name": "DescriptionStyleModel",
            "_view_count": null,
            "_view_module": "@jupyter-widgets/base",
            "_view_module_version": "1.2.0",
            "_view_name": "StyleView",
            "description_width": ""
          }
        },
        "5beb4f89c872426793d399953a9deb2c": {
          "model_module": "@jupyter-widgets/controls",
          "model_name": "HBoxModel",
          "model_module_version": "1.5.0",
          "state": {
            "_dom_classes": [],
            "_model_module": "@jupyter-widgets/controls",
            "_model_module_version": "1.5.0",
            "_model_name": "HBoxModel",
            "_view_count": null,
            "_view_module": "@jupyter-widgets/controls",
            "_view_module_version": "1.5.0",
            "_view_name": "HBoxView",
            "box_style": "",
            "children": [
              "IPY_MODEL_df2695421fba40b1a2db55ebb15ed807",
              "IPY_MODEL_9f643837c5d14baa9cb85b0fdfe817e6",
              "IPY_MODEL_b95e813f17644793b8c936c2f60e96eb"
            ],
            "layout": "IPY_MODEL_ce301a10526945d686fd03ce6f2d8ce2"
          }
        },
        "df2695421fba40b1a2db55ebb15ed807": {
          "model_module": "@jupyter-widgets/controls",
          "model_name": "HTMLModel",
          "model_module_version": "1.5.0",
          "state": {
            "_dom_classes": [],
            "_model_module": "@jupyter-widgets/controls",
            "_model_module_version": "1.5.0",
            "_model_name": "HTMLModel",
            "_view_count": null,
            "_view_module": "@jupyter-widgets/controls",
            "_view_module_version": "1.5.0",
            "_view_name": "HTMLView",
            "description": "",
            "description_tooltip": null,
            "layout": "IPY_MODEL_fa76b75489ae47058081cc2673ab3680",
            "placeholder": "​",
            "style": "IPY_MODEL_5ebaba2fde4c43a8acf054662d1904f1",
            "value": ""
          }
        },
        "9f643837c5d14baa9cb85b0fdfe817e6": {
          "model_module": "@jupyter-widgets/controls",
          "model_name": "FloatProgressModel",
          "model_module_version": "1.5.0",
          "state": {
            "_dom_classes": [],
            "_model_module": "@jupyter-widgets/controls",
            "_model_module_version": "1.5.0",
            "_model_name": "FloatProgressModel",
            "_view_count": null,
            "_view_module": "@jupyter-widgets/controls",
            "_view_module_version": "1.5.0",
            "_view_name": "ProgressView",
            "bar_style": "success",
            "description": "",
            "description_tooltip": null,
            "layout": "IPY_MODEL_7d9526f120244c968e86c9eae1a11dd3",
            "max": 4542,
            "min": 0,
            "orientation": "horizontal",
            "style": "IPY_MODEL_39f543190d5849bf9559086b2cd9c4a2",
            "value": 4542
          }
        },
        "b95e813f17644793b8c936c2f60e96eb": {
          "model_module": "@jupyter-widgets/controls",
          "model_name": "HTMLModel",
          "model_module_version": "1.5.0",
          "state": {
            "_dom_classes": [],
            "_model_module": "@jupyter-widgets/controls",
            "_model_module_version": "1.5.0",
            "_model_name": "HTMLModel",
            "_view_count": null,
            "_view_module": "@jupyter-widgets/controls",
            "_view_module_version": "1.5.0",
            "_view_name": "HTMLView",
            "description": "",
            "description_tooltip": null,
            "layout": "IPY_MODEL_b34053aafcb44055ae1c185776922712",
            "placeholder": "​",
            "style": "IPY_MODEL_698766d93d524eaf9541d91bd5be9925",
            "value": " 5120/? [00:00&lt;00:00, 10015.55it/s]"
          }
        },
        "ce301a10526945d686fd03ce6f2d8ce2": {
          "model_module": "@jupyter-widgets/base",
          "model_name": "LayoutModel",
          "model_module_version": "1.2.0",
          "state": {
            "_model_module": "@jupyter-widgets/base",
            "_model_module_version": "1.2.0",
            "_model_name": "LayoutModel",
            "_view_count": null,
            "_view_module": "@jupyter-widgets/base",
            "_view_module_version": "1.2.0",
            "_view_name": "LayoutView",
            "align_content": null,
            "align_items": null,
            "align_self": null,
            "border": null,
            "bottom": null,
            "display": null,
            "flex": null,
            "flex_flow": null,
            "grid_area": null,
            "grid_auto_columns": null,
            "grid_auto_flow": null,
            "grid_auto_rows": null,
            "grid_column": null,
            "grid_gap": null,
            "grid_row": null,
            "grid_template_areas": null,
            "grid_template_columns": null,
            "grid_template_rows": null,
            "height": null,
            "justify_content": null,
            "justify_items": null,
            "left": null,
            "margin": null,
            "max_height": null,
            "max_width": null,
            "min_height": null,
            "min_width": null,
            "object_fit": null,
            "object_position": null,
            "order": null,
            "overflow": null,
            "overflow_x": null,
            "overflow_y": null,
            "padding": null,
            "right": null,
            "top": null,
            "visibility": null,
            "width": null
          }
        },
        "fa76b75489ae47058081cc2673ab3680": {
          "model_module": "@jupyter-widgets/base",
          "model_name": "LayoutModel",
          "model_module_version": "1.2.0",
          "state": {
            "_model_module": "@jupyter-widgets/base",
            "_model_module_version": "1.2.0",
            "_model_name": "LayoutModel",
            "_view_count": null,
            "_view_module": "@jupyter-widgets/base",
            "_view_module_version": "1.2.0",
            "_view_name": "LayoutView",
            "align_content": null,
            "align_items": null,
            "align_self": null,
            "border": null,
            "bottom": null,
            "display": null,
            "flex": null,
            "flex_flow": null,
            "grid_area": null,
            "grid_auto_columns": null,
            "grid_auto_flow": null,
            "grid_auto_rows": null,
            "grid_column": null,
            "grid_gap": null,
            "grid_row": null,
            "grid_template_areas": null,
            "grid_template_columns": null,
            "grid_template_rows": null,
            "height": null,
            "justify_content": null,
            "justify_items": null,
            "left": null,
            "margin": null,
            "max_height": null,
            "max_width": null,
            "min_height": null,
            "min_width": null,
            "object_fit": null,
            "object_position": null,
            "order": null,
            "overflow": null,
            "overflow_x": null,
            "overflow_y": null,
            "padding": null,
            "right": null,
            "top": null,
            "visibility": null,
            "width": null
          }
        },
        "5ebaba2fde4c43a8acf054662d1904f1": {
          "model_module": "@jupyter-widgets/controls",
          "model_name": "DescriptionStyleModel",
          "model_module_version": "1.5.0",
          "state": {
            "_model_module": "@jupyter-widgets/controls",
            "_model_module_version": "1.5.0",
            "_model_name": "DescriptionStyleModel",
            "_view_count": null,
            "_view_module": "@jupyter-widgets/base",
            "_view_module_version": "1.2.0",
            "_view_name": "StyleView",
            "description_width": ""
          }
        },
        "7d9526f120244c968e86c9eae1a11dd3": {
          "model_module": "@jupyter-widgets/base",
          "model_name": "LayoutModel",
          "model_module_version": "1.2.0",
          "state": {
            "_model_module": "@jupyter-widgets/base",
            "_model_module_version": "1.2.0",
            "_model_name": "LayoutModel",
            "_view_count": null,
            "_view_module": "@jupyter-widgets/base",
            "_view_module_version": "1.2.0",
            "_view_name": "LayoutView",
            "align_content": null,
            "align_items": null,
            "align_self": null,
            "border": null,
            "bottom": null,
            "display": null,
            "flex": null,
            "flex_flow": null,
            "grid_area": null,
            "grid_auto_columns": null,
            "grid_auto_flow": null,
            "grid_auto_rows": null,
            "grid_column": null,
            "grid_gap": null,
            "grid_row": null,
            "grid_template_areas": null,
            "grid_template_columns": null,
            "grid_template_rows": null,
            "height": null,
            "justify_content": null,
            "justify_items": null,
            "left": null,
            "margin": null,
            "max_height": null,
            "max_width": null,
            "min_height": null,
            "min_width": null,
            "object_fit": null,
            "object_position": null,
            "order": null,
            "overflow": null,
            "overflow_x": null,
            "overflow_y": null,
            "padding": null,
            "right": null,
            "top": null,
            "visibility": null,
            "width": null
          }
        },
        "39f543190d5849bf9559086b2cd9c4a2": {
          "model_module": "@jupyter-widgets/controls",
          "model_name": "ProgressStyleModel",
          "model_module_version": "1.5.0",
          "state": {
            "_model_module": "@jupyter-widgets/controls",
            "_model_module_version": "1.5.0",
            "_model_name": "ProgressStyleModel",
            "_view_count": null,
            "_view_module": "@jupyter-widgets/base",
            "_view_module_version": "1.2.0",
            "_view_name": "StyleView",
            "bar_color": null,
            "description_width": ""
          }
        },
        "b34053aafcb44055ae1c185776922712": {
          "model_module": "@jupyter-widgets/base",
          "model_name": "LayoutModel",
          "model_module_version": "1.2.0",
          "state": {
            "_model_module": "@jupyter-widgets/base",
            "_model_module_version": "1.2.0",
            "_model_name": "LayoutModel",
            "_view_count": null,
            "_view_module": "@jupyter-widgets/base",
            "_view_module_version": "1.2.0",
            "_view_name": "LayoutView",
            "align_content": null,
            "align_items": null,
            "align_self": null,
            "border": null,
            "bottom": null,
            "display": null,
            "flex": null,
            "flex_flow": null,
            "grid_area": null,
            "grid_auto_columns": null,
            "grid_auto_flow": null,
            "grid_auto_rows": null,
            "grid_column": null,
            "grid_gap": null,
            "grid_row": null,
            "grid_template_areas": null,
            "grid_template_columns": null,
            "grid_template_rows": null,
            "height": null,
            "justify_content": null,
            "justify_items": null,
            "left": null,
            "margin": null,
            "max_height": null,
            "max_width": null,
            "min_height": null,
            "min_width": null,
            "object_fit": null,
            "object_position": null,
            "order": null,
            "overflow": null,
            "overflow_x": null,
            "overflow_y": null,
            "padding": null,
            "right": null,
            "top": null,
            "visibility": null,
            "width": null
          }
        },
        "698766d93d524eaf9541d91bd5be9925": {
          "model_module": "@jupyter-widgets/controls",
          "model_name": "DescriptionStyleModel",
          "model_module_version": "1.5.0",
          "state": {
            "_model_module": "@jupyter-widgets/controls",
            "_model_module_version": "1.5.0",
            "_model_name": "DescriptionStyleModel",
            "_view_count": null,
            "_view_module": "@jupyter-widgets/base",
            "_view_module_version": "1.2.0",
            "_view_name": "StyleView",
            "description_width": ""
          }
        }
      }
    }
  },
  "nbformat": 4,
  "nbformat_minor": 5
}