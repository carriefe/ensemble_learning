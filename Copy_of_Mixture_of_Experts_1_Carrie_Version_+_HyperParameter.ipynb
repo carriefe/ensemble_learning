{
  "cells": [
    {
      "cell_type": "code",
      "execution_count": null,
      "metadata": {
        "id": "475e1682"
      },
      "outputs": [],
      "source": [
        "import torch\n",
        "from torch import nn, optim # Sets of preset layers and optimizers\n",
        "import torch.nn.functional as F # Sets of functions such as ReLU\n",
        "import torchvision as tv\n",
        "# Step 1: Let's import some libraries!\n",
        "import torch.nn as nn\n",
        "import torchvision\n",
        "import numpy as np\n",
        "import torch.nn.functional as F\n",
        "from torch.utils.data import Dataset, DataLoader, random_split, Subset\n",
        "from torchvision.datasets import ImageFolder\n",
        "import torchvision.transforms as tt\n",
        "from torchvision.utils import make_grid\n",
        "import matplotlib.pyplot as plt\n",
        "from matplotlib.image import imread\n",
        "import os\n",
        "import random\n",
        "from tqdm import tqdm\n",
        "from torchvision import datasets, transforms # Popular datasets, architectures and common image transformations for computer vision\n",
        "from sklearn.metrics import accuracy_score"
      ],
      "id": "475e1682"
    },
    {
      "cell_type": "code",
      "source": [
        "# Device configuration\n",
        "device = torch.device('cuda' if torch.cuda.is_available() else 'cpu')\n",
        "device"
      ],
      "metadata": {
        "colab": {
          "base_uri": "https://localhost:8080/"
        },
        "id": "ZD4v1DqcY81a",
        "outputId": "6cbcdd9e-7d58-463a-e92a-21d73d867e3b"
      },
      "id": "ZD4v1DqcY81a",
      "execution_count": null,
      "outputs": [
        {
          "output_type": "execute_result",
          "data": {
            "text/plain": [
              "device(type='cpu')"
            ]
          },
          "metadata": {},
          "execution_count": 2
        }
      ]
    },
    {
      "cell_type": "code",
      "execution_count": null,
      "metadata": {
        "id": "dd63463b"
      },
      "outputs": [],
      "source": [
        "def load_mnist(batch_size=32, train=True):\n",
        "\n",
        "    '''\n",
        "    Using the dataset and dataloader classes you should be able to make an MNIST set and loader\n",
        "    the loader should use the 'batch_size' argument and the dataset should use'train'\n",
        "\n",
        "    Also, the 'ToTensor' transform is given, you should set the transform of the dataset to just this\n",
        "    '''\n",
        "    to_tensor_transform = torchvision.transforms.ToTensor()\n",
        "    dataset = {\n",
        "        'train_data' : torchvision.datasets.MNIST(\n",
        "            root = \"./data\",\n",
        "            train = train,\n",
        "            transform = to_tensor_transform,\n",
        "            download = True, ),\n",
        "        'test_data' : torchvision.datasets.MNIST(\n",
        "            root = \"./data\",\n",
        "            train = False,\n",
        "            transform = to_tensor_transform,\n",
        "            download = True, )\n",
        "    }\n",
        "    dataloader = {\n",
        "        'train':torch.utils.data.DataLoader(dataset[\"train_data\"],\n",
        "                           batch_size = batch_size,\n",
        "                           shuffle = True ),\n",
        "        'test':DataLoader(dataset[\"test_data\"],\n",
        "                          batch_size=batch_size,\n",
        "                          shuffle= True)\n",
        "    }\n",
        "\n",
        "    return dataset, dataloader"
      ],
      "id": "dd63463b"
    },
    {
      "cell_type": "code",
      "execution_count": null,
      "metadata": {
        "id": "7be28bc4"
      },
      "outputs": [],
      "source": [
        "def plot_image_and_label(image, raw_output_from_model):\n",
        "\n",
        "    '''\n",
        "    Takes in an image and label and shows them using matplotlib\n",
        "    this is used to visualize the data and also the outputs of our network\n",
        "    '''\n",
        "\n",
        "    plt.imshow(image)\n",
        "    if type(raw_output_from_model) is not int:\n",
        "        _,predicted = torch.max(raw_output_from_model,1)\n",
        "#         Takes 1 highest number from the output\n",
        "        plt.title(\"Best label = \" + str(predicted.item()) + \", with Score: \" + str(round(raw_output_from_model[0][predicted].item() * 100,2)))\n",
        "    else:\n",
        "        plt.title(\"Label = \" + str(raw_output_from_model))\n",
        "    plt.show()\n",
        "    return"
      ],
      "id": "7be28bc4"
    },
    {
      "cell_type": "code",
      "execution_count": null,
      "metadata": {
        "colab": {
          "base_uri": "https://localhost:8080/",
          "height": 698,
          "referenced_widgets": [
            "571fd4d13295465fbb1fd3a3d2a509b8",
            "4b23308903054c3fbea993eed859b09e",
            "63b83f56d1194722ba0f763e36f81447",
            "5dfb2639894347f2a6a919d0cb14a177",
            "030ddf8593174d7abbe07603c73f82ed",
            "bc1a125c83fc4370bbb1e0b4c35e7974",
            "bf547d4235574942a3ea69053d686383",
            "3ef4febbd71e49b5ba1244098c5de049",
            "4140f265412d47e7bca766e3e5edba7e",
            "7c66a21a341f4b2fbda88dc010f6ae82",
            "5eec0b8ff37c41ae8d1211bead639ce3",
            "046ed0c0c35e42678fea978628d9c002",
            "582c3109a61842ca949b8381686bca06",
            "59459c9f6daa4d94b8fd546e88128da6",
            "55842fd90ff740de9f38fac81a6f3628",
            "f8f31a76d97347ecac6a30157272a5a9",
            "518f636181b442eaa7d44f8b16eb1d3f",
            "17ecb3cbad4b4e64abd235f402e9ff6a",
            "cfd912cd3f8549a48f9a8a0c4035251c",
            "520d81101899436092efa76d224774d7",
            "2355c23d5d8d4a4cb9830755998312e1",
            "5cbc7d7fd1f84478a928e404d7116af2",
            "3687b2d4f2774c45a157925d4054979d",
            "43a26638ad744a2993b944e054938957",
            "624d2a14dd3e4f9cbfaa4570f5d827b3",
            "bc6f54f305ed41e8973bb42d57c661bd",
            "ff8e7caca71042b98cc95e9c8beec316",
            "f6af70ccfe3e4d259777afb0e2b88c23",
            "a96a617bea5e4a0aa7f707c07bb9e757",
            "f3474d4f74e64883a6ab0192d2d23bf6",
            "3938e9b2142e4793be3d29bd8c6519ca",
            "51ddef43da3b420c8e5840324265d574",
            "58a19c22e8774170b18063cbdd15d413",
            "239237a4d9cf431f9c68d0cac92b3863",
            "fc7cfbab916245dfaf6521c1f700dd33",
            "3e79b3d2cb524cc89fd5f3137abca6b3",
            "72f8e87a794d406a870852dc39387e92",
            "7da8a004d4634a13a07e6581572c873d",
            "787ab0f8b2fb4f32aca0206ac98fee6a",
            "f0d88b04b6c7408e904894e357a57064",
            "5703a10a37634e4b9fa8069d9d43a20b",
            "2eedad679f434ca68ee487f396f08173",
            "838250290f7f4437aab814adaac29d04",
            "8dfbe125d92748a4b850d68392a38bac"
          ]
        },
        "id": "adcd23b7",
        "outputId": "a432f346-f77d-4539-b89f-2db77b23533c"
      },
      "outputs": [
        {
          "output_type": "stream",
          "name": "stdout",
          "text": [
            "Downloading http://yann.lecun.com/exdb/mnist/train-images-idx3-ubyte.gz\n",
            "Downloading http://yann.lecun.com/exdb/mnist/train-images-idx3-ubyte.gz to ./data/MNIST/raw/train-images-idx3-ubyte.gz\n"
          ]
        },
        {
          "output_type": "display_data",
          "data": {
            "text/plain": [
              "  0%|          | 0/9912422 [00:00<?, ?it/s]"
            ],
            "application/vnd.jupyter.widget-view+json": {
              "version_major": 2,
              "version_minor": 0,
              "model_id": "571fd4d13295465fbb1fd3a3d2a509b8"
            }
          },
          "metadata": {}
        },
        {
          "output_type": "stream",
          "name": "stdout",
          "text": [
            "Extracting ./data/MNIST/raw/train-images-idx3-ubyte.gz to ./data/MNIST/raw\n",
            "\n",
            "Downloading http://yann.lecun.com/exdb/mnist/train-labels-idx1-ubyte.gz\n",
            "Downloading http://yann.lecun.com/exdb/mnist/train-labels-idx1-ubyte.gz to ./data/MNIST/raw/train-labels-idx1-ubyte.gz\n"
          ]
        },
        {
          "output_type": "display_data",
          "data": {
            "text/plain": [
              "  0%|          | 0/28881 [00:00<?, ?it/s]"
            ],
            "application/vnd.jupyter.widget-view+json": {
              "version_major": 2,
              "version_minor": 0,
              "model_id": "046ed0c0c35e42678fea978628d9c002"
            }
          },
          "metadata": {}
        },
        {
          "output_type": "stream",
          "name": "stdout",
          "text": [
            "Extracting ./data/MNIST/raw/train-labels-idx1-ubyte.gz to ./data/MNIST/raw\n",
            "\n",
            "Downloading http://yann.lecun.com/exdb/mnist/t10k-images-idx3-ubyte.gz\n",
            "Downloading http://yann.lecun.com/exdb/mnist/t10k-images-idx3-ubyte.gz to ./data/MNIST/raw/t10k-images-idx3-ubyte.gz\n"
          ]
        },
        {
          "output_type": "display_data",
          "data": {
            "text/plain": [
              "  0%|          | 0/1648877 [00:00<?, ?it/s]"
            ],
            "application/vnd.jupyter.widget-view+json": {
              "version_major": 2,
              "version_minor": 0,
              "model_id": "3687b2d4f2774c45a157925d4054979d"
            }
          },
          "metadata": {}
        },
        {
          "output_type": "stream",
          "name": "stdout",
          "text": [
            "Extracting ./data/MNIST/raw/t10k-images-idx3-ubyte.gz to ./data/MNIST/raw\n",
            "\n",
            "Downloading http://yann.lecun.com/exdb/mnist/t10k-labels-idx1-ubyte.gz\n",
            "Downloading http://yann.lecun.com/exdb/mnist/t10k-labels-idx1-ubyte.gz to ./data/MNIST/raw/t10k-labels-idx1-ubyte.gz\n"
          ]
        },
        {
          "output_type": "display_data",
          "data": {
            "text/plain": [
              "  0%|          | 0/4542 [00:00<?, ?it/s]"
            ],
            "application/vnd.jupyter.widget-view+json": {
              "version_major": 2,
              "version_minor": 0,
              "model_id": "239237a4d9cf431f9c68d0cac92b3863"
            }
          },
          "metadata": {}
        },
        {
          "output_type": "stream",
          "name": "stdout",
          "text": [
            "Extracting ./data/MNIST/raw/t10k-labels-idx1-ubyte.gz to ./data/MNIST/raw\n",
            "\n",
            "torch.Size([1, 28, 28]) ex_image.shape\n"
          ]
        },
        {
          "output_type": "display_data",
          "data": {
            "text/plain": [
              "<Figure size 432x288 with 1 Axes>"
            ],
            "image/png": "[encoded data removed]"
          },
          "metadata": {
            "needs_background": "light"
          }
        }
      ],
      "source": [
        "# This will just test whether your dataset and loader work\n",
        "# They might still have issues, but if an example image shows here you're on the right track!\n",
        "train_data,train_dataloader = load_mnist(batch_size = 64, train = True)\n",
        "ex_image, ex_label = train_data[\"train_data\"][random.randint(0,1000)]\n",
        "print(ex_image.shape,'ex_image.shape')\n",
        "plot_image_and_label(ex_image.reshape(28,28), ex_label)"
      ],
      "id": "adcd23b7"
    },
    {
      "cell_type": "code",
      "source": [
        "#model\n",
        "class CNN(nn.Module):\n",
        "    def __init__(self):\n",
        "        super(CNN, self).__init__()\n",
        "        # (input_h - kernel_size + 2*padding )/stride +  1\n",
        "        # (input_w - kernel_size + 2*padding )/stride +  1\n",
        "        # 48*48\n",
        "        self.conv1 = nn.Sequential(\n",
        "            nn.Conv2d(\n",
        "                in_channels=1,\n",
        "                out_channels=3,\n",
        "                kernel_size=5,\n",
        "                stride=1,\n",
        "                padding=0,\n",
        "            ),\n",
        "\n",
        "            # 48 - 4  /2 + 1 =    23 : h, 23:w\n",
        "            nn.ReLU(),\n",
        "            nn.MaxPool2d(kernel_size=2),\n",
        "            #h = 12, w = 12\n",
        "        )\n",
        "        self.conv2 = nn.Sequential(\n",
        "            nn.Conv2d(in_channels = 3, out_channels=5, kernel_size=4, stride=2, padding=2),\n",
        "            # 7*7\n",
        "            nn.ReLU(),\n",
        "            nn.MaxPool2d(2),\n",
        "            #3*3\n",
        "        )\n",
        "        # fully connected layer, output 2 classes\n",
        "        self.out = nn.Linear(5 * 3 * 3, 2)\n",
        "    def forward(self, x):\n",
        "        x = self.conv1(x)\n",
        "        x = self.conv2(x)\n",
        "        #print(x.shape)\n",
        "        # flatten the output of conv2 to (batch_size, 32 * 7 * 7)\n",
        "        x = x.view(x.size(0), -1)\n",
        "        output = self.out(x)\n",
        "        return output, x    # return x for visualization\n",
        "cnn = CNN()\n",
        "print(cnn)"
      ],
      "metadata": {
        "colab": {
          "base_uri": "https://localhost:8080/"
        },
        "id": "N7j71yHI4H2x",
        "outputId": "e3d70d78-007f-4d85-a379-001e6870dab8"
      },
      "id": "N7j71yHI4H2x",
      "execution_count": null,
      "outputs": [
        {
          "output_type": "stream",
          "name": "stdout",
          "text": [
            "CNN(\n",
            "  (conv1): Sequential(\n",
            "    (0): Conv2d(1, 3, kernel_size=(5, 5), stride=(1, 1))\n",
            "    (1): ReLU()\n",
            "    (2): MaxPool2d(kernel_size=2, stride=2, padding=0, dilation=1, ceil_mode=False)\n",
            "  )\n",
            "  (conv2): Sequential(\n",
            "    (0): Conv2d(3, 5, kernel_size=(4, 4), stride=(2, 2), padding=(2, 2))\n",
            "    (1): ReLU()\n",
            "    (2): MaxPool2d(kernel_size=2, stride=2, padding=0, dilation=1, ceil_mode=False)\n",
            "  )\n",
            "  (out): Linear(in_features=45, out_features=2, bias=True)\n",
            ")\n"
          ]
        }
      ]
    },
    {
      "cell_type": "code",
      "source": [
        "# #training\n",
        "# from torch.autograd import Variable\n",
        "# num_epochs = 2\n",
        "# loss_func = nn.CrossEntropyLoss()\n",
        "# optimizer = optim.Adam(cnn.parameters(), lr = 0.01)\n",
        "# batch_size=100\n",
        "# train_dataset, train_dataloader = load_mnist(batch_size=batch_size, train=True)\n",
        "# def train(num_epochs, cnn, loaders):\n",
        "\n",
        "#     cnn.train()\n",
        "\n",
        "#     # Train the model\n",
        "#     total_step = len(train_dataloader['train'])\n",
        "\n",
        "#     for epoch in range(num_epochs):\n",
        "#         for i, (images, labels) in enumerate(loaders['train']):\n",
        "\n",
        "#             # gives batch data, normalize x when iterate train_loader\n",
        "#             b_x = Variable(images)   # batch x\n",
        "#             b_y = Variable(labels)   # batch y\n",
        "#             output = cnn(b_x)[0]\n",
        "#             loss = loss_func(output, b_y)\n",
        "\n",
        "#             # clear gradients for this training step\n",
        "#             optimizer.zero_grad()\n",
        "\n",
        "#             # backpropagation, compute gradients\n",
        "#             loss.backward()\n",
        "#             # apply gradients\n",
        "#             optimizer.step()\n",
        "\n",
        "#             if (i+1) % 100 == 0:\n",
        "#                 print ('Epoch [{}/{}], Step [{}/{}], Loss: {:.4f}'\n",
        "#                        .format(epoch + 1, num_epochs, i + 1, total_step, loss.item()))\n",
        "#                 pass\n",
        "\n",
        "#         pass\n",
        "\n",
        "\n",
        "#     pass\n",
        "# train(num_epochs, cnn, train_dataloader)"
      ],
      "metadata": {
        "colab": {
          "base_uri": "https://localhost:8080/",
          "height": 358
        },
        "id": "BGIPwJvRIU_n",
        "outputId": "5780079e-5397-411f-f96e-62deb5df47e8"
      },
      "id": "BGIPwJvRIU_n",
      "execution_count": null,
      "outputs": [
        {
          "output_type": "error",
          "ename": "IndexError",
          "evalue": "ignored",
          "traceback": [
            "\u001b[0;31m---------------------------------------------------------------------------\u001b[0m",
            "\u001b[0;31mIndexError\u001b[0m                                Traceback (most recent call last)",
            "\u001b[0;32m<ipython-input-7-4a9d38efbc8c>\u001b[0m in \u001b[0;36m<module>\u001b[0;34m()\u001b[0m\n\u001b[1;32m     39\u001b[0m \u001b[0;34m\u001b[0m\u001b[0m\n\u001b[1;32m     40\u001b[0m     \u001b[0;32mpass\u001b[0m\u001b[0;34m\u001b[0m\u001b[0;34m\u001b[0m\u001b[0m\n\u001b[0;32m---> 41\u001b[0;31m \u001b[0mtrain\u001b[0m\u001b[0;34m(\u001b[0m\u001b[0mnum_epochs\u001b[0m\u001b[0;34m,\u001b[0m \u001b[0mcnn\u001b[0m\u001b[0;34m,\u001b[0m \u001b[0mtrain_dataloader\u001b[0m\u001b[0;34m)\u001b[0m\u001b[0;34m\u001b[0m\u001b[0;34m\u001b[0m\u001b[0m\n\u001b[0m",
            "\u001b[0;32m<ipython-input-7-4a9d38efbc8c>\u001b[0m in \u001b[0;36mtrain\u001b[0;34m(num_epochs, cnn, loaders)\u001b[0m\n\u001b[1;32m     20\u001b[0m             \u001b[0mb_y\u001b[0m \u001b[0;34m=\u001b[0m \u001b[0mVariable\u001b[0m\u001b[0;34m(\u001b[0m\u001b[0mlabels\u001b[0m\u001b[0;34m)\u001b[0m   \u001b[0;31m# batch y\u001b[0m\u001b[0;34m\u001b[0m\u001b[0;34m\u001b[0m\u001b[0m\n\u001b[1;32m     21\u001b[0m             \u001b[0moutput\u001b[0m \u001b[0;34m=\u001b[0m \u001b[0mcnn\u001b[0m\u001b[0;34m(\u001b[0m\u001b[0mb_x\u001b[0m\u001b[0;34m)\u001b[0m\u001b[0;34m[\u001b[0m\u001b[0;36m0\u001b[0m\u001b[0;34m]\u001b[0m\u001b[0;34m\u001b[0m\u001b[0;34m\u001b[0m\u001b[0m\n\u001b[0;32m---> 22\u001b[0;31m             \u001b[0mloss\u001b[0m \u001b[0;34m=\u001b[0m \u001b[0mloss_func\u001b[0m\u001b[0;34m(\u001b[0m\u001b[0moutput\u001b[0m\u001b[0;34m,\u001b[0m \u001b[0mb_y\u001b[0m\u001b[0;34m)\u001b[0m\u001b[0;34m\u001b[0m\u001b[0;34m\u001b[0m\u001b[0m\n\u001b[0m\u001b[1;32m     23\u001b[0m \u001b[0;34m\u001b[0m\u001b[0m\n\u001b[1;32m     24\u001b[0m             \u001b[0;31m# clear gradients for this training step\u001b[0m\u001b[0;34m\u001b[0m\u001b[0;34m\u001b[0m\u001b[0;34m\u001b[0m\u001b[0m\n",
            "\u001b[0;32m/usr/local/lib/python3.7/dist-packages/torch/nn/modules/module.py\u001b[0m in \u001b[0;36m_call_impl\u001b[0;34m(self, *input, **kwargs)\u001b[0m\n\u001b[1;32m   1100\u001b[0m         if not (self._backward_hooks or self._forward_hooks or self._forward_pre_hooks or _global_backward_hooks\n\u001b[1;32m   1101\u001b[0m                 or _global_forward_hooks or _global_forward_pre_hooks):\n\u001b[0;32m-> 1102\u001b[0;31m             \u001b[0;32mreturn\u001b[0m \u001b[0mforward_call\u001b[0m\u001b[0;34m(\u001b[0m\u001b[0;34m*\u001b[0m\u001b[0minput\u001b[0m\u001b[0;34m,\u001b[0m \u001b[0;34m**\u001b[0m\u001b[0mkwargs\u001b[0m\u001b[0;34m)\u001b[0m\u001b[0;34m\u001b[0m\u001b[0;34m\u001b[0m\u001b[0m\n\u001b[0m\u001b[1;32m   1103\u001b[0m         \u001b[0;31m# Do not call functions when jit is used\u001b[0m\u001b[0;34m\u001b[0m\u001b[0;34m\u001b[0m\u001b[0;34m\u001b[0m\u001b[0m\n\u001b[1;32m   1104\u001b[0m         \u001b[0mfull_backward_hooks\u001b[0m\u001b[0;34m,\u001b[0m \u001b[0mnon_full_backward_hooks\u001b[0m \u001b[0;34m=\u001b[0m \u001b[0;34m[\u001b[0m\u001b[0;34m]\u001b[0m\u001b[0;34m,\u001b[0m \u001b[0;34m[\u001b[0m\u001b[0;34m]\u001b[0m\u001b[0;34m\u001b[0m\u001b[0;34m\u001b[0m\u001b[0m\n",
            "\u001b[0;32m/usr/local/lib/python3.7/dist-packages/torch/nn/modules/loss.py\u001b[0m in \u001b[0;36mforward\u001b[0;34m(self, input, target)\u001b[0m\n\u001b[1;32m   1150\u001b[0m         return F.cross_entropy(input, target, weight=self.weight,\n\u001b[1;32m   1151\u001b[0m                                \u001b[0mignore_index\u001b[0m\u001b[0;34m=\u001b[0m\u001b[0mself\u001b[0m\u001b[0;34m.\u001b[0m\u001b[0mignore_index\u001b[0m\u001b[0;34m,\u001b[0m \u001b[0mreduction\u001b[0m\u001b[0;34m=\u001b[0m\u001b[0mself\u001b[0m\u001b[0;34m.\u001b[0m\u001b[0mreduction\u001b[0m\u001b[0;34m,\u001b[0m\u001b[0;34m\u001b[0m\u001b[0;34m\u001b[0m\u001b[0m\n\u001b[0;32m-> 1152\u001b[0;31m                                label_smoothing=self.label_smoothing)\n\u001b[0m\u001b[1;32m   1153\u001b[0m \u001b[0;34m\u001b[0m\u001b[0m\n\u001b[1;32m   1154\u001b[0m \u001b[0;34m\u001b[0m\u001b[0m\n",
            "\u001b[0;32m/usr/local/lib/python3.7/dist-packages/torch/nn/functional.py\u001b[0m in \u001b[0;36mcross_entropy\u001b[0;34m(input, target, weight, size_average, ignore_index, reduce, reduction, label_smoothing)\u001b[0m\n\u001b[1;32m   2844\u001b[0m     \u001b[0;32mif\u001b[0m \u001b[0msize_average\u001b[0m \u001b[0;32mis\u001b[0m \u001b[0;32mnot\u001b[0m \u001b[0;32mNone\u001b[0m \u001b[0;32mor\u001b[0m \u001b[0mreduce\u001b[0m \u001b[0;32mis\u001b[0m \u001b[0;32mnot\u001b[0m \u001b[0;32mNone\u001b[0m\u001b[0;34m:\u001b[0m\u001b[0;34m\u001b[0m\u001b[0;34m\u001b[0m\u001b[0m\n\u001b[1;32m   2845\u001b[0m         \u001b[0mreduction\u001b[0m \u001b[0;34m=\u001b[0m \u001b[0m_Reduction\u001b[0m\u001b[0;34m.\u001b[0m\u001b[0mlegacy_get_string\u001b[0m\u001b[0;34m(\u001b[0m\u001b[0msize_average\u001b[0m\u001b[0;34m,\u001b[0m \u001b[0mreduce\u001b[0m\u001b[0;34m)\u001b[0m\u001b[0;34m\u001b[0m\u001b[0;34m\u001b[0m\u001b[0m\n\u001b[0;32m-> 2846\u001b[0;31m     \u001b[0;32mreturn\u001b[0m \u001b[0mtorch\u001b[0m\u001b[0;34m.\u001b[0m\u001b[0m_C\u001b[0m\u001b[0;34m.\u001b[0m\u001b[0m_nn\u001b[0m\u001b[0;34m.\u001b[0m\u001b[0mcross_entropy_loss\u001b[0m\u001b[0;34m(\u001b[0m\u001b[0minput\u001b[0m\u001b[0;34m,\u001b[0m \u001b[0mtarget\u001b[0m\u001b[0;34m,\u001b[0m \u001b[0mweight\u001b[0m\u001b[0;34m,\u001b[0m \u001b[0m_Reduction\u001b[0m\u001b[0;34m.\u001b[0m\u001b[0mget_enum\u001b[0m\u001b[0;34m(\u001b[0m\u001b[0mreduction\u001b[0m\u001b[0;34m)\u001b[0m\u001b[0;34m,\u001b[0m \u001b[0mignore_index\u001b[0m\u001b[0;34m,\u001b[0m \u001b[0mlabel_smoothing\u001b[0m\u001b[0;34m)\u001b[0m\u001b[0;34m\u001b[0m\u001b[0;34m\u001b[0m\u001b[0m\n\u001b[0m\u001b[1;32m   2847\u001b[0m \u001b[0;34m\u001b[0m\u001b[0m\n\u001b[1;32m   2848\u001b[0m \u001b[0;34m\u001b[0m\u001b[0m\n",
            "\u001b[0;31mIndexError\u001b[0m: Target 7 is out of bounds."
          ]
        }
      ]
    },
    {
      "cell_type": "code",
      "source": [
        "def test():\n",
        "    # Test the model\n",
        "    test_dataset, test_dataloader = load_mnist(batch_size=batch_size, train=False)\n",
        "    cnn.eval()\n",
        "    accuracy = 0\n",
        "    with torch.no_grad():\n",
        "        correct = 0\n",
        "        total = 0\n",
        "        for ex_image, ex_label in test_dataloader['test']:\n",
        "            test_output, last_layer = cnn(ex_image)\n",
        "            pred_y = torch.max(test_output, 1)[1].data.squeeze()\n",
        "\n",
        "            accuracy = (pred_y == ex_label).sum().item() / float(ex_label.size(0))\n",
        "\n",
        "            pass\n",
        "        print('Test Accuracy of the model on the 10000 test images: {}'.format(accuracy))\n",
        "        pass\n",
        "test()"
      ],
      "metadata": {
        "colab": {
          "base_uri": "https://localhost:8080/"
        },
        "id": "7Mf0_M9zS1OT",
        "outputId": "d879fc68-6c03-476e-b612-c625e643ef43"
      },
      "id": "7Mf0_M9zS1OT",
      "execution_count": null,
      "outputs": [
        {
          "output_type": "stream",
          "name": "stdout",
          "text": [
            "Test Accuracy of the model on the 10000 test images: 0.13\n"
          ]
        }
      ]
    },
    {
      "cell_type": "code",
      "source": [
        "bits = []\n",
        "def generateAllBinaryStrings(n, arr, i,num):\n",
        "    if i == n:\n",
        "        key = ''.join([str(i) for i in arr])\n",
        "        bits.append(key)\n",
        "        num += 1\n",
        "        return\n",
        "\n",
        "    # First assign \"0\" at ith position\n",
        "    # and try for all other permutations\n",
        "    # for remaining positions\n",
        "    arr[i] = 0\n",
        "    generateAllBinaryStrings(n, arr, i + 1,num+1)\n",
        "\n",
        "    # And then assign \"1\" at ith position\n",
        "    # and try for all other permutations\n",
        "    # for remaining positions\n",
        "    arr[i] = 1\n",
        "    generateAllBinaryStrings(n, arr, i + 1,num+1)\n",
        "num = 0\n",
        "generateAllBinaryStrings(4,[0]*4 , 0,num)"
      ],
      "metadata": {
        "id": "Zm2E0xVygO3v"
      },
      "id": "Zm2E0xVygO3v",
      "execution_count": null,
      "outputs": []
    },
    {
      "cell_type": "code",
      "execution_count": null,
      "metadata": {
        "colab": {
          "base_uri": "https://localhost:8080/"
        },
        "id": "4502a269",
        "outputId": "aacad32b-756d-4521-9d48-d1b3bdf431a2"
      },
      "outputs": [
        {
          "output_type": "stream",
          "name": "stdout",
          "text": [
            "['0000', '0001', '0010', '0011', '0100', '0101', '0110', '0111', '1000', '1001', '1010', '1011', '1100', '1101', '1110', '1111']\n",
            "{0: '0000', 1: '0001', 2: '0010', 3: '0011', 4: '0100', 5: '0101', 6: '0110', 7: '0111', 8: '1000', 9: '1001', 10: '1010', 11: '1011', 12: '1100', 13: '1101', 14: '1110', 15: '1111'}\n"
          ]
        }
      ],
      "source": [
        "print(bits)\n",
        "mapping = {}\n",
        "curr_index = 0\n",
        "invMapping = {}\n",
        "for index,bit in enumerate(bits):\n",
        "    mapping[index] = bit\n",
        "    invMapping[bit] = index\n",
        "print(mapping)\n",
        "# Unbalanced : ['0000', '0001', '0010', '0011', '0100', '0101', '0110', '0111', '1000', '1001', '1010', '1011', '1100', '1101', '1110', '1111']\n",
        "# {0: '1111', 1: '0001', 2: '0010', 3: '0011', 4: '0100', 5: '0101', 6: '0110', 7: '0111', 8: '1000', 9: '1001' # Balanced :"
      ],
      "id": "4502a269"
    },
    {
      "cell_type": "code",
      "execution_count": null,
      "metadata": {
        "id": "c32440bd"
      },
      "outputs": [],
      "source": [
        "def training(modelname,model, loss_function, optimizer, train_dataloader, n_epochs, update_interval):\n",
        "\n",
        "    '''\n",
        "    Updates the parameters of the given model using the optimizer of choice to\n",
        "    reduce the given loss_function\n",
        "\n",
        "    This will iterate over the dataloader 'n_epochs' times training on each batch of images\n",
        "\n",
        "    To get the gradient (which is stored internally in the model) use .backward() from the loss tensor\n",
        "    and to apply it use .step() on the optimizer\n",
        "\n",
        "    In between steps you need to zero the gradient so it can be recalculated -- use .zero_grad for this\n",
        "    '''\n",
        "\n",
        "    losses = []\n",
        "    part_loss = []\n",
        "    for n in range(n_epochs):\n",
        "        for i, (image, label) in enumerate(tqdm(iter(train_dataloader[\"train\"]))):\n",
        "\n",
        "            # TODO Complete the training loop using the instructions above\n",
        "            # Hint: the above code essentially does one training step\n",
        "\n",
        "            ##############################################################\n",
        "            optimizer.zero_grad()\n",
        "            my_output = model(image)\n",
        "            if modelname == 'model1':\n",
        "                new_label = torch.Tensor([int(mapping[int(l)][0]) for l in label]).long()\n",
        "            elif modelname == 'model2':\n",
        "                new_label = torch.Tensor([int(mapping[int(l)][1]) for l in label]).long()\n",
        "            elif modelname == 'model3':\n",
        "                new_label = torch.Tensor([int(mapping[int(l)][2]) for l in label]).long()\n",
        "            elif modelname == 'model4':\n",
        "                new_label = torch.Tensor([int(mapping[int(l)][3]) for l in label]).long()\n",
        "            elif modelname == 'model':\n",
        "                new_label = label\n",
        "            loss = loss_function(my_output,new_label)\n",
        "            loss.backward()\n",
        "            optimizer.step()\n",
        "            part_loss.append(loss.item())\n",
        "            ##############################################################\n",
        "\n",
        "            if i % update_interval == 0:\n",
        "                losses.append(sum(part_loss)/len(part_loss)) # This will append your losses for plotting -- please use \"loss\" as the name for your loss\n",
        "#                 part_loss = []\n",
        "    return model, losses"
      ],
      "id": "c32440bd"
    },
    {
      "cell_type": "code",
      "execution_count": null,
      "metadata": {
        "colab": {
          "base_uri": "https://localhost:8080/"
        },
        "id": "vTBrJRHTiH-A",
        "outputId": "4cc3e197-a1e3-4445-8e20-25bfb084ada8"
      },
      "outputs": [
        {
          "output_type": "stream",
          "name": "stdout",
          "text": [
            "testing the previously trained model on test dataset of MNIST\n"
          ]
        }
      ],
      "source": [
        "print(\"testing the previously trained model on test dataset of MNIST\")\n",
        "ftest_dataset, test_dataloader = load_mnist(batch_size=10000, train=False)"
      ],
      "id": "vTBrJRHTiH-A"
    },
    {
      "cell_type": "code",
      "execution_count": null,
      "metadata": {
        "id": "WUxGkM22hv_8"
      },
      "outputs": [],
      "source": [
        "def testing(modelname, model, loss_function, test_data):\n",
        "    sum_loss = 0\n",
        "    n_correct = 0\n",
        "    total = 0\n",
        "    for i, (image, label) in enumerate(tqdm(iter(test_data[\"test_data\"]))):\n",
        "        pred = model(image)\n",
        "        if modelname == 'model1':\n",
        "            new_label =  torch.Tensor([int(mapping[int(l)][0]) for l in label]).long()\n",
        "        elif modelname == 'model2':\n",
        "            new_label = torch.Tensor([int(mapping[int(l)][1]) for l in label]).long()\n",
        "        elif modelname == 'model3':\n",
        "            new_label = torch.Tensor([int(mapping[int(l)][2]) for l in label]).long()\n",
        "        elif modelname == 'model4':\n",
        "            new_label = torch.Tensor([int(mapping[int(l)][3]) for l in label]).long()\n",
        "        elif modelname == 'model':\n",
        "            new_label = label\n",
        "        loss = loss_function(pred,new_label)\n",
        "        sum_loss += loss.item()\n",
        "        _, predicted = torch.max(pred,1)\n",
        "        n_correct += (predicted == new_label).sum()\n",
        "        total += new_label.size(0)\n",
        "\n",
        "    test_acc = round(((n_correct / total).item() * 100), 2)\n",
        "    avg_loss = round(sum_loss / len(test_data), 2)\n",
        "\n",
        "    print(\"test accuracy:\", test_acc)\n",
        "    print(\"test loss:\", avg_loss )\n",
        "\n",
        "    return test_acc, avg_loss"
      ],
      "id": "WUxGkM22hv_8"
    },
    {
      "cell_type": "code",
      "execution_count": null,
      "metadata": {
        "id": "c2a16afd"
      },
      "outputs": [],
      "source": [
        "# Plug in your model, loss function, and optimizer\n",
        "# Try out different hyperparameters and different models to see how they perform\n",
        "\n",
        "lr = 0.0009          # The size of the step taken when doing gradient descent 0.01 0.001 0.0001\n",
        "batch_size = 500        # The number of images being trained on at once\n",
        "update_interval = 100   # The number of batches trained on before recording loss\n",
        "n_epochs = 10           # The number of times we train through the entire dataset 5 10 15\n",
        "\n",
        "train_dataset, train_dataloader = load_mnist(batch_size=batch_size, train=True)\n",
        "model1 = CNN()\n",
        "# model = MyMLP(784, 2)\n",
        "loss_function = nn.CrossEntropyLoss()\n",
        "optimizer = torch.optim.Adam(model1.parameters(), lr=lr)\n",
        "\n",
        "\n"
      ],
      "id": "c2a16afd"
    },
    {
      "cell_type": "code",
      "execution_count": null,
      "metadata": {
        "colab": {
          "base_uri": "https://localhost:8080/",
          "height": 368
        },
        "id": "f579218b",
        "outputId": "d85c9245-e962-4b1b-b85c-f65d15fb0d4f"
      },
      "outputs": [
        {
          "output_type": "stream",
          "name": "stderr",
          "text": [
            "  0%|          | 0/120 [00:00<?, ?it/s]\n"
          ]
        },
        {
          "output_type": "error",
          "ename": "TypeError",
          "evalue": "ignored",
          "traceback": [
            "\u001b[0;31m---------------------------------------------------------------------------\u001b[0m",
            "\u001b[0;31mTypeError\u001b[0m                                 Traceback (most recent call last)",
            "\u001b[0;32m<ipython-input-48-f779e2e21b04>\u001b[0m in \u001b[0;36m<module>\u001b[0;34m()\u001b[0m\n\u001b[1;32m      1\u001b[0m \u001b[0;31m# Training Model 1\u001b[0m\u001b[0;34m\u001b[0m\u001b[0;34m\u001b[0m\u001b[0;34m\u001b[0m\u001b[0m\n\u001b[1;32m      2\u001b[0m \u001b[0;34m\u001b[0m\u001b[0m\n\u001b[0;32m----> 3\u001b[0;31m \u001b[0mtrained_model1\u001b[0m\u001b[0;34m,\u001b[0m \u001b[0mlosses1\u001b[0m \u001b[0;34m=\u001b[0m \u001b[0mtraining\u001b[0m\u001b[0;34m(\u001b[0m\u001b[0;34m'model1'\u001b[0m\u001b[0;34m,\u001b[0m\u001b[0mmodel1\u001b[0m\u001b[0;34m,\u001b[0m \u001b[0moptimizer\u001b[0m\u001b[0;34m,\u001b[0m \u001b[0mloss_function\u001b[0m\u001b[0;34m,\u001b[0m \u001b[0mtrain_dataloader\u001b[0m\u001b[0;34m,\u001b[0m \u001b[0mn_epochs\u001b[0m\u001b[0;34m=\u001b[0m\u001b[0mn_epochs\u001b[0m\u001b[0;34m,\u001b[0m \u001b[0mupdate_interval\u001b[0m\u001b[0;34m=\u001b[0m\u001b[0mupdate_interval\u001b[0m\u001b[0;34m)\u001b[0m\u001b[0;34m\u001b[0m\u001b[0;34m\u001b[0m\u001b[0m\n\u001b[0m\u001b[1;32m      4\u001b[0m \u001b[0;34m\u001b[0m\u001b[0m\n\u001b[1;32m      5\u001b[0m \u001b[0mplt\u001b[0m\u001b[0;34m.\u001b[0m\u001b[0mplot\u001b[0m\u001b[0;34m(\u001b[0m\u001b[0mnp\u001b[0m\u001b[0;34m.\u001b[0m\u001b[0marange\u001b[0m\u001b[0;34m(\u001b[0m\u001b[0mlen\u001b[0m\u001b[0;34m(\u001b[0m\u001b[0mlosses1\u001b[0m\u001b[0;34m)\u001b[0m\u001b[0;34m)\u001b[0m \u001b[0;34m*\u001b[0m \u001b[0mbatch_size\u001b[0m \u001b[0;34m*\u001b[0m \u001b[0mupdate_interval\u001b[0m\u001b[0;34m,\u001b[0m \u001b[0mlosses1\u001b[0m\u001b[0;34m)\u001b[0m\u001b[0;34m\u001b[0m\u001b[0;34m\u001b[0m\u001b[0m\n",
            "\u001b[0;32m<ipython-input-46-4d8b6587fbf6>\u001b[0m in \u001b[0;36mtraining\u001b[0;34m(modelname, model, loss_function, optimizer, train_dataloader, n_epochs, update_interval)\u001b[0m\n\u001b[1;32m     34\u001b[0m             \u001b[0;32melif\u001b[0m \u001b[0mmodelname\u001b[0m \u001b[0;34m==\u001b[0m \u001b[0;34m'model'\u001b[0m\u001b[0;34m:\u001b[0m\u001b[0;34m\u001b[0m\u001b[0;34m\u001b[0m\u001b[0m\n\u001b[1;32m     35\u001b[0m                 \u001b[0mnew_label\u001b[0m \u001b[0;34m=\u001b[0m \u001b[0mlabel\u001b[0m\u001b[0;34m\u001b[0m\u001b[0;34m\u001b[0m\u001b[0m\n\u001b[0;32m---> 36\u001b[0;31m             \u001b[0mloss\u001b[0m \u001b[0;34m=\u001b[0m \u001b[0mloss_function\u001b[0m\u001b[0;34m(\u001b[0m\u001b[0mmy_output\u001b[0m\u001b[0;34m,\u001b[0m\u001b[0mnew_label\u001b[0m\u001b[0;34m)\u001b[0m\u001b[0;34m\u001b[0m\u001b[0;34m\u001b[0m\u001b[0m\n\u001b[0m\u001b[1;32m     37\u001b[0m             \u001b[0mloss\u001b[0m\u001b[0;34m.\u001b[0m\u001b[0mbackward\u001b[0m\u001b[0;34m(\u001b[0m\u001b[0;34m)\u001b[0m\u001b[0;34m\u001b[0m\u001b[0;34m\u001b[0m\u001b[0m\n\u001b[1;32m     38\u001b[0m             \u001b[0moptimizer\u001b[0m\u001b[0;34m.\u001b[0m\u001b[0mstep\u001b[0m\u001b[0;34m(\u001b[0m\u001b[0;34m)\u001b[0m\u001b[0;34m\u001b[0m\u001b[0;34m\u001b[0m\u001b[0m\n",
            "\u001b[0;31mTypeError\u001b[0m: 'Adam' object is not callable"
          ]
        }
      ],
      "source": [
        "# Training Model 1\n",
        "\n",
        "trained_model1, losses1 = training('model1',model1, optimizer, loss_function, train_dataloader, n_epochs=n_epochs, update_interval=update_interval)\n",
        "\n",
        "plt.plot(np.arange(len(losses1)) * batch_size * update_interval, losses1)\n",
        "plt.title(\"training curve1\")\n",
        "plt.xlabel(\"number of images trained on\")\n",
        "plt.ylabel(\"loss\")\n",
        "plt.show()\n"
      ],
      "id": "f579218b"
    },
    {
      "cell_type": "code",
      "execution_count": null,
      "metadata": {
        "id": "Py95HPXyhsjr"
      },
      "outputs": [],
      "source": [
        "loss_function# Testing Model1\n",
        "_,_ = testing('model1', trained_model1, loss_function, test_dataloader)\n"
      ],
      "id": "Py95HPXyhsjr"
    },
    {
      "cell_type": "code",
      "execution_count": null,
      "metadata": {
        "id": "T6eTuCwRpPb1"
      },
      "outputs": [],
      "source": [
        "#hyperparameter tuning model1\n",
        "import math\n",
        "def grid_search(model,input_shape,compression_size,test_data):\n",
        "    \"\"\"\n",
        "    model : Trained model\n",
        "    test_data : test data = dataset[30000//batch_size:]\n",
        "    input_shape :input size of images\n",
        "    compression_size :  size of bottleneck\n",
        "    \"\"\"\n",
        "    e = math.e\n",
        "    learning_rate = [0.0008,0.0009,0.00095]\n",
        "    n_epochs_lst = [5,10,15]\n",
        "    batch_size_lst = [200,300,500,800,1000]\n",
        "    loss_function = nn.CrossEntropyLoss()\n",
        "    accuracy = float('-inf')\n",
        "    best_lr = 0\n",
        "    update_interval = 100\n",
        "    best_batch = 0\n",
        "    best_n_epochs = 0\n",
        "    for lr in learning_rate:\n",
        "        optimizer = torch.optim.Adam(model.parameters(), lr=lr)\n",
        "        for n_epochs in n_epochs_lst :\n",
        "            trained_model, losses = training('model1',model, loss_function, optimizer, train_dataloader, n_epochs, update_interval)\n",
        "            for batch_size in batch_size_lst:\n",
        "                print(batch_size)\n",
        "                print(lr)\n",
        "                print(n_epochs)\n",
        "                test_loss, test_accuracy = testing('model1', model, loss_function, test_dataloader)\n",
        "                if test_accuracy >= accuracy:\n",
        "                    best_lr = lr\n",
        "                    best_batch = batch_size\n",
        "                    best_n_epochs = n_epochs\n",
        "                    accuracy = test_accuracy\n",
        "\n",
        "    return best_lr , best_batch, best_n_epochs,test_accuracy\n",
        "\n",
        "best_lr,best_batch_size, best_n_epochs,best_acc = grid_search(trained_model1, 784, 2, test_dataset)\n",
        "print(best_lr,best_batch_size, best_n_epochs, best_acc)"
      ],
      "id": "T6eTuCwRpPb1"
    },
    {
      "cell_type": "code",
      "execution_count": null,
      "metadata": {
        "id": "e9pWUz0R4JVQ"
      },
      "outputs": [],
      "source": [
        "# lr = 0.0008      # The size of the step taken when doing gradient descent\n",
        "# batch_size =500      # The number of images being trained on at once\n",
        "# update_interval = 100   # The number of batches trained on before recording loss\n",
        "# n_epochs = 10\n",
        "# test_accuracy, test_loss = testing('model1', model, loss_function, test_dataloader)\n",
        "# print(test_loss, test_accuracy)\n",
        "# print(best_lr,loss,test_accuracy)"
      ],
      "id": "e9pWUz0R4JVQ"
    },
    {
      "cell_type": "code",
      "execution_count": null,
      "metadata": {
        "id": "481b1ad5"
      },
      "outputs": [],
      "source": [
        "lr = 0.0009       # The size of the step taken when doing gradient descent\n",
        "batch_size = 1000  # The number of images being trained on at once\n",
        "update_interval = 100   # The number of batches trained on before recording loss\n",
        "n_epochs = 10         # The number of times we train through the entire dataset\n",
        "\n",
        "train_dataset, train_dataloader = load_mnist(batch_size=batch_size, train=True)\n",
        "\n",
        "model = MyMLP(784, 2)\n",
        "loss_function = nn.CrossEntropyLoss()\n"
      ],
      "id": "481b1ad5"
    },
    {
      "cell_type": "code",
      "execution_count": null,
      "metadata": {
        "id": "6ca882a2"
      },
      "outputs": [],
      "source": [
        "# Training Model 2\n",
        "model2 = MyMLP(784, 2)\n",
        "optimizer = torch.optim.Adam(model2.parameters(), lr=lr)\n",
        "trained_model2, losses2 = training('model2',model2, loss_function, optimizer, train_dataloader, n_epochs=n_epochs, update_interval=update_interval)\n",
        "\n",
        "plt.plot(np.arange(len(losses2)) * batch_size * update_interval, losses2)\n",
        "plt.title(\"training curve2\")\n",
        "plt.xlabel(\"number of images trained on\")\n",
        "plt.ylabel(\"loss\")\n",
        "plt.show()\n"
      ],
      "id": "6ca882a2"
    },
    {
      "cell_type": "code",
      "execution_count": null,
      "metadata": {
        "id": "Xa-8-zbpiAW1"
      },
      "outputs": [],
      "source": [
        "# Testing Model2\n",
        "_,_ = testing('model2', trained_model2, loss_function, test_dataloader)\n"
      ],
      "id": "Xa-8-zbpiAW1"
    },
    {
      "cell_type": "code",
      "execution_count": null,
      "metadata": {
        "id": "YSK4vLGhybZS"
      },
      "outputs": [],
      "source": [
        "# Model2 Hyperparameter Tuning\n",
        "def grid_search(model,input_shape,compression_size,test_data):\n",
        "    \"\"\"\n",
        "    model : Trained model\n",
        "    test_data : test data = dataset[30000//batch_size:]\n",
        "    input_shape :input size of images\n",
        "    compression_size :  size of bottleneck\n",
        "    \"\"\"\n",
        "    e = math.e\n",
        "    learning_rate = [0.0008,0.0009,0.009,0.00001,0.001]\n",
        "    n_epochs_lst = [5,10,8,3]\n",
        "    batch_size_lst = [120,300,500,800,1000]\n",
        "    loss_function = nn.CrossEntropyLoss()\n",
        "    loss = float('inf')\n",
        "    best_lr = 0\n",
        "    update_interval = 100\n",
        "    best_batch = 0\n",
        "    best_n_epochs = 0\n",
        "    for lr in learning_rate:\n",
        "        optimizer = torch.optim.Adam(model.parameters(), lr=lr)\n",
        "        for n_epochs in n_epochs_lst :\n",
        "            trained_model, losses = training('model2',model, loss_function, optimizer, train_dataloader, n_epochs, update_interval)\n",
        "            for batch_size in batch_size_lst:\n",
        "                print(batch_size)\n",
        "                print(lr)\n",
        "                print(n_epochs)\n",
        "                test_loss, test_accuracy = testing('model2', model, loss_function, test_dataloader)\n",
        "                if test_loss <= loss:\n",
        "                    best_lr = lr\n",
        "                    best_batch = batch_size\n",
        "                    best_n_epochs = n_epochs\n",
        "                    loss = test_loss\n",
        "\n",
        "    return best_lr , best_batch, best_n_epochs,loss\n",
        "\n",
        "best_lr,best_batch_size, best_n_epochs,loss = grid_search(trained_model2, 784, 2, test_dataset)\n",
        "print(best_lr,best_batch_size, best_n_epochs, loss)"
      ],
      "id": "YSK4vLGhybZS"
    },
    {
      "cell_type": "code",
      "execution_count": null,
      "metadata": {
        "id": "562f58aa"
      },
      "outputs": [],
      "source": [
        "lr = 0.0008            # The size of the step taken when doing gradient descent\n",
        "batch_size = 128        # The number of images being trained on at once\n",
        "update_interval = 100   # The number of batches trained on before recording loss\n",
        "n_epochs = 3            # The number of times we train through the entire dataset\n",
        "\n",
        "train_dataset, train_dataloader = load_mnist(batch_size=batch_size, train=True)\n",
        "\n",
        "model = MyMLP(784, 2)\n",
        "loss_function = nn.CrossEntropyLoss()\n"
      ],
      "id": "562f58aa"
    },
    {
      "cell_type": "code",
      "execution_count": null,
      "metadata": {
        "id": "ecea8daf"
      },
      "outputs": [],
      "source": [
        "# Training Model 3\n",
        "model3 = MyMLP(784, 2)\n",
        "optimizer = torch.optim.Adam(model3.parameters(), lr=lr)\n",
        "trained_model3, losses3 = training('model3',model3, loss_function, optimizer, train_dataloader, n_epochs=n_epochs, update_interval=update_interval)\n",
        "\n",
        "plt.plot(np.arange(len(losses3)) * batch_size * update_interval, losses3)\n",
        "plt.title(\"training curve3\")\n",
        "plt.xlabel(\"number of images trained on\")\n",
        "plt.ylabel(\"loss\")\n",
        "plt.show()\n"
      ],
      "id": "ecea8daf"
    },
    {
      "cell_type": "code",
      "execution_count": null,
      "metadata": {
        "id": "ZjGVOkqNiDWI"
      },
      "outputs": [],
      "source": [
        "# Testing Model3\n",
        "_,_ = testing('model3' ,trained_model3, loss_function, test_dataloader)"
      ],
      "id": "ZjGVOkqNiDWI"
    },
    {
      "cell_type": "code",
      "execution_count": null,
      "metadata": {
        "id": "RQajExZw2Pnq"
      },
      "outputs": [],
      "source": [
        "# Model3 Hyperparameter Tuning\n",
        "def grid_search(model,input_shape,compression_size,test_data):\n",
        "    \"\"\"\n",
        "    model : Trained model\n",
        "    test_data : test data = dataset[30000//batch_size:]\n",
        "    input_shape :input size of images\n",
        "    compression_size :  size of bottleneck\n",
        "    \"\"\"\n",
        "    e = math.e\n",
        "    learning_rate = [0.0008,0.0009,0.00095,0.0001]\n",
        "    n_epochs_lst = [5,10,15]\n",
        "    batch_size_lst = [500,800,1000,1300,1500]\n",
        "    loss_function = nn.CrossEntropyLoss()\n",
        "    loss = float('inf')\n",
        "    best_lr = 0\n",
        "    update_interval = 100\n",
        "    best_batch = 0\n",
        "    best_n_epochs = 0\n",
        "    for lr in learning_rate:\n",
        "        optimizer = torch.optim.Adam(model.parameters(), lr=lr)\n",
        "        for n_epochs in n_epochs_lst :\n",
        "            trained_model, losses = training('model3',model, loss_function, optimizer, train_dataloader, n_epochs, update_interval)\n",
        "            for batch_size in batch_size_lst:\n",
        "                print(batch_size)\n",
        "                print(lr)\n",
        "                print(n_epochs)\n",
        "                test_loss, test_accuracy = testing('model3', model, loss_function, test_dataloader)\n",
        "                if test_loss <= loss:\n",
        "                    best_lr = lr\n",
        "                    best_batch = batch_size\n",
        "                    best_n_epochs = n_epochs\n",
        "                    loss = test_loss\n",
        "\n",
        "    return best_lr , best_batch, best_n_epochs,loss\n",
        "\n",
        "best_lr,best_batch_size, best_n_epochs,loss = grid_search(trained_model3, 784, 2, test_dataset)\n",
        "print(best_lr,best_batch_size, best_n_epochs, loss)"
      ],
      "id": "RQajExZw2Pnq"
    },
    {
      "cell_type": "code",
      "execution_count": null,
      "metadata": {
        "id": "f0906925"
      },
      "outputs": [],
      "source": [
        "lr = 0.0008            # The size of the step taken when doing gradient descent\n",
        "batch_size = 128        # The number of images being trained on at once\n",
        "update_interval = 100   # The number of batches trained on before recording loss\n",
        "n_epochs = 3            # The number of times we train through the entire dataset\n",
        "\n",
        "train_dataset, train_dataloader = load_mnist(batch_size=batch_size, train=True)\n",
        "\n",
        "model4 = MyMLP(784, 2)\n",
        "loss_function = nn.CrossEntropyLoss()\n",
        "optimizer = torch.optim.Adam(model4.parameters(), lr=lr)"
      ],
      "id": "f0906925"
    },
    {
      "cell_type": "code",
      "execution_count": null,
      "metadata": {
        "id": "c621ddd3"
      },
      "outputs": [],
      "source": [
        "#  Training Model 4\n",
        "trained_model4, losses4 = training('model4',model4, loss_function, optimizer, train_dataloader, n_epochs=n_epochs, update_interval=update_interval)\n",
        "plt.plot(np.arange(len(losses4)) * batch_size * update_interval, losses4)\n",
        "plt.title(\"training curve4\")\n",
        "plt.xlabel(\"number of images trained on\")\n",
        "plt.ylabel(\"loss\")\n",
        "plt.show()\n"
      ],
      "id": "c621ddd3"
    },
    {
      "cell_type": "code",
      "execution_count": null,
      "metadata": {
        "id": "ffcfa9ab"
      },
      "outputs": [],
      "source": [
        "# Testing Model4\n",
        "_,_ = testing('model4', trained_model4, loss_function, test_dataloader)"
      ],
      "id": "ffcfa9ab"
    },
    {
      "cell_type": "code",
      "execution_count": null,
      "metadata": {
        "id": "ac53287e"
      },
      "outputs": [],
      "source": [
        "# Model4 Hyperparameter Tuning\n",
        "def grid_search(model,input_shape,compression_size,test_data):\n",
        "    \"\"\"\n",
        "    model : Trained model\n",
        "    test_data : test data = dataset[30000//batch_size:]\n",
        "    input_shape :input size of images\n",
        "    compression_size :  size of bottleneck\n",
        "    \"\"\"\n",
        "    e = math.e\n",
        "    learning_rate = [0.0008,0.0009,0.00095,0.0001]\n",
        "    n_epochs_lst = [3,5]\n",
        "    batch_size_lst = [500,800,1000,1300,1500]\n",
        "    loss_function = nn.CrossEntropyLoss()\n",
        "    loss = float('inf')\n",
        "    best_lr = 0\n",
        "    update_interval = 100\n",
        "    best_batch = 0\n",
        "    best_n_epochs = 0\n",
        "    for lr in learning_rate:\n",
        "        optimizer = torch.optim.Adam(model.parameters(), lr=lr)\n",
        "        for n_epochs in n_epochs_lst :\n",
        "            trained_model, losses = training('model3',model, loss_function, optimizer, train_dataloader, n_epochs, update_interval)\n",
        "            for batch_size in batch_size_lst:\n",
        "                print(batch_size)\n",
        "                print(lr)\n",
        "                print(n_epochs)\n",
        "                test_loss, test_accuracy = testing('model3', model, loss_function, test_dataloader)\n",
        "                if test_loss <= loss:\n",
        "                    best_lr = lr\n",
        "                    best_batch = batch_size\n",
        "                    best_n_epochs = n_epochs\n",
        "                    loss = test_loss\n",
        "\n",
        "    return best_lr , best_batch, best_n_epochs,loss\n",
        "\n",
        "best_lr,best_batch_size, best_n_epochs,loss = grid_search(trained_model4, 784, 2, test_dataset)\n",
        "print(best_lr,best_batch_size, best_n_epochs, loss)"
      ],
      "id": "ac53287e"
    },
    {
      "cell_type": "code",
      "execution_count": null,
      "metadata": {
        "id": "66d53d58"
      },
      "outputs": [],
      "source": [
        "def train_and_test(modelname,model, loss_function, optimizer, batch_size, update_interval, n_epochs):\n",
        "\n",
        "    '''\n",
        "    This will use your/my methods to create a dataloader, train a gven model, and then test its performance\n",
        "\n",
        "    Again, since I gave this to you for free you have to promise to look at it and try to understand it\n",
        "    '''\n",
        "\n",
        "    _, train_dataloader = load_mnist(batch_size=batch_size, train=True)\n",
        "    trained_model, losses = training(modelname,model, loss_function, optimizer, train_dataloader, n_epochs=n_epochs, update_interval=update_interval)\n",
        "\n",
        "    # Specify a path\n",
        "    PATH = \"state_dict_{}.pt\".format(modelname)\n",
        "\n",
        "    # Save\n",
        "    torch.save(trained_model.state_dict(), PATH)\n",
        "    _, test_dataloader = load_mnist(batch_size=10000, train=False)\n",
        "    test_acc, test_loss = testing(modelname, trained_model, loss_function, test_dataloader)\n",
        "\n",
        "    plt.plot(np.arange(len(losses)) * batch_size * update_interval, losses, color=\"b\", label=\"train loss\")\n",
        "    plt.hlines(test_loss, 0, len(losses) * batch_size * update_interval, color='r', label=\"test loss\")\n",
        "    plt.legend()\n",
        "    plt.title(\"training curve\")\n",
        "    plt.xlabel(\"number of images trained on\")\n",
        "    plt.ylabel(\"loss\")\n",
        "    plt.savefig('lr{} Single Model test_acc{} test_loss{}.png'.format(0.08,test_acc,test_loss))\n",
        "    plt.show()\n",
        "\n",
        "    return trained_model, test_loss\n",
        "\n",
        ""
      ],
      "id": "66d53d58"
    },
    {
      "cell_type": "code",
      "execution_count": null,
      "metadata": {
        "id": "693d50c6"
      },
      "outputs": [],
      "source": [
        "# Getting Train and Test for the BASELINE Model\n",
        "lr = 0.06               # The size of the step taken when doing gradient descent\n",
        "batch_size = 100      # The number of images being trained on at once\n",
        "update_interval = 400      # The number of times we train through the entire dataset\n",
        "model = MyMLP(784, 10)\n",
        "n_epochs = 10\n",
        "loss_function = nn.CrossEntropyLoss()\n",
        "optimizer = torch.optim.SGD(model.parameters(), lr=lr)\n",
        "\n",
        "_, _ = train_and_test('model',model, loss_function, optimizer, batch_size=batch_size, update_interval=update_interval, n_epochs=n_epochs)"
      ],
      "id": "693d50c6"
    },
    {
      "cell_type": "code",
      "execution_count": null,
      "metadata": {
        "id": "4b52f18f"
      },
      "outputs": [],
      "source": [
        "# # https://stackoverflow.com/questions/63975130/how-to-get-only-specific-classes-from-pytorchs-fashionmnist-dataset\n",
        "# dataset_full = train_dataset\n",
        "# #Selecting classes 7, 2, 5 and 6\n",
        "# idx = (dataset_full.targets==7) | (dataset_full.targets==2) | (dataset_full.targets==5) | (dataset_full.targets==6)\n",
        "# dataset_full.targets = dataset_full.targets[idx]\n",
        "# dataset_full.data = dataset_full.data[idx]"
      ],
      "id": "4b52f18f"
    },
    {
      "cell_type": "code",
      "execution_count": null,
      "metadata": {
        "id": "561d152b"
      },
      "outputs": [],
      "source": [
        "#  EXPERIMENT 1 :\n",
        "def experiment_1(model):\n",
        "    \"\"\"\n",
        "    Train 4 similar models on different parts of the MNIST dataset and combine the output\n",
        "    Same HyperParameters for every model\n",
        "    \"\"\"\n",
        "    lr = 0.08               # The size of the step taken when doing gradient descent\n",
        "    batch_size = 100       # The number of images being trained on at once\n",
        "    update_interval = 100   # The number of batches trained on before recording loss\n",
        "    n_epochs = 30  # The number of times we train through the entire dataset\n",
        "#     Train and Test 4 different models\n",
        "    model1 = MyMLP(784, 1)\n",
        "    model2 = MyMLP(784, 1)\n",
        "    model3 = MyMLP(784, 1)\n",
        "    model4 = MyMLP(784, 1)\n",
        "\n",
        "experiment_1(MyMLP)"
      ],
      "id": "561d152b"
    },
    {
      "cell_type": "code",
      "execution_count": null,
      "metadata": {
        "id": "66d8effb"
      },
      "outputs": [],
      "source": [
        "# Experiment 2:\n",
        "def experiment_1(self, model):\n",
        "    \"\"\"\n",
        "    Train 4 similar models on different parts of the MNIST dataset and combine the output\n",
        "    Same HyperParameters for every model\n",
        "    \"\"\"\n",
        "    lr = 0.08               # The size of the step taken when doing gradient descent\n",
        "    batch_size = 100       # The number of images being trained on at once\n",
        "    update_interval = 100   # The number of batches trained on before recording loss\n",
        "    n_epochs = 30  # The number of times we train through the entire dataset\n",
        "#     Train and Test 4 different models\n",
        "    model1 = MyMLP(784, 2)\n",
        "    model2 = MyMLP(784, 2)\n",
        "    model3 = MyMLP(784, 2)\n",
        "    model4 = MyMLP(784, 2)\n",
        "\n",
        "    loss_function = nn.BCELoss()\n",
        "#     Binary Cross Entropy loss\n",
        "    optimizer = torch.optim.SGD(model.parameters(), lr=lr)\n",
        "\n",
        "    _, _ = train_and_test(model1, loss_function, optimizer, batch_size=batch_size, update_interval=update_interval, n_epochs=n_epochs)\n",
        ""
      ],
      "id": "66d8effb"
    },
    {
      "cell_type": "code",
      "execution_count": null,
      "metadata": {
        "id": "0cca02c0"
      },
      "outputs": [],
      "source": [
        "#  Change the labels\n",
        "# Have 4 modules : if module 1 : change the label to 0 if it is in say group [2,3,4,5,6] , if not make it output a 1\n",
        "# Create 4 modules like this\n",
        "# And Map each output 0 and 1 for each module to a unique number\n",
        "# {9 : 1111}"
      ],
      "id": "0cca02c0"
    },
    {
      "cell_type": "code",
      "execution_count": null,
      "metadata": {
        "id": "bd866fda"
      },
      "outputs": [],
      "source": [
        "# Train 1 model to predict 4 different ways\n",
        "# Recurrent Predictions into Groups :\n",
        "# Group 1 : [0 -5][5-9]\n",
        "# Say the model selects [5-9]\n",
        "# Now make the model predict [5-7] and [8-9] as groups\n",
        "#  keep splitting things until you get 1 prediciton  == label"
      ],
      "id": "bd866fda"
    },
    {
      "cell_type": "code",
      "execution_count": null,
      "metadata": {
        "id": "fb01b2b5"
      },
      "outputs": [],
      "source": [
        "# def training():\n",
        "# \"Final String \" 0111 :  9\n",
        "# input(0,1,1,1)\n",
        "# new_label = 9 .convert(binary)\n",
        "# class MyEnsemble(nn.Module):\n",
        "#     def __init__(self, outA, outB, outC, outD,input_shape):\n",
        "#         super(MyEnsemble, self).__init__()\n",
        "#         self.lin1 = nn.Linear(inpt_shape,1)\n",
        "#     def forward(self, x):\n",
        "#         return self.lin1(x)\n",
        "\n",
        "# modelA = MyModelA()\n",
        "# modelB = MyModelB()\n",
        "# # Load state dicts\n",
        "# modelA.load_state_dict(torch.load(PATH))\n",
        "# modelB.load_state_dict(torch.load(PATH))\n",
        "\n",
        "# model = MyEnsemble(modelA, modelB)\n",
        "# x1, x2 = torch.randn(1, 10), torch.randn(1, 20)\n",
        "# output = model(x1, x2)"
      ],
      "id": "fb01b2b5"
    },
    {
      "cell_type": "code",
      "execution_count": null,
      "metadata": {
        "id": "f3fb92e5"
      },
      "outputs": [],
      "source": [
        "lr = 0.008            # The size of the step taken when doing gradient descent\n",
        "batch_size = 1        # The number of images being trained on at once\n",
        "update_interval = 300   # The number of batches trained on before recording loss\n",
        "n_epochs = 3            # The number of times we train through the entire dataset\n",
        "\n",
        "train_dataset, train_dataloader = load_mnist(batch_size=batch_size, train=True)\n",
        "\n",
        "model = MyMLP(784, 2)\n",
        "loss_function = nn.CrossEntropyLoss()\n",
        "optimizer = torch.optim.Adam(model.parameters(), lr=lr)"
      ],
      "id": "f3fb92e5"
    },
    {
      "cell_type": "code",
      "execution_count": null,
      "metadata": {
        "id": "af982605"
      },
      "outputs": [],
      "source": [
        "def new_training(train_dataloader, n_epochs, update_interval):\n",
        "    acc = []\n",
        "    part_loss = []\n",
        "    num_correct = 0\n",
        "    for n in range(n_epochs):\n",
        "        for i, (image, label) in enumerate(tqdm(iter(train_dataloader))):\n",
        "\n",
        "            # TODO Complete the training loop using the instructions above\n",
        "            # Hint: the above code essentially does one training step\n",
        "            ##############################################################\n",
        "            out1 = trained_model1(image)\n",
        "            out2 = trained_model2(image)\n",
        "            out3 = trained_model3(image)\n",
        "            out4 = trained_model4(image)\n",
        "            res = []\n",
        "            for i in range(len(out1)):\n",
        "              a = str(torch.argmax(out1[i]).numpy()) + str(torch.argmax(out2[i]).numpy()) + str(torch.argmax(out3[i]).numpy()) + str(torch.argmax(out4[i]).numpy())\n",
        "              res.append(int(a))\n",
        "            # print(res)\n",
        "            my_output = res\n",
        "            new_label = torch.Tensor([int(mapping[int(l)]) for l in label]).long()\n",
        "            num_correct = 0\n",
        "            # print(new_label)\n",
        "            for index in range(len(new_label)):\n",
        "              if my_output[index] == new_label[index] :\n",
        "                num_correct = num_correct + 1\n",
        "\n",
        "            acc.append(num_correct/len(new_label))\n",
        "            ##############################################################\n",
        "    return acc"
      ],
      "id": "af982605"
    },
    {
      "cell_type": "code",
      "execution_count": null,
      "metadata": {
        "id": "59f8d53f",
        "colab": {
          "base_uri": "https://localhost:8080/",
          "height": 317
        },
        "outputId": "5f203328-6ad4-42b1-cd63-8b6824db532a"
      },
      "outputs": [
        {
          "output_type": "stream",
          "name": "stderr",
          "text": [
            "  0%|          | 0/120 [00:00<?, ?it/s]\n"
          ]
        },
        {
          "output_type": "error",
          "ename": "NameError",
          "evalue": "ignored",
          "traceback": [
            "\u001b[0;31m---------------------------------------------------------------------------\u001b[0m",
            "\u001b[0;31mNameError\u001b[0m                                 Traceback (most recent call last)",
            "\u001b[0;32m<ipython-input-33-9c2fd67dfd6a>\u001b[0m in \u001b[0;36m<module>\u001b[0;34m()\u001b[0m\n\u001b[1;32m      1\u001b[0m \u001b[0m_\u001b[0m\u001b[0;34m,\u001b[0m \u001b[0mtrain_dataloader\u001b[0m \u001b[0;34m=\u001b[0m \u001b[0mload_mnist\u001b[0m\u001b[0;34m(\u001b[0m\u001b[0mbatch_size\u001b[0m\u001b[0;34m=\u001b[0m\u001b[0mbatch_size\u001b[0m\u001b[0;34m,\u001b[0m \u001b[0mtrain\u001b[0m\u001b[0;34m=\u001b[0m\u001b[0;32mTrue\u001b[0m\u001b[0;34m)\u001b[0m\u001b[0;34m\u001b[0m\u001b[0;34m\u001b[0m\u001b[0m\n\u001b[0;32m----> 2\u001b[0;31m \u001b[0mnew_training\u001b[0m\u001b[0;34m(\u001b[0m\u001b[0mtrain_dataloader\u001b[0m\u001b[0;34m[\u001b[0m\u001b[0;34m\"train\"\u001b[0m\u001b[0;34m]\u001b[0m\u001b[0;34m,\u001b[0m \u001b[0;36m10\u001b[0m\u001b[0;34m,\u001b[0m \u001b[0;36m300\u001b[0m\u001b[0;34m)\u001b[0m\u001b[0;34m\u001b[0m\u001b[0;34m\u001b[0m\u001b[0m\n\u001b[0m",
            "\u001b[0;32m<ipython-input-31-5f8e5acdf322>\u001b[0m in \u001b[0;36mnew_training\u001b[0;34m(train_dataloader, n_epochs, update_interval)\u001b[0m\n\u001b[1;32m      9\u001b[0m             \u001b[0;31m# Hint: the above code essentially does one training step\u001b[0m\u001b[0;34m\u001b[0m\u001b[0;34m\u001b[0m\u001b[0;34m\u001b[0m\u001b[0m\n\u001b[1;32m     10\u001b[0m             \u001b[0;31m##############################################################\u001b[0m\u001b[0;34m\u001b[0m\u001b[0;34m\u001b[0m\u001b[0;34m\u001b[0m\u001b[0m\n\u001b[0;32m---> 11\u001b[0;31m             \u001b[0mout1\u001b[0m \u001b[0;34m=\u001b[0m \u001b[0mtrained_model1\u001b[0m\u001b[0;34m(\u001b[0m\u001b[0mimage\u001b[0m\u001b[0;34m)\u001b[0m\u001b[0;34m\u001b[0m\u001b[0;34m\u001b[0m\u001b[0m\n\u001b[0m\u001b[1;32m     12\u001b[0m             \u001b[0mout2\u001b[0m \u001b[0;34m=\u001b[0m \u001b[0mtrained_model2\u001b[0m\u001b[0;34m(\u001b[0m\u001b[0mimage\u001b[0m\u001b[0;34m)\u001b[0m\u001b[0;34m\u001b[0m\u001b[0;34m\u001b[0m\u001b[0m\n\u001b[1;32m     13\u001b[0m             \u001b[0mout3\u001b[0m \u001b[0;34m=\u001b[0m \u001b[0mtrained_model3\u001b[0m\u001b[0;34m(\u001b[0m\u001b[0mimage\u001b[0m\u001b[0;34m)\u001b[0m\u001b[0;34m\u001b[0m\u001b[0;34m\u001b[0m\u001b[0m\n",
            "\u001b[0;31mNameError\u001b[0m: name 'trained_model1' is not defined"
          ]
        }
      ],
      "source": [
        "_, train_dataloader = load_mnist(batch_size=batch_size, train=True)\n",
        "new_training(train_dataloader[\"train\"], 10, 300)"
      ],
      "id": "59f8d53f"
    },
    {
      "cell_type": "code",
      "source": [
        "#testing\n",
        "_, train_dataloader = load_mnist(batch_size=batch_size, train=True)\n",
        "acc = new_training(train_dataloader, 3, 300)\n",
        "plt.plot(acc)\n",
        "plt.title(\"Combined Labels of 4 Models Plot of Accuracy with Test Dataset\")\n",
        "plt.xlabel(\"number of images trained on\")\n",
        "plt.ylabel(\" Train Accuracy\")\n",
        "final_accuracy = acc[-1]\n",
        "print(\"final accuracy\" ,final_accuracy)"
      ],
      "metadata": {
        "id": "2Cm4T0ID-wBI"
      },
      "id": "2Cm4T0ID-wBI",
      "execution_count": null,
      "outputs": []
    },
    {
      "cell_type": "code",
      "execution_count": null,
      "metadata": {
        "id": "782f6e46"
      },
      "outputs": [],
      "source": [
        "#   Balanced Data (Li and etc) vs Our Binary mapping right now\n",
        "#   no of epochs should be less\n",
        "#  Testing Accuracy , Learning Curve\n",
        "#  Also how will the model perform if given 1000  Exampls, vs 6000 Examples etc .\n",
        "# Compare this to the baseline model\n",
        "\n",
        "# Train 4 models indvidually\n",
        "# Just test the model with combination of outputs of 4 models(no training required, just combine the outputs)"
      ],
      "id": "782f6e46"
    },
    {
      "cell_type": "code",
      "execution_count": null,
      "metadata": {
        "id": "_l1l3LAwdy1R"
      },
      "outputs": [],
      "source": [
        "# The model Capability may not be enough : Try the Same with ResNets"
      ],
      "id": "_l1l3LAwdy1R"
    },
    {
      "cell_type": "code",
      "execution_count": null,
      "metadata": {
        "id": "d208d01d"
      },
      "outputs": [],
      "source": [
        "#  Group similar numbers together and test it out"
      ],
      "id": "d208d01d"
    }
  ],
  "metadata": {
    "colab": {
      "provenance": []
    },
    "kernelspec": {
      "display_name": "Python 3",
      "language": "python",
      "name": "python3"
    },
    "language_info": {
      "codemirror_mode": {
        "name": "ipython",
        "version": 3
      },
      "file_extension": ".py",
      "mimetype": "text/x-python",
      "name": "python",
      "nbconvert_exporter": "python",
      "pygments_lexer": "ipython3",
      "version": "3.8.8"
    },
    "widgets": {
      "application/vnd.jupyter.widget-state+json": {
        "571fd4d13295465fbb1fd3a3d2a509b8": {
          "model_module": "@jupyter-widgets/controls",
          "model_name": "HBoxModel",
          "model_module_version": "1.5.0",
          "state": {
            "_dom_classes": [],
            "_model_module": "@jupyter-widgets/controls",
            "_model_module_version": "1.5.0",
            "_model_name": "HBoxModel",
            "_view_count": null,
            "_view_module": "@jupyter-widgets/controls",
            "_view_module_version": "1.5.0",
            "_view_name": "HBoxView",
            "box_style": "",
            "children": [
              "IPY_MODEL_4b23308903054c3fbea993eed859b09e",
              "IPY_MODEL_63b83f56d1194722ba0f763e36f81447",
              "IPY_MODEL_5dfb2639894347f2a6a919d0cb14a177"
            ],
            "layout": "IPY_MODEL_030ddf8593174d7abbe07603c73f82ed"
          }
        },
        "4b23308903054c3fbea993eed859b09e": {
          "model_module": "@jupyter-widgets/controls",
          "model_name": "HTMLModel",
          "model_module_version": "1.5.0",
          "state": {
            "_dom_classes": [],
            "_model_module": "@jupyter-widgets/controls",
            "_model_module_version": "1.5.0",
            "_model_name": "HTMLModel",
            "_view_count": null,
            "_view_module": "@jupyter-widgets/controls",
            "_view_module_version": "1.5.0",
            "_view_name": "HTMLView",
            "description": "",
            "description_tooltip": null,
            "layout": "IPY_MODEL_bc1a125c83fc4370bbb1e0b4c35e7974",
            "placeholder": "​",
            "style": "IPY_MODEL_bf547d4235574942a3ea69053d686383",
            "value": ""
          }
        },
        "63b83f56d1194722ba0f763e36f81447": {
          "model_module": "@jupyter-widgets/controls",
          "model_name": "FloatProgressModel",
          "model_module_version": "1.5.0",
          "state": {
            "_dom_classes": [],
            "_model_module": "@jupyter-widgets/controls",
            "_model_module_version": "1.5.0",
            "_model_name": "FloatProgressModel",
            "_view_count": null,
            "_view_module": "@jupyter-widgets/controls",
            "_view_module_version": "1.5.0",
            "_view_name": "ProgressView",
            "bar_style": "success",
            "description": "",
            "description_tooltip": null,
            "layout": "IPY_MODEL_3ef4febbd71e49b5ba1244098c5de049",
            "max": 9912422,
            "min": 0,
            "orientation": "horizontal",
            "style": "IPY_MODEL_4140f265412d47e7bca766e3e5edba7e",
            "value": 9912422
          }
        },
        "5dfb2639894347f2a6a919d0cb14a177": {
          "model_module": "@jupyter-widgets/controls",
          "model_name": "HTMLModel",
          "model_module_version": "1.5.0",
          "state": {
            "_dom_classes": [],
            "_model_module": "@jupyter-widgets/controls",
            "_model_module_version": "1.5.0",
            "_model_name": "HTMLModel",
            "_view_count": null,
            "_view_module": "@jupyter-widgets/controls",
            "_view_module_version": "1.5.0",
            "_view_name": "HTMLView",
            "description": "",
            "description_tooltip": null,
            "layout": "IPY_MODEL_7c66a21a341f4b2fbda88dc010f6ae82",
            "placeholder": "​",
            "style": "IPY_MODEL_5eec0b8ff37c41ae8d1211bead639ce3",
            "value": " 9913344/? [00:00&lt;00:00, 23982280.90it/s]"
          }
        },
        "030ddf8593174d7abbe07603c73f82ed": {
          "model_module": "@jupyter-widgets/base",
          "model_name": "LayoutModel",
          "model_module_version": "1.2.0",
          "state": {
            "_model_module": "@jupyter-widgets/base",
            "_model_module_version": "1.2.0",
            "_model_name": "LayoutModel",
            "_view_count": null,
            "_view_module": "@jupyter-widgets/base",
            "_view_module_version": "1.2.0",
            "_view_name": "LayoutView",
            "align_content": null,
            "align_items": null,
            "align_self": null,
            "border": null,
            "bottom": null,
            "display": null,
            "flex": null,
            "flex_flow": null,
            "grid_area": null,
            "grid_auto_columns": null,
            "grid_auto_flow": null,
            "grid_auto_rows": null,
            "grid_column": null,
            "grid_gap": null,
            "grid_row": null,
            "grid_template_areas": null,
            "grid_template_columns": null,
            "grid_template_rows": null,
            "height": null,
            "justify_content": null,
            "justify_items": null,
            "left": null,
            "margin": null,
            "max_height": null,
            "max_width": null,
            "min_height": null,
            "min_width": null,
            "object_fit": null,
            "object_position": null,
            "order": null,
            "overflow": null,
            "overflow_x": null,
            "overflow_y": null,
            "padding": null,
            "right": null,
            "top": null,
            "visibility": null,
            "width": null
          }
        },
        "bc1a125c83fc4370bbb1e0b4c35e7974": {
          "model_module": "@jupyter-widgets/base",
          "model_name": "LayoutModel",
          "model_module_version": "1.2.0",
          "state": {
            "_model_module": "@jupyter-widgets/base",
            "_model_module_version": "1.2.0",
            "_model_name": "LayoutModel",
            "_view_count": null,
            "_view_module": "@jupyter-widgets/base",
            "_view_module_version": "1.2.0",
            "_view_name": "LayoutView",
            "align_content": null,
            "align_items": null,
            "align_self": null,
            "border": null,
            "bottom": null,
            "display": null,
            "flex": null,
            "flex_flow": null,
            "grid_area": null,
            "grid_auto_columns": null,
            "grid_auto_flow": null,
            "grid_auto_rows": null,
            "grid_column": null,
            "grid_gap": null,
            "grid_row": null,
            "grid_template_areas": null,
            "grid_template_columns": null,
            "grid_template_rows": null,
            "height": null,
            "justify_content": null,
            "justify_items": null,
            "left": null,
            "margin": null,
            "max_height": null,
            "max_width": null,
            "min_height": null,
            "min_width": null,
            "object_fit": null,
            "object_position": null,
            "order": null,
            "overflow": null,
            "overflow_x": null,
            "overflow_y": null,
            "padding": null,
            "right": null,
            "top": null,
            "visibility": null,
            "width": null
          }
        },
        "bf547d4235574942a3ea69053d686383": {
          "model_module": "@jupyter-widgets/controls",
          "model_name": "DescriptionStyleModel",
          "model_module_version": "1.5.0",
          "state": {
            "_model_module": "@jupyter-widgets/controls",
            "_model_module_version": "1.5.0",
            "_model_name": "DescriptionStyleModel",
            "_view_count": null,
            "_view_module": "@jupyter-widgets/base",
            "_view_module_version": "1.2.0",
            "_view_name": "StyleView",
            "description_width": ""
          }
        },
        "3ef4febbd71e49b5ba1244098c5de049": {
          "model_module": "@jupyter-widgets/base",
          "model_name": "LayoutModel",
          "model_module_version": "1.2.0",
          "state": {
            "_model_module": "@jupyter-widgets/base",
            "_model_module_version": "1.2.0",
            "_model_name": "LayoutModel",
            "_view_count": null,
            "_view_module": "@jupyter-widgets/base",
            "_view_module_version": "1.2.0",
            "_view_name": "LayoutView",
            "align_content": null,
            "align_items": null,
            "align_self": null,
            "border": null,
            "bottom": null,
            "display": null,
            "flex": null,
            "flex_flow": null,
            "grid_area": null,
            "grid_auto_columns": null,
            "grid_auto_flow": null,
            "grid_auto_rows": null,
            "grid_column": null,
            "grid_gap": null,
            "grid_row": null,
            "grid_template_areas": null,
            "grid_template_columns": null,
            "grid_template_rows": null,
            "height": null,
            "justify_content": null,
            "justify_items": null,
            "left": null,
            "margin": null,
            "max_height": null,
            "max_width": null,
            "min_height": null,
            "min_width": null,
            "object_fit": null,
            "object_position": null,
            "order": null,
            "overflow": null,
            "overflow_x": null,
            "overflow_y": null,
            "padding": null,
            "right": null,
            "top": null,
            "visibility": null,
            "width": null
          }
        },
        "4140f265412d47e7bca766e3e5edba7e": {
          "model_module": "@jupyter-widgets/controls",
          "model_name": "ProgressStyleModel",
          "model_module_version": "1.5.0",
          "state": {
            "_model_module": "@jupyter-widgets/controls",
            "_model_module_version": "1.5.0",
            "_model_name": "ProgressStyleModel",
            "_view_count": null,
            "_view_module": "@jupyter-widgets/base",
            "_view_module_version": "1.2.0",
            "_view_name": "StyleView",
            "bar_color": null,
            "description_width": ""
          }
        },
        "7c66a21a341f4b2fbda88dc010f6ae82": {
          "model_module": "@jupyter-widgets/base",
          "model_name": "LayoutModel",
          "model_module_version": "1.2.0",
          "state": {
            "_model_module": "@jupyter-widgets/base",
            "_model_module_version": "1.2.0",
            "_model_name": "LayoutModel",
            "_view_count": null,
            "_view_module": "@jupyter-widgets/base",
            "_view_module_version": "1.2.0",
            "_view_name": "LayoutView",
            "align_content": null,
            "align_items": null,
            "align_self": null,
            "border": null,
            "bottom": null,
            "display": null,
            "flex": null,
            "flex_flow": null,
            "grid_area": null,
            "grid_auto_columns": null,
            "grid_auto_flow": null,
            "grid_auto_rows": null,
            "grid_column": null,
            "grid_gap": null,
            "grid_row": null,
            "grid_template_areas": null,
            "grid_template_columns": null,
            "grid_template_rows": null,
            "height": null,
            "justify_content": null,
            "justify_items": null,
            "left": null,
            "margin": null,
            "max_height": null,
            "max_width": null,
            "min_height": null,
            "min_width": null,
            "object_fit": null,
            "object_position": null,
            "order": null,
            "overflow": null,
            "overflow_x": null,
            "overflow_y": null,
            "padding": null,
            "right": null,
            "top": null,
            "visibility": null,
            "width": null
          }
        },
        "5eec0b8ff37c41ae8d1211bead639ce3": {
          "model_module": "@jupyter-widgets/controls",
          "model_name": "DescriptionStyleModel",
          "model_module_version": "1.5.0",
          "state": {
            "_model_module": "@jupyter-widgets/controls",
            "_model_module_version": "1.5.0",
            "_model_name": "DescriptionStyleModel",
            "_view_count": null,
            "_view_module": "@jupyter-widgets/base",
            "_view_module_version": "1.2.0",
            "_view_name": "StyleView",
            "description_width": ""
          }
        },
        "046ed0c0c35e42678fea978628d9c002": {
          "model_module": "@jupyter-widgets/controls",
          "model_name": "HBoxModel",
          "model_module_version": "1.5.0",
          "state": {
            "_dom_classes": [],
            "_model_module": "@jupyter-widgets/controls",
            "_model_module_version": "1.5.0",
            "_model_name": "HBoxModel",
            "_view_count": null,
            "_view_module": "@jupyter-widgets/controls",
            "_view_module_version": "1.5.0",
            "_view_name": "HBoxView",
            "box_style": "",
            "children": [
              "IPY_MODEL_582c3109a61842ca949b8381686bca06",
              "IPY_MODEL_59459c9f6daa4d94b8fd546e88128da6",
              "IPY_MODEL_55842fd90ff740de9f38fac81a6f3628"
            ],
            "layout": "IPY_MODEL_f8f31a76d97347ecac6a30157272a5a9"
          }
        },
        "582c3109a61842ca949b8381686bca06": {
          "model_module": "@jupyter-widgets/controls",
          "model_name": "HTMLModel",
          "model_module_version": "1.5.0",
          "state": {
            "_dom_classes": [],
            "_model_module": "@jupyter-widgets/controls",
            "_model_module_version": "1.5.0",
            "_model_name": "HTMLModel",
            "_view_count": null,
            "_view_module": "@jupyter-widgets/controls",
            "_view_module_version": "1.5.0",
            "_view_name": "HTMLView",
            "description": "",
            "description_tooltip": null,
            "layout": "IPY_MODEL_518f636181b442eaa7d44f8b16eb1d3f",
            "placeholder": "​",
            "style": "IPY_MODEL_17ecb3cbad4b4e64abd235f402e9ff6a",
            "value": ""
          }
        },
        "59459c9f6daa4d94b8fd546e88128da6": {
          "model_module": "@jupyter-widgets/controls",
          "model_name": "FloatProgressModel",
          "model_module_version": "1.5.0",
          "state": {
            "_dom_classes": [],
            "_model_module": "@jupyter-widgets/controls",
            "_model_module_version": "1.5.0",
            "_model_name": "FloatProgressModel",
            "_view_count": null,
            "_view_module": "@jupyter-widgets/controls",
            "_view_module_version": "1.5.0",
            "_view_name": "ProgressView",
            "bar_style": "success",
            "description": "",
            "description_tooltip": null,
            "layout": "IPY_MODEL_cfd912cd3f8549a48f9a8a0c4035251c",
            "max": 28881,
            "min": 0,
            "orientation": "horizontal",
            "style": "IPY_MODEL_520d81101899436092efa76d224774d7",
            "value": 28881
          }
        },
        "55842fd90ff740de9f38fac81a6f3628": {
          "model_module": "@jupyter-widgets/controls",
          "model_name": "HTMLModel",
          "model_module_version": "1.5.0",
          "state": {
            "_dom_classes": [],
            "_model_module": "@jupyter-widgets/controls",
            "_model_module_version": "1.5.0",
            "_model_name": "HTMLModel",
            "_view_count": null,
            "_view_module": "@jupyter-widgets/controls",
            "_view_module_version": "1.5.0",
            "_view_name": "HTMLView",
            "description": "",
            "description_tooltip": null,
            "layout": "IPY_MODEL_2355c23d5d8d4a4cb9830755998312e1",
            "placeholder": "​",
            "style": "IPY_MODEL_5cbc7d7fd1f84478a928e404d7116af2",
            "value": " 29696/? [00:00&lt;00:00, 9634.83it/s]"
          }
        },
        "f8f31a76d97347ecac6a30157272a5a9": {
          "model_module": "@jupyter-widgets/base",
          "model_name": "LayoutModel",
          "model_module_version": "1.2.0",
          "state": {
            "_model_module": "@jupyter-widgets/base",
            "_model_module_version": "1.2.0",
            "_model_name": "LayoutModel",
            "_view_count": null,
            "_view_module": "@jupyter-widgets/base",
            "_view_module_version": "1.2.0",
            "_view_name": "LayoutView",
            "align_content": null,
            "align_items": null,
            "align_self": null,
            "border": null,
            "bottom": null,
            "display": null,
            "flex": null,
            "flex_flow": null,
            "grid_area": null,
            "grid_auto_columns": null,
            "grid_auto_flow": null,
            "grid_auto_rows": null,
            "grid_column": null,
            "grid_gap": null,
            "grid_row": null,
            "grid_template_areas": null,
            "grid_template_columns": null,
            "grid_template_rows": null,
            "height": null,
            "justify_content": null,
            "justify_items": null,
            "left": null,
            "margin": null,
            "max_height": null,
            "max_width": null,
            "min_height": null,
            "min_width": null,
            "object_fit": null,
            "object_position": null,
            "order": null,
            "overflow": null,
            "overflow_x": null,
            "overflow_y": null,
            "padding": null,
            "right": null,
            "top": null,
            "visibility": null,
            "width": null
          }
        },
        "518f636181b442eaa7d44f8b16eb1d3f": {
          "model_module": "@jupyter-widgets/base",
          "model_name": "LayoutModel",
          "model_module_version": "1.2.0",
          "state": {
            "_model_module": "@jupyter-widgets/base",
            "_model_module_version": "1.2.0",
            "_model_name": "LayoutModel",
            "_view_count": null,
            "_view_module": "@jupyter-widgets/base",
            "_view_module_version": "1.2.0",
            "_view_name": "LayoutView",
            "align_content": null,
            "align_items": null,
            "align_self": null,
            "border": null,
            "bottom": null,
            "display": null,
            "flex": null,
            "flex_flow": null,
            "grid_area": null,
            "grid_auto_columns": null,
            "grid_auto_flow": null,
            "grid_auto_rows": null,
            "grid_column": null,
            "grid_gap": null,
            "grid_row": null,
            "grid_template_areas": null,
            "grid_template_columns": null,
            "grid_template_rows": null,
            "height": null,
            "justify_content": null,
            "justify_items": null,
            "left": null,
            "margin": null,
            "max_height": null,
            "max_width": null,
            "min_height": null,
            "min_width": null,
            "object_fit": null,
            "object_position": null,
            "order": null,
            "overflow": null,
            "overflow_x": null,
            "overflow_y": null,
            "padding": null,
            "right": null,
            "top": null,
            "visibility": null,
            "width": null
          }
        },
        "17ecb3cbad4b4e64abd235f402e9ff6a": {
          "model_module": "@jupyter-widgets/controls",
          "model_name": "DescriptionStyleModel",
          "model_module_version": "1.5.0",
          "state": {
            "_model_module": "@jupyter-widgets/controls",
            "_model_module_version": "1.5.0",
            "_model_name": "DescriptionStyleModel",
            "_view_count": null,
            "_view_module": "@jupyter-widgets/base",
            "_view_module_version": "1.2.0",
            "_view_name": "StyleView",
            "description_width": ""
          }
        },
        "cfd912cd3f8549a48f9a8a0c4035251c": {
          "model_module": "@jupyter-widgets/base",
          "model_name": "LayoutModel",
          "model_module_version": "1.2.0",
          "state": {
            "_model_module": "@jupyter-widgets/base",
            "_model_module_version": "1.2.0",
            "_model_name": "LayoutModel",
            "_view_count": null,
            "_view_module": "@jupyter-widgets/base",
            "_view_module_version": "1.2.0",
            "_view_name": "LayoutView",
            "align_content": null,
            "align_items": null,
            "align_self": null,
            "border": null,
            "bottom": null,
            "display": null,
            "flex": null,
            "flex_flow": null,
            "grid_area": null,
            "grid_auto_columns": null,
            "grid_auto_flow": null,
            "grid_auto_rows": null,
            "grid_column": null,
            "grid_gap": null,
            "grid_row": null,
            "grid_template_areas": null,
            "grid_template_columns": null,
            "grid_template_rows": null,
            "height": null,
            "justify_content": null,
            "justify_items": null,
            "left": null,
            "margin": null,
            "max_height": null,
            "max_width": null,
            "min_height": null,
            "min_width": null,
            "object_fit": null,
            "object_position": null,
            "order": null,
            "overflow": null,
            "overflow_x": null,
            "overflow_y": null,
            "padding": null,
            "right": null,
            "top": null,
            "visibility": null,
            "width": null
          }
        },
        "520d81101899436092efa76d224774d7": {
          "model_module": "@jupyter-widgets/controls",
          "model_name": "ProgressStyleModel",
          "model_module_version": "1.5.0",
          "state": {
            "_model_module": "@jupyter-widgets/controls",
            "_model_module_version": "1.5.0",
            "_model_name": "ProgressStyleModel",
            "_view_count": null,
            "_view_module": "@jupyter-widgets/base",
            "_view_module_version": "1.2.0",
            "_view_name": "StyleView",
            "bar_color": null,
            "description_width": ""
          }
        },
        "2355c23d5d8d4a4cb9830755998312e1": {
          "model_module": "@jupyter-widgets/base",
          "model_name": "LayoutModel",
          "model_module_version": "1.2.0",
          "state": {
            "_model_module": "@jupyter-widgets/base",
            "_model_module_version": "1.2.0",
            "_model_name": "LayoutModel",
            "_view_count": null,
            "_view_module": "@jupyter-widgets/base",
            "_view_module_version": "1.2.0",
            "_view_name": "LayoutView",
            "align_content": null,
            "align_items": null,
            "align_self": null,
            "border": null,
            "bottom": null,
            "display": null,
            "flex": null,
            "flex_flow": null,
            "grid_area": null,
            "grid_auto_columns": null,
            "grid_auto_flow": null,
            "grid_auto_rows": null,
            "grid_column": null,
            "grid_gap": null,
            "grid_row": null,
            "grid_template_areas": null,
            "grid_template_columns": null,
            "grid_template_rows": null,
            "height": null,
            "justify_content": null,
            "justify_items": null,
            "left": null,
            "margin": null,
            "max_height": null,
            "max_width": null,
            "min_height": null,
            "min_width": null,
            "object_fit": null,
            "object_position": null,
            "order": null,
            "overflow": null,
            "overflow_x": null,
            "overflow_y": null,
            "padding": null,
            "right": null,
            "top": null,
            "visibility": null,
            "width": null
          }
        },
        "5cbc7d7fd1f84478a928e404d7116af2": {
          "model_module": "@jupyter-widgets/controls",
          "model_name": "DescriptionStyleModel",
          "model_module_version": "1.5.0",
          "state": {
            "_model_module": "@jupyter-widgets/controls",
            "_model_module_version": "1.5.0",
            "_model_name": "DescriptionStyleModel",
            "_view_count": null,
            "_view_module": "@jupyter-widgets/base",
            "_view_module_version": "1.2.0",
            "_view_name": "StyleView",
            "description_width": ""
          }
        },
        "3687b2d4f2774c45a157925d4054979d": {
          "model_module": "@jupyter-widgets/controls",
          "model_name": "HBoxModel",
          "model_module_version": "1.5.0",
          "state": {
            "_dom_classes": [],
            "_model_module": "@jupyter-widgets/controls",
            "_model_module_version": "1.5.0",
            "_model_name": "HBoxModel",
            "_view_count": null,
            "_view_module": "@jupyter-widgets/controls",
            "_view_module_version": "1.5.0",
            "_view_name": "HBoxView",
            "box_style": "",
            "children": [
              "IPY_MODEL_43a26638ad744a2993b944e054938957",
              "IPY_MODEL_624d2a14dd3e4f9cbfaa4570f5d827b3",
              "IPY_MODEL_bc6f54f305ed41e8973bb42d57c661bd"
            ],
            "layout": "IPY_MODEL_ff8e7caca71042b98cc95e9c8beec316"
          }
        },
        "43a26638ad744a2993b944e054938957": {
          "model_module": "@jupyter-widgets/controls",
          "model_name": "HTMLModel",
          "model_module_version": "1.5.0",
          "state": {
            "_dom_classes": [],
            "_model_module": "@jupyter-widgets/controls",
            "_model_module_version": "1.5.0",
            "_model_name": "HTMLModel",
            "_view_count": null,
            "_view_module": "@jupyter-widgets/controls",
            "_view_module_version": "1.5.0",
            "_view_name": "HTMLView",
            "description": "",
            "description_tooltip": null,
            "layout": "IPY_MODEL_f6af70ccfe3e4d259777afb0e2b88c23",
            "placeholder": "​",
            "style": "IPY_MODEL_a96a617bea5e4a0aa7f707c07bb9e757",
            "value": ""
          }
        },
        "624d2a14dd3e4f9cbfaa4570f5d827b3": {
          "model_module": "@jupyter-widgets/controls",
          "model_name": "FloatProgressModel",
          "model_module_version": "1.5.0",
          "state": {
            "_dom_classes": [],
            "_model_module": "@jupyter-widgets/controls",
            "_model_module_version": "1.5.0",
            "_model_name": "FloatProgressModel",
            "_view_count": null,
            "_view_module": "@jupyter-widgets/controls",
            "_view_module_version": "1.5.0",
            "_view_name": "ProgressView",
            "bar_style": "success",
            "description": "",
            "description_tooltip": null,
            "layout": "IPY_MODEL_f3474d4f74e64883a6ab0192d2d23bf6",
            "max": 1648877,
            "min": 0,
            "orientation": "horizontal",
            "style": "IPY_MODEL_3938e9b2142e4793be3d29bd8c6519ca",
            "value": 1648877
          }
        },
        "bc6f54f305ed41e8973bb42d57c661bd": {
          "model_module": "@jupyter-widgets/controls",
          "model_name": "HTMLModel",
          "model_module_version": "1.5.0",
          "state": {
            "_dom_classes": [],
            "_model_module": "@jupyter-widgets/controls",
            "_model_module_version": "1.5.0",
            "_model_name": "HTMLModel",
            "_view_count": null,
            "_view_module": "@jupyter-widgets/controls",
            "_view_module_version": "1.5.0",
            "_view_name": "HTMLView",
            "description": "",
            "description_tooltip": null,
            "layout": "IPY_MODEL_51ddef43da3b420c8e5840324265d574",
            "placeholder": "​",
            "style": "IPY_MODEL_58a19c22e8774170b18063cbdd15d413",
            "value": " 1649664/? [00:00&lt;00:00, 3738369.44it/s]"
          }
        },
        "ff8e7caca71042b98cc95e9c8beec316": {
          "model_module": "@jupyter-widgets/base",
          "model_name": "LayoutModel",
          "model_module_version": "1.2.0",
          "state": {
            "_model_module": "@jupyter-widgets/base",
            "_model_module_version": "1.2.0",
            "_model_name": "LayoutModel",
            "_view_count": null,
            "_view_module": "@jupyter-widgets/base",
            "_view_module_version": "1.2.0",
            "_view_name": "LayoutView",
            "align_content": null,
            "align_items": null,
            "align_self": null,
            "border": null,
            "bottom": null,
            "display": null,
            "flex": null,
            "flex_flow": null,
            "grid_area": null,
            "grid_auto_columns": null,
            "grid_auto_flow": null,
            "grid_auto_rows": null,
            "grid_column": null,
            "grid_gap": null,
            "grid_row": null,
            "grid_template_areas": null,
            "grid_template_columns": null,
            "grid_template_rows": null,
            "height": null,
            "justify_content": null,
            "justify_items": null,
            "left": null,
            "margin": null,
            "max_height": null,
            "max_width": null,
            "min_height": null,
            "min_width": null,
            "object_fit": null,
            "object_position": null,
            "order": null,
            "overflow": null,
            "overflow_x": null,
            "overflow_y": null,
            "padding": null,
            "right": null,
            "top": null,
            "visibility": null,
            "width": null
          }
        },
        "f6af70ccfe3e4d259777afb0e2b88c23": {
          "model_module": "@jupyter-widgets/base",
          "model_name": "LayoutModel",
          "model_module_version": "1.2.0",
          "state": {
            "_model_module": "@jupyter-widgets/base",
            "_model_module_version": "1.2.0",
            "_model_name": "LayoutModel",
            "_view_count": null,
            "_view_module": "@jupyter-widgets/base",
            "_view_module_version": "1.2.0",
            "_view_name": "LayoutView",
            "align_content": null,
            "align_items": null,
            "align_self": null,
            "border": null,
            "bottom": null,
            "display": null,
            "flex": null,
            "flex_flow": null,
            "grid_area": null,
            "grid_auto_columns": null,
            "grid_auto_flow": null,
            "grid_auto_rows": null,
            "grid_column": null,
            "grid_gap": null,
            "grid_row": null,
            "grid_template_areas": null,
            "grid_template_columns": null,
            "grid_template_rows": null,
            "height": null,
            "justify_content": null,
            "justify_items": null,
            "left": null,
            "margin": null,
            "max_height": null,
            "max_width": null,
            "min_height": null,
            "min_width": null,
            "object_fit": null,
            "object_position": null,
            "order": null,
            "overflow": null,
            "overflow_x": null,
            "overflow_y": null,
            "padding": null,
            "right": null,
            "top": null,
            "visibility": null,
            "width": null
          }
        },
        "a96a617bea5e4a0aa7f707c07bb9e757": {
          "model_module": "@jupyter-widgets/controls",
          "model_name": "DescriptionStyleModel",
          "model_module_version": "1.5.0",
          "state": {
            "_model_module": "@jupyter-widgets/controls",
            "_model_module_version": "1.5.0",
            "_model_name": "DescriptionStyleModel",
            "_view_count": null,
            "_view_module": "@jupyter-widgets/base",
            "_view_module_version": "1.2.0",
            "_view_name": "StyleView",
            "description_width": ""
          }
        },
        "f3474d4f74e64883a6ab0192d2d23bf6": {
          "model_module": "@jupyter-widgets/base",
          "model_name": "LayoutModel",
          "model_module_version": "1.2.0",
          "state": {
            "_model_module": "@jupyter-widgets/base",
            "_model_module_version": "1.2.0",
            "_model_name": "LayoutModel",
            "_view_count": null,
            "_view_module": "@jupyter-widgets/base",
            "_view_module_version": "1.2.0",
            "_view_name": "LayoutView",
            "align_content": null,
            "align_items": null,
            "align_self": null,
            "border": null,
            "bottom": null,
            "display": null,
            "flex": null,
            "flex_flow": null,
            "grid_area": null,
            "grid_auto_columns": null,
            "grid_auto_flow": null,
            "grid_auto_rows": null,
            "grid_column": null,
            "grid_gap": null,
            "grid_row": null,
            "grid_template_areas": null,
            "grid_template_columns": null,
            "grid_template_rows": null,
            "height": null,
            "justify_content": null,
            "justify_items": null,
            "left": null,
            "margin": null,
            "max_height": null,
            "max_width": null,
            "min_height": null,
            "min_width": null,
            "object_fit": null,
            "object_position": null,
            "order": null,
            "overflow": null,
            "overflow_x": null,
            "overflow_y": null,
            "padding": null,
            "right": null,
            "top": null,
            "visibility": null,
            "width": null
          }
        },
        "3938e9b2142e4793be3d29bd8c6519ca": {
          "model_module": "@jupyter-widgets/controls",
          "model_name": "ProgressStyleModel",
          "model_module_version": "1.5.0",
          "state": {
            "_model_module": "@jupyter-widgets/controls",
            "_model_module_version": "1.5.0",
            "_model_name": "ProgressStyleModel",
            "_view_count": null,
            "_view_module": "@jupyter-widgets/base",
            "_view_module_version": "1.2.0",
            "_view_name": "StyleView",
            "bar_color": null,
            "description_width": ""
          }
        },
        "51ddef43da3b420c8e5840324265d574": {
          "model_module": "@jupyter-widgets/base",
          "model_name": "LayoutModel",
          "model_module_version": "1.2.0",
          "state": {
            "_model_module": "@jupyter-widgets/base",
            "_model_module_version": "1.2.0",
            "_model_name": "LayoutModel",
            "_view_count": null,
            "_view_module": "@jupyter-widgets/base",
            "_view_module_version": "1.2.0",
            "_view_name": "LayoutView",
            "align_content": null,
            "align_items": null,
            "align_self": null,
            "border": null,
            "bottom": null,
            "display": null,
            "flex": null,
            "flex_flow": null,
            "grid_area": null,
            "grid_auto_columns": null,
            "grid_auto_flow": null,
            "grid_auto_rows": null,
            "grid_column": null,
            "grid_gap": null,
            "grid_row": null,
            "grid_template_areas": null,
            "grid_template_columns": null,
            "grid_template_rows": null,
            "height": null,
            "justify_content": null,
            "justify_items": null,
            "left": null,
            "margin": null,
            "max_height": null,
            "max_width": null,
            "min_height": null,
            "min_width": null,
            "object_fit": null,
            "object_position": null,
            "order": null,
            "overflow": null,
            "overflow_x": null,
            "overflow_y": null,
            "padding": null,
            "right": null,
            "top": null,
            "visibility": null,
            "width": null
          }
        },
        "58a19c22e8774170b18063cbdd15d413": {
          "model_module": "@jupyter-widgets/controls",
          "model_name": "DescriptionStyleModel",
          "model_module_version": "1.5.0",
          "state": {
            "_model_module": "@jupyter-widgets/controls",
            "_model_module_version": "1.5.0",
            "_model_name": "DescriptionStyleModel",
            "_view_count": null,
            "_view_module": "@jupyter-widgets/base",
            "_view_module_version": "1.2.0",
            "_view_name": "StyleView",
            "description_width": ""
          }
        },
        "239237a4d9cf431f9c68d0cac92b3863": {
          "model_module": "@jupyter-widgets/controls",
          "model_name": "HBoxModel",
          "model_module_version": "1.5.0",
          "state": {
            "_dom_classes": [],
            "_model_module": "@jupyter-widgets/controls",
            "_model_module_version": "1.5.0",
            "_model_name": "HBoxModel",
            "_view_count": null,
            "_view_module": "@jupyter-widgets/controls",
            "_view_module_version": "1.5.0",
            "_view_name": "HBoxView",
            "box_style": "",
            "children": [
              "IPY_MODEL_fc7cfbab916245dfaf6521c1f700dd33",
              "IPY_MODEL_3e79b3d2cb524cc89fd5f3137abca6b3",
              "IPY_MODEL_72f8e87a794d406a870852dc39387e92"
            ],
            "layout": "IPY_MODEL_7da8a004d4634a13a07e6581572c873d"
          }
        },
        "fc7cfbab916245dfaf6521c1f700dd33": {
          "model_module": "@jupyter-widgets/controls",
          "model_name": "HTMLModel",
          "model_module_version": "1.5.0",
          "state": {
            "_dom_classes": [],
            "_model_module": "@jupyter-widgets/controls",
            "_model_module_version": "1.5.0",
            "_model_name": "HTMLModel",
            "_view_count": null,
            "_view_module": "@jupyter-widgets/controls",
            "_view_module_version": "1.5.0",
            "_view_name": "HTMLView",
            "description": "",
            "description_tooltip": null,
            "layout": "IPY_MODEL_787ab0f8b2fb4f32aca0206ac98fee6a",
            "placeholder": "​",
            "style": "IPY_MODEL_f0d88b04b6c7408e904894e357a57064",
            "value": ""
          }
        },
        "3e79b3d2cb524cc89fd5f3137abca6b3": {
          "model_module": "@jupyter-widgets/controls",
          "model_name": "FloatProgressModel",
          "model_module_version": "1.5.0",
          "state": {
            "_dom_classes": [],
            "_model_module": "@jupyter-widgets/controls",
            "_model_module_version": "1.5.0",
            "_model_name": "FloatProgressModel",
            "_view_count": null,
            "_view_module": "@jupyter-widgets/controls",
            "_view_module_version": "1.5.0",
            "_view_name": "ProgressView",
            "bar_style": "success",
            "description": "",
            "description_tooltip": null,
            "layout": "IPY_MODEL_5703a10a37634e4b9fa8069d9d43a20b",
            "max": 4542,
            "min": 0,
            "orientation": "horizontal",
            "style": "IPY_MODEL_2eedad679f434ca68ee487f396f08173",
            "value": 4542
          }
        },
        "72f8e87a794d406a870852dc39387e92": {
          "model_module": "@jupyter-widgets/controls",
          "model_name": "HTMLModel",
          "model_module_version": "1.5.0",
          "state": {
            "_dom_classes": [],
            "_model_module": "@jupyter-widgets/controls",
            "_model_module_version": "1.5.0",
            "_model_name": "HTMLModel",
            "_view_count": null,
            "_view_module": "@jupyter-widgets/controls",
            "_view_module_version": "1.5.0",
            "_view_name": "HTMLView",
            "description": "",
            "description_tooltip": null,
            "layout": "IPY_MODEL_838250290f7f4437aab814adaac29d04",
            "placeholder": "​",
            "style": "IPY_MODEL_8dfbe125d92748a4b850d68392a38bac",
            "value": " 5120/? [00:00&lt;00:00, 7655.72it/s]"
          }
        },
        "7da8a004d4634a13a07e6581572c873d": {
          "model_module": "@jupyter-widgets/base",
          "model_name": "LayoutModel",
          "model_module_version": "1.2.0",
          "state": {
            "_model_module": "@jupyter-widgets/base",
            "_model_module_version": "1.2.0",
            "_model_name": "LayoutModel",
            "_view_count": null,
            "_view_module": "@jupyter-widgets/base",
            "_view_module_version": "1.2.0",
            "_view_name": "LayoutView",
            "align_content": null,
            "align_items": null,
            "align_self": null,
            "border": null,
            "bottom": null,
            "display": null,
            "flex": null,
            "flex_flow": null,
            "grid_area": null,
            "grid_auto_columns": null,
            "grid_auto_flow": null,
            "grid_auto_rows": null,
            "grid_column": null,
            "grid_gap": null,
            "grid_row": null,
            "grid_template_areas": null,
            "grid_template_columns": null,
            "grid_template_rows": null,
            "height": null,
            "justify_content": null,
            "justify_items": null,
            "left": null,
            "margin": null,
            "max_height": null,
            "max_width": null,
            "min_height": null,
            "min_width": null,
            "object_fit": null,
            "object_position": null,
            "order": null,
            "overflow": null,
            "overflow_x": null,
            "overflow_y": null,
            "padding": null,
            "right": null,
            "top": null,
            "visibility": null,
            "width": null
          }
        },
        "787ab0f8b2fb4f32aca0206ac98fee6a": {
          "model_module": "@jupyter-widgets/base",
          "model_name": "LayoutModel",
          "model_module_version": "1.2.0",
          "state": {
            "_model_module": "@jupyter-widgets/base",
            "_model_module_version": "1.2.0",
            "_model_name": "LayoutModel",
            "_view_count": null,
            "_view_module": "@jupyter-widgets/base",
            "_view_module_version": "1.2.0",
            "_view_name": "LayoutView",
            "align_content": null,
            "align_items": null,
            "align_self": null,
            "border": null,
            "bottom": null,
            "display": null,
            "flex": null,
            "flex_flow": null,
            "grid_area": null,
            "grid_auto_columns": null,
            "grid_auto_flow": null,
            "grid_auto_rows": null,
            "grid_column": null,
            "grid_gap": null,
            "grid_row": null,
            "grid_template_areas": null,
            "grid_template_columns": null,
            "grid_template_rows": null,
            "height": null,
            "justify_content": null,
            "justify_items": null,
            "left": null,
            "margin": null,
            "max_height": null,
            "max_width": null,
            "min_height": null,
            "min_width": null,
            "object_fit": null,
            "object_position": null,
            "order": null,
            "overflow": null,
            "overflow_x": null,
            "overflow_y": null,
            "padding": null,
            "right": null,
            "top": null,
            "visibility": null,
            "width": null
          }
        },
        "f0d88b04b6c7408e904894e357a57064": {
          "model_module": "@jupyter-widgets/controls",
          "model_name": "DescriptionStyleModel",
          "model_module_version": "1.5.0",
          "state": {
            "_model_module": "@jupyter-widgets/controls",
            "_model_module_version": "1.5.0",
            "_model_name": "DescriptionStyleModel",
            "_view_count": null,
            "_view_module": "@jupyter-widgets/base",
            "_view_module_version": "1.2.0",
            "_view_name": "StyleView",
            "description_width": ""
          }
        },
        "5703a10a37634e4b9fa8069d9d43a20b": {
          "model_module": "@jupyter-widgets/base",
          "model_name": "LayoutModel",
          "model_module_version": "1.2.0",
          "state": {
            "_model_module": "@jupyter-widgets/base",
            "_model_module_version": "1.2.0",
            "_model_name": "LayoutModel",
            "_view_count": null,
            "_view_module": "@jupyter-widgets/base",
            "_view_module_version": "1.2.0",
            "_view_name": "LayoutView",
            "align_content": null,
            "align_items": null,
            "align_self": null,
            "border": null,
            "bottom": null,
            "display": null,
            "flex": null,
            "flex_flow": null,
            "grid_area": null,
            "grid_auto_columns": null,
            "grid_auto_flow": null,
            "grid_auto_rows": null,
            "grid_column": null,
            "grid_gap": null,
            "grid_row": null,
            "grid_template_areas": null,
            "grid_template_columns": null,
            "grid_template_rows": null,
            "height": null,
            "justify_content": null,
            "justify_items": null,
            "left": null,
            "margin": null,
            "max_height": null,
            "max_width": null,
            "min_height": null,
            "min_width": null,
            "object_fit": null,
            "object_position": null,
            "order": null,
            "overflow": null,
            "overflow_x": null,
            "overflow_y": null,
            "padding": null,
            "right": null,
            "top": null,
            "visibility": null,
            "width": null
          }
        },
        "2eedad679f434ca68ee487f396f08173": {
          "model_module": "@jupyter-widgets/controls",
          "model_name": "ProgressStyleModel",
          "model_module_version": "1.5.0",
          "state": {
            "_model_module": "@jupyter-widgets/controls",
            "_model_module_version": "1.5.0",
            "_model_name": "ProgressStyleModel",
            "_view_count": null,
            "_view_module": "@jupyter-widgets/base",
            "_view_module_version": "1.2.0",
            "_view_name": "StyleView",
            "bar_color": null,
            "description_width": ""
          }
        },
        "838250290f7f4437aab814adaac29d04": {
          "model_module": "@jupyter-widgets/base",
          "model_name": "LayoutModel",
          "model_module_version": "1.2.0",
          "state": {
            "_model_module": "@jupyter-widgets/base",
            "_model_module_version": "1.2.0",
            "_model_name": "LayoutModel",
            "_view_count": null,
            "_view_module": "@jupyter-widgets/base",
            "_view_module_version": "1.2.0",
            "_view_name": "LayoutView",
            "align_content": null,
            "align_items": null,
            "align_self": null,
            "border": null,
            "bottom": null,
            "display": null,
            "flex": null,
            "flex_flow": null,
            "grid_area": null,
            "grid_auto_columns": null,
            "grid_auto_flow": null,
            "grid_auto_rows": null,
            "grid_column": null,
            "grid_gap": null,
            "grid_row": null,
            "grid_template_areas": null,
            "grid_template_columns": null,
            "grid_template_rows": null,
            "height": null,
            "justify_content": null,
            "justify_items": null,
            "left": null,
            "margin": null,
            "max_height": null,
            "max_width": null,
            "min_height": null,
            "min_width": null,
            "object_fit": null,
            "object_position": null,
            "order": null,
            "overflow": null,
            "overflow_x": null,
            "overflow_y": null,
            "padding": null,
            "right": null,
            "top": null,
            "visibility": null,
            "width": null
          }
        },
        "8dfbe125d92748a4b850d68392a38bac": {
          "model_module": "@jupyter-widgets/controls",
          "model_name": "DescriptionStyleModel",
          "model_module_version": "1.5.0",
          "state": {
            "_model_module": "@jupyter-widgets/controls",
            "_model_module_version": "1.5.0",
            "_model_name": "DescriptionStyleModel",
            "_view_count": null,
            "_view_module": "@jupyter-widgets/base",
            "_view_module_version": "1.2.0",
            "_view_name": "StyleView",
            "description_width": ""
          }
        }
      }
    }
  },
  "nbformat": 4,
  "nbformat_minor": 5
}